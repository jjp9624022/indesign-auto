{
 "cells": [
  {
   "cell_type": "code",
   "execution_count": 4,
   "metadata": {},
   "outputs": [],
   "source": [
    "import sys\n",
    "import codecs\n",
    "#reload(sys)  \n",
    "#sys.setdefaultencoding('utf8')\n",
    "import win32com.client\n",
    "app = win32com.client.Dispatch('Indesign.Application')"
   ]
  },
  {
   "cell_type": "code",
   "execution_count": 6,
   "metadata": {},
   "outputs": [
    {
     "ename": "com_error",
     "evalue": "(-2147352567, '发生意外。', (30486, 'C:\\\\Program Files\\\\Adobe\\\\Adobe InDesign CC 2018\\\\InDesign.exe', '模态对话框或警告启用，无法处理请求。', None, 0, 0), None)",
     "output_type": "error",
     "traceback": [
      "\u001b[1;31m---------------------------------------------------------------------------\u001b[0m",
      "\u001b[1;31mcom_error\u001b[0m                                 Traceback (most recent call last)",
      "\u001b[1;32m<ipython-input-6-615f7967f9f5>\u001b[0m in \u001b[0;36m<module>\u001b[1;34m\u001b[0m\n\u001b[0;32m     11\u001b[0m     \u001b[0mff\u001b[0m\u001b[1;33m=\u001b[0m\u001b[0mmyfile\u001b[0m\u001b[1;33m.\u001b[0m\u001b[0mread\u001b[0m\u001b[1;33m(\u001b[0m\u001b[1;33m)\u001b[0m\u001b[1;33m\u001b[0m\u001b[1;33m\u001b[0m\u001b[0m\n\u001b[0;32m     12\u001b[0m     \u001b[0mapp\u001b[0m\u001b[1;33m.\u001b[0m\u001b[0mDoScript\u001b[0m\u001b[1;33m(\u001b[0m\u001b[0mff\u001b[0m\u001b[1;33m,\u001b[0m\u001b[1;36m1246973031\u001b[0m\u001b[1;33m)\u001b[0m\u001b[1;33m\u001b[0m\u001b[1;33m\u001b[0m\u001b[0m\n\u001b[1;32m---> 13\u001b[1;33m     \u001b[0mthe_doc\u001b[0m\u001b[1;33m.\u001b[0m\u001b[0mClose\u001b[0m\u001b[1;33m(\u001b[0m\u001b[1;33m)\u001b[0m\u001b[1;33m\u001b[0m\u001b[1;33m\u001b[0m\u001b[0m\n\u001b[0m",
      "\u001b[1;32md:\\program files\\python37\\lib\\site-packages\\win32com\\client\\dynamic.py\u001b[0m in \u001b[0;36mClose\u001b[1;34m(self, Saving, SavingIn, VersionComments, ForceSave)\u001b[0m\n",
      "\u001b[1;31mcom_error\u001b[0m: (-2147352567, '发生意外。', (30486, 'C:\\\\Program Files\\\\Adobe\\\\Adobe InDesign CC 2018\\\\InDesign.exe', '模态对话框或警告启用，无法处理请求。', None, 0, 0), None)"
     ]
    }
   ],
   "source": [
    "import glob as gb\n",
    "import codecs\n",
    "\n",
    "\n",
    "from_files='D:\\\\备份work\\\\*\\\\*.indd'\n",
    "to_dir='D:\\\\backTest\\\\'\n",
    "img_path = gb.glob(from_files)\n",
    "for path in img_path:\n",
    "    the_doc = app.Open(path)\n",
    "    myfile= codecs.open('C:\\\\Users\\\\jjp\\\\AppData\\\\Roaming\\\\Adobe\\\\InDesign\\\\Version 13.0-J\\\\zh_CN\\\\Scripts\\\\Scripts Panel\\\\Package.jsx','r','utf-8')\n",
    "    ff=myfile.read()\n",
    "    app.DoScript(ff,1246973031)\n",
    "    the_doc.Close(1852776480)"
   ]
  },
  {
   "cell_type": "code",
   "execution_count": null,
   "metadata": {},
   "outputs": [],
   "source": []
  }
 ],
 "metadata": {
  "kernelspec": {
   "display_name": "Python 3",
   "language": "python",
   "name": "python3"
  },
  "language_info": {
   "codemirror_mode": {
    "name": "ipython",
    "version": 3
   },
   "file_extension": ".py",
   "mimetype": "text/x-python",
   "name": "python",
   "nbconvert_exporter": "python",
   "pygments_lexer": "ipython3",
   "version": "3.7.2"
  }
 },
 "nbformat": 4,
 "nbformat_minor": 2
}
