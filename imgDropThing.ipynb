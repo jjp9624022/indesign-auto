{
 "cells": [
  {
   "cell_type": "code",
   "execution_count": 1,
   "metadata": {},
   "outputs": [],
   "source": [
    "import time\n",
    "from skimage import io,filters,measure,morphology,color,transform\n",
    "import os\n",
    "import comtypes.client\n",
    "#app = comtypes.client.CreateObject('Photoshop.Application')\n",
    "#app.Visible = False\n",
    "from win32com.client import Dispatch\n",
    "\n",
    "app = Dispatch(\"Photoshop.Application\")"
   ]
  },
  {
   "cell_type": "code",
   "execution_count": 2,
   "metadata": {},
   "outputs": [],
   "source": [
    "def copy_file_contents_to_clipboard(path):\n",
    "    doc = app.Open(path)\n",
    "    doc.layers[0].Copy()\n",
    "    \n",
    "    doc.Close(2) # 2 (psDoNotSaveChanges)\n",
    "\n",
    "def create_layer_from_file(layer_name, path_from,path_to):\n",
    "    copy_file_contents_to_clipboard(path_from)\n",
    "\n",
    "    the_doc = app.Open(path_to)\n",
    "    layer = the_doc.ArtLayers.Add() # Create Layer\n",
    "    layer.name = layer_name # Rename Layer\n",
    "    app.ActiveDocument=the_doc\n",
    "    the_doc.ActiveLayer = layer # Select Layer\n",
    "    the_doc.Paste() # Paste into\n",
    "    the_doc.Save()\n",
    "    the_doc.Close(1)\n",
    "    print(path_to+' is ok')\n",
    "\n"
   ]
  },
  {
   "cell_type": "code",
   "execution_count": 3,
   "metadata": {},
   "outputs": [],
   "source": [
    "def delsmall( img0 ):\n",
    "    img =color.rgb2gray(img0)\n",
    "    thresh = filters.threshold_otsu(img)  #用otsu算法确定最佳分割阈值\n",
    " \n",
    "    bwimg =(img>=(thresh))  #用阈值进行分割，生成二值图像\n",
    "    labels = measure.label(bwimg)  #标记连通域\n",
    "    bw =morphology.closing(img < thresh, morphology.square(1))\n",
    "    #img1 = morphology.remove_small_objects(labels, min_size=5, connectivity=1)\n",
    "    img2= morphology.remove_small_objects(bw, min_size=100, connectivity=1)\n",
    "    img3=morphology.erosion(img2,morphology.disk(1))\n",
    "    return img2\n",
    "    #io.imshow(img1)\n"
   ]
  },
  {
   "cell_type": "code",
   "execution_count": 4,
   "metadata": {},
   "outputs": [
    {
     "name": "stderr",
     "output_type": "stream",
     "text": [
      "d:\\program files\\python37\\lib\\site-packages\\skimage\\transform\\_warps.py:24: UserWarning: The default multichannel argument (None) is deprecated.  Please specify either True or False explicitly.  multichannel will default to False starting with release 0.16.\n",
      "  warn('The default multichannel argument (None) is deprecated.  Please '\n",
      "d:\\program files\\python37\\lib\\site-packages\\skimage\\transform\\_warps.py:105: UserWarning: The default mode, 'constant', will be changed to 'reflect' in skimage 0.15.\n",
      "  warn(\"The default mode, 'constant', will be changed to 'reflect' in \"\n",
      "d:\\program files\\python37\\lib\\site-packages\\skimage\\transform\\_warps.py:110: UserWarning: Anti-aliasing will be enabled by default in skimage 0.15 to avoid aliasing artifacts when down-sampling images.\n",
      "  warn(\"Anti-aliasing will be enabled by default in skimage 0.15 to \"\n",
      "d:\\program files\\python37\\lib\\site-packages\\skimage\\util\\dtype.py:141: UserWarning: Possible precision loss when converting from float64 to uint8\n",
      "  .format(dtypeobj_in, dtypeobj_out))\n"
     ]
    },
    {
     "name": "stdout",
     "output_type": "stream",
     "text": [
      "everything is ok\n"
     ]
    }
   ],
   "source": [
    "import glob as gb\n",
    "\n",
    "str='C:\\\\Users\\\\jjp\\\\Desktop\\\\test\\\\*.jpg'\n",
    "out='C:\\\\Users\\\\jjp\\\\Desktop\\\\out\\\\'\n",
    "psd='C:\\\\Users\\\\jjp\\\\Desktop\\\\插画\\\\links\\\\'\n",
    "img_path = gb.glob(str)\n",
    "for path in img_path:\n",
    "    the_img  =delsmall(io.imread(path))\n",
    "    scle_img=transform.rescale(the_img, 1000/the_img.shape[1])\n",
    "    \n",
    "    io.imsave(out+path.split(\"\\\\\")[-1],(1-scle_img))\n",
    "#     print(psd+path.split(\"\\\\\")[-1].split(\".\")[-2]+'.psd')\n",
    "#     try:\n",
    "#         create_layer_from_file(\"new_layer\",out+path.split(\"\\\\\")[-1],psd+path.split(\"\\\\\")[-1].split(\".\")[-2]+'.psd')\n",
    "#         os.remove(path)\n",
    "#     except:\n",
    "#         print(path+\" not writed\")\n",
    "print(\"everything is ok\")    \n",
    "    "
   ]
  },
  {
   "cell_type": "code",
   "execution_count": 5,
   "metadata": {},
   "outputs": [],
   "source": [
    "# img0 = io.imread('452.png') #读取图片\n",
    "# img =color.rgb2gray(img0)\n",
    "# thresh = filters.threshold_otsu(img)  #用otsu算法确定最佳分割阈值\n",
    "# #thresh=128\n",
    "# print(thresh)\n",
    "# print(img)\n",
    "# bwimg =(img>=(thresh))  #用阈值进行分割，生成二值图像\n",
    "# labels = measure.label(bwimg)  #标记连通域\n",
    "# bw =morphology.closing(img < thresh, morphology.square(2))\n",
    "# print(labels)\n",
    "\n",
    "\n",
    "\n",
    "# img1 = morphology.remove_small_objects(labels, min_size=5, connectivity=1)\n",
    "# img2= morphology.remove_small_objects(bw, min_size=200, connectivity=1)\n",
    "# #io.imshow(img1)\n",
    "\n",
    "# io.imsave('out.jpg',img1)\n",
    "# io.imsave('out2.jpg',(1-img2)*255)"
   ]
  },
  {
   "cell_type": "code",
   "execution_count": 6,
   "metadata": {},
   "outputs": [],
   "source": [
    "\n",
    "#for i in range(len(coll)):\n",
    "    #io.imsave('d:/data/'+np.str(i)+'.jpg',coll[i])\n",
    "# print(len(coll))\n",
    "# print(coll[0])"
   ]
  },
  {
   "cell_type": "code",
   "execution_count": null,
   "metadata": {},
   "outputs": [],
   "source": []
  },
  {
   "cell_type": "code",
   "execution_count": 7,
   "metadata": {},
   "outputs": [],
   "source": [
    "# from psd_tools2 import PSDImage\n",
    "\n",
    "# psd = PSDImage.open('example.psd')\n",
    "# psd.compose().save('example.png')\n",
    "\n",
    "# mask = psd[0].mask.topil()\n",
    "# print (mask)\n",
    "# ma=psd[0].mask\n",
    "# print(mask)"
   ]
  }
 ],
 "metadata": {
  "kernelspec": {
   "display_name": "Python 3",
   "language": "python",
   "name": "python3"
  },
  "language_info": {
   "codemirror_mode": {
    "name": "ipython",
    "version": 3
   },
   "file_extension": ".py",
   "mimetype": "text/x-python",
   "name": "python",
   "nbconvert_exporter": "python",
   "pygments_lexer": "ipython3",
   "version": "3.7.2"
  }
 },
 "nbformat": 4,
 "nbformat_minor": 2
}
