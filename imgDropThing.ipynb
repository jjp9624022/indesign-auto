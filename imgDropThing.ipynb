{
 "cells": [
  {
   "cell_type": "code",
   "execution_count": 9,
   "metadata": {},
   "outputs": [],
   "source": [
    "import time\n",
    "from skimage import io,filters,measure,morphology,color\n",
    "import os\n",
    "import comtypes.client\n",
    "#app = comtypes.client.CreateObject('Photoshop.Application')\n",
    "#app.Visible = False\n",
    "from win32com.client import Dispatch\n",
    "\n",
    "app = Dispatch(\"Photoshop.Application\")"
   ]
  },
  {
   "cell_type": "code",
   "execution_count": 25,
   "metadata": {},
   "outputs": [],
   "source": [
    "def copy_file_contents_to_clipboard(path):\n",
    "    doc = app.Open(path)\n",
    "    doc.layers[0].Copy()\n",
    "    \n",
    "    doc.Close(2) # 2 (psDoNotSaveChanges)\n",
    "\n",
    "def create_layer_from_file(layer_name, path_from,path_to):\n",
    "    copy_file_contents_to_clipboard(path_from)\n",
    "\n",
    "    the_doc = app.Open(path_to)\n",
    "    layer = the_doc.ArtLayers.Add() # Create Layer\n",
    "    layer.name = layer_name # Rename Layer\n",
    "    app.ActiveDocument=the_doc\n",
    "    the_doc.ActiveLayer = layer # Select Layer\n",
    "    the_doc.Paste() # Paste into\n",
    "    the_doc.Save()\n",
    "    the_doc.Close(1)\n",
    "    print(path_to+' is ok')\n",
    "\n"
   ]
  },
  {
   "cell_type": "code",
   "execution_count": 26,
   "metadata": {},
   "outputs": [],
   "source": [
    "def delsmall( img0 ):\n",
    "    img =color.rgb2gray(img0)\n",
    "    thresh = filters.threshold_otsu(img)  #用otsu算法确定最佳分割阈值\n",
    " \n",
    "    bwimg =(img>=(thresh))  #用阈值进行分割，生成二值图像\n",
    "    labels = measure.label(bwimg)  #标记连通域\n",
    "    bw =morphology.closing(img < thresh, morphology.square(2))\n",
    "    #img1 = morphology.remove_small_objects(labels, min_size=5, connectivity=1)\n",
    "    img2= morphology.remove_small_objects(bw, min_size=200, connectivity=1)\n",
    "    img3=morphology.erosion(img2,morphology.disk(1))\n",
    "    return img3\n",
    "    #io.imshow(img1)\n"
   ]
  },
  {
   "cell_type": "code",
   "execution_count": 27,
   "metadata": {},
   "outputs": [
    {
     "name": "stderr",
     "output_type": "stream",
     "text": [
      "d:\\program files\\python37\\lib\\site-packages\\skimage\\io\\_io.py:140: UserWarning: C:\\Users\\jjp\\Desktop\\out\\1.png is a low contrast image\n",
      "  warn('%s is a low contrast image' % fname)\n"
     ]
    },
    {
     "name": "stdout",
     "output_type": "stream",
     "text": [
      "C:\\Users\\jjp\\Desktop\\插画\\links\\1.psd\n",
      "C:\\Users\\jjp\\Desktop\\插画\\links\\1.psd is ok\n",
      "C:\\Users\\jjp\\Desktop\\插画\\links\\10.psd\n"
     ]
    },
    {
     "name": "stderr",
     "output_type": "stream",
     "text": [
      "d:\\program files\\python37\\lib\\site-packages\\skimage\\io\\_io.py:140: UserWarning: C:\\Users\\jjp\\Desktop\\out\\10.png is a low contrast image\n",
      "  warn('%s is a low contrast image' % fname)\n"
     ]
    },
    {
     "name": "stdout",
     "output_type": "stream",
     "text": [
      "C:\\Users\\jjp\\Desktop\\插画\\links\\10.psd is ok\n"
     ]
    },
    {
     "name": "stderr",
     "output_type": "stream",
     "text": [
      "d:\\program files\\python37\\lib\\site-packages\\skimage\\io\\_io.py:140: UserWarning: C:\\Users\\jjp\\Desktop\\out\\100.png is a low contrast image\n",
      "  warn('%s is a low contrast image' % fname)\n"
     ]
    },
    {
     "name": "stdout",
     "output_type": "stream",
     "text": [
      "C:\\Users\\jjp\\Desktop\\插画\\links\\100.psd\n",
      "C:\\Users\\jjp\\Desktop\\test\\100.png not writed\n",
      "C:\\Users\\jjp\\Desktop\\插画\\links\\101.psd\n"
     ]
    },
    {
     "name": "stderr",
     "output_type": "stream",
     "text": [
      "d:\\program files\\python37\\lib\\site-packages\\skimage\\io\\_io.py:140: UserWarning: C:\\Users\\jjp\\Desktop\\out\\101.png is a low contrast image\n",
      "  warn('%s is a low contrast image' % fname)\n"
     ]
    },
    {
     "name": "stdout",
     "output_type": "stream",
     "text": [
      "C:\\Users\\jjp\\Desktop\\插画\\links\\101.psd is ok\n",
      "C:\\Users\\jjp\\Desktop\\插画\\links\\102.psd\n"
     ]
    },
    {
     "name": "stderr",
     "output_type": "stream",
     "text": [
      "d:\\program files\\python37\\lib\\site-packages\\skimage\\io\\_io.py:140: UserWarning: C:\\Users\\jjp\\Desktop\\out\\102.png is a low contrast image\n",
      "  warn('%s is a low contrast image' % fname)\n"
     ]
    },
    {
     "name": "stdout",
     "output_type": "stream",
     "text": [
      "C:\\Users\\jjp\\Desktop\\插画\\links\\102.psd is ok\n",
      "C:\\Users\\jjp\\Desktop\\插画\\links\\103.psd\n"
     ]
    },
    {
     "name": "stderr",
     "output_type": "stream",
     "text": [
      "d:\\program files\\python37\\lib\\site-packages\\skimage\\io\\_io.py:140: UserWarning: C:\\Users\\jjp\\Desktop\\out\\103.png is a low contrast image\n",
      "  warn('%s is a low contrast image' % fname)\n"
     ]
    },
    {
     "name": "stdout",
     "output_type": "stream",
     "text": [
      "C:\\Users\\jjp\\Desktop\\插画\\links\\103.psd is ok\n",
      "C:\\Users\\jjp\\Desktop\\插画\\links\\104.psd\n"
     ]
    },
    {
     "name": "stderr",
     "output_type": "stream",
     "text": [
      "d:\\program files\\python37\\lib\\site-packages\\skimage\\io\\_io.py:140: UserWarning: C:\\Users\\jjp\\Desktop\\out\\104.png is a low contrast image\n",
      "  warn('%s is a low contrast image' % fname)\n"
     ]
    },
    {
     "name": "stdout",
     "output_type": "stream",
     "text": [
      "C:\\Users\\jjp\\Desktop\\插画\\links\\104.psd is ok\n",
      "C:\\Users\\jjp\\Desktop\\插画\\links\\105.psd\n"
     ]
    },
    {
     "name": "stderr",
     "output_type": "stream",
     "text": [
      "d:\\program files\\python37\\lib\\site-packages\\skimage\\io\\_io.py:140: UserWarning: C:\\Users\\jjp\\Desktop\\out\\105.png is a low contrast image\n",
      "  warn('%s is a low contrast image' % fname)\n"
     ]
    },
    {
     "name": "stdout",
     "output_type": "stream",
     "text": [
      "C:\\Users\\jjp\\Desktop\\插画\\links\\105.psd is ok\n",
      "C:\\Users\\jjp\\Desktop\\插画\\links\\106.psd\n"
     ]
    },
    {
     "name": "stderr",
     "output_type": "stream",
     "text": [
      "d:\\program files\\python37\\lib\\site-packages\\skimage\\io\\_io.py:140: UserWarning: C:\\Users\\jjp\\Desktop\\out\\106.png is a low contrast image\n",
      "  warn('%s is a low contrast image' % fname)\n"
     ]
    },
    {
     "name": "stdout",
     "output_type": "stream",
     "text": [
      "C:\\Users\\jjp\\Desktop\\test\\106.png not writed\n",
      "C:\\Users\\jjp\\Desktop\\插画\\links\\107.psd\n"
     ]
    },
    {
     "name": "stderr",
     "output_type": "stream",
     "text": [
      "d:\\program files\\python37\\lib\\site-packages\\skimage\\io\\_io.py:140: UserWarning: C:\\Users\\jjp\\Desktop\\out\\107.png is a low contrast image\n",
      "  warn('%s is a low contrast image' % fname)\n"
     ]
    },
    {
     "name": "stdout",
     "output_type": "stream",
     "text": [
      "C:\\Users\\jjp\\Desktop\\插画\\links\\107.psd is ok\n",
      "C:\\Users\\jjp\\Desktop\\插画\\links\\108.psd\n"
     ]
    },
    {
     "name": "stderr",
     "output_type": "stream",
     "text": [
      "d:\\program files\\python37\\lib\\site-packages\\skimage\\io\\_io.py:140: UserWarning: C:\\Users\\jjp\\Desktop\\out\\108.png is a low contrast image\n",
      "  warn('%s is a low contrast image' % fname)\n"
     ]
    },
    {
     "name": "stdout",
     "output_type": "stream",
     "text": [
      "C:\\Users\\jjp\\Desktop\\插画\\links\\108.psd is ok\n",
      "C:\\Users\\jjp\\Desktop\\插画\\links\\109.psd\n"
     ]
    },
    {
     "name": "stderr",
     "output_type": "stream",
     "text": [
      "d:\\program files\\python37\\lib\\site-packages\\skimage\\io\\_io.py:140: UserWarning: C:\\Users\\jjp\\Desktop\\out\\109.png is a low contrast image\n",
      "  warn('%s is a low contrast image' % fname)\n"
     ]
    },
    {
     "name": "stdout",
     "output_type": "stream",
     "text": [
      "C:\\Users\\jjp\\Desktop\\插画\\links\\109.psd is ok\n",
      "C:\\Users\\jjp\\Desktop\\插画\\links\\11.psd\n"
     ]
    },
    {
     "name": "stderr",
     "output_type": "stream",
     "text": [
      "d:\\program files\\python37\\lib\\site-packages\\skimage\\io\\_io.py:140: UserWarning: C:\\Users\\jjp\\Desktop\\out\\11.png is a low contrast image\n",
      "  warn('%s is a low contrast image' % fname)\n"
     ]
    },
    {
     "name": "stdout",
     "output_type": "stream",
     "text": [
      "C:\\Users\\jjp\\Desktop\\插画\\links\\11.psd is ok\n",
      "C:\\Users\\jjp\\Desktop\\插画\\links\\110.psd\n"
     ]
    },
    {
     "name": "stderr",
     "output_type": "stream",
     "text": [
      "d:\\program files\\python37\\lib\\site-packages\\skimage\\io\\_io.py:140: UserWarning: C:\\Users\\jjp\\Desktop\\out\\110.png is a low contrast image\n",
      "  warn('%s is a low contrast image' % fname)\n"
     ]
    },
    {
     "name": "stdout",
     "output_type": "stream",
     "text": [
      "C:\\Users\\jjp\\Desktop\\插画\\links\\110.psd is ok\n",
      "C:\\Users\\jjp\\Desktop\\插画\\links\\111.psd\n"
     ]
    },
    {
     "name": "stderr",
     "output_type": "stream",
     "text": [
      "d:\\program files\\python37\\lib\\site-packages\\skimage\\io\\_io.py:140: UserWarning: C:\\Users\\jjp\\Desktop\\out\\111.png is a low contrast image\n",
      "  warn('%s is a low contrast image' % fname)\n"
     ]
    },
    {
     "name": "stdout",
     "output_type": "stream",
     "text": [
      "C:\\Users\\jjp\\Desktop\\插画\\links\\111.psd is ok\n",
      "C:\\Users\\jjp\\Desktop\\插画\\links\\112.psd\n"
     ]
    },
    {
     "name": "stderr",
     "output_type": "stream",
     "text": [
      "d:\\program files\\python37\\lib\\site-packages\\skimage\\io\\_io.py:140: UserWarning: C:\\Users\\jjp\\Desktop\\out\\112.png is a low contrast image\n",
      "  warn('%s is a low contrast image' % fname)\n"
     ]
    },
    {
     "name": "stdout",
     "output_type": "stream",
     "text": [
      "C:\\Users\\jjp\\Desktop\\插画\\links\\112.psd is ok\n",
      "C:\\Users\\jjp\\Desktop\\插画\\links\\113.psd\n"
     ]
    },
    {
     "name": "stderr",
     "output_type": "stream",
     "text": [
      "d:\\program files\\python37\\lib\\site-packages\\skimage\\io\\_io.py:140: UserWarning: C:\\Users\\jjp\\Desktop\\out\\113.png is a low contrast image\n",
      "  warn('%s is a low contrast image' % fname)\n"
     ]
    },
    {
     "name": "stdout",
     "output_type": "stream",
     "text": [
      "C:\\Users\\jjp\\Desktop\\插画\\links\\113.psd is ok\n",
      "C:\\Users\\jjp\\Desktop\\插画\\links\\114.psd\n"
     ]
    },
    {
     "name": "stderr",
     "output_type": "stream",
     "text": [
      "d:\\program files\\python37\\lib\\site-packages\\skimage\\io\\_io.py:140: UserWarning: C:\\Users\\jjp\\Desktop\\out\\114.png is a low contrast image\n",
      "  warn('%s is a low contrast image' % fname)\n"
     ]
    },
    {
     "name": "stdout",
     "output_type": "stream",
     "text": [
      "C:\\Users\\jjp\\Desktop\\插画\\links\\114.psd is ok\n",
      "C:\\Users\\jjp\\Desktop\\插画\\links\\115.psd\n"
     ]
    },
    {
     "name": "stderr",
     "output_type": "stream",
     "text": [
      "d:\\program files\\python37\\lib\\site-packages\\skimage\\io\\_io.py:140: UserWarning: C:\\Users\\jjp\\Desktop\\out\\115.png is a low contrast image\n",
      "  warn('%s is a low contrast image' % fname)\n"
     ]
    },
    {
     "name": "stdout",
     "output_type": "stream",
     "text": [
      "C:\\Users\\jjp\\Desktop\\插画\\links\\115.psd is ok\n",
      "C:\\Users\\jjp\\Desktop\\插画\\links\\116.psd\n"
     ]
    },
    {
     "name": "stderr",
     "output_type": "stream",
     "text": [
      "d:\\program files\\python37\\lib\\site-packages\\skimage\\io\\_io.py:140: UserWarning: C:\\Users\\jjp\\Desktop\\out\\116.png is a low contrast image\n",
      "  warn('%s is a low contrast image' % fname)\n"
     ]
    },
    {
     "name": "stdout",
     "output_type": "stream",
     "text": [
      "C:\\Users\\jjp\\Desktop\\插画\\links\\116.psd is ok\n",
      "C:\\Users\\jjp\\Desktop\\插画\\links\\117.psd\n"
     ]
    },
    {
     "name": "stderr",
     "output_type": "stream",
     "text": [
      "d:\\program files\\python37\\lib\\site-packages\\skimage\\io\\_io.py:140: UserWarning: C:\\Users\\jjp\\Desktop\\out\\117.png is a low contrast image\n",
      "  warn('%s is a low contrast image' % fname)\n"
     ]
    },
    {
     "name": "stdout",
     "output_type": "stream",
     "text": [
      "C:\\Users\\jjp\\Desktop\\插画\\links\\117.psd is ok\n",
      "C:\\Users\\jjp\\Desktop\\插画\\links\\118.psd\n"
     ]
    },
    {
     "name": "stderr",
     "output_type": "stream",
     "text": [
      "d:\\program files\\python37\\lib\\site-packages\\skimage\\io\\_io.py:140: UserWarning: C:\\Users\\jjp\\Desktop\\out\\118.png is a low contrast image\n",
      "  warn('%s is a low contrast image' % fname)\n"
     ]
    },
    {
     "name": "stdout",
     "output_type": "stream",
     "text": [
      "C:\\Users\\jjp\\Desktop\\插画\\links\\118.psd is ok\n",
      "C:\\Users\\jjp\\Desktop\\插画\\links\\119.psd\n"
     ]
    },
    {
     "name": "stderr",
     "output_type": "stream",
     "text": [
      "d:\\program files\\python37\\lib\\site-packages\\skimage\\io\\_io.py:140: UserWarning: C:\\Users\\jjp\\Desktop\\out\\119.png is a low contrast image\n",
      "  warn('%s is a low contrast image' % fname)\n"
     ]
    },
    {
     "name": "stdout",
     "output_type": "stream",
     "text": [
      "C:\\Users\\jjp\\Desktop\\插画\\links\\119.psd is ok\n",
      "C:\\Users\\jjp\\Desktop\\插画\\links\\12.psd\n"
     ]
    },
    {
     "name": "stderr",
     "output_type": "stream",
     "text": [
      "d:\\program files\\python37\\lib\\site-packages\\skimage\\io\\_io.py:140: UserWarning: C:\\Users\\jjp\\Desktop\\out\\12.png is a low contrast image\n",
      "  warn('%s is a low contrast image' % fname)\n"
     ]
    },
    {
     "name": "stdout",
     "output_type": "stream",
     "text": [
      "C:\\Users\\jjp\\Desktop\\插画\\links\\12.psd is ok\n",
      "C:\\Users\\jjp\\Desktop\\插画\\links\\120.psd\n"
     ]
    },
    {
     "name": "stderr",
     "output_type": "stream",
     "text": [
      "d:\\program files\\python37\\lib\\site-packages\\skimage\\io\\_io.py:140: UserWarning: C:\\Users\\jjp\\Desktop\\out\\120.png is a low contrast image\n",
      "  warn('%s is a low contrast image' % fname)\n"
     ]
    },
    {
     "name": "stdout",
     "output_type": "stream",
     "text": [
      "C:\\Users\\jjp\\Desktop\\插画\\links\\120.psd is ok\n",
      "C:\\Users\\jjp\\Desktop\\插画\\links\\121.psd\n"
     ]
    },
    {
     "name": "stderr",
     "output_type": "stream",
     "text": [
      "d:\\program files\\python37\\lib\\site-packages\\skimage\\io\\_io.py:140: UserWarning: C:\\Users\\jjp\\Desktop\\out\\121.png is a low contrast image\n",
      "  warn('%s is a low contrast image' % fname)\n"
     ]
    },
    {
     "name": "stdout",
     "output_type": "stream",
     "text": [
      "C:\\Users\\jjp\\Desktop\\插画\\links\\121.psd is ok\n",
      "C:\\Users\\jjp\\Desktop\\插画\\links\\122.psd\n"
     ]
    },
    {
     "name": "stderr",
     "output_type": "stream",
     "text": [
      "d:\\program files\\python37\\lib\\site-packages\\skimage\\io\\_io.py:140: UserWarning: C:\\Users\\jjp\\Desktop\\out\\122.png is a low contrast image\n",
      "  warn('%s is a low contrast image' % fname)\n"
     ]
    },
    {
     "name": "stdout",
     "output_type": "stream",
     "text": [
      "C:\\Users\\jjp\\Desktop\\插画\\links\\122.psd is ok\n",
      "C:\\Users\\jjp\\Desktop\\插画\\links\\123.psd\n"
     ]
    },
    {
     "name": "stderr",
     "output_type": "stream",
     "text": [
      "d:\\program files\\python37\\lib\\site-packages\\skimage\\io\\_io.py:140: UserWarning: C:\\Users\\jjp\\Desktop\\out\\123.png is a low contrast image\n",
      "  warn('%s is a low contrast image' % fname)\n"
     ]
    },
    {
     "name": "stdout",
     "output_type": "stream",
     "text": [
      "C:\\Users\\jjp\\Desktop\\插画\\links\\123.psd is ok\n",
      "C:\\Users\\jjp\\Desktop\\插画\\links\\124.psd\n"
     ]
    },
    {
     "name": "stderr",
     "output_type": "stream",
     "text": [
      "d:\\program files\\python37\\lib\\site-packages\\skimage\\io\\_io.py:140: UserWarning: C:\\Users\\jjp\\Desktop\\out\\124.png is a low contrast image\n",
      "  warn('%s is a low contrast image' % fname)\n"
     ]
    },
    {
     "name": "stdout",
     "output_type": "stream",
     "text": [
      "C:\\Users\\jjp\\Desktop\\插画\\links\\124.psd is ok\n",
      "C:\\Users\\jjp\\Desktop\\插画\\links\\125.psd\n"
     ]
    },
    {
     "name": "stderr",
     "output_type": "stream",
     "text": [
      "d:\\program files\\python37\\lib\\site-packages\\skimage\\io\\_io.py:140: UserWarning: C:\\Users\\jjp\\Desktop\\out\\125.png is a low contrast image\n",
      "  warn('%s is a low contrast image' % fname)\n"
     ]
    },
    {
     "name": "stdout",
     "output_type": "stream",
     "text": [
      "C:\\Users\\jjp\\Desktop\\插画\\links\\125.psd is ok\n",
      "C:\\Users\\jjp\\Desktop\\插画\\links\\126.psd\n"
     ]
    },
    {
     "name": "stderr",
     "output_type": "stream",
     "text": [
      "d:\\program files\\python37\\lib\\site-packages\\skimage\\io\\_io.py:140: UserWarning: C:\\Users\\jjp\\Desktop\\out\\126.png is a low contrast image\n",
      "  warn('%s is a low contrast image' % fname)\n"
     ]
    },
    {
     "name": "stdout",
     "output_type": "stream",
     "text": [
      "C:\\Users\\jjp\\Desktop\\插画\\links\\126.psd is ok\n",
      "C:\\Users\\jjp\\Desktop\\插画\\links\\127.psd\n"
     ]
    },
    {
     "name": "stderr",
     "output_type": "stream",
     "text": [
      "d:\\program files\\python37\\lib\\site-packages\\skimage\\io\\_io.py:140: UserWarning: C:\\Users\\jjp\\Desktop\\out\\127.png is a low contrast image\n",
      "  warn('%s is a low contrast image' % fname)\n"
     ]
    },
    {
     "name": "stdout",
     "output_type": "stream",
     "text": [
      "C:\\Users\\jjp\\Desktop\\插画\\links\\127.psd is ok\n",
      "C:\\Users\\jjp\\Desktop\\插画\\links\\128.psd\n"
     ]
    },
    {
     "name": "stderr",
     "output_type": "stream",
     "text": [
      "d:\\program files\\python37\\lib\\site-packages\\skimage\\io\\_io.py:140: UserWarning: C:\\Users\\jjp\\Desktop\\out\\128.png is a low contrast image\n",
      "  warn('%s is a low contrast image' % fname)\n"
     ]
    },
    {
     "name": "stdout",
     "output_type": "stream",
     "text": [
      "C:\\Users\\jjp\\Desktop\\插画\\links\\128.psd is ok\n",
      "C:\\Users\\jjp\\Desktop\\插画\\links\\129.psd\n"
     ]
    },
    {
     "name": "stderr",
     "output_type": "stream",
     "text": [
      "d:\\program files\\python37\\lib\\site-packages\\skimage\\io\\_io.py:140: UserWarning: C:\\Users\\jjp\\Desktop\\out\\129.png is a low contrast image\n",
      "  warn('%s is a low contrast image' % fname)\n"
     ]
    },
    {
     "name": "stdout",
     "output_type": "stream",
     "text": [
      "C:\\Users\\jjp\\Desktop\\插画\\links\\129.psd is ok\n",
      "C:\\Users\\jjp\\Desktop\\插画\\links\\13.psd\n"
     ]
    },
    {
     "name": "stderr",
     "output_type": "stream",
     "text": [
      "d:\\program files\\python37\\lib\\site-packages\\skimage\\io\\_io.py:140: UserWarning: C:\\Users\\jjp\\Desktop\\out\\13.png is a low contrast image\n",
      "  warn('%s is a low contrast image' % fname)\n"
     ]
    },
    {
     "name": "stdout",
     "output_type": "stream",
     "text": [
      "C:\\Users\\jjp\\Desktop\\插画\\links\\13.psd is ok\n",
      "C:\\Users\\jjp\\Desktop\\插画\\links\\130.psd\n"
     ]
    },
    {
     "name": "stderr",
     "output_type": "stream",
     "text": [
      "d:\\program files\\python37\\lib\\site-packages\\skimage\\io\\_io.py:140: UserWarning: C:\\Users\\jjp\\Desktop\\out\\130.png is a low contrast image\n",
      "  warn('%s is a low contrast image' % fname)\n"
     ]
    },
    {
     "name": "stdout",
     "output_type": "stream",
     "text": [
      "C:\\Users\\jjp\\Desktop\\插画\\links\\130.psd is ok\n",
      "C:\\Users\\jjp\\Desktop\\插画\\links\\131.psd\n"
     ]
    },
    {
     "name": "stderr",
     "output_type": "stream",
     "text": [
      "d:\\program files\\python37\\lib\\site-packages\\skimage\\io\\_io.py:140: UserWarning: C:\\Users\\jjp\\Desktop\\out\\131.png is a low contrast image\n",
      "  warn('%s is a low contrast image' % fname)\n"
     ]
    },
    {
     "name": "stdout",
     "output_type": "stream",
     "text": [
      "C:\\Users\\jjp\\Desktop\\插画\\links\\131.psd is ok\n",
      "C:\\Users\\jjp\\Desktop\\插画\\links\\132.psd\n"
     ]
    },
    {
     "name": "stderr",
     "output_type": "stream",
     "text": [
      "d:\\program files\\python37\\lib\\site-packages\\skimage\\io\\_io.py:140: UserWarning: C:\\Users\\jjp\\Desktop\\out\\132.png is a low contrast image\n",
      "  warn('%s is a low contrast image' % fname)\n"
     ]
    },
    {
     "name": "stdout",
     "output_type": "stream",
     "text": [
      "C:\\Users\\jjp\\Desktop\\插画\\links\\132.psd is ok\n",
      "C:\\Users\\jjp\\Desktop\\插画\\links\\133.psd\n"
     ]
    },
    {
     "name": "stderr",
     "output_type": "stream",
     "text": [
      "d:\\program files\\python37\\lib\\site-packages\\skimage\\io\\_io.py:140: UserWarning: C:\\Users\\jjp\\Desktop\\out\\133.png is a low contrast image\n",
      "  warn('%s is a low contrast image' % fname)\n"
     ]
    },
    {
     "name": "stdout",
     "output_type": "stream",
     "text": [
      "C:\\Users\\jjp\\Desktop\\插画\\links\\133.psd is ok\n",
      "C:\\Users\\jjp\\Desktop\\插画\\links\\134.psd\n"
     ]
    },
    {
     "name": "stderr",
     "output_type": "stream",
     "text": [
      "d:\\program files\\python37\\lib\\site-packages\\skimage\\io\\_io.py:140: UserWarning: C:\\Users\\jjp\\Desktop\\out\\134.png is a low contrast image\n",
      "  warn('%s is a low contrast image' % fname)\n"
     ]
    },
    {
     "name": "stdout",
     "output_type": "stream",
     "text": [
      "C:\\Users\\jjp\\Desktop\\插画\\links\\134.psd is ok\n",
      "C:\\Users\\jjp\\Desktop\\插画\\links\\135.psd\n"
     ]
    },
    {
     "name": "stderr",
     "output_type": "stream",
     "text": [
      "d:\\program files\\python37\\lib\\site-packages\\skimage\\io\\_io.py:140: UserWarning: C:\\Users\\jjp\\Desktop\\out\\135.png is a low contrast image\n",
      "  warn('%s is a low contrast image' % fname)\n"
     ]
    },
    {
     "name": "stdout",
     "output_type": "stream",
     "text": [
      "C:\\Users\\jjp\\Desktop\\插画\\links\\135.psd is ok\n",
      "C:\\Users\\jjp\\Desktop\\插画\\links\\136.psd\n"
     ]
    },
    {
     "name": "stderr",
     "output_type": "stream",
     "text": [
      "d:\\program files\\python37\\lib\\site-packages\\skimage\\io\\_io.py:140: UserWarning: C:\\Users\\jjp\\Desktop\\out\\136.png is a low contrast image\n",
      "  warn('%s is a low contrast image' % fname)\n"
     ]
    },
    {
     "name": "stdout",
     "output_type": "stream",
     "text": [
      "C:\\Users\\jjp\\Desktop\\插画\\links\\136.psd is ok\n",
      "C:\\Users\\jjp\\Desktop\\插画\\links\\137.psd\n"
     ]
    },
    {
     "name": "stderr",
     "output_type": "stream",
     "text": [
      "d:\\program files\\python37\\lib\\site-packages\\skimage\\io\\_io.py:140: UserWarning: C:\\Users\\jjp\\Desktop\\out\\137.png is a low contrast image\n",
      "  warn('%s is a low contrast image' % fname)\n"
     ]
    },
    {
     "name": "stdout",
     "output_type": "stream",
     "text": [
      "C:\\Users\\jjp\\Desktop\\插画\\links\\137.psd is ok\n",
      "C:\\Users\\jjp\\Desktop\\插画\\links\\138.psd\n"
     ]
    },
    {
     "name": "stderr",
     "output_type": "stream",
     "text": [
      "d:\\program files\\python37\\lib\\site-packages\\skimage\\io\\_io.py:140: UserWarning: C:\\Users\\jjp\\Desktop\\out\\138.png is a low contrast image\n",
      "  warn('%s is a low contrast image' % fname)\n"
     ]
    },
    {
     "name": "stdout",
     "output_type": "stream",
     "text": [
      "C:\\Users\\jjp\\Desktop\\插画\\links\\138.psd is ok\n",
      "C:\\Users\\jjp\\Desktop\\插画\\links\\139.psd\n"
     ]
    },
    {
     "name": "stderr",
     "output_type": "stream",
     "text": [
      "d:\\program files\\python37\\lib\\site-packages\\skimage\\io\\_io.py:140: UserWarning: C:\\Users\\jjp\\Desktop\\out\\139.png is a low contrast image\n",
      "  warn('%s is a low contrast image' % fname)\n"
     ]
    },
    {
     "name": "stdout",
     "output_type": "stream",
     "text": [
      "C:\\Users\\jjp\\Desktop\\插画\\links\\139.psd is ok\n",
      "C:\\Users\\jjp\\Desktop\\插画\\links\\14.psd\n"
     ]
    },
    {
     "name": "stderr",
     "output_type": "stream",
     "text": [
      "d:\\program files\\python37\\lib\\site-packages\\skimage\\io\\_io.py:140: UserWarning: C:\\Users\\jjp\\Desktop\\out\\14.png is a low contrast image\n",
      "  warn('%s is a low contrast image' % fname)\n"
     ]
    },
    {
     "name": "stdout",
     "output_type": "stream",
     "text": [
      "C:\\Users\\jjp\\Desktop\\插画\\links\\14.psd is ok\n",
      "C:\\Users\\jjp\\Desktop\\插画\\links\\140.psd\n"
     ]
    },
    {
     "name": "stderr",
     "output_type": "stream",
     "text": [
      "d:\\program files\\python37\\lib\\site-packages\\skimage\\io\\_io.py:140: UserWarning: C:\\Users\\jjp\\Desktop\\out\\140.png is a low contrast image\n",
      "  warn('%s is a low contrast image' % fname)\n"
     ]
    },
    {
     "name": "stdout",
     "output_type": "stream",
     "text": [
      "C:\\Users\\jjp\\Desktop\\插画\\links\\140.psd is ok\n",
      "C:\\Users\\jjp\\Desktop\\插画\\links\\141.psd\n"
     ]
    },
    {
     "name": "stderr",
     "output_type": "stream",
     "text": [
      "d:\\program files\\python37\\lib\\site-packages\\skimage\\io\\_io.py:140: UserWarning: C:\\Users\\jjp\\Desktop\\out\\141.png is a low contrast image\n",
      "  warn('%s is a low contrast image' % fname)\n"
     ]
    },
    {
     "name": "stdout",
     "output_type": "stream",
     "text": [
      "C:\\Users\\jjp\\Desktop\\插画\\links\\141.psd is ok\n",
      "C:\\Users\\jjp\\Desktop\\插画\\links\\142.psd\n"
     ]
    },
    {
     "name": "stderr",
     "output_type": "stream",
     "text": [
      "d:\\program files\\python37\\lib\\site-packages\\skimage\\io\\_io.py:140: UserWarning: C:\\Users\\jjp\\Desktop\\out\\142.png is a low contrast image\n",
      "  warn('%s is a low contrast image' % fname)\n"
     ]
    },
    {
     "name": "stdout",
     "output_type": "stream",
     "text": [
      "C:\\Users\\jjp\\Desktop\\插画\\links\\142.psd is ok\n",
      "C:\\Users\\jjp\\Desktop\\插画\\links\\143.psd\n"
     ]
    },
    {
     "name": "stderr",
     "output_type": "stream",
     "text": [
      "d:\\program files\\python37\\lib\\site-packages\\skimage\\io\\_io.py:140: UserWarning: C:\\Users\\jjp\\Desktop\\out\\143.png is a low contrast image\n",
      "  warn('%s is a low contrast image' % fname)\n"
     ]
    },
    {
     "name": "stdout",
     "output_type": "stream",
     "text": [
      "C:\\Users\\jjp\\Desktop\\插画\\links\\143.psd is ok\n",
      "C:\\Users\\jjp\\Desktop\\插画\\links\\144.psd\n"
     ]
    },
    {
     "name": "stderr",
     "output_type": "stream",
     "text": [
      "d:\\program files\\python37\\lib\\site-packages\\skimage\\io\\_io.py:140: UserWarning: C:\\Users\\jjp\\Desktop\\out\\144.png is a low contrast image\n",
      "  warn('%s is a low contrast image' % fname)\n"
     ]
    },
    {
     "name": "stdout",
     "output_type": "stream",
     "text": [
      "C:\\Users\\jjp\\Desktop\\插画\\links\\144.psd is ok\n",
      "C:\\Users\\jjp\\Desktop\\插画\\links\\145.psd\n"
     ]
    },
    {
     "name": "stderr",
     "output_type": "stream",
     "text": [
      "d:\\program files\\python37\\lib\\site-packages\\skimage\\io\\_io.py:140: UserWarning: C:\\Users\\jjp\\Desktop\\out\\145.png is a low contrast image\n",
      "  warn('%s is a low contrast image' % fname)\n"
     ]
    },
    {
     "name": "stdout",
     "output_type": "stream",
     "text": [
      "C:\\Users\\jjp\\Desktop\\插画\\links\\145.psd is ok\n",
      "C:\\Users\\jjp\\Desktop\\插画\\links\\146.psd\n"
     ]
    },
    {
     "name": "stderr",
     "output_type": "stream",
     "text": [
      "d:\\program files\\python37\\lib\\site-packages\\skimage\\io\\_io.py:140: UserWarning: C:\\Users\\jjp\\Desktop\\out\\146.png is a low contrast image\n",
      "  warn('%s is a low contrast image' % fname)\n"
     ]
    },
    {
     "name": "stdout",
     "output_type": "stream",
     "text": [
      "C:\\Users\\jjp\\Desktop\\插画\\links\\146.psd is ok\n",
      "C:\\Users\\jjp\\Desktop\\插画\\links\\147.psd\n"
     ]
    },
    {
     "name": "stderr",
     "output_type": "stream",
     "text": [
      "d:\\program files\\python37\\lib\\site-packages\\skimage\\io\\_io.py:140: UserWarning: C:\\Users\\jjp\\Desktop\\out\\147.png is a low contrast image\n",
      "  warn('%s is a low contrast image' % fname)\n"
     ]
    },
    {
     "name": "stdout",
     "output_type": "stream",
     "text": [
      "C:\\Users\\jjp\\Desktop\\插画\\links\\147.psd is ok\n",
      "C:\\Users\\jjp\\Desktop\\插画\\links\\148.psd\n"
     ]
    },
    {
     "name": "stderr",
     "output_type": "stream",
     "text": [
      "d:\\program files\\python37\\lib\\site-packages\\skimage\\io\\_io.py:140: UserWarning: C:\\Users\\jjp\\Desktop\\out\\148.png is a low contrast image\n",
      "  warn('%s is a low contrast image' % fname)\n"
     ]
    },
    {
     "name": "stdout",
     "output_type": "stream",
     "text": [
      "C:\\Users\\jjp\\Desktop\\插画\\links\\148.psd is ok\n",
      "C:\\Users\\jjp\\Desktop\\插画\\links\\149.psd\n"
     ]
    },
    {
     "name": "stderr",
     "output_type": "stream",
     "text": [
      "d:\\program files\\python37\\lib\\site-packages\\skimage\\io\\_io.py:140: UserWarning: C:\\Users\\jjp\\Desktop\\out\\149.png is a low contrast image\n",
      "  warn('%s is a low contrast image' % fname)\n"
     ]
    },
    {
     "name": "stdout",
     "output_type": "stream",
     "text": [
      "C:\\Users\\jjp\\Desktop\\插画\\links\\149.psd is ok\n",
      "C:\\Users\\jjp\\Desktop\\插画\\links\\15.psd\n"
     ]
    },
    {
     "name": "stderr",
     "output_type": "stream",
     "text": [
      "d:\\program files\\python37\\lib\\site-packages\\skimage\\io\\_io.py:140: UserWarning: C:\\Users\\jjp\\Desktop\\out\\15.png is a low contrast image\n",
      "  warn('%s is a low contrast image' % fname)\n"
     ]
    },
    {
     "name": "stdout",
     "output_type": "stream",
     "text": [
      "C:\\Users\\jjp\\Desktop\\插画\\links\\15.psd is ok\n",
      "C:\\Users\\jjp\\Desktop\\插画\\links\\150.psd\n"
     ]
    },
    {
     "name": "stderr",
     "output_type": "stream",
     "text": [
      "d:\\program files\\python37\\lib\\site-packages\\skimage\\io\\_io.py:140: UserWarning: C:\\Users\\jjp\\Desktop\\out\\150.png is a low contrast image\n",
      "  warn('%s is a low contrast image' % fname)\n"
     ]
    },
    {
     "name": "stdout",
     "output_type": "stream",
     "text": [
      "C:\\Users\\jjp\\Desktop\\插画\\links\\150.psd is ok\n",
      "C:\\Users\\jjp\\Desktop\\插画\\links\\151.psd\n"
     ]
    },
    {
     "name": "stderr",
     "output_type": "stream",
     "text": [
      "d:\\program files\\python37\\lib\\site-packages\\skimage\\io\\_io.py:140: UserWarning: C:\\Users\\jjp\\Desktop\\out\\151.png is a low contrast image\n",
      "  warn('%s is a low contrast image' % fname)\n"
     ]
    },
    {
     "name": "stdout",
     "output_type": "stream",
     "text": [
      "C:\\Users\\jjp\\Desktop\\插画\\links\\151.psd is ok\n",
      "C:\\Users\\jjp\\Desktop\\插画\\links\\152.psd\n"
     ]
    },
    {
     "name": "stderr",
     "output_type": "stream",
     "text": [
      "d:\\program files\\python37\\lib\\site-packages\\skimage\\io\\_io.py:140: UserWarning: C:\\Users\\jjp\\Desktop\\out\\152.png is a low contrast image\n",
      "  warn('%s is a low contrast image' % fname)\n"
     ]
    },
    {
     "name": "stdout",
     "output_type": "stream",
     "text": [
      "C:\\Users\\jjp\\Desktop\\插画\\links\\152.psd is ok\n",
      "C:\\Users\\jjp\\Desktop\\插画\\links\\153.psd\n"
     ]
    },
    {
     "name": "stderr",
     "output_type": "stream",
     "text": [
      "d:\\program files\\python37\\lib\\site-packages\\skimage\\io\\_io.py:140: UserWarning: C:\\Users\\jjp\\Desktop\\out\\153.png is a low contrast image\n",
      "  warn('%s is a low contrast image' % fname)\n"
     ]
    },
    {
     "name": "stdout",
     "output_type": "stream",
     "text": [
      "C:\\Users\\jjp\\Desktop\\插画\\links\\153.psd is ok\n",
      "C:\\Users\\jjp\\Desktop\\插画\\links\\154.psd\n"
     ]
    },
    {
     "name": "stderr",
     "output_type": "stream",
     "text": [
      "d:\\program files\\python37\\lib\\site-packages\\skimage\\io\\_io.py:140: UserWarning: C:\\Users\\jjp\\Desktop\\out\\154.png is a low contrast image\n",
      "  warn('%s is a low contrast image' % fname)\n"
     ]
    },
    {
     "name": "stdout",
     "output_type": "stream",
     "text": [
      "C:\\Users\\jjp\\Desktop\\插画\\links\\154.psd is ok\n",
      "C:\\Users\\jjp\\Desktop\\插画\\links\\155.psd\n"
     ]
    },
    {
     "name": "stderr",
     "output_type": "stream",
     "text": [
      "d:\\program files\\python37\\lib\\site-packages\\skimage\\io\\_io.py:140: UserWarning: C:\\Users\\jjp\\Desktop\\out\\155.png is a low contrast image\n",
      "  warn('%s is a low contrast image' % fname)\n"
     ]
    },
    {
     "name": "stdout",
     "output_type": "stream",
     "text": [
      "C:\\Users\\jjp\\Desktop\\插画\\links\\155.psd is ok\n",
      "C:\\Users\\jjp\\Desktop\\插画\\links\\156.psd\n"
     ]
    },
    {
     "name": "stderr",
     "output_type": "stream",
     "text": [
      "d:\\program files\\python37\\lib\\site-packages\\skimage\\io\\_io.py:140: UserWarning: C:\\Users\\jjp\\Desktop\\out\\156.png is a low contrast image\n",
      "  warn('%s is a low contrast image' % fname)\n"
     ]
    },
    {
     "name": "stdout",
     "output_type": "stream",
     "text": [
      "C:\\Users\\jjp\\Desktop\\插画\\links\\156.psd is ok\n",
      "C:\\Users\\jjp\\Desktop\\插画\\links\\157.psd\n"
     ]
    },
    {
     "name": "stderr",
     "output_type": "stream",
     "text": [
      "d:\\program files\\python37\\lib\\site-packages\\skimage\\io\\_io.py:140: UserWarning: C:\\Users\\jjp\\Desktop\\out\\157.png is a low contrast image\n",
      "  warn('%s is a low contrast image' % fname)\n"
     ]
    },
    {
     "name": "stdout",
     "output_type": "stream",
     "text": [
      "C:\\Users\\jjp\\Desktop\\插画\\links\\157.psd is ok\n",
      "C:\\Users\\jjp\\Desktop\\插画\\links\\158.psd\n"
     ]
    },
    {
     "name": "stderr",
     "output_type": "stream",
     "text": [
      "d:\\program files\\python37\\lib\\site-packages\\skimage\\io\\_io.py:140: UserWarning: C:\\Users\\jjp\\Desktop\\out\\158.png is a low contrast image\n",
      "  warn('%s is a low contrast image' % fname)\n"
     ]
    },
    {
     "name": "stdout",
     "output_type": "stream",
     "text": [
      "C:\\Users\\jjp\\Desktop\\插画\\links\\158.psd is ok\n",
      "C:\\Users\\jjp\\Desktop\\插画\\links\\159.psd\n"
     ]
    },
    {
     "name": "stderr",
     "output_type": "stream",
     "text": [
      "d:\\program files\\python37\\lib\\site-packages\\skimage\\io\\_io.py:140: UserWarning: C:\\Users\\jjp\\Desktop\\out\\159.png is a low contrast image\n",
      "  warn('%s is a low contrast image' % fname)\n"
     ]
    },
    {
     "name": "stdout",
     "output_type": "stream",
     "text": [
      "C:\\Users\\jjp\\Desktop\\插画\\links\\159.psd is ok\n",
      "C:\\Users\\jjp\\Desktop\\插画\\links\\16.psd\n"
     ]
    },
    {
     "name": "stderr",
     "output_type": "stream",
     "text": [
      "d:\\program files\\python37\\lib\\site-packages\\skimage\\io\\_io.py:140: UserWarning: C:\\Users\\jjp\\Desktop\\out\\16.png is a low contrast image\n",
      "  warn('%s is a low contrast image' % fname)\n"
     ]
    },
    {
     "name": "stdout",
     "output_type": "stream",
     "text": [
      "C:\\Users\\jjp\\Desktop\\插画\\links\\16.psd is ok\n",
      "C:\\Users\\jjp\\Desktop\\插画\\links\\160.psd\n"
     ]
    },
    {
     "name": "stderr",
     "output_type": "stream",
     "text": [
      "d:\\program files\\python37\\lib\\site-packages\\skimage\\io\\_io.py:140: UserWarning: C:\\Users\\jjp\\Desktop\\out\\160.png is a low contrast image\n",
      "  warn('%s is a low contrast image' % fname)\n"
     ]
    },
    {
     "name": "stdout",
     "output_type": "stream",
     "text": [
      "C:\\Users\\jjp\\Desktop\\插画\\links\\160.psd is ok\n",
      "C:\\Users\\jjp\\Desktop\\test\\160.png not writed\n",
      "C:\\Users\\jjp\\Desktop\\插画\\links\\161.psd\n"
     ]
    },
    {
     "name": "stderr",
     "output_type": "stream",
     "text": [
      "d:\\program files\\python37\\lib\\site-packages\\skimage\\io\\_io.py:140: UserWarning: C:\\Users\\jjp\\Desktop\\out\\161.png is a low contrast image\n",
      "  warn('%s is a low contrast image' % fname)\n"
     ]
    },
    {
     "name": "stdout",
     "output_type": "stream",
     "text": [
      "C:\\Users\\jjp\\Desktop\\插画\\links\\161.psd is ok\n",
      "C:\\Users\\jjp\\Desktop\\插画\\links\\162.psd\n"
     ]
    },
    {
     "name": "stderr",
     "output_type": "stream",
     "text": [
      "d:\\program files\\python37\\lib\\site-packages\\skimage\\io\\_io.py:140: UserWarning: C:\\Users\\jjp\\Desktop\\out\\162.png is a low contrast image\n",
      "  warn('%s is a low contrast image' % fname)\n"
     ]
    },
    {
     "name": "stdout",
     "output_type": "stream",
     "text": [
      "C:\\Users\\jjp\\Desktop\\插画\\links\\162.psd is ok\n",
      "C:\\Users\\jjp\\Desktop\\插画\\links\\163.psd\n"
     ]
    },
    {
     "name": "stderr",
     "output_type": "stream",
     "text": [
      "d:\\program files\\python37\\lib\\site-packages\\skimage\\io\\_io.py:140: UserWarning: C:\\Users\\jjp\\Desktop\\out\\163.png is a low contrast image\n",
      "  warn('%s is a low contrast image' % fname)\n"
     ]
    },
    {
     "name": "stdout",
     "output_type": "stream",
     "text": [
      "C:\\Users\\jjp\\Desktop\\插画\\links\\163.psd is ok\n",
      "C:\\Users\\jjp\\Desktop\\插画\\links\\164.psd\n"
     ]
    },
    {
     "name": "stderr",
     "output_type": "stream",
     "text": [
      "d:\\program files\\python37\\lib\\site-packages\\skimage\\io\\_io.py:140: UserWarning: C:\\Users\\jjp\\Desktop\\out\\164.png is a low contrast image\n",
      "  warn('%s is a low contrast image' % fname)\n"
     ]
    },
    {
     "name": "stdout",
     "output_type": "stream",
     "text": [
      "C:\\Users\\jjp\\Desktop\\插画\\links\\164.psd is ok\n",
      "C:\\Users\\jjp\\Desktop\\插画\\links\\165.psd\n"
     ]
    },
    {
     "name": "stderr",
     "output_type": "stream",
     "text": [
      "d:\\program files\\python37\\lib\\site-packages\\skimage\\io\\_io.py:140: UserWarning: C:\\Users\\jjp\\Desktop\\out\\165.png is a low contrast image\n",
      "  warn('%s is a low contrast image' % fname)\n"
     ]
    },
    {
     "name": "stdout",
     "output_type": "stream",
     "text": [
      "C:\\Users\\jjp\\Desktop\\插画\\links\\165.psd is ok\n",
      "C:\\Users\\jjp\\Desktop\\插画\\links\\166.psd\n"
     ]
    },
    {
     "name": "stderr",
     "output_type": "stream",
     "text": [
      "d:\\program files\\python37\\lib\\site-packages\\skimage\\io\\_io.py:140: UserWarning: C:\\Users\\jjp\\Desktop\\out\\166.png is a low contrast image\n",
      "  warn('%s is a low contrast image' % fname)\n"
     ]
    },
    {
     "name": "stdout",
     "output_type": "stream",
     "text": [
      "C:\\Users\\jjp\\Desktop\\插画\\links\\166.psd is ok\n",
      "C:\\Users\\jjp\\Desktop\\插画\\links\\167.psd\n"
     ]
    },
    {
     "name": "stderr",
     "output_type": "stream",
     "text": [
      "d:\\program files\\python37\\lib\\site-packages\\skimage\\io\\_io.py:140: UserWarning: C:\\Users\\jjp\\Desktop\\out\\167.png is a low contrast image\n",
      "  warn('%s is a low contrast image' % fname)\n"
     ]
    },
    {
     "name": "stdout",
     "output_type": "stream",
     "text": [
      "C:\\Users\\jjp\\Desktop\\插画\\links\\167.psd is ok\n",
      "C:\\Users\\jjp\\Desktop\\插画\\links\\168.psd\n"
     ]
    },
    {
     "name": "stderr",
     "output_type": "stream",
     "text": [
      "d:\\program files\\python37\\lib\\site-packages\\skimage\\io\\_io.py:140: UserWarning: C:\\Users\\jjp\\Desktop\\out\\168.png is a low contrast image\n",
      "  warn('%s is a low contrast image' % fname)\n"
     ]
    },
    {
     "name": "stdout",
     "output_type": "stream",
     "text": [
      "C:\\Users\\jjp\\Desktop\\插画\\links\\168.psd is ok\n",
      "C:\\Users\\jjp\\Desktop\\插画\\links\\169.psd"
     ]
    },
    {
     "name": "stderr",
     "output_type": "stream",
     "text": [
      "d:\\program files\\python37\\lib\\site-packages\\skimage\\io\\_io.py:140: UserWarning: C:\\Users\\jjp\\Desktop\\out\\169.png is a low contrast image\n",
      "  warn('%s is a low contrast image' % fname)\n"
     ]
    },
    {
     "name": "stdout",
     "output_type": "stream",
     "text": [
      "\n",
      "C:\\Users\\jjp\\Desktop\\插画\\links\\169.psd is ok\n",
      "C:\\Users\\jjp\\Desktop\\插画\\links\\17.psd\n"
     ]
    },
    {
     "name": "stderr",
     "output_type": "stream",
     "text": [
      "d:\\program files\\python37\\lib\\site-packages\\skimage\\io\\_io.py:140: UserWarning: C:\\Users\\jjp\\Desktop\\out\\17.png is a low contrast image\n",
      "  warn('%s is a low contrast image' % fname)\n"
     ]
    },
    {
     "name": "stdout",
     "output_type": "stream",
     "text": [
      "C:\\Users\\jjp\\Desktop\\插画\\links\\17.psd is ok\n",
      "C:\\Users\\jjp\\Desktop\\插画\\links\\170.psd\n"
     ]
    },
    {
     "name": "stderr",
     "output_type": "stream",
     "text": [
      "d:\\program files\\python37\\lib\\site-packages\\skimage\\io\\_io.py:140: UserWarning: C:\\Users\\jjp\\Desktop\\out\\170.png is a low contrast image\n",
      "  warn('%s is a low contrast image' % fname)\n"
     ]
    },
    {
     "name": "stdout",
     "output_type": "stream",
     "text": [
      "C:\\Users\\jjp\\Desktop\\插画\\links\\170.psd is ok\n",
      "C:\\Users\\jjp\\Desktop\\插画\\links\\171.psd\n"
     ]
    },
    {
     "name": "stderr",
     "output_type": "stream",
     "text": [
      "d:\\program files\\python37\\lib\\site-packages\\skimage\\io\\_io.py:140: UserWarning: C:\\Users\\jjp\\Desktop\\out\\171.png is a low contrast image\n",
      "  warn('%s is a low contrast image' % fname)\n"
     ]
    },
    {
     "name": "stdout",
     "output_type": "stream",
     "text": [
      "C:\\Users\\jjp\\Desktop\\插画\\links\\171.psd is ok\n",
      "C:\\Users\\jjp\\Desktop\\插画\\links\\172.psd\n"
     ]
    },
    {
     "name": "stderr",
     "output_type": "stream",
     "text": [
      "d:\\program files\\python37\\lib\\site-packages\\skimage\\io\\_io.py:140: UserWarning: C:\\Users\\jjp\\Desktop\\out\\172.png is a low contrast image\n",
      "  warn('%s is a low contrast image' % fname)\n"
     ]
    },
    {
     "name": "stdout",
     "output_type": "stream",
     "text": [
      "C:\\Users\\jjp\\Desktop\\插画\\links\\172.psd is ok\n",
      "C:\\Users\\jjp\\Desktop\\插画\\links\\173.psd\n"
     ]
    },
    {
     "name": "stderr",
     "output_type": "stream",
     "text": [
      "d:\\program files\\python37\\lib\\site-packages\\skimage\\io\\_io.py:140: UserWarning: C:\\Users\\jjp\\Desktop\\out\\173.png is a low contrast image\n",
      "  warn('%s is a low contrast image' % fname)\n"
     ]
    },
    {
     "name": "stdout",
     "output_type": "stream",
     "text": [
      "C:\\Users\\jjp\\Desktop\\插画\\links\\173.psd is ok\n",
      "C:\\Users\\jjp\\Desktop\\插画\\links\\174.psd\n"
     ]
    },
    {
     "name": "stderr",
     "output_type": "stream",
     "text": [
      "d:\\program files\\python37\\lib\\site-packages\\skimage\\io\\_io.py:140: UserWarning: C:\\Users\\jjp\\Desktop\\out\\174.png is a low contrast image\n",
      "  warn('%s is a low contrast image' % fname)\n"
     ]
    },
    {
     "name": "stdout",
     "output_type": "stream",
     "text": [
      "C:\\Users\\jjp\\Desktop\\插画\\links\\174.psd is ok\n",
      "C:\\Users\\jjp\\Desktop\\插画\\links\\175.psd\n"
     ]
    },
    {
     "name": "stderr",
     "output_type": "stream",
     "text": [
      "d:\\program files\\python37\\lib\\site-packages\\skimage\\io\\_io.py:140: UserWarning: C:\\Users\\jjp\\Desktop\\out\\175.png is a low contrast image\n",
      "  warn('%s is a low contrast image' % fname)\n"
     ]
    },
    {
     "name": "stdout",
     "output_type": "stream",
     "text": [
      "C:\\Users\\jjp\\Desktop\\插画\\links\\175.psd is ok\n",
      "C:\\Users\\jjp\\Desktop\\插画\\links\\176.psd\n"
     ]
    },
    {
     "name": "stderr",
     "output_type": "stream",
     "text": [
      "d:\\program files\\python37\\lib\\site-packages\\skimage\\io\\_io.py:140: UserWarning: C:\\Users\\jjp\\Desktop\\out\\176.png is a low contrast image\n",
      "  warn('%s is a low contrast image' % fname)\n"
     ]
    },
    {
     "name": "stdout",
     "output_type": "stream",
     "text": [
      "C:\\Users\\jjp\\Desktop\\插画\\links\\176.psd is ok\n",
      "C:\\Users\\jjp\\Desktop\\插画\\links\\177.psd\n"
     ]
    },
    {
     "name": "stderr",
     "output_type": "stream",
     "text": [
      "d:\\program files\\python37\\lib\\site-packages\\skimage\\io\\_io.py:140: UserWarning: C:\\Users\\jjp\\Desktop\\out\\177.png is a low contrast image\n",
      "  warn('%s is a low contrast image' % fname)\n"
     ]
    },
    {
     "name": "stdout",
     "output_type": "stream",
     "text": [
      "C:\\Users\\jjp\\Desktop\\插画\\links\\177.psd is ok\n",
      "C:\\Users\\jjp\\Desktop\\插画\\links\\178.psd\n"
     ]
    },
    {
     "name": "stderr",
     "output_type": "stream",
     "text": [
      "d:\\program files\\python37\\lib\\site-packages\\skimage\\io\\_io.py:140: UserWarning: C:\\Users\\jjp\\Desktop\\out\\178.png is a low contrast image\n",
      "  warn('%s is a low contrast image' % fname)\n"
     ]
    },
    {
     "name": "stdout",
     "output_type": "stream",
     "text": [
      "C:\\Users\\jjp\\Desktop\\插画\\links\\178.psd is ok\n",
      "C:\\Users\\jjp\\Desktop\\插画\\links\\179.psd\n"
     ]
    },
    {
     "name": "stderr",
     "output_type": "stream",
     "text": [
      "d:\\program files\\python37\\lib\\site-packages\\skimage\\io\\_io.py:140: UserWarning: C:\\Users\\jjp\\Desktop\\out\\179.png is a low contrast image\n",
      "  warn('%s is a low contrast image' % fname)\n"
     ]
    },
    {
     "name": "stdout",
     "output_type": "stream",
     "text": [
      "C:\\Users\\jjp\\Desktop\\插画\\links\\179.psd is ok\n",
      "C:\\Users\\jjp\\Desktop\\插画\\links\\18.psd\n"
     ]
    },
    {
     "name": "stderr",
     "output_type": "stream",
     "text": [
      "d:\\program files\\python37\\lib\\site-packages\\skimage\\io\\_io.py:140: UserWarning: C:\\Users\\jjp\\Desktop\\out\\18.png is a low contrast image\n",
      "  warn('%s is a low contrast image' % fname)\n"
     ]
    },
    {
     "name": "stdout",
     "output_type": "stream",
     "text": [
      "C:\\Users\\jjp\\Desktop\\插画\\links\\18.psd is ok\n",
      "C:\\Users\\jjp\\Desktop\\插画\\links\\180.psd\n"
     ]
    },
    {
     "name": "stderr",
     "output_type": "stream",
     "text": [
      "d:\\program files\\python37\\lib\\site-packages\\skimage\\io\\_io.py:140: UserWarning: C:\\Users\\jjp\\Desktop\\out\\180.png is a low contrast image\n",
      "  warn('%s is a low contrast image' % fname)\n"
     ]
    },
    {
     "name": "stdout",
     "output_type": "stream",
     "text": [
      "C:\\Users\\jjp\\Desktop\\插画\\links\\180.psd is ok\n",
      "C:\\Users\\jjp\\Desktop\\插画\\links\\181.psd\n"
     ]
    },
    {
     "name": "stderr",
     "output_type": "stream",
     "text": [
      "d:\\program files\\python37\\lib\\site-packages\\skimage\\io\\_io.py:140: UserWarning: C:\\Users\\jjp\\Desktop\\out\\181.png is a low contrast image\n",
      "  warn('%s is a low contrast image' % fname)\n"
     ]
    },
    {
     "name": "stdout",
     "output_type": "stream",
     "text": [
      "C:\\Users\\jjp\\Desktop\\插画\\links\\181.psd is ok\n",
      "C:\\Users\\jjp\\Desktop\\插画\\links\\182.psd\n"
     ]
    },
    {
     "name": "stderr",
     "output_type": "stream",
     "text": [
      "d:\\program files\\python37\\lib\\site-packages\\skimage\\io\\_io.py:140: UserWarning: C:\\Users\\jjp\\Desktop\\out\\182.png is a low contrast image\n",
      "  warn('%s is a low contrast image' % fname)\n"
     ]
    },
    {
     "name": "stdout",
     "output_type": "stream",
     "text": [
      "C:\\Users\\jjp\\Desktop\\插画\\links\\182.psd is ok\n",
      "C:\\Users\\jjp\\Desktop\\插画\\links\\183.psd\n"
     ]
    },
    {
     "name": "stderr",
     "output_type": "stream",
     "text": [
      "d:\\program files\\python37\\lib\\site-packages\\skimage\\io\\_io.py:140: UserWarning: C:\\Users\\jjp\\Desktop\\out\\183.png is a low contrast image\n",
      "  warn('%s is a low contrast image' % fname)\n"
     ]
    },
    {
     "name": "stdout",
     "output_type": "stream",
     "text": [
      "C:\\Users\\jjp\\Desktop\\插画\\links\\183.psd is ok\n",
      "C:\\Users\\jjp\\Desktop\\插画\\links\\184.psd\n"
     ]
    },
    {
     "name": "stderr",
     "output_type": "stream",
     "text": [
      "d:\\program files\\python37\\lib\\site-packages\\skimage\\io\\_io.py:140: UserWarning: C:\\Users\\jjp\\Desktop\\out\\184.png is a low contrast image\n",
      "  warn('%s is a low contrast image' % fname)\n"
     ]
    },
    {
     "name": "stdout",
     "output_type": "stream",
     "text": [
      "C:\\Users\\jjp\\Desktop\\插画\\links\\184.psd is ok\n",
      "C:\\Users\\jjp\\Desktop\\插画\\links\\185.psd\n"
     ]
    },
    {
     "name": "stderr",
     "output_type": "stream",
     "text": [
      "d:\\program files\\python37\\lib\\site-packages\\skimage\\io\\_io.py:140: UserWarning: C:\\Users\\jjp\\Desktop\\out\\185.png is a low contrast image\n",
      "  warn('%s is a low contrast image' % fname)\n"
     ]
    },
    {
     "name": "stdout",
     "output_type": "stream",
     "text": [
      "C:\\Users\\jjp\\Desktop\\插画\\links\\185.psd is ok\n",
      "C:\\Users\\jjp\\Desktop\\插画\\links\\186.psd\n"
     ]
    },
    {
     "name": "stderr",
     "output_type": "stream",
     "text": [
      "d:\\program files\\python37\\lib\\site-packages\\skimage\\io\\_io.py:140: UserWarning: C:\\Users\\jjp\\Desktop\\out\\186.png is a low contrast image\n",
      "  warn('%s is a low contrast image' % fname)\n"
     ]
    },
    {
     "name": "stdout",
     "output_type": "stream",
     "text": [
      "C:\\Users\\jjp\\Desktop\\插画\\links\\186.psd is ok\n",
      "C:\\Users\\jjp\\Desktop\\插画\\links\\187.psd\n"
     ]
    },
    {
     "name": "stderr",
     "output_type": "stream",
     "text": [
      "d:\\program files\\python37\\lib\\site-packages\\skimage\\io\\_io.py:140: UserWarning: C:\\Users\\jjp\\Desktop\\out\\187.png is a low contrast image\n",
      "  warn('%s is a low contrast image' % fname)\n"
     ]
    },
    {
     "name": "stdout",
     "output_type": "stream",
     "text": [
      "C:\\Users\\jjp\\Desktop\\插画\\links\\187.psd is ok\n"
     ]
    },
    {
     "name": "stderr",
     "output_type": "stream",
     "text": [
      "d:\\program files\\python37\\lib\\site-packages\\skimage\\io\\_io.py:140: UserWarning: C:\\Users\\jjp\\Desktop\\out\\188.png is a low contrast image\n",
      "  warn('%s is a low contrast image' % fname)\n"
     ]
    },
    {
     "name": "stdout",
     "output_type": "stream",
     "text": [
      "C:\\Users\\jjp\\Desktop\\插画\\links\\188.psd\n",
      "C:\\Users\\jjp\\Desktop\\插画\\links\\188.psd is ok\n",
      "C:\\Users\\jjp\\Desktop\\插画\\links\\189.psd\n"
     ]
    },
    {
     "name": "stderr",
     "output_type": "stream",
     "text": [
      "d:\\program files\\python37\\lib\\site-packages\\skimage\\io\\_io.py:140: UserWarning: C:\\Users\\jjp\\Desktop\\out\\189.png is a low contrast image\n",
      "  warn('%s is a low contrast image' % fname)\n"
     ]
    },
    {
     "name": "stdout",
     "output_type": "stream",
     "text": [
      "C:\\Users\\jjp\\Desktop\\插画\\links\\189.psd is ok\n",
      "C:\\Users\\jjp\\Desktop\\插画\\links\\19.psd\n"
     ]
    },
    {
     "name": "stderr",
     "output_type": "stream",
     "text": [
      "d:\\program files\\python37\\lib\\site-packages\\skimage\\io\\_io.py:140: UserWarning: C:\\Users\\jjp\\Desktop\\out\\19.png is a low contrast image\n",
      "  warn('%s is a low contrast image' % fname)\n"
     ]
    },
    {
     "name": "stdout",
     "output_type": "stream",
     "text": [
      "C:\\Users\\jjp\\Desktop\\插画\\links\\19.psd is ok\n",
      "C:\\Users\\jjp\\Desktop\\插画\\links\\190.psd\n"
     ]
    },
    {
     "name": "stderr",
     "output_type": "stream",
     "text": [
      "d:\\program files\\python37\\lib\\site-packages\\skimage\\io\\_io.py:140: UserWarning: C:\\Users\\jjp\\Desktop\\out\\190.png is a low contrast image\n",
      "  warn('%s is a low contrast image' % fname)\n"
     ]
    },
    {
     "name": "stdout",
     "output_type": "stream",
     "text": [
      "C:\\Users\\jjp\\Desktop\\插画\\links\\190.psd is ok\n",
      "C:\\Users\\jjp\\Desktop\\插画\\links\\191.psd\n"
     ]
    },
    {
     "name": "stderr",
     "output_type": "stream",
     "text": [
      "d:\\program files\\python37\\lib\\site-packages\\skimage\\io\\_io.py:140: UserWarning: C:\\Users\\jjp\\Desktop\\out\\191.png is a low contrast image\n",
      "  warn('%s is a low contrast image' % fname)\n"
     ]
    },
    {
     "name": "stdout",
     "output_type": "stream",
     "text": [
      "C:\\Users\\jjp\\Desktop\\插画\\links\\191.psd is ok\n",
      "C:\\Users\\jjp\\Desktop\\插画\\links\\192.psd\n"
     ]
    },
    {
     "name": "stderr",
     "output_type": "stream",
     "text": [
      "d:\\program files\\python37\\lib\\site-packages\\skimage\\io\\_io.py:140: UserWarning: C:\\Users\\jjp\\Desktop\\out\\192.png is a low contrast image\n",
      "  warn('%s is a low contrast image' % fname)\n"
     ]
    },
    {
     "name": "stdout",
     "output_type": "stream",
     "text": [
      "C:\\Users\\jjp\\Desktop\\插画\\links\\192.psd is ok\n"
     ]
    },
    {
     "name": "stderr",
     "output_type": "stream",
     "text": [
      "d:\\program files\\python37\\lib\\site-packages\\skimage\\io\\_io.py:140: UserWarning: C:\\Users\\jjp\\Desktop\\out\\193.png is a low contrast image\n",
      "  warn('%s is a low contrast image' % fname)\n"
     ]
    },
    {
     "name": "stdout",
     "output_type": "stream",
     "text": [
      "C:\\Users\\jjp\\Desktop\\插画\\links\\193.psd\n",
      "C:\\Users\\jjp\\Desktop\\插画\\links\\193.psd is ok\n",
      "C:\\Users\\jjp\\Desktop\\插画\\links\\194.psd\n"
     ]
    },
    {
     "name": "stderr",
     "output_type": "stream",
     "text": [
      "d:\\program files\\python37\\lib\\site-packages\\skimage\\io\\_io.py:140: UserWarning: C:\\Users\\jjp\\Desktop\\out\\194.png is a low contrast image\n",
      "  warn('%s is a low contrast image' % fname)\n"
     ]
    },
    {
     "name": "stdout",
     "output_type": "stream",
     "text": [
      "C:\\Users\\jjp\\Desktop\\插画\\links\\194.psd is ok\n",
      "C:\\Users\\jjp\\Desktop\\插画\\links\\195.psd\n"
     ]
    },
    {
     "name": "stderr",
     "output_type": "stream",
     "text": [
      "d:\\program files\\python37\\lib\\site-packages\\skimage\\io\\_io.py:140: UserWarning: C:\\Users\\jjp\\Desktop\\out\\195.png is a low contrast image\n",
      "  warn('%s is a low contrast image' % fname)\n"
     ]
    },
    {
     "name": "stdout",
     "output_type": "stream",
     "text": [
      "C:\\Users\\jjp\\Desktop\\插画\\links\\195.psd is ok\n"
     ]
    },
    {
     "name": "stderr",
     "output_type": "stream",
     "text": [
      "d:\\program files\\python37\\lib\\site-packages\\skimage\\io\\_io.py:140: UserWarning: C:\\Users\\jjp\\Desktop\\out\\196.png is a low contrast image\n",
      "  warn('%s is a low contrast image' % fname)\n"
     ]
    },
    {
     "name": "stdout",
     "output_type": "stream",
     "text": [
      "C:\\Users\\jjp\\Desktop\\插画\\links\\196.psd\n",
      "C:\\Users\\jjp\\Desktop\\插画\\links\\196.psd is ok\n",
      "C:\\Users\\jjp\\Desktop\\插画\\links\\197.psd\n"
     ]
    },
    {
     "name": "stderr",
     "output_type": "stream",
     "text": [
      "d:\\program files\\python37\\lib\\site-packages\\skimage\\io\\_io.py:140: UserWarning: C:\\Users\\jjp\\Desktop\\out\\197.png is a low contrast image\n",
      "  warn('%s is a low contrast image' % fname)\n"
     ]
    },
    {
     "name": "stdout",
     "output_type": "stream",
     "text": [
      "C:\\Users\\jjp\\Desktop\\插画\\links\\197.psd is ok\n",
      "C:\\Users\\jjp\\Desktop\\插画\\links\\198.psd\n"
     ]
    },
    {
     "name": "stderr",
     "output_type": "stream",
     "text": [
      "d:\\program files\\python37\\lib\\site-packages\\skimage\\io\\_io.py:140: UserWarning: C:\\Users\\jjp\\Desktop\\out\\198.png is a low contrast image\n",
      "  warn('%s is a low contrast image' % fname)\n"
     ]
    },
    {
     "name": "stdout",
     "output_type": "stream",
     "text": [
      "C:\\Users\\jjp\\Desktop\\插画\\links\\198.psd is ok\n",
      "C:\\Users\\jjp\\Desktop\\插画\\links\\199.psd\n"
     ]
    },
    {
     "name": "stderr",
     "output_type": "stream",
     "text": [
      "d:\\program files\\python37\\lib\\site-packages\\skimage\\io\\_io.py:140: UserWarning: C:\\Users\\jjp\\Desktop\\out\\199.png is a low contrast image\n",
      "  warn('%s is a low contrast image' % fname)\n"
     ]
    },
    {
     "name": "stdout",
     "output_type": "stream",
     "text": [
      "C:\\Users\\jjp\\Desktop\\插画\\links\\199.psd is ok\n",
      "C:\\Users\\jjp\\Desktop\\插画\\links\\2.psd\n"
     ]
    },
    {
     "name": "stderr",
     "output_type": "stream",
     "text": [
      "d:\\program files\\python37\\lib\\site-packages\\skimage\\io\\_io.py:140: UserWarning: C:\\Users\\jjp\\Desktop\\out\\2.png is a low contrast image\n",
      "  warn('%s is a low contrast image' % fname)\n"
     ]
    },
    {
     "name": "stdout",
     "output_type": "stream",
     "text": [
      "C:\\Users\\jjp\\Desktop\\插画\\links\\2.psd is ok\n",
      "C:\\Users\\jjp\\Desktop\\插画\\links\\20.psd\n"
     ]
    },
    {
     "name": "stderr",
     "output_type": "stream",
     "text": [
      "d:\\program files\\python37\\lib\\site-packages\\skimage\\io\\_io.py:140: UserWarning: C:\\Users\\jjp\\Desktop\\out\\20.png is a low contrast image\n",
      "  warn('%s is a low contrast image' % fname)\n"
     ]
    },
    {
     "name": "stdout",
     "output_type": "stream",
     "text": [
      "C:\\Users\\jjp\\Desktop\\插画\\links\\20.psd is ok\n",
      "C:\\Users\\jjp\\Desktop\\插画\\links\\200.psd\n"
     ]
    },
    {
     "name": "stderr",
     "output_type": "stream",
     "text": [
      "d:\\program files\\python37\\lib\\site-packages\\skimage\\io\\_io.py:140: UserWarning: C:\\Users\\jjp\\Desktop\\out\\200.png is a low contrast image\n",
      "  warn('%s is a low contrast image' % fname)\n"
     ]
    },
    {
     "name": "stdout",
     "output_type": "stream",
     "text": [
      "C:\\Users\\jjp\\Desktop\\插画\\links\\200.psd is ok\n",
      "C:\\Users\\jjp\\Desktop\\插画\\links\\201.psd\n"
     ]
    },
    {
     "name": "stderr",
     "output_type": "stream",
     "text": [
      "d:\\program files\\python37\\lib\\site-packages\\skimage\\io\\_io.py:140: UserWarning: C:\\Users\\jjp\\Desktop\\out\\201.png is a low contrast image\n",
      "  warn('%s is a low contrast image' % fname)\n"
     ]
    },
    {
     "name": "stdout",
     "output_type": "stream",
     "text": [
      "C:\\Users\\jjp\\Desktop\\插画\\links\\201.psd is ok\n",
      "C:\\Users\\jjp\\Desktop\\插画\\links\\202.psd\n"
     ]
    },
    {
     "name": "stderr",
     "output_type": "stream",
     "text": [
      "d:\\program files\\python37\\lib\\site-packages\\skimage\\io\\_io.py:140: UserWarning: C:\\Users\\jjp\\Desktop\\out\\202.png is a low contrast image\n",
      "  warn('%s is a low contrast image' % fname)\n"
     ]
    },
    {
     "name": "stdout",
     "output_type": "stream",
     "text": [
      "C:\\Users\\jjp\\Desktop\\插画\\links\\202.psd is ok\n",
      "C:\\Users\\jjp\\Desktop\\插画\\links\\203.psd\n"
     ]
    },
    {
     "name": "stderr",
     "output_type": "stream",
     "text": [
      "d:\\program files\\python37\\lib\\site-packages\\skimage\\io\\_io.py:140: UserWarning: C:\\Users\\jjp\\Desktop\\out\\203.png is a low contrast image\n",
      "  warn('%s is a low contrast image' % fname)\n"
     ]
    },
    {
     "name": "stdout",
     "output_type": "stream",
     "text": [
      "C:\\Users\\jjp\\Desktop\\插画\\links\\203.psd is ok\n",
      "C:\\Users\\jjp\\Desktop\\插画\\links\\204.psd\n"
     ]
    },
    {
     "name": "stderr",
     "output_type": "stream",
     "text": [
      "d:\\program files\\python37\\lib\\site-packages\\skimage\\io\\_io.py:140: UserWarning: C:\\Users\\jjp\\Desktop\\out\\204.png is a low contrast image\n",
      "  warn('%s is a low contrast image' % fname)\n"
     ]
    },
    {
     "name": "stdout",
     "output_type": "stream",
     "text": [
      "C:\\Users\\jjp\\Desktop\\插画\\links\\204.psd is ok\n",
      "C:\\Users\\jjp\\Desktop\\插画\\links\\205.psd\n"
     ]
    },
    {
     "name": "stderr",
     "output_type": "stream",
     "text": [
      "d:\\program files\\python37\\lib\\site-packages\\skimage\\io\\_io.py:140: UserWarning: C:\\Users\\jjp\\Desktop\\out\\205.png is a low contrast image\n",
      "  warn('%s is a low contrast image' % fname)\n"
     ]
    },
    {
     "name": "stdout",
     "output_type": "stream",
     "text": [
      "C:\\Users\\jjp\\Desktop\\插画\\links\\205.psd is ok\n",
      "C:\\Users\\jjp\\Desktop\\插画\\links\\206.psd\n"
     ]
    },
    {
     "name": "stderr",
     "output_type": "stream",
     "text": [
      "d:\\program files\\python37\\lib\\site-packages\\skimage\\io\\_io.py:140: UserWarning: C:\\Users\\jjp\\Desktop\\out\\206.png is a low contrast image\n",
      "  warn('%s is a low contrast image' % fname)\n"
     ]
    },
    {
     "name": "stdout",
     "output_type": "stream",
     "text": [
      "C:\\Users\\jjp\\Desktop\\插画\\links\\206.psd is ok\n",
      "C:\\Users\\jjp\\Desktop\\插画\\links\\207.psd\n"
     ]
    },
    {
     "name": "stderr",
     "output_type": "stream",
     "text": [
      "d:\\program files\\python37\\lib\\site-packages\\skimage\\io\\_io.py:140: UserWarning: C:\\Users\\jjp\\Desktop\\out\\207.png is a low contrast image\n",
      "  warn('%s is a low contrast image' % fname)\n"
     ]
    },
    {
     "name": "stdout",
     "output_type": "stream",
     "text": [
      "C:\\Users\\jjp\\Desktop\\插画\\links\\207.psd is ok\n",
      "C:\\Users\\jjp\\Desktop\\插画\\links\\208.psd\n"
     ]
    },
    {
     "name": "stderr",
     "output_type": "stream",
     "text": [
      "d:\\program files\\python37\\lib\\site-packages\\skimage\\io\\_io.py:140: UserWarning: C:\\Users\\jjp\\Desktop\\out\\208.png is a low contrast image\n",
      "  warn('%s is a low contrast image' % fname)\n"
     ]
    },
    {
     "name": "stdout",
     "output_type": "stream",
     "text": [
      "C:\\Users\\jjp\\Desktop\\插画\\links\\208.psd is ok\n",
      "C:\\Users\\jjp\\Desktop\\插画\\links\\209.psd\n"
     ]
    },
    {
     "name": "stderr",
     "output_type": "stream",
     "text": [
      "d:\\program files\\python37\\lib\\site-packages\\skimage\\io\\_io.py:140: UserWarning: C:\\Users\\jjp\\Desktop\\out\\209.png is a low contrast image\n",
      "  warn('%s is a low contrast image' % fname)\n"
     ]
    },
    {
     "name": "stdout",
     "output_type": "stream",
     "text": [
      "C:\\Users\\jjp\\Desktop\\插画\\links\\209.psd is ok\n",
      "C:\\Users\\jjp\\Desktop\\插画\\links\\21.psd\n"
     ]
    },
    {
     "name": "stderr",
     "output_type": "stream",
     "text": [
      "d:\\program files\\python37\\lib\\site-packages\\skimage\\io\\_io.py:140: UserWarning: C:\\Users\\jjp\\Desktop\\out\\21.png is a low contrast image\n",
      "  warn('%s is a low contrast image' % fname)\n"
     ]
    },
    {
     "name": "stdout",
     "output_type": "stream",
     "text": [
      "C:\\Users\\jjp\\Desktop\\插画\\links\\21.psd is ok\n",
      "C:\\Users\\jjp\\Desktop\\插画\\links\\210.psd\n"
     ]
    },
    {
     "name": "stderr",
     "output_type": "stream",
     "text": [
      "d:\\program files\\python37\\lib\\site-packages\\skimage\\io\\_io.py:140: UserWarning: C:\\Users\\jjp\\Desktop\\out\\210.png is a low contrast image\n",
      "  warn('%s is a low contrast image' % fname)\n"
     ]
    },
    {
     "name": "stdout",
     "output_type": "stream",
     "text": [
      "C:\\Users\\jjp\\Desktop\\插画\\links\\210.psd is ok\n"
     ]
    },
    {
     "name": "stderr",
     "output_type": "stream",
     "text": [
      "d:\\program files\\python37\\lib\\site-packages\\skimage\\io\\_io.py:140: UserWarning: C:\\Users\\jjp\\Desktop\\out\\211.png is a low contrast image\n",
      "  warn('%s is a low contrast image' % fname)\n"
     ]
    },
    {
     "name": "stdout",
     "output_type": "stream",
     "text": [
      "C:\\Users\\jjp\\Desktop\\插画\\links\\211.psd\n",
      "C:\\Users\\jjp\\Desktop\\插画\\links\\211.psd is ok\n",
      "C:\\Users\\jjp\\Desktop\\插画\\links\\212.psd\n"
     ]
    },
    {
     "name": "stderr",
     "output_type": "stream",
     "text": [
      "d:\\program files\\python37\\lib\\site-packages\\skimage\\io\\_io.py:140: UserWarning: C:\\Users\\jjp\\Desktop\\out\\212.png is a low contrast image\n",
      "  warn('%s is a low contrast image' % fname)\n"
     ]
    },
    {
     "name": "stdout",
     "output_type": "stream",
     "text": [
      "C:\\Users\\jjp\\Desktop\\插画\\links\\212.psd is ok\n",
      "C:\\Users\\jjp\\Desktop\\插画\\links\\213.psd\n"
     ]
    },
    {
     "name": "stderr",
     "output_type": "stream",
     "text": [
      "d:\\program files\\python37\\lib\\site-packages\\skimage\\io\\_io.py:140: UserWarning: C:\\Users\\jjp\\Desktop\\out\\213.png is a low contrast image\n",
      "  warn('%s is a low contrast image' % fname)\n"
     ]
    },
    {
     "name": "stdout",
     "output_type": "stream",
     "text": [
      "C:\\Users\\jjp\\Desktop\\插画\\links\\213.psd is ok\n",
      "C:\\Users\\jjp\\Desktop\\插画\\links\\214.psd\n"
     ]
    },
    {
     "name": "stderr",
     "output_type": "stream",
     "text": [
      "d:\\program files\\python37\\lib\\site-packages\\skimage\\io\\_io.py:140: UserWarning: C:\\Users\\jjp\\Desktop\\out\\214.png is a low contrast image\n",
      "  warn('%s is a low contrast image' % fname)\n"
     ]
    },
    {
     "name": "stdout",
     "output_type": "stream",
     "text": [
      "C:\\Users\\jjp\\Desktop\\插画\\links\\214.psd is ok\n",
      "C:\\Users\\jjp\\Desktop\\插画\\links\\215.psd\n"
     ]
    },
    {
     "name": "stderr",
     "output_type": "stream",
     "text": [
      "d:\\program files\\python37\\lib\\site-packages\\skimage\\io\\_io.py:140: UserWarning: C:\\Users\\jjp\\Desktop\\out\\215.png is a low contrast image\n",
      "  warn('%s is a low contrast image' % fname)\n"
     ]
    },
    {
     "name": "stdout",
     "output_type": "stream",
     "text": [
      "C:\\Users\\jjp\\Desktop\\插画\\links\\215.psd is ok\n",
      "C:\\Users\\jjp\\Desktop\\插画\\links\\216.psd\n"
     ]
    },
    {
     "name": "stderr",
     "output_type": "stream",
     "text": [
      "d:\\program files\\python37\\lib\\site-packages\\skimage\\io\\_io.py:140: UserWarning: C:\\Users\\jjp\\Desktop\\out\\216.png is a low contrast image\n",
      "  warn('%s is a low contrast image' % fname)\n"
     ]
    },
    {
     "name": "stdout",
     "output_type": "stream",
     "text": [
      "C:\\Users\\jjp\\Desktop\\插画\\links\\216.psd is ok\n",
      "C:\\Users\\jjp\\Desktop\\插画\\links\\217.psd\n"
     ]
    },
    {
     "name": "stderr",
     "output_type": "stream",
     "text": [
      "d:\\program files\\python37\\lib\\site-packages\\skimage\\io\\_io.py:140: UserWarning: C:\\Users\\jjp\\Desktop\\out\\217.png is a low contrast image\n",
      "  warn('%s is a low contrast image' % fname)\n"
     ]
    },
    {
     "name": "stdout",
     "output_type": "stream",
     "text": [
      "C:\\Users\\jjp\\Desktop\\插画\\links\\217.psd is ok\n",
      "C:\\Users\\jjp\\Desktop\\插画\\links\\218.psd\n"
     ]
    },
    {
     "name": "stderr",
     "output_type": "stream",
     "text": [
      "d:\\program files\\python37\\lib\\site-packages\\skimage\\io\\_io.py:140: UserWarning: C:\\Users\\jjp\\Desktop\\out\\218.png is a low contrast image\n",
      "  warn('%s is a low contrast image' % fname)\n"
     ]
    },
    {
     "name": "stdout",
     "output_type": "stream",
     "text": [
      "C:\\Users\\jjp\\Desktop\\插画\\links\\218.psd is ok\n",
      "C:\\Users\\jjp\\Desktop\\插画\\links\\219.psd\n"
     ]
    },
    {
     "name": "stderr",
     "output_type": "stream",
     "text": [
      "d:\\program files\\python37\\lib\\site-packages\\skimage\\io\\_io.py:140: UserWarning: C:\\Users\\jjp\\Desktop\\out\\219.png is a low contrast image\n",
      "  warn('%s is a low contrast image' % fname)\n"
     ]
    },
    {
     "name": "stdout",
     "output_type": "stream",
     "text": [
      "C:\\Users\\jjp\\Desktop\\插画\\links\\219.psd is ok\n",
      "C:\\Users\\jjp\\Desktop\\插画\\links\\22.psd\n"
     ]
    },
    {
     "name": "stderr",
     "output_type": "stream",
     "text": [
      "d:\\program files\\python37\\lib\\site-packages\\skimage\\io\\_io.py:140: UserWarning: C:\\Users\\jjp\\Desktop\\out\\22.png is a low contrast image\n",
      "  warn('%s is a low contrast image' % fname)\n"
     ]
    },
    {
     "name": "stdout",
     "output_type": "stream",
     "text": [
      "C:\\Users\\jjp\\Desktop\\插画\\links\\22.psd is ok\n",
      "C:\\Users\\jjp\\Desktop\\插画\\links\\220.psd"
     ]
    },
    {
     "name": "stderr",
     "output_type": "stream",
     "text": [
      "d:\\program files\\python37\\lib\\site-packages\\skimage\\io\\_io.py:140: UserWarning: C:\\Users\\jjp\\Desktop\\out\\220.png is a low contrast image\n",
      "  warn('%s is a low contrast image' % fname)\n"
     ]
    },
    {
     "name": "stdout",
     "output_type": "stream",
     "text": [
      "\n",
      "C:\\Users\\jjp\\Desktop\\插画\\links\\220.psd is ok\n",
      "C:\\Users\\jjp\\Desktop\\插画\\links\\221.psd\n"
     ]
    },
    {
     "name": "stderr",
     "output_type": "stream",
     "text": [
      "d:\\program files\\python37\\lib\\site-packages\\skimage\\io\\_io.py:140: UserWarning: C:\\Users\\jjp\\Desktop\\out\\221.png is a low contrast image\n",
      "  warn('%s is a low contrast image' % fname)\n"
     ]
    },
    {
     "name": "stdout",
     "output_type": "stream",
     "text": [
      "C:\\Users\\jjp\\Desktop\\插画\\links\\221.psd is ok\n",
      "C:\\Users\\jjp\\Desktop\\插画\\links\\222.psd\n"
     ]
    },
    {
     "name": "stderr",
     "output_type": "stream",
     "text": [
      "d:\\program files\\python37\\lib\\site-packages\\skimage\\io\\_io.py:140: UserWarning: C:\\Users\\jjp\\Desktop\\out\\222.png is a low contrast image\n",
      "  warn('%s is a low contrast image' % fname)\n"
     ]
    },
    {
     "name": "stdout",
     "output_type": "stream",
     "text": [
      "C:\\Users\\jjp\\Desktop\\插画\\links\\222.psd is ok\n",
      "C:\\Users\\jjp\\Desktop\\插画\\links\\223.psd\n"
     ]
    },
    {
     "name": "stderr",
     "output_type": "stream",
     "text": [
      "d:\\program files\\python37\\lib\\site-packages\\skimage\\io\\_io.py:140: UserWarning: C:\\Users\\jjp\\Desktop\\out\\223.png is a low contrast image\n",
      "  warn('%s is a low contrast image' % fname)\n"
     ]
    },
    {
     "name": "stdout",
     "output_type": "stream",
     "text": [
      "C:\\Users\\jjp\\Desktop\\插画\\links\\223.psd is ok\n",
      "C:\\Users\\jjp\\Desktop\\插画\\links\\224.psd\n"
     ]
    },
    {
     "name": "stderr",
     "output_type": "stream",
     "text": [
      "d:\\program files\\python37\\lib\\site-packages\\skimage\\io\\_io.py:140: UserWarning: C:\\Users\\jjp\\Desktop\\out\\224.png is a low contrast image\n",
      "  warn('%s is a low contrast image' % fname)\n"
     ]
    },
    {
     "name": "stdout",
     "output_type": "stream",
     "text": [
      "C:\\Users\\jjp\\Desktop\\插画\\links\\224.psd is ok\n",
      "C:\\Users\\jjp\\Desktop\\插画\\links\\225.psd\n"
     ]
    },
    {
     "name": "stderr",
     "output_type": "stream",
     "text": [
      "d:\\program files\\python37\\lib\\site-packages\\skimage\\io\\_io.py:140: UserWarning: C:\\Users\\jjp\\Desktop\\out\\225.png is a low contrast image\n",
      "  warn('%s is a low contrast image' % fname)\n"
     ]
    },
    {
     "name": "stdout",
     "output_type": "stream",
     "text": [
      "C:\\Users\\jjp\\Desktop\\插画\\links\\225.psd is ok\n",
      "C:\\Users\\jjp\\Desktop\\插画\\links\\226.psd\n"
     ]
    },
    {
     "name": "stderr",
     "output_type": "stream",
     "text": [
      "d:\\program files\\python37\\lib\\site-packages\\skimage\\io\\_io.py:140: UserWarning: C:\\Users\\jjp\\Desktop\\out\\226.png is a low contrast image\n",
      "  warn('%s is a low contrast image' % fname)\n"
     ]
    },
    {
     "name": "stdout",
     "output_type": "stream",
     "text": [
      "C:\\Users\\jjp\\Desktop\\插画\\links\\226.psd is ok\n",
      "C:\\Users\\jjp\\Desktop\\插画\\links\\227.psd\n"
     ]
    },
    {
     "name": "stderr",
     "output_type": "stream",
     "text": [
      "d:\\program files\\python37\\lib\\site-packages\\skimage\\io\\_io.py:140: UserWarning: C:\\Users\\jjp\\Desktop\\out\\227.png is a low contrast image\n",
      "  warn('%s is a low contrast image' % fname)\n"
     ]
    },
    {
     "name": "stdout",
     "output_type": "stream",
     "text": [
      "C:\\Users\\jjp\\Desktop\\插画\\links\\227.psd is ok\n",
      "C:\\Users\\jjp\\Desktop\\插画\\links\\228.psd\n"
     ]
    },
    {
     "name": "stderr",
     "output_type": "stream",
     "text": [
      "d:\\program files\\python37\\lib\\site-packages\\skimage\\io\\_io.py:140: UserWarning: C:\\Users\\jjp\\Desktop\\out\\228.png is a low contrast image\n",
      "  warn('%s is a low contrast image' % fname)\n"
     ]
    },
    {
     "name": "stdout",
     "output_type": "stream",
     "text": [
      "C:\\Users\\jjp\\Desktop\\插画\\links\\228.psd is ok\n",
      "C:\\Users\\jjp\\Desktop\\插画\\links\\229.psd\n"
     ]
    },
    {
     "name": "stderr",
     "output_type": "stream",
     "text": [
      "d:\\program files\\python37\\lib\\site-packages\\skimage\\io\\_io.py:140: UserWarning: C:\\Users\\jjp\\Desktop\\out\\229.png is a low contrast image\n",
      "  warn('%s is a low contrast image' % fname)\n"
     ]
    },
    {
     "name": "stdout",
     "output_type": "stream",
     "text": [
      "C:\\Users\\jjp\\Desktop\\插画\\links\\229.psd is ok\n",
      "C:\\Users\\jjp\\Desktop\\插画\\links\\23.psd\n"
     ]
    },
    {
     "name": "stderr",
     "output_type": "stream",
     "text": [
      "d:\\program files\\python37\\lib\\site-packages\\skimage\\io\\_io.py:140: UserWarning: C:\\Users\\jjp\\Desktop\\out\\23.png is a low contrast image\n",
      "  warn('%s is a low contrast image' % fname)\n"
     ]
    },
    {
     "name": "stdout",
     "output_type": "stream",
     "text": [
      "C:\\Users\\jjp\\Desktop\\插画\\links\\23.psd is ok\n",
      "C:\\Users\\jjp\\Desktop\\插画\\links\\230.psd\n"
     ]
    },
    {
     "name": "stderr",
     "output_type": "stream",
     "text": [
      "d:\\program files\\python37\\lib\\site-packages\\skimage\\io\\_io.py:140: UserWarning: C:\\Users\\jjp\\Desktop\\out\\230.png is a low contrast image\n",
      "  warn('%s is a low contrast image' % fname)\n"
     ]
    },
    {
     "name": "stdout",
     "output_type": "stream",
     "text": [
      "C:\\Users\\jjp\\Desktop\\插画\\links\\230.psd is ok\n",
      "C:\\Users\\jjp\\Desktop\\插画\\links\\231.psd\n"
     ]
    },
    {
     "name": "stderr",
     "output_type": "stream",
     "text": [
      "d:\\program files\\python37\\lib\\site-packages\\skimage\\io\\_io.py:140: UserWarning: C:\\Users\\jjp\\Desktop\\out\\231.png is a low contrast image\n",
      "  warn('%s is a low contrast image' % fname)\n"
     ]
    },
    {
     "name": "stdout",
     "output_type": "stream",
     "text": [
      "C:\\Users\\jjp\\Desktop\\插画\\links\\231.psd is ok\n",
      "C:\\Users\\jjp\\Desktop\\插画\\links\\232.psd\n"
     ]
    },
    {
     "name": "stderr",
     "output_type": "stream",
     "text": [
      "d:\\program files\\python37\\lib\\site-packages\\skimage\\io\\_io.py:140: UserWarning: C:\\Users\\jjp\\Desktop\\out\\232.png is a low contrast image\n",
      "  warn('%s is a low contrast image' % fname)\n"
     ]
    },
    {
     "name": "stdout",
     "output_type": "stream",
     "text": [
      "C:\\Users\\jjp\\Desktop\\插画\\links\\232.psd is ok\n",
      "C:\\Users\\jjp\\Desktop\\插画\\links\\233.psd\n"
     ]
    },
    {
     "name": "stderr",
     "output_type": "stream",
     "text": [
      "d:\\program files\\python37\\lib\\site-packages\\skimage\\io\\_io.py:140: UserWarning: C:\\Users\\jjp\\Desktop\\out\\233.png is a low contrast image\n",
      "  warn('%s is a low contrast image' % fname)\n"
     ]
    },
    {
     "name": "stdout",
     "output_type": "stream",
     "text": [
      "C:\\Users\\jjp\\Desktop\\插画\\links\\233.psd is ok\n",
      "C:\\Users\\jjp\\Desktop\\插画\\links\\234.psd\n"
     ]
    },
    {
     "name": "stderr",
     "output_type": "stream",
     "text": [
      "d:\\program files\\python37\\lib\\site-packages\\skimage\\io\\_io.py:140: UserWarning: C:\\Users\\jjp\\Desktop\\out\\234.png is a low contrast image\n",
      "  warn('%s is a low contrast image' % fname)\n"
     ]
    },
    {
     "name": "stdout",
     "output_type": "stream",
     "text": [
      "C:\\Users\\jjp\\Desktop\\插画\\links\\234.psd is ok\n",
      "C:\\Users\\jjp\\Desktop\\插画\\links\\235.psd\n"
     ]
    },
    {
     "name": "stderr",
     "output_type": "stream",
     "text": [
      "d:\\program files\\python37\\lib\\site-packages\\skimage\\io\\_io.py:140: UserWarning: C:\\Users\\jjp\\Desktop\\out\\235.png is a low contrast image\n",
      "  warn('%s is a low contrast image' % fname)\n"
     ]
    },
    {
     "name": "stdout",
     "output_type": "stream",
     "text": [
      "C:\\Users\\jjp\\Desktop\\插画\\links\\235.psd is ok\n",
      "C:\\Users\\jjp\\Desktop\\插画\\links\\236.psd\n"
     ]
    },
    {
     "name": "stderr",
     "output_type": "stream",
     "text": [
      "d:\\program files\\python37\\lib\\site-packages\\skimage\\io\\_io.py:140: UserWarning: C:\\Users\\jjp\\Desktop\\out\\236.png is a low contrast image\n",
      "  warn('%s is a low contrast image' % fname)\n"
     ]
    },
    {
     "name": "stdout",
     "output_type": "stream",
     "text": [
      "C:\\Users\\jjp\\Desktop\\插画\\links\\236.psd is ok\n",
      "C:\\Users\\jjp\\Desktop\\插画\\links\\237.psd\n"
     ]
    },
    {
     "name": "stderr",
     "output_type": "stream",
     "text": [
      "d:\\program files\\python37\\lib\\site-packages\\skimage\\io\\_io.py:140: UserWarning: C:\\Users\\jjp\\Desktop\\out\\237.png is a low contrast image\n",
      "  warn('%s is a low contrast image' % fname)\n"
     ]
    },
    {
     "name": "stdout",
     "output_type": "stream",
     "text": [
      "C:\\Users\\jjp\\Desktop\\插画\\links\\237.psd is ok\n",
      "C:\\Users\\jjp\\Desktop\\插画\\links\\238.psd\n"
     ]
    },
    {
     "name": "stderr",
     "output_type": "stream",
     "text": [
      "d:\\program files\\python37\\lib\\site-packages\\skimage\\io\\_io.py:140: UserWarning: C:\\Users\\jjp\\Desktop\\out\\238.png is a low contrast image\n",
      "  warn('%s is a low contrast image' % fname)\n"
     ]
    },
    {
     "name": "stdout",
     "output_type": "stream",
     "text": [
      "C:\\Users\\jjp\\Desktop\\插画\\links\\238.psd is ok\n",
      "C:\\Users\\jjp\\Desktop\\插画\\links\\239.psd\n"
     ]
    },
    {
     "name": "stderr",
     "output_type": "stream",
     "text": [
      "d:\\program files\\python37\\lib\\site-packages\\skimage\\io\\_io.py:140: UserWarning: C:\\Users\\jjp\\Desktop\\out\\239.png is a low contrast image\n",
      "  warn('%s is a low contrast image' % fname)\n"
     ]
    },
    {
     "name": "stdout",
     "output_type": "stream",
     "text": [
      "C:\\Users\\jjp\\Desktop\\插画\\links\\239.psd is ok\n",
      "C:\\Users\\jjp\\Desktop\\插画\\links\\24.psd\n"
     ]
    },
    {
     "name": "stderr",
     "output_type": "stream",
     "text": [
      "d:\\program files\\python37\\lib\\site-packages\\skimage\\io\\_io.py:140: UserWarning: C:\\Users\\jjp\\Desktop\\out\\24.png is a low contrast image\n",
      "  warn('%s is a low contrast image' % fname)\n"
     ]
    },
    {
     "name": "stdout",
     "output_type": "stream",
     "text": [
      "C:\\Users\\jjp\\Desktop\\插画\\links\\24.psd is ok\n",
      "C:\\Users\\jjp\\Desktop\\插画\\links\\240.psd\n"
     ]
    },
    {
     "name": "stderr",
     "output_type": "stream",
     "text": [
      "d:\\program files\\python37\\lib\\site-packages\\skimage\\io\\_io.py:140: UserWarning: C:\\Users\\jjp\\Desktop\\out\\240.png is a low contrast image\n",
      "  warn('%s is a low contrast image' % fname)\n"
     ]
    },
    {
     "name": "stdout",
     "output_type": "stream",
     "text": [
      "C:\\Users\\jjp\\Desktop\\插画\\links\\240.psd is ok\n",
      "C:\\Users\\jjp\\Desktop\\插画\\links\\241.psd\n"
     ]
    },
    {
     "name": "stderr",
     "output_type": "stream",
     "text": [
      "d:\\program files\\python37\\lib\\site-packages\\skimage\\io\\_io.py:140: UserWarning: C:\\Users\\jjp\\Desktop\\out\\241.png is a low contrast image\n",
      "  warn('%s is a low contrast image' % fname)\n"
     ]
    },
    {
     "name": "stdout",
     "output_type": "stream",
     "text": [
      "C:\\Users\\jjp\\Desktop\\插画\\links\\241.psd is ok\n",
      "C:\\Users\\jjp\\Desktop\\插画\\links\\242.psd\n"
     ]
    },
    {
     "name": "stderr",
     "output_type": "stream",
     "text": [
      "d:\\program files\\python37\\lib\\site-packages\\skimage\\io\\_io.py:140: UserWarning: C:\\Users\\jjp\\Desktop\\out\\242.png is a low contrast image\n",
      "  warn('%s is a low contrast image' % fname)\n"
     ]
    },
    {
     "name": "stdout",
     "output_type": "stream",
     "text": [
      "C:\\Users\\jjp\\Desktop\\插画\\links\\242.psd is ok\n",
      "C:\\Users\\jjp\\Desktop\\插画\\links\\243.psd\n"
     ]
    },
    {
     "name": "stderr",
     "output_type": "stream",
     "text": [
      "d:\\program files\\python37\\lib\\site-packages\\skimage\\io\\_io.py:140: UserWarning: C:\\Users\\jjp\\Desktop\\out\\243.png is a low contrast image\n",
      "  warn('%s is a low contrast image' % fname)\n"
     ]
    },
    {
     "name": "stdout",
     "output_type": "stream",
     "text": [
      "C:\\Users\\jjp\\Desktop\\插画\\links\\243.psd is ok\n",
      "C:\\Users\\jjp\\Desktop\\插画\\links\\244.psd\n"
     ]
    },
    {
     "name": "stderr",
     "output_type": "stream",
     "text": [
      "d:\\program files\\python37\\lib\\site-packages\\skimage\\io\\_io.py:140: UserWarning: C:\\Users\\jjp\\Desktop\\out\\244.png is a low contrast image\n",
      "  warn('%s is a low contrast image' % fname)\n"
     ]
    },
    {
     "name": "stdout",
     "output_type": "stream",
     "text": [
      "C:\\Users\\jjp\\Desktop\\插画\\links\\244.psd is ok\n",
      "C:\\Users\\jjp\\Desktop\\插画\\links\\245.psd\n"
     ]
    },
    {
     "name": "stderr",
     "output_type": "stream",
     "text": [
      "d:\\program files\\python37\\lib\\site-packages\\skimage\\io\\_io.py:140: UserWarning: C:\\Users\\jjp\\Desktop\\out\\245.png is a low contrast image\n",
      "  warn('%s is a low contrast image' % fname)\n"
     ]
    },
    {
     "name": "stdout",
     "output_type": "stream",
     "text": [
      "C:\\Users\\jjp\\Desktop\\插画\\links\\245.psd is ok\n",
      "C:\\Users\\jjp\\Desktop\\插画\\links\\246.psd\n"
     ]
    },
    {
     "name": "stderr",
     "output_type": "stream",
     "text": [
      "d:\\program files\\python37\\lib\\site-packages\\skimage\\io\\_io.py:140: UserWarning: C:\\Users\\jjp\\Desktop\\out\\246.png is a low contrast image\n",
      "  warn('%s is a low contrast image' % fname)\n"
     ]
    },
    {
     "name": "stdout",
     "output_type": "stream",
     "text": [
      "C:\\Users\\jjp\\Desktop\\插画\\links\\246.psd is ok\n",
      "C:\\Users\\jjp\\Desktop\\插画\\links\\247.psd\n"
     ]
    },
    {
     "name": "stderr",
     "output_type": "stream",
     "text": [
      "d:\\program files\\python37\\lib\\site-packages\\skimage\\io\\_io.py:140: UserWarning: C:\\Users\\jjp\\Desktop\\out\\247.png is a low contrast image\n",
      "  warn('%s is a low contrast image' % fname)\n"
     ]
    },
    {
     "name": "stdout",
     "output_type": "stream",
     "text": [
      "C:\\Users\\jjp\\Desktop\\插画\\links\\247.psd is ok\n",
      "C:\\Users\\jjp\\Desktop\\插画\\links\\248.psd\n"
     ]
    },
    {
     "name": "stderr",
     "output_type": "stream",
     "text": [
      "d:\\program files\\python37\\lib\\site-packages\\skimage\\io\\_io.py:140: UserWarning: C:\\Users\\jjp\\Desktop\\out\\248.png is a low contrast image\n",
      "  warn('%s is a low contrast image' % fname)\n"
     ]
    },
    {
     "name": "stdout",
     "output_type": "stream",
     "text": [
      "C:\\Users\\jjp\\Desktop\\插画\\links\\248.psd is ok\n",
      "C:\\Users\\jjp\\Desktop\\插画\\links\\249.psd\n"
     ]
    },
    {
     "name": "stderr",
     "output_type": "stream",
     "text": [
      "d:\\program files\\python37\\lib\\site-packages\\skimage\\io\\_io.py:140: UserWarning: C:\\Users\\jjp\\Desktop\\out\\249.png is a low contrast image\n",
      "  warn('%s is a low contrast image' % fname)\n"
     ]
    },
    {
     "name": "stdout",
     "output_type": "stream",
     "text": [
      "C:\\Users\\jjp\\Desktop\\插画\\links\\249.psd is ok\n",
      "C:\\Users\\jjp\\Desktop\\插画\\links\\25.psd\n"
     ]
    },
    {
     "name": "stderr",
     "output_type": "stream",
     "text": [
      "d:\\program files\\python37\\lib\\site-packages\\skimage\\io\\_io.py:140: UserWarning: C:\\Users\\jjp\\Desktop\\out\\25.png is a low contrast image\n",
      "  warn('%s is a low contrast image' % fname)\n"
     ]
    },
    {
     "name": "stdout",
     "output_type": "stream",
     "text": [
      "C:\\Users\\jjp\\Desktop\\插画\\links\\25.psd is ok\n",
      "C:\\Users\\jjp\\Desktop\\插画\\links\\250.psd\n"
     ]
    },
    {
     "name": "stderr",
     "output_type": "stream",
     "text": [
      "d:\\program files\\python37\\lib\\site-packages\\skimage\\io\\_io.py:140: UserWarning: C:\\Users\\jjp\\Desktop\\out\\250.png is a low contrast image\n",
      "  warn('%s is a low contrast image' % fname)\n"
     ]
    },
    {
     "name": "stdout",
     "output_type": "stream",
     "text": [
      "C:\\Users\\jjp\\Desktop\\插画\\links\\250.psd is ok\n",
      "C:\\Users\\jjp\\Desktop\\插画\\links\\251.psd\n"
     ]
    },
    {
     "name": "stderr",
     "output_type": "stream",
     "text": [
      "d:\\program files\\python37\\lib\\site-packages\\skimage\\io\\_io.py:140: UserWarning: C:\\Users\\jjp\\Desktop\\out\\251.png is a low contrast image\n",
      "  warn('%s is a low contrast image' % fname)\n"
     ]
    },
    {
     "name": "stdout",
     "output_type": "stream",
     "text": [
      "C:\\Users\\jjp\\Desktop\\插画\\links\\251.psd is ok\n",
      "C:\\Users\\jjp\\Desktop\\插画\\links\\252.psd\n"
     ]
    },
    {
     "name": "stderr",
     "output_type": "stream",
     "text": [
      "d:\\program files\\python37\\lib\\site-packages\\skimage\\io\\_io.py:140: UserWarning: C:\\Users\\jjp\\Desktop\\out\\252.png is a low contrast image\n",
      "  warn('%s is a low contrast image' % fname)\n"
     ]
    },
    {
     "name": "stdout",
     "output_type": "stream",
     "text": [
      "C:\\Users\\jjp\\Desktop\\插画\\links\\252.psd is ok\n",
      "C:\\Users\\jjp\\Desktop\\插画\\links\\253.psd\n"
     ]
    },
    {
     "name": "stderr",
     "output_type": "stream",
     "text": [
      "d:\\program files\\python37\\lib\\site-packages\\skimage\\io\\_io.py:140: UserWarning: C:\\Users\\jjp\\Desktop\\out\\253.png is a low contrast image\n",
      "  warn('%s is a low contrast image' % fname)\n"
     ]
    },
    {
     "name": "stdout",
     "output_type": "stream",
     "text": [
      "C:\\Users\\jjp\\Desktop\\插画\\links\\253.psd is ok\n",
      "C:\\Users\\jjp\\Desktop\\插画\\links\\254.psd\n"
     ]
    },
    {
     "name": "stderr",
     "output_type": "stream",
     "text": [
      "d:\\program files\\python37\\lib\\site-packages\\skimage\\io\\_io.py:140: UserWarning: C:\\Users\\jjp\\Desktop\\out\\254.png is a low contrast image\n",
      "  warn('%s is a low contrast image' % fname)\n"
     ]
    },
    {
     "name": "stdout",
     "output_type": "stream",
     "text": [
      "C:\\Users\\jjp\\Desktop\\插画\\links\\254.psd is ok\n",
      "C:\\Users\\jjp\\Desktop\\插画\\links\\255.psd\n"
     ]
    },
    {
     "name": "stderr",
     "output_type": "stream",
     "text": [
      "d:\\program files\\python37\\lib\\site-packages\\skimage\\io\\_io.py:140: UserWarning: C:\\Users\\jjp\\Desktop\\out\\255.png is a low contrast image\n",
      "  warn('%s is a low contrast image' % fname)\n"
     ]
    },
    {
     "name": "stdout",
     "output_type": "stream",
     "text": [
      "C:\\Users\\jjp\\Desktop\\插画\\links\\255.psd is ok\n",
      "C:\\Users\\jjp\\Desktop\\插画\\links\\256.psd\n"
     ]
    },
    {
     "name": "stderr",
     "output_type": "stream",
     "text": [
      "d:\\program files\\python37\\lib\\site-packages\\skimage\\io\\_io.py:140: UserWarning: C:\\Users\\jjp\\Desktop\\out\\256.png is a low contrast image\n",
      "  warn('%s is a low contrast image' % fname)\n"
     ]
    },
    {
     "name": "stdout",
     "output_type": "stream",
     "text": [
      "C:\\Users\\jjp\\Desktop\\插画\\links\\256.psd is ok\n",
      "C:\\Users\\jjp\\Desktop\\插画\\links\\257.psd\n"
     ]
    },
    {
     "name": "stderr",
     "output_type": "stream",
     "text": [
      "d:\\program files\\python37\\lib\\site-packages\\skimage\\io\\_io.py:140: UserWarning: C:\\Users\\jjp\\Desktop\\out\\257.png is a low contrast image\n",
      "  warn('%s is a low contrast image' % fname)\n"
     ]
    },
    {
     "name": "stdout",
     "output_type": "stream",
     "text": [
      "C:\\Users\\jjp\\Desktop\\插画\\links\\257.psd is ok\n",
      "C:\\Users\\jjp\\Desktop\\插画\\links\\258.psd\n"
     ]
    },
    {
     "name": "stderr",
     "output_type": "stream",
     "text": [
      "d:\\program files\\python37\\lib\\site-packages\\skimage\\io\\_io.py:140: UserWarning: C:\\Users\\jjp\\Desktop\\out\\258.png is a low contrast image\n",
      "  warn('%s is a low contrast image' % fname)\n"
     ]
    },
    {
     "name": "stdout",
     "output_type": "stream",
     "text": [
      "C:\\Users\\jjp\\Desktop\\插画\\links\\258.psd is ok\n",
      "C:\\Users\\jjp\\Desktop\\插画\\links\\259.psd\n"
     ]
    },
    {
     "name": "stderr",
     "output_type": "stream",
     "text": [
      "d:\\program files\\python37\\lib\\site-packages\\skimage\\io\\_io.py:140: UserWarning: C:\\Users\\jjp\\Desktop\\out\\259.png is a low contrast image\n",
      "  warn('%s is a low contrast image' % fname)\n"
     ]
    },
    {
     "name": "stdout",
     "output_type": "stream",
     "text": [
      "C:\\Users\\jjp\\Desktop\\插画\\links\\259.psd is ok\n",
      "C:\\Users\\jjp\\Desktop\\插画\\links\\26.psd\n"
     ]
    },
    {
     "name": "stderr",
     "output_type": "stream",
     "text": [
      "d:\\program files\\python37\\lib\\site-packages\\skimage\\io\\_io.py:140: UserWarning: C:\\Users\\jjp\\Desktop\\out\\26.png is a low contrast image\n",
      "  warn('%s is a low contrast image' % fname)\n"
     ]
    },
    {
     "name": "stdout",
     "output_type": "stream",
     "text": [
      "C:\\Users\\jjp\\Desktop\\插画\\links\\26.psd is ok\n",
      "C:\\Users\\jjp\\Desktop\\插画\\links\\260.psd\n"
     ]
    },
    {
     "name": "stderr",
     "output_type": "stream",
     "text": [
      "d:\\program files\\python37\\lib\\site-packages\\skimage\\io\\_io.py:140: UserWarning: C:\\Users\\jjp\\Desktop\\out\\260.png is a low contrast image\n",
      "  warn('%s is a low contrast image' % fname)\n"
     ]
    },
    {
     "name": "stdout",
     "output_type": "stream",
     "text": [
      "C:\\Users\\jjp\\Desktop\\插画\\links\\260.psd is ok\n",
      "C:\\Users\\jjp\\Desktop\\插画\\links\\261.psd\n"
     ]
    },
    {
     "name": "stderr",
     "output_type": "stream",
     "text": [
      "d:\\program files\\python37\\lib\\site-packages\\skimage\\io\\_io.py:140: UserWarning: C:\\Users\\jjp\\Desktop\\out\\261.png is a low contrast image\n",
      "  warn('%s is a low contrast image' % fname)\n"
     ]
    },
    {
     "name": "stdout",
     "output_type": "stream",
     "text": [
      "C:\\Users\\jjp\\Desktop\\插画\\links\\261.psd is ok\n",
      "C:\\Users\\jjp\\Desktop\\插画\\links\\262.psd\n"
     ]
    },
    {
     "name": "stderr",
     "output_type": "stream",
     "text": [
      "d:\\program files\\python37\\lib\\site-packages\\skimage\\io\\_io.py:140: UserWarning: C:\\Users\\jjp\\Desktop\\out\\262.png is a low contrast image\n",
      "  warn('%s is a low contrast image' % fname)\n"
     ]
    },
    {
     "name": "stdout",
     "output_type": "stream",
     "text": [
      "C:\\Users\\jjp\\Desktop\\插画\\links\\262.psd is ok\n",
      "C:\\Users\\jjp\\Desktop\\插画\\links\\263.psd\n"
     ]
    },
    {
     "name": "stderr",
     "output_type": "stream",
     "text": [
      "d:\\program files\\python37\\lib\\site-packages\\skimage\\io\\_io.py:140: UserWarning: C:\\Users\\jjp\\Desktop\\out\\263.png is a low contrast image\n",
      "  warn('%s is a low contrast image' % fname)\n"
     ]
    },
    {
     "name": "stdout",
     "output_type": "stream",
     "text": [
      "C:\\Users\\jjp\\Desktop\\插画\\links\\263.psd is ok\n",
      "C:\\Users\\jjp\\Desktop\\插画\\links\\264.psd\n"
     ]
    },
    {
     "name": "stderr",
     "output_type": "stream",
     "text": [
      "d:\\program files\\python37\\lib\\site-packages\\skimage\\io\\_io.py:140: UserWarning: C:\\Users\\jjp\\Desktop\\out\\264.png is a low contrast image\n",
      "  warn('%s is a low contrast image' % fname)\n"
     ]
    },
    {
     "name": "stdout",
     "output_type": "stream",
     "text": [
      "C:\\Users\\jjp\\Desktop\\插画\\links\\264.psd is ok\n",
      "C:\\Users\\jjp\\Desktop\\插画\\links\\265.psd\n"
     ]
    },
    {
     "name": "stderr",
     "output_type": "stream",
     "text": [
      "d:\\program files\\python37\\lib\\site-packages\\skimage\\io\\_io.py:140: UserWarning: C:\\Users\\jjp\\Desktop\\out\\265.png is a low contrast image\n",
      "  warn('%s is a low contrast image' % fname)\n"
     ]
    },
    {
     "name": "stdout",
     "output_type": "stream",
     "text": [
      "C:\\Users\\jjp\\Desktop\\插画\\links\\265.psd is ok\n",
      "C:\\Users\\jjp\\Desktop\\插画\\links\\266.psd\n"
     ]
    },
    {
     "name": "stderr",
     "output_type": "stream",
     "text": [
      "d:\\program files\\python37\\lib\\site-packages\\skimage\\io\\_io.py:140: UserWarning: C:\\Users\\jjp\\Desktop\\out\\266.png is a low contrast image\n",
      "  warn('%s is a low contrast image' % fname)\n"
     ]
    },
    {
     "name": "stdout",
     "output_type": "stream",
     "text": [
      "C:\\Users\\jjp\\Desktop\\插画\\links\\266.psd is ok\n",
      "C:\\Users\\jjp\\Desktop\\插画\\links\\267.psd\n"
     ]
    },
    {
     "name": "stderr",
     "output_type": "stream",
     "text": [
      "d:\\program files\\python37\\lib\\site-packages\\skimage\\io\\_io.py:140: UserWarning: C:\\Users\\jjp\\Desktop\\out\\267.png is a low contrast image\n",
      "  warn('%s is a low contrast image' % fname)\n"
     ]
    },
    {
     "name": "stdout",
     "output_type": "stream",
     "text": [
      "C:\\Users\\jjp\\Desktop\\插画\\links\\267.psd is ok\n",
      "C:\\Users\\jjp\\Desktop\\插画\\links\\268.psd\n"
     ]
    },
    {
     "name": "stderr",
     "output_type": "stream",
     "text": [
      "d:\\program files\\python37\\lib\\site-packages\\skimage\\io\\_io.py:140: UserWarning: C:\\Users\\jjp\\Desktop\\out\\268.png is a low contrast image\n",
      "  warn('%s is a low contrast image' % fname)\n"
     ]
    },
    {
     "name": "stdout",
     "output_type": "stream",
     "text": [
      "C:\\Users\\jjp\\Desktop\\插画\\links\\268.psd is ok\n",
      "C:\\Users\\jjp\\Desktop\\插画\\links\\269.psd\n"
     ]
    },
    {
     "name": "stderr",
     "output_type": "stream",
     "text": [
      "d:\\program files\\python37\\lib\\site-packages\\skimage\\io\\_io.py:140: UserWarning: C:\\Users\\jjp\\Desktop\\out\\269.png is a low contrast image\n",
      "  warn('%s is a low contrast image' % fname)\n"
     ]
    },
    {
     "name": "stdout",
     "output_type": "stream",
     "text": [
      "C:\\Users\\jjp\\Desktop\\插画\\links\\269.psd is ok\n"
     ]
    },
    {
     "name": "stderr",
     "output_type": "stream",
     "text": [
      "d:\\program files\\python37\\lib\\site-packages\\skimage\\io\\_io.py:140: UserWarning: C:\\Users\\jjp\\Desktop\\out\\27.png is a low contrast image\n",
      "  warn('%s is a low contrast image' % fname)\n"
     ]
    },
    {
     "name": "stdout",
     "output_type": "stream",
     "text": [
      "C:\\Users\\jjp\\Desktop\\插画\\links\\27.psd\n",
      "C:\\Users\\jjp\\Desktop\\插画\\links\\27.psd is ok\n",
      "C:\\Users\\jjp\\Desktop\\插画\\links\\270.psd\n"
     ]
    },
    {
     "name": "stderr",
     "output_type": "stream",
     "text": [
      "d:\\program files\\python37\\lib\\site-packages\\skimage\\io\\_io.py:140: UserWarning: C:\\Users\\jjp\\Desktop\\out\\270.png is a low contrast image\n",
      "  warn('%s is a low contrast image' % fname)\n"
     ]
    },
    {
     "name": "stdout",
     "output_type": "stream",
     "text": [
      "C:\\Users\\jjp\\Desktop\\插画\\links\\270.psd is ok\n",
      "C:\\Users\\jjp\\Desktop\\插画\\links\\271.psd\n"
     ]
    },
    {
     "name": "stderr",
     "output_type": "stream",
     "text": [
      "d:\\program files\\python37\\lib\\site-packages\\skimage\\io\\_io.py:140: UserWarning: C:\\Users\\jjp\\Desktop\\out\\271.png is a low contrast image\n",
      "  warn('%s is a low contrast image' % fname)\n"
     ]
    },
    {
     "name": "stdout",
     "output_type": "stream",
     "text": [
      "C:\\Users\\jjp\\Desktop\\插画\\links\\271.psd is ok\n",
      "C:\\Users\\jjp\\Desktop\\插画\\links\\272.psd\n"
     ]
    },
    {
     "name": "stderr",
     "output_type": "stream",
     "text": [
      "d:\\program files\\python37\\lib\\site-packages\\skimage\\io\\_io.py:140: UserWarning: C:\\Users\\jjp\\Desktop\\out\\272.png is a low contrast image\n",
      "  warn('%s is a low contrast image' % fname)\n"
     ]
    },
    {
     "name": "stdout",
     "output_type": "stream",
     "text": [
      "C:\\Users\\jjp\\Desktop\\插画\\links\\272.psd is ok\n",
      "C:\\Users\\jjp\\Desktop\\插画\\links\\273.psd\n"
     ]
    },
    {
     "name": "stderr",
     "output_type": "stream",
     "text": [
      "d:\\program files\\python37\\lib\\site-packages\\skimage\\io\\_io.py:140: UserWarning: C:\\Users\\jjp\\Desktop\\out\\273.png is a low contrast image\n",
      "  warn('%s is a low contrast image' % fname)\n"
     ]
    },
    {
     "name": "stdout",
     "output_type": "stream",
     "text": [
      "C:\\Users\\jjp\\Desktop\\插画\\links\\273.psd is ok\n",
      "C:\\Users\\jjp\\Desktop\\插画\\links\\274.psd\n"
     ]
    },
    {
     "name": "stderr",
     "output_type": "stream",
     "text": [
      "d:\\program files\\python37\\lib\\site-packages\\skimage\\io\\_io.py:140: UserWarning: C:\\Users\\jjp\\Desktop\\out\\274.png is a low contrast image\n",
      "  warn('%s is a low contrast image' % fname)\n"
     ]
    },
    {
     "name": "stdout",
     "output_type": "stream",
     "text": [
      "C:\\Users\\jjp\\Desktop\\插画\\links\\274.psd is ok\n",
      "C:\\Users\\jjp\\Desktop\\插画\\links\\275.psd\n"
     ]
    },
    {
     "name": "stderr",
     "output_type": "stream",
     "text": [
      "d:\\program files\\python37\\lib\\site-packages\\skimage\\io\\_io.py:140: UserWarning: C:\\Users\\jjp\\Desktop\\out\\275.png is a low contrast image\n",
      "  warn('%s is a low contrast image' % fname)\n"
     ]
    },
    {
     "name": "stdout",
     "output_type": "stream",
     "text": [
      "C:\\Users\\jjp\\Desktop\\插画\\links\\275.psd is ok\n",
      "C:\\Users\\jjp\\Desktop\\插画\\links\\276.psd\n"
     ]
    },
    {
     "name": "stderr",
     "output_type": "stream",
     "text": [
      "d:\\program files\\python37\\lib\\site-packages\\skimage\\io\\_io.py:140: UserWarning: C:\\Users\\jjp\\Desktop\\out\\276.png is a low contrast image\n",
      "  warn('%s is a low contrast image' % fname)\n"
     ]
    },
    {
     "name": "stdout",
     "output_type": "stream",
     "text": [
      "C:\\Users\\jjp\\Desktop\\插画\\links\\276.psd is ok\n",
      "C:\\Users\\jjp\\Desktop\\插画\\links\\277.psd\n"
     ]
    },
    {
     "name": "stderr",
     "output_type": "stream",
     "text": [
      "d:\\program files\\python37\\lib\\site-packages\\skimage\\io\\_io.py:140: UserWarning: C:\\Users\\jjp\\Desktop\\out\\277.png is a low contrast image\n",
      "  warn('%s is a low contrast image' % fname)\n"
     ]
    },
    {
     "name": "stdout",
     "output_type": "stream",
     "text": [
      "C:\\Users\\jjp\\Desktop\\插画\\links\\277.psd is ok\n",
      "C:\\Users\\jjp\\Desktop\\插画\\links\\278.psd\n"
     ]
    },
    {
     "name": "stderr",
     "output_type": "stream",
     "text": [
      "d:\\program files\\python37\\lib\\site-packages\\skimage\\io\\_io.py:140: UserWarning: C:\\Users\\jjp\\Desktop\\out\\278.png is a low contrast image\n",
      "  warn('%s is a low contrast image' % fname)\n"
     ]
    },
    {
     "name": "stdout",
     "output_type": "stream",
     "text": [
      "C:\\Users\\jjp\\Desktop\\插画\\links\\278.psd is ok\n",
      "C:\\Users\\jjp\\Desktop\\插画\\links\\279.psd\n"
     ]
    },
    {
     "name": "stderr",
     "output_type": "stream",
     "text": [
      "d:\\program files\\python37\\lib\\site-packages\\skimage\\io\\_io.py:140: UserWarning: C:\\Users\\jjp\\Desktop\\out\\279.png is a low contrast image\n",
      "  warn('%s is a low contrast image' % fname)\n"
     ]
    },
    {
     "name": "stdout",
     "output_type": "stream",
     "text": [
      "C:\\Users\\jjp\\Desktop\\插画\\links\\279.psd is ok\n",
      "C:\\Users\\jjp\\Desktop\\插画\\links\\28.psd\n"
     ]
    },
    {
     "name": "stderr",
     "output_type": "stream",
     "text": [
      "d:\\program files\\python37\\lib\\site-packages\\skimage\\io\\_io.py:140: UserWarning: C:\\Users\\jjp\\Desktop\\out\\28.png is a low contrast image\n",
      "  warn('%s is a low contrast image' % fname)\n"
     ]
    },
    {
     "name": "stdout",
     "output_type": "stream",
     "text": [
      "C:\\Users\\jjp\\Desktop\\插画\\links\\28.psd is ok\n"
     ]
    },
    {
     "name": "stderr",
     "output_type": "stream",
     "text": [
      "d:\\program files\\python37\\lib\\site-packages\\skimage\\io\\_io.py:140: UserWarning: C:\\Users\\jjp\\Desktop\\out\\280.png is a low contrast image\n",
      "  warn('%s is a low contrast image' % fname)\n"
     ]
    },
    {
     "name": "stdout",
     "output_type": "stream",
     "text": [
      "C:\\Users\\jjp\\Desktop\\插画\\links\\280.psd\n",
      "C:\\Users\\jjp\\Desktop\\插画\\links\\280.psd is ok\n",
      "C:\\Users\\jjp\\Desktop\\插画\\links\\281.psd\n"
     ]
    },
    {
     "name": "stderr",
     "output_type": "stream",
     "text": [
      "d:\\program files\\python37\\lib\\site-packages\\skimage\\io\\_io.py:140: UserWarning: C:\\Users\\jjp\\Desktop\\out\\281.png is a low contrast image\n",
      "  warn('%s is a low contrast image' % fname)\n"
     ]
    },
    {
     "name": "stdout",
     "output_type": "stream",
     "text": [
      "C:\\Users\\jjp\\Desktop\\插画\\links\\281.psd is ok\n",
      "C:\\Users\\jjp\\Desktop\\插画\\links\\282.psd\n"
     ]
    },
    {
     "name": "stderr",
     "output_type": "stream",
     "text": [
      "d:\\program files\\python37\\lib\\site-packages\\skimage\\io\\_io.py:140: UserWarning: C:\\Users\\jjp\\Desktop\\out\\282.png is a low contrast image\n",
      "  warn('%s is a low contrast image' % fname)\n"
     ]
    },
    {
     "name": "stdout",
     "output_type": "stream",
     "text": [
      "C:\\Users\\jjp\\Desktop\\插画\\links\\282.psd is ok\n",
      "C:\\Users\\jjp\\Desktop\\插画\\links\\283.psd\n"
     ]
    },
    {
     "name": "stderr",
     "output_type": "stream",
     "text": [
      "d:\\program files\\python37\\lib\\site-packages\\skimage\\io\\_io.py:140: UserWarning: C:\\Users\\jjp\\Desktop\\out\\283.png is a low contrast image\n",
      "  warn('%s is a low contrast image' % fname)\n"
     ]
    },
    {
     "name": "stdout",
     "output_type": "stream",
     "text": [
      "C:\\Users\\jjp\\Desktop\\插画\\links\\283.psd is ok\n",
      "C:\\Users\\jjp\\Desktop\\插画\\links\\284.psd\n"
     ]
    },
    {
     "name": "stderr",
     "output_type": "stream",
     "text": [
      "d:\\program files\\python37\\lib\\site-packages\\skimage\\io\\_io.py:140: UserWarning: C:\\Users\\jjp\\Desktop\\out\\284.png is a low contrast image\n",
      "  warn('%s is a low contrast image' % fname)\n"
     ]
    },
    {
     "name": "stdout",
     "output_type": "stream",
     "text": [
      "C:\\Users\\jjp\\Desktop\\插画\\links\\284.psd is ok\n",
      "C:\\Users\\jjp\\Desktop\\插画\\links\\285.psd\n"
     ]
    },
    {
     "name": "stderr",
     "output_type": "stream",
     "text": [
      "d:\\program files\\python37\\lib\\site-packages\\skimage\\io\\_io.py:140: UserWarning: C:\\Users\\jjp\\Desktop\\out\\285.png is a low contrast image\n",
      "  warn('%s is a low contrast image' % fname)\n"
     ]
    },
    {
     "name": "stdout",
     "output_type": "stream",
     "text": [
      "C:\\Users\\jjp\\Desktop\\插画\\links\\285.psd is ok\n",
      "C:\\Users\\jjp\\Desktop\\插画\\links\\286.psd\n"
     ]
    },
    {
     "name": "stderr",
     "output_type": "stream",
     "text": [
      "d:\\program files\\python37\\lib\\site-packages\\skimage\\io\\_io.py:140: UserWarning: C:\\Users\\jjp\\Desktop\\out\\286.png is a low contrast image\n",
      "  warn('%s is a low contrast image' % fname)\n"
     ]
    },
    {
     "name": "stdout",
     "output_type": "stream",
     "text": [
      "C:\\Users\\jjp\\Desktop\\插画\\links\\286.psd is ok\n",
      "C:\\Users\\jjp\\Desktop\\插画\\links\\287.psd\n"
     ]
    },
    {
     "name": "stderr",
     "output_type": "stream",
     "text": [
      "d:\\program files\\python37\\lib\\site-packages\\skimage\\io\\_io.py:140: UserWarning: C:\\Users\\jjp\\Desktop\\out\\287.png is a low contrast image\n",
      "  warn('%s is a low contrast image' % fname)\n"
     ]
    },
    {
     "name": "stdout",
     "output_type": "stream",
     "text": [
      "C:\\Users\\jjp\\Desktop\\插画\\links\\287.psd is ok\n",
      "C:\\Users\\jjp\\Desktop\\插画\\links\\288.psd\n"
     ]
    },
    {
     "name": "stderr",
     "output_type": "stream",
     "text": [
      "d:\\program files\\python37\\lib\\site-packages\\skimage\\io\\_io.py:140: UserWarning: C:\\Users\\jjp\\Desktop\\out\\288.png is a low contrast image\n",
      "  warn('%s is a low contrast image' % fname)\n"
     ]
    },
    {
     "name": "stdout",
     "output_type": "stream",
     "text": [
      "C:\\Users\\jjp\\Desktop\\插画\\links\\288.psd is ok\n",
      "C:\\Users\\jjp\\Desktop\\插画\\links\\289.psd\n"
     ]
    },
    {
     "name": "stderr",
     "output_type": "stream",
     "text": [
      "d:\\program files\\python37\\lib\\site-packages\\skimage\\io\\_io.py:140: UserWarning: C:\\Users\\jjp\\Desktop\\out\\289.png is a low contrast image\n",
      "  warn('%s is a low contrast image' % fname)\n"
     ]
    },
    {
     "name": "stdout",
     "output_type": "stream",
     "text": [
      "C:\\Users\\jjp\\Desktop\\插画\\links\\289.psd is ok\n",
      "C:\\Users\\jjp\\Desktop\\插画\\links\\29.psd\n"
     ]
    },
    {
     "name": "stderr",
     "output_type": "stream",
     "text": [
      "d:\\program files\\python37\\lib\\site-packages\\skimage\\io\\_io.py:140: UserWarning: C:\\Users\\jjp\\Desktop\\out\\29.png is a low contrast image\n",
      "  warn('%s is a low contrast image' % fname)\n"
     ]
    },
    {
     "name": "stdout",
     "output_type": "stream",
     "text": [
      "C:\\Users\\jjp\\Desktop\\插画\\links\\29.psd is ok\n",
      "C:\\Users\\jjp\\Desktop\\插画\\links\\290.psd\n"
     ]
    },
    {
     "name": "stderr",
     "output_type": "stream",
     "text": [
      "d:\\program files\\python37\\lib\\site-packages\\skimage\\io\\_io.py:140: UserWarning: C:\\Users\\jjp\\Desktop\\out\\290.png is a low contrast image\n",
      "  warn('%s is a low contrast image' % fname)\n"
     ]
    },
    {
     "name": "stdout",
     "output_type": "stream",
     "text": [
      "C:\\Users\\jjp\\Desktop\\插画\\links\\290.psd is ok\n",
      "C:\\Users\\jjp\\Desktop\\插画\\links\\291.psd\n"
     ]
    },
    {
     "name": "stderr",
     "output_type": "stream",
     "text": [
      "d:\\program files\\python37\\lib\\site-packages\\skimage\\io\\_io.py:140: UserWarning: C:\\Users\\jjp\\Desktop\\out\\291.png is a low contrast image\n",
      "  warn('%s is a low contrast image' % fname)\n"
     ]
    },
    {
     "name": "stdout",
     "output_type": "stream",
     "text": [
      "C:\\Users\\jjp\\Desktop\\插画\\links\\291.psd is ok\n",
      "C:\\Users\\jjp\\Desktop\\插画\\links\\292.psd\n"
     ]
    },
    {
     "name": "stderr",
     "output_type": "stream",
     "text": [
      "d:\\program files\\python37\\lib\\site-packages\\skimage\\io\\_io.py:140: UserWarning: C:\\Users\\jjp\\Desktop\\out\\292.png is a low contrast image\n",
      "  warn('%s is a low contrast image' % fname)\n"
     ]
    },
    {
     "name": "stdout",
     "output_type": "stream",
     "text": [
      "C:\\Users\\jjp\\Desktop\\插画\\links\\292.psd is ok\n",
      "C:\\Users\\jjp\\Desktop\\插画\\links\\293.psd\n"
     ]
    },
    {
     "name": "stderr",
     "output_type": "stream",
     "text": [
      "d:\\program files\\python37\\lib\\site-packages\\skimage\\io\\_io.py:140: UserWarning: C:\\Users\\jjp\\Desktop\\out\\293.png is a low contrast image\n",
      "  warn('%s is a low contrast image' % fname)\n"
     ]
    },
    {
     "name": "stdout",
     "output_type": "stream",
     "text": [
      "C:\\Users\\jjp\\Desktop\\插画\\links\\293.psd is ok\n",
      "C:\\Users\\jjp\\Desktop\\插画\\links\\294.psd\n"
     ]
    },
    {
     "name": "stderr",
     "output_type": "stream",
     "text": [
      "d:\\program files\\python37\\lib\\site-packages\\skimage\\io\\_io.py:140: UserWarning: C:\\Users\\jjp\\Desktop\\out\\294.png is a low contrast image\n",
      "  warn('%s is a low contrast image' % fname)\n"
     ]
    },
    {
     "name": "stdout",
     "output_type": "stream",
     "text": [
      "C:\\Users\\jjp\\Desktop\\插画\\links\\294.psd is ok\n",
      "C:\\Users\\jjp\\Desktop\\插画\\links\\295.psd\n"
     ]
    },
    {
     "name": "stderr",
     "output_type": "stream",
     "text": [
      "d:\\program files\\python37\\lib\\site-packages\\skimage\\io\\_io.py:140: UserWarning: C:\\Users\\jjp\\Desktop\\out\\295.png is a low contrast image\n",
      "  warn('%s is a low contrast image' % fname)\n"
     ]
    },
    {
     "name": "stdout",
     "output_type": "stream",
     "text": [
      "C:\\Users\\jjp\\Desktop\\插画\\links\\295.psd is ok\n",
      "C:\\Users\\jjp\\Desktop\\插画\\links\\296.psd\n"
     ]
    },
    {
     "name": "stderr",
     "output_type": "stream",
     "text": [
      "d:\\program files\\python37\\lib\\site-packages\\skimage\\io\\_io.py:140: UserWarning: C:\\Users\\jjp\\Desktop\\out\\296.png is a low contrast image\n",
      "  warn('%s is a low contrast image' % fname)\n"
     ]
    },
    {
     "name": "stdout",
     "output_type": "stream",
     "text": [
      "C:\\Users\\jjp\\Desktop\\插画\\links\\296.psd is ok\n",
      "C:\\Users\\jjp\\Desktop\\插画\\links\\297.psd\n"
     ]
    },
    {
     "name": "stderr",
     "output_type": "stream",
     "text": [
      "d:\\program files\\python37\\lib\\site-packages\\skimage\\io\\_io.py:140: UserWarning: C:\\Users\\jjp\\Desktop\\out\\297.png is a low contrast image\n",
      "  warn('%s is a low contrast image' % fname)\n"
     ]
    },
    {
     "name": "stdout",
     "output_type": "stream",
     "text": [
      "C:\\Users\\jjp\\Desktop\\插画\\links\\297.psd is ok\n",
      "C:\\Users\\jjp\\Desktop\\插画\\links\\298.psd\n"
     ]
    },
    {
     "name": "stderr",
     "output_type": "stream",
     "text": [
      "d:\\program files\\python37\\lib\\site-packages\\skimage\\io\\_io.py:140: UserWarning: C:\\Users\\jjp\\Desktop\\out\\298.png is a low contrast image\n",
      "  warn('%s is a low contrast image' % fname)\n"
     ]
    },
    {
     "name": "stdout",
     "output_type": "stream",
     "text": [
      "C:\\Users\\jjp\\Desktop\\插画\\links\\298.psd is ok\n",
      "C:\\Users\\jjp\\Desktop\\插画\\links\\299.psd\n"
     ]
    },
    {
     "name": "stderr",
     "output_type": "stream",
     "text": [
      "d:\\program files\\python37\\lib\\site-packages\\skimage\\io\\_io.py:140: UserWarning: C:\\Users\\jjp\\Desktop\\out\\299.png is a low contrast image\n",
      "  warn('%s is a low contrast image' % fname)\n"
     ]
    },
    {
     "name": "stdout",
     "output_type": "stream",
     "text": [
      "C:\\Users\\jjp\\Desktop\\插画\\links\\299.psd is ok\n",
      "C:\\Users\\jjp\\Desktop\\插画\\links\\3.psd\n"
     ]
    },
    {
     "name": "stderr",
     "output_type": "stream",
     "text": [
      "d:\\program files\\python37\\lib\\site-packages\\skimage\\io\\_io.py:140: UserWarning: C:\\Users\\jjp\\Desktop\\out\\3.png is a low contrast image\n",
      "  warn('%s is a low contrast image' % fname)\n"
     ]
    },
    {
     "name": "stdout",
     "output_type": "stream",
     "text": [
      "C:\\Users\\jjp\\Desktop\\插画\\links\\3.psd is ok\n",
      "C:\\Users\\jjp\\Desktop\\插画\\links\\30.psd\n"
     ]
    },
    {
     "name": "stderr",
     "output_type": "stream",
     "text": [
      "d:\\program files\\python37\\lib\\site-packages\\skimage\\io\\_io.py:140: UserWarning: C:\\Users\\jjp\\Desktop\\out\\30.png is a low contrast image\n",
      "  warn('%s is a low contrast image' % fname)\n"
     ]
    },
    {
     "name": "stdout",
     "output_type": "stream",
     "text": [
      "C:\\Users\\jjp\\Desktop\\插画\\links\\30.psd is ok\n",
      "C:\\Users\\jjp\\Desktop\\插画\\links\\300.psd\n"
     ]
    },
    {
     "name": "stderr",
     "output_type": "stream",
     "text": [
      "d:\\program files\\python37\\lib\\site-packages\\skimage\\io\\_io.py:140: UserWarning: C:\\Users\\jjp\\Desktop\\out\\300.png is a low contrast image\n",
      "  warn('%s is a low contrast image' % fname)\n"
     ]
    },
    {
     "name": "stdout",
     "output_type": "stream",
     "text": [
      "C:\\Users\\jjp\\Desktop\\插画\\links\\300.psd is ok\n",
      "C:\\Users\\jjp\\Desktop\\插画\\links\\301.psd\n"
     ]
    },
    {
     "name": "stderr",
     "output_type": "stream",
     "text": [
      "d:\\program files\\python37\\lib\\site-packages\\skimage\\io\\_io.py:140: UserWarning: C:\\Users\\jjp\\Desktop\\out\\301.png is a low contrast image\n",
      "  warn('%s is a low contrast image' % fname)\n"
     ]
    },
    {
     "name": "stdout",
     "output_type": "stream",
     "text": [
      "C:\\Users\\jjp\\Desktop\\插画\\links\\301.psd is ok\n",
      "C:\\Users\\jjp\\Desktop\\插画\\links\\302.psd\n"
     ]
    },
    {
     "name": "stderr",
     "output_type": "stream",
     "text": [
      "d:\\program files\\python37\\lib\\site-packages\\skimage\\io\\_io.py:140: UserWarning: C:\\Users\\jjp\\Desktop\\out\\302.png is a low contrast image\n",
      "  warn('%s is a low contrast image' % fname)\n"
     ]
    },
    {
     "name": "stdout",
     "output_type": "stream",
     "text": [
      "C:\\Users\\jjp\\Desktop\\插画\\links\\302.psd is ok\n",
      "C:\\Users\\jjp\\Desktop\\插画\\links\\303.psd\n"
     ]
    },
    {
     "name": "stderr",
     "output_type": "stream",
     "text": [
      "d:\\program files\\python37\\lib\\site-packages\\skimage\\io\\_io.py:140: UserWarning: C:\\Users\\jjp\\Desktop\\out\\303.png is a low contrast image\n",
      "  warn('%s is a low contrast image' % fname)\n"
     ]
    },
    {
     "name": "stdout",
     "output_type": "stream",
     "text": [
      "C:\\Users\\jjp\\Desktop\\插画\\links\\303.psd is ok\n",
      "C:\\Users\\jjp\\Desktop\\插画\\links\\304.psd\n"
     ]
    },
    {
     "name": "stderr",
     "output_type": "stream",
     "text": [
      "d:\\program files\\python37\\lib\\site-packages\\skimage\\io\\_io.py:140: UserWarning: C:\\Users\\jjp\\Desktop\\out\\304.png is a low contrast image\n",
      "  warn('%s is a low contrast image' % fname)\n"
     ]
    },
    {
     "name": "stdout",
     "output_type": "stream",
     "text": [
      "C:\\Users\\jjp\\Desktop\\插画\\links\\304.psd is ok\n",
      "C:\\Users\\jjp\\Desktop\\插画\\links\\305.psd\n"
     ]
    },
    {
     "name": "stderr",
     "output_type": "stream",
     "text": [
      "d:\\program files\\python37\\lib\\site-packages\\skimage\\io\\_io.py:140: UserWarning: C:\\Users\\jjp\\Desktop\\out\\305.png is a low contrast image\n",
      "  warn('%s is a low contrast image' % fname)\n"
     ]
    },
    {
     "name": "stdout",
     "output_type": "stream",
     "text": [
      "C:\\Users\\jjp\\Desktop\\插画\\links\\305.psd is ok\n",
      "C:\\Users\\jjp\\Desktop\\插画\\links\\306.psd\n"
     ]
    },
    {
     "name": "stderr",
     "output_type": "stream",
     "text": [
      "d:\\program files\\python37\\lib\\site-packages\\skimage\\io\\_io.py:140: UserWarning: C:\\Users\\jjp\\Desktop\\out\\306.png is a low contrast image\n",
      "  warn('%s is a low contrast image' % fname)\n"
     ]
    },
    {
     "name": "stdout",
     "output_type": "stream",
     "text": [
      "C:\\Users\\jjp\\Desktop\\插画\\links\\306.psd is ok\n",
      "C:\\Users\\jjp\\Desktop\\插画\\links\\307.psd\n"
     ]
    },
    {
     "name": "stderr",
     "output_type": "stream",
     "text": [
      "d:\\program files\\python37\\lib\\site-packages\\skimage\\io\\_io.py:140: UserWarning: C:\\Users\\jjp\\Desktop\\out\\307.png is a low contrast image\n",
      "  warn('%s is a low contrast image' % fname)\n"
     ]
    },
    {
     "name": "stdout",
     "output_type": "stream",
     "text": [
      "C:\\Users\\jjp\\Desktop\\插画\\links\\307.psd is ok\n",
      "C:\\Users\\jjp\\Desktop\\插画\\links\\308.psd\n"
     ]
    },
    {
     "name": "stderr",
     "output_type": "stream",
     "text": [
      "d:\\program files\\python37\\lib\\site-packages\\skimage\\io\\_io.py:140: UserWarning: C:\\Users\\jjp\\Desktop\\out\\308.png is a low contrast image\n",
      "  warn('%s is a low contrast image' % fname)\n"
     ]
    },
    {
     "name": "stdout",
     "output_type": "stream",
     "text": [
      "C:\\Users\\jjp\\Desktop\\插画\\links\\308.psd is ok\n",
      "C:\\Users\\jjp\\Desktop\\插画\\links\\309.psd\n"
     ]
    },
    {
     "name": "stderr",
     "output_type": "stream",
     "text": [
      "d:\\program files\\python37\\lib\\site-packages\\skimage\\io\\_io.py:140: UserWarning: C:\\Users\\jjp\\Desktop\\out\\309.png is a low contrast image\n",
      "  warn('%s is a low contrast image' % fname)\n"
     ]
    },
    {
     "name": "stdout",
     "output_type": "stream",
     "text": [
      "C:\\Users\\jjp\\Desktop\\插画\\links\\309.psd is ok\n",
      "C:\\Users\\jjp\\Desktop\\插画\\links\\31.psd\n"
     ]
    },
    {
     "name": "stderr",
     "output_type": "stream",
     "text": [
      "d:\\program files\\python37\\lib\\site-packages\\skimage\\io\\_io.py:140: UserWarning: C:\\Users\\jjp\\Desktop\\out\\31.png is a low contrast image\n",
      "  warn('%s is a low contrast image' % fname)\n"
     ]
    },
    {
     "name": "stdout",
     "output_type": "stream",
     "text": [
      "C:\\Users\\jjp\\Desktop\\插画\\links\\31.psd is ok\n",
      "C:\\Users\\jjp\\Desktop\\插画\\links\\310.psd\n"
     ]
    },
    {
     "name": "stderr",
     "output_type": "stream",
     "text": [
      "d:\\program files\\python37\\lib\\site-packages\\skimage\\io\\_io.py:140: UserWarning: C:\\Users\\jjp\\Desktop\\out\\310.png is a low contrast image\n",
      "  warn('%s is a low contrast image' % fname)\n"
     ]
    },
    {
     "name": "stdout",
     "output_type": "stream",
     "text": [
      "C:\\Users\\jjp\\Desktop\\插画\\links\\310.psd is ok\n",
      "C:\\Users\\jjp\\Desktop\\插画\\links\\311.psd\n"
     ]
    },
    {
     "name": "stderr",
     "output_type": "stream",
     "text": [
      "d:\\program files\\python37\\lib\\site-packages\\skimage\\io\\_io.py:140: UserWarning: C:\\Users\\jjp\\Desktop\\out\\311.png is a low contrast image\n",
      "  warn('%s is a low contrast image' % fname)\n"
     ]
    },
    {
     "name": "stdout",
     "output_type": "stream",
     "text": [
      "C:\\Users\\jjp\\Desktop\\插画\\links\\311.psd is ok\n",
      "C:\\Users\\jjp\\Desktop\\插画\\links\\312.psd\n"
     ]
    },
    {
     "name": "stderr",
     "output_type": "stream",
     "text": [
      "d:\\program files\\python37\\lib\\site-packages\\skimage\\io\\_io.py:140: UserWarning: C:\\Users\\jjp\\Desktop\\out\\312.png is a low contrast image\n",
      "  warn('%s is a low contrast image' % fname)\n"
     ]
    },
    {
     "name": "stdout",
     "output_type": "stream",
     "text": [
      "C:\\Users\\jjp\\Desktop\\插画\\links\\312.psd is ok\n",
      "C:\\Users\\jjp\\Desktop\\插画\\links\\313.psd\n"
     ]
    },
    {
     "name": "stderr",
     "output_type": "stream",
     "text": [
      "d:\\program files\\python37\\lib\\site-packages\\skimage\\io\\_io.py:140: UserWarning: C:\\Users\\jjp\\Desktop\\out\\313.png is a low contrast image\n",
      "  warn('%s is a low contrast image' % fname)\n"
     ]
    },
    {
     "name": "stdout",
     "output_type": "stream",
     "text": [
      "C:\\Users\\jjp\\Desktop\\插画\\links\\313.psd is ok\n",
      "C:\\Users\\jjp\\Desktop\\插画\\links\\314.psd\n"
     ]
    },
    {
     "name": "stderr",
     "output_type": "stream",
     "text": [
      "d:\\program files\\python37\\lib\\site-packages\\skimage\\io\\_io.py:140: UserWarning: C:\\Users\\jjp\\Desktop\\out\\314.png is a low contrast image\n",
      "  warn('%s is a low contrast image' % fname)\n"
     ]
    },
    {
     "name": "stdout",
     "output_type": "stream",
     "text": [
      "C:\\Users\\jjp\\Desktop\\插画\\links\\314.psd is ok\n",
      "C:\\Users\\jjp\\Desktop\\插画\\links\\315.psd\n"
     ]
    },
    {
     "name": "stderr",
     "output_type": "stream",
     "text": [
      "d:\\program files\\python37\\lib\\site-packages\\skimage\\io\\_io.py:140: UserWarning: C:\\Users\\jjp\\Desktop\\out\\315.png is a low contrast image\n",
      "  warn('%s is a low contrast image' % fname)\n"
     ]
    },
    {
     "name": "stdout",
     "output_type": "stream",
     "text": [
      "C:\\Users\\jjp\\Desktop\\插画\\links\\315.psd is ok\n",
      "C:\\Users\\jjp\\Desktop\\插画\\links\\316.psd\n"
     ]
    },
    {
     "name": "stderr",
     "output_type": "stream",
     "text": [
      "d:\\program files\\python37\\lib\\site-packages\\skimage\\io\\_io.py:140: UserWarning: C:\\Users\\jjp\\Desktop\\out\\316.png is a low contrast image\n",
      "  warn('%s is a low contrast image' % fname)\n"
     ]
    },
    {
     "name": "stdout",
     "output_type": "stream",
     "text": [
      "C:\\Users\\jjp\\Desktop\\插画\\links\\316.psd is ok\n",
      "C:\\Users\\jjp\\Desktop\\插画\\links\\317.psd\n"
     ]
    },
    {
     "name": "stderr",
     "output_type": "stream",
     "text": [
      "d:\\program files\\python37\\lib\\site-packages\\skimage\\io\\_io.py:140: UserWarning: C:\\Users\\jjp\\Desktop\\out\\317.png is a low contrast image\n",
      "  warn('%s is a low contrast image' % fname)\n"
     ]
    },
    {
     "name": "stdout",
     "output_type": "stream",
     "text": [
      "C:\\Users\\jjp\\Desktop\\插画\\links\\317.psd is ok\n",
      "C:\\Users\\jjp\\Desktop\\插画\\links\\318.psd\n"
     ]
    },
    {
     "name": "stderr",
     "output_type": "stream",
     "text": [
      "d:\\program files\\python37\\lib\\site-packages\\skimage\\io\\_io.py:140: UserWarning: C:\\Users\\jjp\\Desktop\\out\\318.png is a low contrast image\n",
      "  warn('%s is a low contrast image' % fname)\n"
     ]
    },
    {
     "name": "stdout",
     "output_type": "stream",
     "text": [
      "C:\\Users\\jjp\\Desktop\\插画\\links\\318.psd is ok\n",
      "C:\\Users\\jjp\\Desktop\\插画\\links\\319.psd\n"
     ]
    },
    {
     "name": "stderr",
     "output_type": "stream",
     "text": [
      "d:\\program files\\python37\\lib\\site-packages\\skimage\\io\\_io.py:140: UserWarning: C:\\Users\\jjp\\Desktop\\out\\319.png is a low contrast image\n",
      "  warn('%s is a low contrast image' % fname)\n"
     ]
    },
    {
     "name": "stdout",
     "output_type": "stream",
     "text": [
      "C:\\Users\\jjp\\Desktop\\插画\\links\\319.psd is ok\n",
      "C:\\Users\\jjp\\Desktop\\插画\\links\\32.psd\n"
     ]
    },
    {
     "name": "stderr",
     "output_type": "stream",
     "text": [
      "d:\\program files\\python37\\lib\\site-packages\\skimage\\io\\_io.py:140: UserWarning: C:\\Users\\jjp\\Desktop\\out\\32.png is a low contrast image\n",
      "  warn('%s is a low contrast image' % fname)\n"
     ]
    },
    {
     "name": "stdout",
     "output_type": "stream",
     "text": [
      "C:\\Users\\jjp\\Desktop\\插画\\links\\32.psd is ok\n",
      "C:\\Users\\jjp\\Desktop\\插画\\links\\320.psd\n"
     ]
    },
    {
     "name": "stderr",
     "output_type": "stream",
     "text": [
      "d:\\program files\\python37\\lib\\site-packages\\skimage\\io\\_io.py:140: UserWarning: C:\\Users\\jjp\\Desktop\\out\\320.png is a low contrast image\n",
      "  warn('%s is a low contrast image' % fname)\n"
     ]
    },
    {
     "name": "stdout",
     "output_type": "stream",
     "text": [
      "C:\\Users\\jjp\\Desktop\\插画\\links\\320.psd is ok\n",
      "C:\\Users\\jjp\\Desktop\\插画\\links\\321.psd\n"
     ]
    },
    {
     "name": "stderr",
     "output_type": "stream",
     "text": [
      "d:\\program files\\python37\\lib\\site-packages\\skimage\\io\\_io.py:140: UserWarning: C:\\Users\\jjp\\Desktop\\out\\321.png is a low contrast image\n",
      "  warn('%s is a low contrast image' % fname)\n"
     ]
    },
    {
     "name": "stdout",
     "output_type": "stream",
     "text": [
      "C:\\Users\\jjp\\Desktop\\插画\\links\\321.psd is ok\n",
      "C:\\Users\\jjp\\Desktop\\插画\\links\\322.psd\n"
     ]
    },
    {
     "name": "stderr",
     "output_type": "stream",
     "text": [
      "d:\\program files\\python37\\lib\\site-packages\\skimage\\io\\_io.py:140: UserWarning: C:\\Users\\jjp\\Desktop\\out\\322.png is a low contrast image\n",
      "  warn('%s is a low contrast image' % fname)\n"
     ]
    },
    {
     "name": "stdout",
     "output_type": "stream",
     "text": [
      "C:\\Users\\jjp\\Desktop\\插画\\links\\322.psd is ok\n"
     ]
    },
    {
     "name": "stderr",
     "output_type": "stream",
     "text": [
      "d:\\program files\\python37\\lib\\site-packages\\skimage\\io\\_io.py:140: UserWarning: C:\\Users\\jjp\\Desktop\\out\\323.png is a low contrast image\n",
      "  warn('%s is a low contrast image' % fname)\n"
     ]
    },
    {
     "name": "stdout",
     "output_type": "stream",
     "text": [
      "C:\\Users\\jjp\\Desktop\\插画\\links\\323.psd\n",
      "C:\\Users\\jjp\\Desktop\\插画\\links\\323.psd is ok\n",
      "C:\\Users\\jjp\\Desktop\\插画\\links\\324.psd\n"
     ]
    },
    {
     "name": "stderr",
     "output_type": "stream",
     "text": [
      "d:\\program files\\python37\\lib\\site-packages\\skimage\\io\\_io.py:140: UserWarning: C:\\Users\\jjp\\Desktop\\out\\324.png is a low contrast image\n",
      "  warn('%s is a low contrast image' % fname)\n"
     ]
    },
    {
     "name": "stdout",
     "output_type": "stream",
     "text": [
      "C:\\Users\\jjp\\Desktop\\插画\\links\\324.psd is ok\n",
      "C:\\Users\\jjp\\Desktop\\插画\\links\\325.psd\n"
     ]
    },
    {
     "name": "stderr",
     "output_type": "stream",
     "text": [
      "d:\\program files\\python37\\lib\\site-packages\\skimage\\io\\_io.py:140: UserWarning: C:\\Users\\jjp\\Desktop\\out\\325.png is a low contrast image\n",
      "  warn('%s is a low contrast image' % fname)\n"
     ]
    },
    {
     "name": "stdout",
     "output_type": "stream",
     "text": [
      "C:\\Users\\jjp\\Desktop\\插画\\links\\325.psd is ok\n",
      "C:\\Users\\jjp\\Desktop\\插画\\links\\326.psd\n"
     ]
    },
    {
     "name": "stderr",
     "output_type": "stream",
     "text": [
      "d:\\program files\\python37\\lib\\site-packages\\skimage\\io\\_io.py:140: UserWarning: C:\\Users\\jjp\\Desktop\\out\\326.png is a low contrast image\n",
      "  warn('%s is a low contrast image' % fname)\n"
     ]
    },
    {
     "name": "stdout",
     "output_type": "stream",
     "text": [
      "C:\\Users\\jjp\\Desktop\\插画\\links\\326.psd is ok\n",
      "C:\\Users\\jjp\\Desktop\\插画\\links\\327.psd\n"
     ]
    },
    {
     "name": "stderr",
     "output_type": "stream",
     "text": [
      "d:\\program files\\python37\\lib\\site-packages\\skimage\\io\\_io.py:140: UserWarning: C:\\Users\\jjp\\Desktop\\out\\327.png is a low contrast image\n",
      "  warn('%s is a low contrast image' % fname)\n"
     ]
    },
    {
     "name": "stdout",
     "output_type": "stream",
     "text": [
      "C:\\Users\\jjp\\Desktop\\插画\\links\\327.psd is ok\n",
      "C:\\Users\\jjp\\Desktop\\插画\\links\\328.psd\n"
     ]
    },
    {
     "name": "stderr",
     "output_type": "stream",
     "text": [
      "d:\\program files\\python37\\lib\\site-packages\\skimage\\io\\_io.py:140: UserWarning: C:\\Users\\jjp\\Desktop\\out\\328.png is a low contrast image\n",
      "  warn('%s is a low contrast image' % fname)\n"
     ]
    },
    {
     "name": "stdout",
     "output_type": "stream",
     "text": [
      "C:\\Users\\jjp\\Desktop\\插画\\links\\328.psd is ok\n",
      "C:\\Users\\jjp\\Desktop\\插画\\links\\329.psd\n"
     ]
    },
    {
     "name": "stderr",
     "output_type": "stream",
     "text": [
      "d:\\program files\\python37\\lib\\site-packages\\skimage\\io\\_io.py:140: UserWarning: C:\\Users\\jjp\\Desktop\\out\\329.png is a low contrast image\n",
      "  warn('%s is a low contrast image' % fname)\n"
     ]
    },
    {
     "name": "stdout",
     "output_type": "stream",
     "text": [
      "C:\\Users\\jjp\\Desktop\\插画\\links\\329.psd is ok\n",
      "C:\\Users\\jjp\\Desktop\\插画\\links\\33.psd\n"
     ]
    },
    {
     "name": "stderr",
     "output_type": "stream",
     "text": [
      "d:\\program files\\python37\\lib\\site-packages\\skimage\\io\\_io.py:140: UserWarning: C:\\Users\\jjp\\Desktop\\out\\33.png is a low contrast image\n",
      "  warn('%s is a low contrast image' % fname)\n"
     ]
    },
    {
     "name": "stdout",
     "output_type": "stream",
     "text": [
      "C:\\Users\\jjp\\Desktop\\插画\\links\\33.psd is ok\n",
      "C:\\Users\\jjp\\Desktop\\插画\\links\\330.psd\n"
     ]
    },
    {
     "name": "stderr",
     "output_type": "stream",
     "text": [
      "d:\\program files\\python37\\lib\\site-packages\\skimage\\io\\_io.py:140: UserWarning: C:\\Users\\jjp\\Desktop\\out\\330.png is a low contrast image\n",
      "  warn('%s is a low contrast image' % fname)\n"
     ]
    },
    {
     "name": "stdout",
     "output_type": "stream",
     "text": [
      "C:\\Users\\jjp\\Desktop\\插画\\links\\330.psd is ok\n",
      "C:\\Users\\jjp\\Desktop\\插画\\links\\331.psd\n"
     ]
    },
    {
     "name": "stderr",
     "output_type": "stream",
     "text": [
      "d:\\program files\\python37\\lib\\site-packages\\skimage\\io\\_io.py:140: UserWarning: C:\\Users\\jjp\\Desktop\\out\\331.png is a low contrast image\n",
      "  warn('%s is a low contrast image' % fname)\n"
     ]
    },
    {
     "name": "stdout",
     "output_type": "stream",
     "text": [
      "C:\\Users\\jjp\\Desktop\\插画\\links\\331.psd is ok\n",
      "C:\\Users\\jjp\\Desktop\\插画\\links\\332.psd\n"
     ]
    },
    {
     "name": "stderr",
     "output_type": "stream",
     "text": [
      "d:\\program files\\python37\\lib\\site-packages\\skimage\\io\\_io.py:140: UserWarning: C:\\Users\\jjp\\Desktop\\out\\332.png is a low contrast image\n",
      "  warn('%s is a low contrast image' % fname)\n"
     ]
    },
    {
     "name": "stdout",
     "output_type": "stream",
     "text": [
      "C:\\Users\\jjp\\Desktop\\插画\\links\\332.psd is ok\n",
      "C:\\Users\\jjp\\Desktop\\插画\\links\\333.psd\n"
     ]
    },
    {
     "name": "stderr",
     "output_type": "stream",
     "text": [
      "d:\\program files\\python37\\lib\\site-packages\\skimage\\io\\_io.py:140: UserWarning: C:\\Users\\jjp\\Desktop\\out\\333.png is a low contrast image\n",
      "  warn('%s is a low contrast image' % fname)\n"
     ]
    },
    {
     "name": "stdout",
     "output_type": "stream",
     "text": [
      "C:\\Users\\jjp\\Desktop\\插画\\links\\333.psd is ok\n",
      "C:\\Users\\jjp\\Desktop\\插画\\links\\334.psd\n"
     ]
    },
    {
     "name": "stderr",
     "output_type": "stream",
     "text": [
      "d:\\program files\\python37\\lib\\site-packages\\skimage\\io\\_io.py:140: UserWarning: C:\\Users\\jjp\\Desktop\\out\\334.png is a low contrast image\n",
      "  warn('%s is a low contrast image' % fname)\n"
     ]
    },
    {
     "name": "stdout",
     "output_type": "stream",
     "text": [
      "C:\\Users\\jjp\\Desktop\\插画\\links\\334.psd is ok\n",
      "C:\\Users\\jjp\\Desktop\\插画\\links\\335.psd\n"
     ]
    },
    {
     "name": "stderr",
     "output_type": "stream",
     "text": [
      "d:\\program files\\python37\\lib\\site-packages\\skimage\\io\\_io.py:140: UserWarning: C:\\Users\\jjp\\Desktop\\out\\335.png is a low contrast image\n",
      "  warn('%s is a low contrast image' % fname)\n"
     ]
    },
    {
     "name": "stdout",
     "output_type": "stream",
     "text": [
      "C:\\Users\\jjp\\Desktop\\插画\\links\\335.psd is ok\n",
      "C:\\Users\\jjp\\Desktop\\插画\\links\\336.psd\n"
     ]
    },
    {
     "name": "stderr",
     "output_type": "stream",
     "text": [
      "d:\\program files\\python37\\lib\\site-packages\\skimage\\io\\_io.py:140: UserWarning: C:\\Users\\jjp\\Desktop\\out\\336.png is a low contrast image\n",
      "  warn('%s is a low contrast image' % fname)\n"
     ]
    },
    {
     "name": "stdout",
     "output_type": "stream",
     "text": [
      "C:\\Users\\jjp\\Desktop\\插画\\links\\336.psd is ok\n",
      "C:\\Users\\jjp\\Desktop\\插画\\links\\337.psd\n"
     ]
    },
    {
     "name": "stderr",
     "output_type": "stream",
     "text": [
      "d:\\program files\\python37\\lib\\site-packages\\skimage\\io\\_io.py:140: UserWarning: C:\\Users\\jjp\\Desktop\\out\\337.png is a low contrast image\n",
      "  warn('%s is a low contrast image' % fname)\n"
     ]
    },
    {
     "name": "stdout",
     "output_type": "stream",
     "text": [
      "C:\\Users\\jjp\\Desktop\\插画\\links\\337.psd is ok\n",
      "C:\\Users\\jjp\\Desktop\\插画\\links\\338.psd\n"
     ]
    },
    {
     "name": "stderr",
     "output_type": "stream",
     "text": [
      "d:\\program files\\python37\\lib\\site-packages\\skimage\\io\\_io.py:140: UserWarning: C:\\Users\\jjp\\Desktop\\out\\338.png is a low contrast image\n",
      "  warn('%s is a low contrast image' % fname)\n"
     ]
    },
    {
     "name": "stdout",
     "output_type": "stream",
     "text": [
      "C:\\Users\\jjp\\Desktop\\插画\\links\\338.psd is ok\n",
      "C:\\Users\\jjp\\Desktop\\插画\\links\\339.psd\n"
     ]
    },
    {
     "name": "stderr",
     "output_type": "stream",
     "text": [
      "d:\\program files\\python37\\lib\\site-packages\\skimage\\io\\_io.py:140: UserWarning: C:\\Users\\jjp\\Desktop\\out\\339.png is a low contrast image\n",
      "  warn('%s is a low contrast image' % fname)\n"
     ]
    },
    {
     "name": "stdout",
     "output_type": "stream",
     "text": [
      "C:\\Users\\jjp\\Desktop\\插画\\links\\339.psd is ok\n",
      "C:\\Users\\jjp\\Desktop\\插画\\links\\34.psd\n"
     ]
    },
    {
     "name": "stderr",
     "output_type": "stream",
     "text": [
      "d:\\program files\\python37\\lib\\site-packages\\skimage\\io\\_io.py:140: UserWarning: C:\\Users\\jjp\\Desktop\\out\\34.png is a low contrast image\n",
      "  warn('%s is a low contrast image' % fname)\n"
     ]
    },
    {
     "name": "stdout",
     "output_type": "stream",
     "text": [
      "C:\\Users\\jjp\\Desktop\\插画\\links\\34.psd is ok\n",
      "C:\\Users\\jjp\\Desktop\\插画\\links\\340.psd\n"
     ]
    },
    {
     "name": "stderr",
     "output_type": "stream",
     "text": [
      "d:\\program files\\python37\\lib\\site-packages\\skimage\\io\\_io.py:140: UserWarning: C:\\Users\\jjp\\Desktop\\out\\340.png is a low contrast image\n",
      "  warn('%s is a low contrast image' % fname)\n"
     ]
    },
    {
     "name": "stdout",
     "output_type": "stream",
     "text": [
      "C:\\Users\\jjp\\Desktop\\插画\\links\\340.psd is ok\n",
      "C:\\Users\\jjp\\Desktop\\插画\\links\\341.psd\n"
     ]
    },
    {
     "name": "stderr",
     "output_type": "stream",
     "text": [
      "d:\\program files\\python37\\lib\\site-packages\\skimage\\io\\_io.py:140: UserWarning: C:\\Users\\jjp\\Desktop\\out\\341.png is a low contrast image\n",
      "  warn('%s is a low contrast image' % fname)\n"
     ]
    },
    {
     "name": "stdout",
     "output_type": "stream",
     "text": [
      "C:\\Users\\jjp\\Desktop\\插画\\links\\341.psd is ok\n",
      "C:\\Users\\jjp\\Desktop\\插画\\links\\342.psd\n"
     ]
    },
    {
     "name": "stderr",
     "output_type": "stream",
     "text": [
      "d:\\program files\\python37\\lib\\site-packages\\skimage\\io\\_io.py:140: UserWarning: C:\\Users\\jjp\\Desktop\\out\\342.png is a low contrast image\n",
      "  warn('%s is a low contrast image' % fname)\n"
     ]
    },
    {
     "name": "stdout",
     "output_type": "stream",
     "text": [
      "C:\\Users\\jjp\\Desktop\\插画\\links\\342.psd is ok\n",
      "C:\\Users\\jjp\\Desktop\\插画\\links\\343.psd\n"
     ]
    },
    {
     "name": "stderr",
     "output_type": "stream",
     "text": [
      "d:\\program files\\python37\\lib\\site-packages\\skimage\\io\\_io.py:140: UserWarning: C:\\Users\\jjp\\Desktop\\out\\343.png is a low contrast image\n",
      "  warn('%s is a low contrast image' % fname)\n"
     ]
    },
    {
     "name": "stdout",
     "output_type": "stream",
     "text": [
      "C:\\Users\\jjp\\Desktop\\插画\\links\\343.psd is ok\n",
      "C:\\Users\\jjp\\Desktop\\插画\\links\\344.psd\n"
     ]
    },
    {
     "name": "stderr",
     "output_type": "stream",
     "text": [
      "d:\\program files\\python37\\lib\\site-packages\\skimage\\io\\_io.py:140: UserWarning: C:\\Users\\jjp\\Desktop\\out\\344.png is a low contrast image\n",
      "  warn('%s is a low contrast image' % fname)\n"
     ]
    },
    {
     "name": "stdout",
     "output_type": "stream",
     "text": [
      "C:\\Users\\jjp\\Desktop\\插画\\links\\344.psd is ok\n",
      "C:\\Users\\jjp\\Desktop\\插画\\links\\345.psd\n"
     ]
    },
    {
     "name": "stderr",
     "output_type": "stream",
     "text": [
      "d:\\program files\\python37\\lib\\site-packages\\skimage\\io\\_io.py:140: UserWarning: C:\\Users\\jjp\\Desktop\\out\\345.png is a low contrast image\n",
      "  warn('%s is a low contrast image' % fname)\n"
     ]
    },
    {
     "name": "stdout",
     "output_type": "stream",
     "text": [
      "C:\\Users\\jjp\\Desktop\\插画\\links\\345.psd is ok\n",
      "C:\\Users\\jjp\\Desktop\\插画\\links\\346.psd\n"
     ]
    },
    {
     "name": "stderr",
     "output_type": "stream",
     "text": [
      "d:\\program files\\python37\\lib\\site-packages\\skimage\\io\\_io.py:140: UserWarning: C:\\Users\\jjp\\Desktop\\out\\346.png is a low contrast image\n",
      "  warn('%s is a low contrast image' % fname)\n"
     ]
    },
    {
     "name": "stdout",
     "output_type": "stream",
     "text": [
      "C:\\Users\\jjp\\Desktop\\插画\\links\\346.psd is ok\n",
      "C:\\Users\\jjp\\Desktop\\插画\\links\\347.psd\n"
     ]
    },
    {
     "name": "stderr",
     "output_type": "stream",
     "text": [
      "d:\\program files\\python37\\lib\\site-packages\\skimage\\io\\_io.py:140: UserWarning: C:\\Users\\jjp\\Desktop\\out\\347.png is a low contrast image\n",
      "  warn('%s is a low contrast image' % fname)\n"
     ]
    },
    {
     "name": "stdout",
     "output_type": "stream",
     "text": [
      "C:\\Users\\jjp\\Desktop\\插画\\links\\347.psd is ok\n",
      "C:\\Users\\jjp\\Desktop\\插画\\links\\348.psd\n"
     ]
    },
    {
     "name": "stderr",
     "output_type": "stream",
     "text": [
      "d:\\program files\\python37\\lib\\site-packages\\skimage\\io\\_io.py:140: UserWarning: C:\\Users\\jjp\\Desktop\\out\\348.png is a low contrast image\n",
      "  warn('%s is a low contrast image' % fname)\n"
     ]
    },
    {
     "name": "stdout",
     "output_type": "stream",
     "text": [
      "C:\\Users\\jjp\\Desktop\\插画\\links\\348.psd is ok\n",
      "C:\\Users\\jjp\\Desktop\\插画\\links\\349.psd\n"
     ]
    },
    {
     "name": "stderr",
     "output_type": "stream",
     "text": [
      "d:\\program files\\python37\\lib\\site-packages\\skimage\\io\\_io.py:140: UserWarning: C:\\Users\\jjp\\Desktop\\out\\349.png is a low contrast image\n",
      "  warn('%s is a low contrast image' % fname)\n"
     ]
    },
    {
     "name": "stdout",
     "output_type": "stream",
     "text": [
      "C:\\Users\\jjp\\Desktop\\插画\\links\\349.psd is ok\n",
      "C:\\Users\\jjp\\Desktop\\插画\\links\\35.psd\n"
     ]
    },
    {
     "name": "stderr",
     "output_type": "stream",
     "text": [
      "d:\\program files\\python37\\lib\\site-packages\\skimage\\io\\_io.py:140: UserWarning: C:\\Users\\jjp\\Desktop\\out\\35.png is a low contrast image\n",
      "  warn('%s is a low contrast image' % fname)\n"
     ]
    },
    {
     "name": "stdout",
     "output_type": "stream",
     "text": [
      "C:\\Users\\jjp\\Desktop\\插画\\links\\35.psd is ok\n",
      "C:\\Users\\jjp\\Desktop\\插画\\links\\350.psd\n"
     ]
    },
    {
     "name": "stderr",
     "output_type": "stream",
     "text": [
      "d:\\program files\\python37\\lib\\site-packages\\skimage\\io\\_io.py:140: UserWarning: C:\\Users\\jjp\\Desktop\\out\\350.png is a low contrast image\n",
      "  warn('%s is a low contrast image' % fname)\n"
     ]
    },
    {
     "name": "stdout",
     "output_type": "stream",
     "text": [
      "C:\\Users\\jjp\\Desktop\\插画\\links\\350.psd is ok\n",
      "C:\\Users\\jjp\\Desktop\\插画\\links\\351.psd\n"
     ]
    },
    {
     "name": "stderr",
     "output_type": "stream",
     "text": [
      "d:\\program files\\python37\\lib\\site-packages\\skimage\\io\\_io.py:140: UserWarning: C:\\Users\\jjp\\Desktop\\out\\351.png is a low contrast image\n",
      "  warn('%s is a low contrast image' % fname)\n"
     ]
    },
    {
     "name": "stdout",
     "output_type": "stream",
     "text": [
      "C:\\Users\\jjp\\Desktop\\插画\\links\\351.psd is ok\n",
      "C:\\Users\\jjp\\Desktop\\插画\\links\\352.psd\n"
     ]
    },
    {
     "name": "stderr",
     "output_type": "stream",
     "text": [
      "d:\\program files\\python37\\lib\\site-packages\\skimage\\io\\_io.py:140: UserWarning: C:\\Users\\jjp\\Desktop\\out\\352.png is a low contrast image\n",
      "  warn('%s is a low contrast image' % fname)\n"
     ]
    },
    {
     "name": "stdout",
     "output_type": "stream",
     "text": [
      "C:\\Users\\jjp\\Desktop\\插画\\links\\352.psd is ok\n",
      "C:\\Users\\jjp\\Desktop\\插画\\links\\353.psd\n"
     ]
    },
    {
     "name": "stderr",
     "output_type": "stream",
     "text": [
      "d:\\program files\\python37\\lib\\site-packages\\skimage\\io\\_io.py:140: UserWarning: C:\\Users\\jjp\\Desktop\\out\\353.png is a low contrast image\n",
      "  warn('%s is a low contrast image' % fname)\n"
     ]
    },
    {
     "name": "stdout",
     "output_type": "stream",
     "text": [
      "C:\\Users\\jjp\\Desktop\\插画\\links\\353.psd is ok\n",
      "C:\\Users\\jjp\\Desktop\\插画\\links\\354.psd\n"
     ]
    },
    {
     "name": "stderr",
     "output_type": "stream",
     "text": [
      "d:\\program files\\python37\\lib\\site-packages\\skimage\\io\\_io.py:140: UserWarning: C:\\Users\\jjp\\Desktop\\out\\354.png is a low contrast image\n",
      "  warn('%s is a low contrast image' % fname)\n"
     ]
    },
    {
     "name": "stdout",
     "output_type": "stream",
     "text": [
      "C:\\Users\\jjp\\Desktop\\插画\\links\\354.psd is ok\n",
      "C:\\Users\\jjp\\Desktop\\插画\\links\\355.psd\n"
     ]
    },
    {
     "name": "stderr",
     "output_type": "stream",
     "text": [
      "d:\\program files\\python37\\lib\\site-packages\\skimage\\io\\_io.py:140: UserWarning: C:\\Users\\jjp\\Desktop\\out\\355.png is a low contrast image\n",
      "  warn('%s is a low contrast image' % fname)\n"
     ]
    },
    {
     "name": "stdout",
     "output_type": "stream",
     "text": [
      "C:\\Users\\jjp\\Desktop\\插画\\links\\355.psd is ok\n",
      "C:\\Users\\jjp\\Desktop\\插画\\links\\356.psd\n"
     ]
    },
    {
     "name": "stderr",
     "output_type": "stream",
     "text": [
      "d:\\program files\\python37\\lib\\site-packages\\skimage\\io\\_io.py:140: UserWarning: C:\\Users\\jjp\\Desktop\\out\\356.png is a low contrast image\n",
      "  warn('%s is a low contrast image' % fname)\n"
     ]
    },
    {
     "name": "stdout",
     "output_type": "stream",
     "text": [
      "C:\\Users\\jjp\\Desktop\\插画\\links\\356.psd is ok\n",
      "C:\\Users\\jjp\\Desktop\\插画\\links\\357.psd\n"
     ]
    },
    {
     "name": "stderr",
     "output_type": "stream",
     "text": [
      "d:\\program files\\python37\\lib\\site-packages\\skimage\\io\\_io.py:140: UserWarning: C:\\Users\\jjp\\Desktop\\out\\357.png is a low contrast image\n",
      "  warn('%s is a low contrast image' % fname)\n"
     ]
    },
    {
     "name": "stdout",
     "output_type": "stream",
     "text": [
      "C:\\Users\\jjp\\Desktop\\插画\\links\\357.psd is ok\n",
      "C:\\Users\\jjp\\Desktop\\插画\\links\\358.psd\n"
     ]
    },
    {
     "name": "stderr",
     "output_type": "stream",
     "text": [
      "d:\\program files\\python37\\lib\\site-packages\\skimage\\io\\_io.py:140: UserWarning: C:\\Users\\jjp\\Desktop\\out\\358.png is a low contrast image\n",
      "  warn('%s is a low contrast image' % fname)\n"
     ]
    },
    {
     "name": "stdout",
     "output_type": "stream",
     "text": [
      "C:\\Users\\jjp\\Desktop\\插画\\links\\358.psd is ok\n",
      "C:\\Users\\jjp\\Desktop\\插画\\links\\359.psd\n"
     ]
    },
    {
     "name": "stderr",
     "output_type": "stream",
     "text": [
      "d:\\program files\\python37\\lib\\site-packages\\skimage\\io\\_io.py:140: UserWarning: C:\\Users\\jjp\\Desktop\\out\\359.png is a low contrast image\n",
      "  warn('%s is a low contrast image' % fname)\n"
     ]
    },
    {
     "name": "stdout",
     "output_type": "stream",
     "text": [
      "C:\\Users\\jjp\\Desktop\\插画\\links\\359.psd is ok\n",
      "C:\\Users\\jjp\\Desktop\\插画\\links\\36.psd\n"
     ]
    },
    {
     "name": "stderr",
     "output_type": "stream",
     "text": [
      "d:\\program files\\python37\\lib\\site-packages\\skimage\\io\\_io.py:140: UserWarning: C:\\Users\\jjp\\Desktop\\out\\36.png is a low contrast image\n",
      "  warn('%s is a low contrast image' % fname)\n"
     ]
    },
    {
     "name": "stdout",
     "output_type": "stream",
     "text": [
      "C:\\Users\\jjp\\Desktop\\插画\\links\\36.psd is ok\n",
      "C:\\Users\\jjp\\Desktop\\插画\\links\\360.psd\n"
     ]
    },
    {
     "name": "stderr",
     "output_type": "stream",
     "text": [
      "d:\\program files\\python37\\lib\\site-packages\\skimage\\io\\_io.py:140: UserWarning: C:\\Users\\jjp\\Desktop\\out\\360.png is a low contrast image\n",
      "  warn('%s is a low contrast image' % fname)\n"
     ]
    },
    {
     "name": "stdout",
     "output_type": "stream",
     "text": [
      "C:\\Users\\jjp\\Desktop\\插画\\links\\360.psd is ok\n",
      "C:\\Users\\jjp\\Desktop\\插画\\links\\361.psd\n"
     ]
    },
    {
     "name": "stderr",
     "output_type": "stream",
     "text": [
      "d:\\program files\\python37\\lib\\site-packages\\skimage\\io\\_io.py:140: UserWarning: C:\\Users\\jjp\\Desktop\\out\\361.png is a low contrast image\n",
      "  warn('%s is a low contrast image' % fname)\n"
     ]
    },
    {
     "name": "stdout",
     "output_type": "stream",
     "text": [
      "C:\\Users\\jjp\\Desktop\\插画\\links\\361.psd is ok\n",
      "C:\\Users\\jjp\\Desktop\\插画\\links\\362.psd\n"
     ]
    },
    {
     "name": "stderr",
     "output_type": "stream",
     "text": [
      "d:\\program files\\python37\\lib\\site-packages\\skimage\\io\\_io.py:140: UserWarning: C:\\Users\\jjp\\Desktop\\out\\362.png is a low contrast image\n",
      "  warn('%s is a low contrast image' % fname)\n"
     ]
    },
    {
     "name": "stdout",
     "output_type": "stream",
     "text": [
      "C:\\Users\\jjp\\Desktop\\插画\\links\\362.psd is ok\n",
      "C:\\Users\\jjp\\Desktop\\插画\\links\\363.psd\n"
     ]
    },
    {
     "name": "stderr",
     "output_type": "stream",
     "text": [
      "d:\\program files\\python37\\lib\\site-packages\\skimage\\io\\_io.py:140: UserWarning: C:\\Users\\jjp\\Desktop\\out\\363.png is a low contrast image\n",
      "  warn('%s is a low contrast image' % fname)\n"
     ]
    },
    {
     "name": "stdout",
     "output_type": "stream",
     "text": [
      "C:\\Users\\jjp\\Desktop\\插画\\links\\363.psd is ok\n",
      "C:\\Users\\jjp\\Desktop\\插画\\links\\364.psd\n"
     ]
    },
    {
     "name": "stderr",
     "output_type": "stream",
     "text": [
      "d:\\program files\\python37\\lib\\site-packages\\skimage\\io\\_io.py:140: UserWarning: C:\\Users\\jjp\\Desktop\\out\\364.png is a low contrast image\n",
      "  warn('%s is a low contrast image' % fname)\n"
     ]
    },
    {
     "name": "stdout",
     "output_type": "stream",
     "text": [
      "C:\\Users\\jjp\\Desktop\\插画\\links\\364.psd is ok\n",
      "C:\\Users\\jjp\\Desktop\\插画\\links\\365.psd\n"
     ]
    },
    {
     "name": "stderr",
     "output_type": "stream",
     "text": [
      "d:\\program files\\python37\\lib\\site-packages\\skimage\\io\\_io.py:140: UserWarning: C:\\Users\\jjp\\Desktop\\out\\365.png is a low contrast image\n",
      "  warn('%s is a low contrast image' % fname)\n"
     ]
    },
    {
     "name": "stdout",
     "output_type": "stream",
     "text": [
      "C:\\Users\\jjp\\Desktop\\插画\\links\\365.psd is ok\n",
      "C:\\Users\\jjp\\Desktop\\插画\\links\\366.psd\n"
     ]
    },
    {
     "name": "stderr",
     "output_type": "stream",
     "text": [
      "d:\\program files\\python37\\lib\\site-packages\\skimage\\io\\_io.py:140: UserWarning: C:\\Users\\jjp\\Desktop\\out\\366.png is a low contrast image\n",
      "  warn('%s is a low contrast image' % fname)\n"
     ]
    },
    {
     "name": "stdout",
     "output_type": "stream",
     "text": [
      "C:\\Users\\jjp\\Desktop\\插画\\links\\366.psd is ok\n",
      "C:\\Users\\jjp\\Desktop\\插画\\links\\367.psd\n"
     ]
    },
    {
     "name": "stderr",
     "output_type": "stream",
     "text": [
      "d:\\program files\\python37\\lib\\site-packages\\skimage\\io\\_io.py:140: UserWarning: C:\\Users\\jjp\\Desktop\\out\\367.png is a low contrast image\n",
      "  warn('%s is a low contrast image' % fname)\n"
     ]
    },
    {
     "name": "stdout",
     "output_type": "stream",
     "text": [
      "C:\\Users\\jjp\\Desktop\\插画\\links\\367.psd is ok\n",
      "C:\\Users\\jjp\\Desktop\\插画\\links\\368.psd\n"
     ]
    },
    {
     "name": "stderr",
     "output_type": "stream",
     "text": [
      "d:\\program files\\python37\\lib\\site-packages\\skimage\\io\\_io.py:140: UserWarning: C:\\Users\\jjp\\Desktop\\out\\368.png is a low contrast image\n",
      "  warn('%s is a low contrast image' % fname)\n"
     ]
    },
    {
     "name": "stdout",
     "output_type": "stream",
     "text": [
      "C:\\Users\\jjp\\Desktop\\插画\\links\\368.psd is ok\n",
      "C:\\Users\\jjp\\Desktop\\插画\\links\\369.psd\n"
     ]
    },
    {
     "name": "stderr",
     "output_type": "stream",
     "text": [
      "d:\\program files\\python37\\lib\\site-packages\\skimage\\io\\_io.py:140: UserWarning: C:\\Users\\jjp\\Desktop\\out\\369.png is a low contrast image\n",
      "  warn('%s is a low contrast image' % fname)\n"
     ]
    },
    {
     "name": "stdout",
     "output_type": "stream",
     "text": [
      "C:\\Users\\jjp\\Desktop\\插画\\links\\369.psd is ok\n",
      "C:\\Users\\jjp\\Desktop\\插画\\links\\37.psd\n"
     ]
    },
    {
     "name": "stderr",
     "output_type": "stream",
     "text": [
      "d:\\program files\\python37\\lib\\site-packages\\skimage\\io\\_io.py:140: UserWarning: C:\\Users\\jjp\\Desktop\\out\\37.png is a low contrast image\n",
      "  warn('%s is a low contrast image' % fname)\n"
     ]
    },
    {
     "name": "stdout",
     "output_type": "stream",
     "text": [
      "C:\\Users\\jjp\\Desktop\\插画\\links\\37.psd is ok\n",
      "C:\\Users\\jjp\\Desktop\\插画\\links\\370.psd\n"
     ]
    },
    {
     "name": "stderr",
     "output_type": "stream",
     "text": [
      "d:\\program files\\python37\\lib\\site-packages\\skimage\\io\\_io.py:140: UserWarning: C:\\Users\\jjp\\Desktop\\out\\370.png is a low contrast image\n",
      "  warn('%s is a low contrast image' % fname)\n"
     ]
    },
    {
     "name": "stdout",
     "output_type": "stream",
     "text": [
      "C:\\Users\\jjp\\Desktop\\插画\\links\\370.psd is ok\n",
      "C:\\Users\\jjp\\Desktop\\插画\\links\\371.psd\n"
     ]
    },
    {
     "name": "stderr",
     "output_type": "stream",
     "text": [
      "d:\\program files\\python37\\lib\\site-packages\\skimage\\io\\_io.py:140: UserWarning: C:\\Users\\jjp\\Desktop\\out\\371.png is a low contrast image\n",
      "  warn('%s is a low contrast image' % fname)\n"
     ]
    },
    {
     "name": "stdout",
     "output_type": "stream",
     "text": [
      "C:\\Users\\jjp\\Desktop\\插画\\links\\371.psd is ok\n"
     ]
    },
    {
     "name": "stderr",
     "output_type": "stream",
     "text": [
      "d:\\program files\\python37\\lib\\site-packages\\skimage\\io\\_io.py:140: UserWarning: C:\\Users\\jjp\\Desktop\\out\\372.png is a low contrast image\n",
      "  warn('%s is a low contrast image' % fname)\n"
     ]
    },
    {
     "name": "stdout",
     "output_type": "stream",
     "text": [
      "C:\\Users\\jjp\\Desktop\\插画\\links\\372.psd\n",
      "C:\\Users\\jjp\\Desktop\\插画\\links\\372.psd is ok\n",
      "C:\\Users\\jjp\\Desktop\\插画\\links\\373.psd\n"
     ]
    },
    {
     "name": "stderr",
     "output_type": "stream",
     "text": [
      "d:\\program files\\python37\\lib\\site-packages\\skimage\\io\\_io.py:140: UserWarning: C:\\Users\\jjp\\Desktop\\out\\373.png is a low contrast image\n",
      "  warn('%s is a low contrast image' % fname)\n"
     ]
    },
    {
     "name": "stdout",
     "output_type": "stream",
     "text": [
      "C:\\Users\\jjp\\Desktop\\插画\\links\\373.psd is ok\n",
      "C:\\Users\\jjp\\Desktop\\插画\\links\\374.psd\n"
     ]
    },
    {
     "name": "stderr",
     "output_type": "stream",
     "text": [
      "d:\\program files\\python37\\lib\\site-packages\\skimage\\io\\_io.py:140: UserWarning: C:\\Users\\jjp\\Desktop\\out\\374.png is a low contrast image\n",
      "  warn('%s is a low contrast image' % fname)\n"
     ]
    },
    {
     "name": "stdout",
     "output_type": "stream",
     "text": [
      "C:\\Users\\jjp\\Desktop\\插画\\links\\374.psd is ok\n",
      "C:\\Users\\jjp\\Desktop\\插画\\links\\375.psd\n"
     ]
    },
    {
     "name": "stderr",
     "output_type": "stream",
     "text": [
      "d:\\program files\\python37\\lib\\site-packages\\skimage\\io\\_io.py:140: UserWarning: C:\\Users\\jjp\\Desktop\\out\\375.png is a low contrast image\n",
      "  warn('%s is a low contrast image' % fname)\n"
     ]
    },
    {
     "name": "stdout",
     "output_type": "stream",
     "text": [
      "C:\\Users\\jjp\\Desktop\\插画\\links\\375.psd is ok\n",
      "C:\\Users\\jjp\\Desktop\\插画\\links\\376.psd\n"
     ]
    },
    {
     "name": "stderr",
     "output_type": "stream",
     "text": [
      "d:\\program files\\python37\\lib\\site-packages\\skimage\\io\\_io.py:140: UserWarning: C:\\Users\\jjp\\Desktop\\out\\376.png is a low contrast image\n",
      "  warn('%s is a low contrast image' % fname)\n"
     ]
    },
    {
     "name": "stdout",
     "output_type": "stream",
     "text": [
      "C:\\Users\\jjp\\Desktop\\插画\\links\\376.psd is ok\n",
      "C:\\Users\\jjp\\Desktop\\插画\\links\\377.psd\n"
     ]
    },
    {
     "name": "stderr",
     "output_type": "stream",
     "text": [
      "d:\\program files\\python37\\lib\\site-packages\\skimage\\io\\_io.py:140: UserWarning: C:\\Users\\jjp\\Desktop\\out\\377.png is a low contrast image\n",
      "  warn('%s is a low contrast image' % fname)\n"
     ]
    },
    {
     "name": "stdout",
     "output_type": "stream",
     "text": [
      "C:\\Users\\jjp\\Desktop\\插画\\links\\377.psd is ok\n",
      "C:\\Users\\jjp\\Desktop\\插画\\links\\378.psd\n"
     ]
    },
    {
     "name": "stderr",
     "output_type": "stream",
     "text": [
      "d:\\program files\\python37\\lib\\site-packages\\skimage\\io\\_io.py:140: UserWarning: C:\\Users\\jjp\\Desktop\\out\\378.png is a low contrast image\n",
      "  warn('%s is a low contrast image' % fname)\n"
     ]
    },
    {
     "name": "stdout",
     "output_type": "stream",
     "text": [
      "C:\\Users\\jjp\\Desktop\\插画\\links\\378.psd is ok\n",
      "C:\\Users\\jjp\\Desktop\\插画\\links\\379.psd\n"
     ]
    },
    {
     "name": "stderr",
     "output_type": "stream",
     "text": [
      "d:\\program files\\python37\\lib\\site-packages\\skimage\\io\\_io.py:140: UserWarning: C:\\Users\\jjp\\Desktop\\out\\379.png is a low contrast image\n",
      "  warn('%s is a low contrast image' % fname)\n"
     ]
    },
    {
     "name": "stdout",
     "output_type": "stream",
     "text": [
      "C:\\Users\\jjp\\Desktop\\插画\\links\\379.psd is ok\n",
      "C:\\Users\\jjp\\Desktop\\插画\\links\\38.psd\n"
     ]
    },
    {
     "name": "stderr",
     "output_type": "stream",
     "text": [
      "d:\\program files\\python37\\lib\\site-packages\\skimage\\io\\_io.py:140: UserWarning: C:\\Users\\jjp\\Desktop\\out\\38.png is a low contrast image\n",
      "  warn('%s is a low contrast image' % fname)\n"
     ]
    },
    {
     "name": "stdout",
     "output_type": "stream",
     "text": [
      "C:\\Users\\jjp\\Desktop\\插画\\links\\38.psd is ok\n",
      "C:\\Users\\jjp\\Desktop\\插画\\links\\380.psd\n"
     ]
    },
    {
     "name": "stderr",
     "output_type": "stream",
     "text": [
      "d:\\program files\\python37\\lib\\site-packages\\skimage\\io\\_io.py:140: UserWarning: C:\\Users\\jjp\\Desktop\\out\\380.png is a low contrast image\n",
      "  warn('%s is a low contrast image' % fname)\n"
     ]
    },
    {
     "name": "stdout",
     "output_type": "stream",
     "text": [
      "C:\\Users\\jjp\\Desktop\\插画\\links\\380.psd is ok\n",
      "C:\\Users\\jjp\\Desktop\\插画\\links\\381.psd\n"
     ]
    },
    {
     "name": "stderr",
     "output_type": "stream",
     "text": [
      "d:\\program files\\python37\\lib\\site-packages\\skimage\\io\\_io.py:140: UserWarning: C:\\Users\\jjp\\Desktop\\out\\381.png is a low contrast image\n",
      "  warn('%s is a low contrast image' % fname)\n"
     ]
    },
    {
     "name": "stdout",
     "output_type": "stream",
     "text": [
      "C:\\Users\\jjp\\Desktop\\插画\\links\\381.psd is ok\n",
      "C:\\Users\\jjp\\Desktop\\插画\\links\\382.psd\n"
     ]
    },
    {
     "name": "stderr",
     "output_type": "stream",
     "text": [
      "d:\\program files\\python37\\lib\\site-packages\\skimage\\io\\_io.py:140: UserWarning: C:\\Users\\jjp\\Desktop\\out\\382.png is a low contrast image\n",
      "  warn('%s is a low contrast image' % fname)\n"
     ]
    },
    {
     "name": "stdout",
     "output_type": "stream",
     "text": [
      "C:\\Users\\jjp\\Desktop\\插画\\links\\382.psd is ok\n",
      "C:\\Users\\jjp\\Desktop\\插画\\links\\383.psd\n"
     ]
    },
    {
     "name": "stderr",
     "output_type": "stream",
     "text": [
      "d:\\program files\\python37\\lib\\site-packages\\skimage\\io\\_io.py:140: UserWarning: C:\\Users\\jjp\\Desktop\\out\\383.png is a low contrast image\n",
      "  warn('%s is a low contrast image' % fname)\n"
     ]
    },
    {
     "name": "stdout",
     "output_type": "stream",
     "text": [
      "C:\\Users\\jjp\\Desktop\\插画\\links\\383.psd is ok\n",
      "C:\\Users\\jjp\\Desktop\\插画\\links\\384.psd\n"
     ]
    },
    {
     "name": "stderr",
     "output_type": "stream",
     "text": [
      "d:\\program files\\python37\\lib\\site-packages\\skimage\\io\\_io.py:140: UserWarning: C:\\Users\\jjp\\Desktop\\out\\384.png is a low contrast image\n",
      "  warn('%s is a low contrast image' % fname)\n"
     ]
    },
    {
     "name": "stdout",
     "output_type": "stream",
     "text": [
      "C:\\Users\\jjp\\Desktop\\插画\\links\\384.psd is ok\n",
      "C:\\Users\\jjp\\Desktop\\插画\\links\\385.psd\n"
     ]
    },
    {
     "name": "stderr",
     "output_type": "stream",
     "text": [
      "d:\\program files\\python37\\lib\\site-packages\\skimage\\io\\_io.py:140: UserWarning: C:\\Users\\jjp\\Desktop\\out\\385.png is a low contrast image\n",
      "  warn('%s is a low contrast image' % fname)\n"
     ]
    },
    {
     "name": "stdout",
     "output_type": "stream",
     "text": [
      "C:\\Users\\jjp\\Desktop\\插画\\links\\385.psd is ok\n",
      "C:\\Users\\jjp\\Desktop\\插画\\links\\386.psd\n"
     ]
    },
    {
     "name": "stderr",
     "output_type": "stream",
     "text": [
      "d:\\program files\\python37\\lib\\site-packages\\skimage\\io\\_io.py:140: UserWarning: C:\\Users\\jjp\\Desktop\\out\\386.png is a low contrast image\n",
      "  warn('%s is a low contrast image' % fname)\n"
     ]
    },
    {
     "name": "stdout",
     "output_type": "stream",
     "text": [
      "C:\\Users\\jjp\\Desktop\\插画\\links\\386.psd is ok\n",
      "C:\\Users\\jjp\\Desktop\\插画\\links\\387.psd\n"
     ]
    },
    {
     "name": "stderr",
     "output_type": "stream",
     "text": [
      "d:\\program files\\python37\\lib\\site-packages\\skimage\\io\\_io.py:140: UserWarning: C:\\Users\\jjp\\Desktop\\out\\387.png is a low contrast image\n",
      "  warn('%s is a low contrast image' % fname)\n"
     ]
    },
    {
     "name": "stdout",
     "output_type": "stream",
     "text": [
      "C:\\Users\\jjp\\Desktop\\插画\\links\\387.psd is ok\n",
      "C:\\Users\\jjp\\Desktop\\插画\\links\\388.psd\n"
     ]
    },
    {
     "name": "stderr",
     "output_type": "stream",
     "text": [
      "d:\\program files\\python37\\lib\\site-packages\\skimage\\io\\_io.py:140: UserWarning: C:\\Users\\jjp\\Desktop\\out\\388.png is a low contrast image\n",
      "  warn('%s is a low contrast image' % fname)\n"
     ]
    },
    {
     "name": "stdout",
     "output_type": "stream",
     "text": [
      "C:\\Users\\jjp\\Desktop\\插画\\links\\388.psd is ok\n",
      "C:\\Users\\jjp\\Desktop\\插画\\links\\389.psd\n"
     ]
    },
    {
     "name": "stderr",
     "output_type": "stream",
     "text": [
      "d:\\program files\\python37\\lib\\site-packages\\skimage\\io\\_io.py:140: UserWarning: C:\\Users\\jjp\\Desktop\\out\\389.png is a low contrast image\n",
      "  warn('%s is a low contrast image' % fname)\n"
     ]
    },
    {
     "name": "stdout",
     "output_type": "stream",
     "text": [
      "C:\\Users\\jjp\\Desktop\\插画\\links\\389.psd is ok\n",
      "C:\\Users\\jjp\\Desktop\\插画\\links\\39.psd\n"
     ]
    },
    {
     "name": "stderr",
     "output_type": "stream",
     "text": [
      "d:\\program files\\python37\\lib\\site-packages\\skimage\\io\\_io.py:140: UserWarning: C:\\Users\\jjp\\Desktop\\out\\39.png is a low contrast image\n",
      "  warn('%s is a low contrast image' % fname)\n"
     ]
    },
    {
     "name": "stdout",
     "output_type": "stream",
     "text": [
      "C:\\Users\\jjp\\Desktop\\插画\\links\\39.psd is ok\n",
      "C:\\Users\\jjp\\Desktop\\插画\\links\\390.psd\n"
     ]
    },
    {
     "name": "stderr",
     "output_type": "stream",
     "text": [
      "d:\\program files\\python37\\lib\\site-packages\\skimage\\io\\_io.py:140: UserWarning: C:\\Users\\jjp\\Desktop\\out\\390.png is a low contrast image\n",
      "  warn('%s is a low contrast image' % fname)\n"
     ]
    },
    {
     "name": "stdout",
     "output_type": "stream",
     "text": [
      "C:\\Users\\jjp\\Desktop\\插画\\links\\390.psd is ok\n"
     ]
    },
    {
     "name": "stderr",
     "output_type": "stream",
     "text": [
      "d:\\program files\\python37\\lib\\site-packages\\skimage\\io\\_io.py:140: UserWarning: C:\\Users\\jjp\\Desktop\\out\\391.png is a low contrast image\n",
      "  warn('%s is a low contrast image' % fname)\n"
     ]
    },
    {
     "name": "stdout",
     "output_type": "stream",
     "text": [
      "C:\\Users\\jjp\\Desktop\\插画\\links\\391.psd\n",
      "C:\\Users\\jjp\\Desktop\\插画\\links\\391.psd is ok\n",
      "C:\\Users\\jjp\\Desktop\\插画\\links\\392.psd\n"
     ]
    },
    {
     "name": "stderr",
     "output_type": "stream",
     "text": [
      "d:\\program files\\python37\\lib\\site-packages\\skimage\\io\\_io.py:140: UserWarning: C:\\Users\\jjp\\Desktop\\out\\392.png is a low contrast image\n",
      "  warn('%s is a low contrast image' % fname)\n"
     ]
    },
    {
     "name": "stdout",
     "output_type": "stream",
     "text": [
      "C:\\Users\\jjp\\Desktop\\插画\\links\\392.psd is ok\n",
      "C:\\Users\\jjp\\Desktop\\插画\\links\\393.psd\n"
     ]
    },
    {
     "name": "stderr",
     "output_type": "stream",
     "text": [
      "d:\\program files\\python37\\lib\\site-packages\\skimage\\io\\_io.py:140: UserWarning: C:\\Users\\jjp\\Desktop\\out\\393.png is a low contrast image\n",
      "  warn('%s is a low contrast image' % fname)\n"
     ]
    },
    {
     "name": "stdout",
     "output_type": "stream",
     "text": [
      "C:\\Users\\jjp\\Desktop\\插画\\links\\393.psd is ok\n",
      "C:\\Users\\jjp\\Desktop\\插画\\links\\394.psd\n"
     ]
    },
    {
     "name": "stderr",
     "output_type": "stream",
     "text": [
      "d:\\program files\\python37\\lib\\site-packages\\skimage\\io\\_io.py:140: UserWarning: C:\\Users\\jjp\\Desktop\\out\\394.png is a low contrast image\n",
      "  warn('%s is a low contrast image' % fname)\n"
     ]
    },
    {
     "name": "stdout",
     "output_type": "stream",
     "text": [
      "C:\\Users\\jjp\\Desktop\\插画\\links\\394.psd is ok\n",
      "C:\\Users\\jjp\\Desktop\\插画\\links\\395.psd\n"
     ]
    },
    {
     "name": "stderr",
     "output_type": "stream",
     "text": [
      "d:\\program files\\python37\\lib\\site-packages\\skimage\\io\\_io.py:140: UserWarning: C:\\Users\\jjp\\Desktop\\out\\395.png is a low contrast image\n",
      "  warn('%s is a low contrast image' % fname)\n"
     ]
    },
    {
     "name": "stdout",
     "output_type": "stream",
     "text": [
      "C:\\Users\\jjp\\Desktop\\插画\\links\\395.psd is ok\n",
      "C:\\Users\\jjp\\Desktop\\插画\\links\\396.psd\n"
     ]
    },
    {
     "name": "stderr",
     "output_type": "stream",
     "text": [
      "d:\\program files\\python37\\lib\\site-packages\\skimage\\io\\_io.py:140: UserWarning: C:\\Users\\jjp\\Desktop\\out\\396.png is a low contrast image\n",
      "  warn('%s is a low contrast image' % fname)\n"
     ]
    },
    {
     "name": "stdout",
     "output_type": "stream",
     "text": [
      "C:\\Users\\jjp\\Desktop\\插画\\links\\396.psd is ok\n",
      "C:\\Users\\jjp\\Desktop\\插画\\links\\397.psd\n"
     ]
    },
    {
     "name": "stderr",
     "output_type": "stream",
     "text": [
      "d:\\program files\\python37\\lib\\site-packages\\skimage\\io\\_io.py:140: UserWarning: C:\\Users\\jjp\\Desktop\\out\\397.png is a low contrast image\n",
      "  warn('%s is a low contrast image' % fname)\n"
     ]
    },
    {
     "name": "stdout",
     "output_type": "stream",
     "text": [
      "C:\\Users\\jjp\\Desktop\\插画\\links\\397.psd is ok\n",
      "C:\\Users\\jjp\\Desktop\\插画\\links\\398.psd\n"
     ]
    },
    {
     "name": "stderr",
     "output_type": "stream",
     "text": [
      "d:\\program files\\python37\\lib\\site-packages\\skimage\\io\\_io.py:140: UserWarning: C:\\Users\\jjp\\Desktop\\out\\398.png is a low contrast image\n",
      "  warn('%s is a low contrast image' % fname)\n"
     ]
    },
    {
     "name": "stdout",
     "output_type": "stream",
     "text": [
      "C:\\Users\\jjp\\Desktop\\插画\\links\\398.psd is ok\n",
      "C:\\Users\\jjp\\Desktop\\插画\\links\\399.psd\n"
     ]
    },
    {
     "name": "stderr",
     "output_type": "stream",
     "text": [
      "d:\\program files\\python37\\lib\\site-packages\\skimage\\io\\_io.py:140: UserWarning: C:\\Users\\jjp\\Desktop\\out\\399.png is a low contrast image\n",
      "  warn('%s is a low contrast image' % fname)\n"
     ]
    },
    {
     "name": "stdout",
     "output_type": "stream",
     "text": [
      "C:\\Users\\jjp\\Desktop\\插画\\links\\399.psd is ok\n",
      "C:\\Users\\jjp\\Desktop\\插画\\links\\4.psd\n"
     ]
    },
    {
     "name": "stderr",
     "output_type": "stream",
     "text": [
      "d:\\program files\\python37\\lib\\site-packages\\skimage\\io\\_io.py:140: UserWarning: C:\\Users\\jjp\\Desktop\\out\\4.png is a low contrast image\n",
      "  warn('%s is a low contrast image' % fname)\n"
     ]
    },
    {
     "name": "stdout",
     "output_type": "stream",
     "text": [
      "C:\\Users\\jjp\\Desktop\\插画\\links\\4.psd is ok\n",
      "C:\\Users\\jjp\\Desktop\\插画\\links\\40.psd\n"
     ]
    },
    {
     "name": "stderr",
     "output_type": "stream",
     "text": [
      "d:\\program files\\python37\\lib\\site-packages\\skimage\\io\\_io.py:140: UserWarning: C:\\Users\\jjp\\Desktop\\out\\40.png is a low contrast image\n",
      "  warn('%s is a low contrast image' % fname)\n"
     ]
    },
    {
     "name": "stdout",
     "output_type": "stream",
     "text": [
      "C:\\Users\\jjp\\Desktop\\插画\\links\\40.psd is ok\n",
      "C:\\Users\\jjp\\Desktop\\插画\\links\\400.psd\n"
     ]
    },
    {
     "name": "stderr",
     "output_type": "stream",
     "text": [
      "d:\\program files\\python37\\lib\\site-packages\\skimage\\io\\_io.py:140: UserWarning: C:\\Users\\jjp\\Desktop\\out\\400.png is a low contrast image\n",
      "  warn('%s is a low contrast image' % fname)\n"
     ]
    },
    {
     "name": "stdout",
     "output_type": "stream",
     "text": [
      "C:\\Users\\jjp\\Desktop\\插画\\links\\400.psd is ok\n",
      "C:\\Users\\jjp\\Desktop\\插画\\links\\401.psd\n"
     ]
    },
    {
     "name": "stderr",
     "output_type": "stream",
     "text": [
      "d:\\program files\\python37\\lib\\site-packages\\skimage\\io\\_io.py:140: UserWarning: C:\\Users\\jjp\\Desktop\\out\\401.png is a low contrast image\n",
      "  warn('%s is a low contrast image' % fname)\n"
     ]
    },
    {
     "name": "stdout",
     "output_type": "stream",
     "text": [
      "C:\\Users\\jjp\\Desktop\\插画\\links\\401.psd is ok\n",
      "C:\\Users\\jjp\\Desktop\\插画\\links\\402.psd\n"
     ]
    },
    {
     "name": "stderr",
     "output_type": "stream",
     "text": [
      "d:\\program files\\python37\\lib\\site-packages\\skimage\\io\\_io.py:140: UserWarning: C:\\Users\\jjp\\Desktop\\out\\402.png is a low contrast image\n",
      "  warn('%s is a low contrast image' % fname)\n"
     ]
    },
    {
     "name": "stdout",
     "output_type": "stream",
     "text": [
      "C:\\Users\\jjp\\Desktop\\插画\\links\\402.psd is ok\n",
      "C:\\Users\\jjp\\Desktop\\插画\\links\\403.psd\n"
     ]
    },
    {
     "name": "stderr",
     "output_type": "stream",
     "text": [
      "d:\\program files\\python37\\lib\\site-packages\\skimage\\io\\_io.py:140: UserWarning: C:\\Users\\jjp\\Desktop\\out\\403.png is a low contrast image\n",
      "  warn('%s is a low contrast image' % fname)\n"
     ]
    },
    {
     "name": "stdout",
     "output_type": "stream",
     "text": [
      "C:\\Users\\jjp\\Desktop\\插画\\links\\403.psd is ok\n",
      "C:\\Users\\jjp\\Desktop\\插画\\links\\404.psd\n"
     ]
    },
    {
     "name": "stderr",
     "output_type": "stream",
     "text": [
      "d:\\program files\\python37\\lib\\site-packages\\skimage\\io\\_io.py:140: UserWarning: C:\\Users\\jjp\\Desktop\\out\\404.png is a low contrast image\n",
      "  warn('%s is a low contrast image' % fname)\n"
     ]
    },
    {
     "name": "stdout",
     "output_type": "stream",
     "text": [
      "C:\\Users\\jjp\\Desktop\\插画\\links\\404.psd is ok\n",
      "C:\\Users\\jjp\\Desktop\\插画\\links\\405.psd\n"
     ]
    },
    {
     "name": "stderr",
     "output_type": "stream",
     "text": [
      "d:\\program files\\python37\\lib\\site-packages\\skimage\\io\\_io.py:140: UserWarning: C:\\Users\\jjp\\Desktop\\out\\405.png is a low contrast image\n",
      "  warn('%s is a low contrast image' % fname)\n"
     ]
    },
    {
     "name": "stdout",
     "output_type": "stream",
     "text": [
      "C:\\Users\\jjp\\Desktop\\插画\\links\\405.psd is ok\n",
      "C:\\Users\\jjp\\Desktop\\插画\\links\\406.psd\n"
     ]
    },
    {
     "name": "stderr",
     "output_type": "stream",
     "text": [
      "d:\\program files\\python37\\lib\\site-packages\\skimage\\io\\_io.py:140: UserWarning: C:\\Users\\jjp\\Desktop\\out\\406.png is a low contrast image\n",
      "  warn('%s is a low contrast image' % fname)\n"
     ]
    },
    {
     "name": "stdout",
     "output_type": "stream",
     "text": [
      "C:\\Users\\jjp\\Desktop\\插画\\links\\406.psd is ok\n",
      "C:\\Users\\jjp\\Desktop\\插画\\links\\407.psd\n"
     ]
    },
    {
     "name": "stderr",
     "output_type": "stream",
     "text": [
      "d:\\program files\\python37\\lib\\site-packages\\skimage\\io\\_io.py:140: UserWarning: C:\\Users\\jjp\\Desktop\\out\\407.png is a low contrast image\n",
      "  warn('%s is a low contrast image' % fname)\n"
     ]
    },
    {
     "name": "stdout",
     "output_type": "stream",
     "text": [
      "C:\\Users\\jjp\\Desktop\\插画\\links\\407.psd is ok\n",
      "C:\\Users\\jjp\\Desktop\\插画\\links\\408.psd\n"
     ]
    },
    {
     "name": "stderr",
     "output_type": "stream",
     "text": [
      "d:\\program files\\python37\\lib\\site-packages\\skimage\\io\\_io.py:140: UserWarning: C:\\Users\\jjp\\Desktop\\out\\408.png is a low contrast image\n",
      "  warn('%s is a low contrast image' % fname)\n"
     ]
    },
    {
     "name": "stdout",
     "output_type": "stream",
     "text": [
      "C:\\Users\\jjp\\Desktop\\插画\\links\\408.psd is ok\n",
      "C:\\Users\\jjp\\Desktop\\插画\\links\\409.psd\n"
     ]
    },
    {
     "name": "stderr",
     "output_type": "stream",
     "text": [
      "d:\\program files\\python37\\lib\\site-packages\\skimage\\io\\_io.py:140: UserWarning: C:\\Users\\jjp\\Desktop\\out\\409.png is a low contrast image\n",
      "  warn('%s is a low contrast image' % fname)\n"
     ]
    },
    {
     "name": "stdout",
     "output_type": "stream",
     "text": [
      "C:\\Users\\jjp\\Desktop\\插画\\links\\409.psd is ok\n",
      "C:\\Users\\jjp\\Desktop\\插画\\links\\41.psd\n"
     ]
    },
    {
     "name": "stderr",
     "output_type": "stream",
     "text": [
      "d:\\program files\\python37\\lib\\site-packages\\skimage\\io\\_io.py:140: UserWarning: C:\\Users\\jjp\\Desktop\\out\\41.png is a low contrast image\n",
      "  warn('%s is a low contrast image' % fname)\n"
     ]
    },
    {
     "name": "stdout",
     "output_type": "stream",
     "text": [
      "C:\\Users\\jjp\\Desktop\\插画\\links\\41.psd is ok\n",
      "C:\\Users\\jjp\\Desktop\\插画\\links\\410.psd\n"
     ]
    },
    {
     "name": "stderr",
     "output_type": "stream",
     "text": [
      "d:\\program files\\python37\\lib\\site-packages\\skimage\\io\\_io.py:140: UserWarning: C:\\Users\\jjp\\Desktop\\out\\410.png is a low contrast image\n",
      "  warn('%s is a low contrast image' % fname)\n"
     ]
    },
    {
     "name": "stdout",
     "output_type": "stream",
     "text": [
      "C:\\Users\\jjp\\Desktop\\插画\\links\\410.psd is ok\n",
      "C:\\Users\\jjp\\Desktop\\插画\\links\\411.psd\n"
     ]
    },
    {
     "name": "stderr",
     "output_type": "stream",
     "text": [
      "d:\\program files\\python37\\lib\\site-packages\\skimage\\io\\_io.py:140: UserWarning: C:\\Users\\jjp\\Desktop\\out\\411.png is a low contrast image\n",
      "  warn('%s is a low contrast image' % fname)\n"
     ]
    },
    {
     "name": "stdout",
     "output_type": "stream",
     "text": [
      "C:\\Users\\jjp\\Desktop\\插画\\links\\411.psd is ok\n",
      "C:\\Users\\jjp\\Desktop\\插画\\links\\412.psd\n"
     ]
    },
    {
     "name": "stderr",
     "output_type": "stream",
     "text": [
      "d:\\program files\\python37\\lib\\site-packages\\skimage\\io\\_io.py:140: UserWarning: C:\\Users\\jjp\\Desktop\\out\\412.png is a low contrast image\n",
      "  warn('%s is a low contrast image' % fname)\n"
     ]
    },
    {
     "name": "stdout",
     "output_type": "stream",
     "text": [
      "C:\\Users\\jjp\\Desktop\\插画\\links\\412.psd is ok\n",
      "C:\\Users\\jjp\\Desktop\\插画\\links\\413.psd\n"
     ]
    },
    {
     "name": "stderr",
     "output_type": "stream",
     "text": [
      "d:\\program files\\python37\\lib\\site-packages\\skimage\\io\\_io.py:140: UserWarning: C:\\Users\\jjp\\Desktop\\out\\413.png is a low contrast image\n",
      "  warn('%s is a low contrast image' % fname)\n"
     ]
    },
    {
     "name": "stdout",
     "output_type": "stream",
     "text": [
      "C:\\Users\\jjp\\Desktop\\插画\\links\\413.psd is ok\n",
      "C:\\Users\\jjp\\Desktop\\插画\\links\\414.psd\n"
     ]
    },
    {
     "name": "stderr",
     "output_type": "stream",
     "text": [
      "d:\\program files\\python37\\lib\\site-packages\\skimage\\io\\_io.py:140: UserWarning: C:\\Users\\jjp\\Desktop\\out\\414.png is a low contrast image\n",
      "  warn('%s is a low contrast image' % fname)\n"
     ]
    },
    {
     "name": "stdout",
     "output_type": "stream",
     "text": [
      "C:\\Users\\jjp\\Desktop\\插画\\links\\414.psd is ok\n",
      "C:\\Users\\jjp\\Desktop\\插画\\links\\415.psd\n"
     ]
    },
    {
     "name": "stderr",
     "output_type": "stream",
     "text": [
      "d:\\program files\\python37\\lib\\site-packages\\skimage\\io\\_io.py:140: UserWarning: C:\\Users\\jjp\\Desktop\\out\\415.png is a low contrast image\n",
      "  warn('%s is a low contrast image' % fname)\n"
     ]
    },
    {
     "name": "stdout",
     "output_type": "stream",
     "text": [
      "C:\\Users\\jjp\\Desktop\\插画\\links\\415.psd is ok\n",
      "C:\\Users\\jjp\\Desktop\\插画\\links\\416.psd\n"
     ]
    },
    {
     "name": "stderr",
     "output_type": "stream",
     "text": [
      "d:\\program files\\python37\\lib\\site-packages\\skimage\\io\\_io.py:140: UserWarning: C:\\Users\\jjp\\Desktop\\out\\416.png is a low contrast image\n",
      "  warn('%s is a low contrast image' % fname)\n"
     ]
    },
    {
     "name": "stdout",
     "output_type": "stream",
     "text": [
      "C:\\Users\\jjp\\Desktop\\插画\\links\\416.psd is ok\n"
     ]
    },
    {
     "name": "stderr",
     "output_type": "stream",
     "text": [
      "d:\\program files\\python37\\lib\\site-packages\\skimage\\io\\_io.py:140: UserWarning: C:\\Users\\jjp\\Desktop\\out\\417.png is a low contrast image\n",
      "  warn('%s is a low contrast image' % fname)\n"
     ]
    },
    {
     "name": "stdout",
     "output_type": "stream",
     "text": [
      "C:\\Users\\jjp\\Desktop\\插画\\links\\417.psd\n",
      "C:\\Users\\jjp\\Desktop\\插画\\links\\417.psd is ok\n",
      "C:\\Users\\jjp\\Desktop\\插画\\links\\418.psd\n"
     ]
    },
    {
     "name": "stderr",
     "output_type": "stream",
     "text": [
      "d:\\program files\\python37\\lib\\site-packages\\skimage\\io\\_io.py:140: UserWarning: C:\\Users\\jjp\\Desktop\\out\\418.png is a low contrast image\n",
      "  warn('%s is a low contrast image' % fname)\n"
     ]
    },
    {
     "name": "stdout",
     "output_type": "stream",
     "text": [
      "C:\\Users\\jjp\\Desktop\\插画\\links\\418.psd is ok\n",
      "C:\\Users\\jjp\\Desktop\\插画\\links\\419.psd\n"
     ]
    },
    {
     "name": "stderr",
     "output_type": "stream",
     "text": [
      "d:\\program files\\python37\\lib\\site-packages\\skimage\\io\\_io.py:140: UserWarning: C:\\Users\\jjp\\Desktop\\out\\419.png is a low contrast image\n",
      "  warn('%s is a low contrast image' % fname)\n"
     ]
    },
    {
     "name": "stdout",
     "output_type": "stream",
     "text": [
      "C:\\Users\\jjp\\Desktop\\插画\\links\\419.psd is ok\n",
      "C:\\Users\\jjp\\Desktop\\插画\\links\\42.psd\n"
     ]
    },
    {
     "name": "stderr",
     "output_type": "stream",
     "text": [
      "d:\\program files\\python37\\lib\\site-packages\\skimage\\io\\_io.py:140: UserWarning: C:\\Users\\jjp\\Desktop\\out\\42.png is a low contrast image\n",
      "  warn('%s is a low contrast image' % fname)\n"
     ]
    },
    {
     "name": "stdout",
     "output_type": "stream",
     "text": [
      "C:\\Users\\jjp\\Desktop\\插画\\links\\42.psd is ok\n",
      "C:\\Users\\jjp\\Desktop\\插画\\links\\420.psd\n"
     ]
    },
    {
     "name": "stderr",
     "output_type": "stream",
     "text": [
      "d:\\program files\\python37\\lib\\site-packages\\skimage\\io\\_io.py:140: UserWarning: C:\\Users\\jjp\\Desktop\\out\\420.png is a low contrast image\n",
      "  warn('%s is a low contrast image' % fname)\n"
     ]
    },
    {
     "name": "stdout",
     "output_type": "stream",
     "text": [
      "C:\\Users\\jjp\\Desktop\\插画\\links\\420.psd is ok\n",
      "C:\\Users\\jjp\\Desktop\\插画\\links\\421.psd\n"
     ]
    },
    {
     "name": "stderr",
     "output_type": "stream",
     "text": [
      "d:\\program files\\python37\\lib\\site-packages\\skimage\\io\\_io.py:140: UserWarning: C:\\Users\\jjp\\Desktop\\out\\421.png is a low contrast image\n",
      "  warn('%s is a low contrast image' % fname)\n"
     ]
    },
    {
     "name": "stdout",
     "output_type": "stream",
     "text": [
      "C:\\Users\\jjp\\Desktop\\插画\\links\\421.psd is ok\n",
      "C:\\Users\\jjp\\Desktop\\插画\\links\\422.psd\n"
     ]
    },
    {
     "name": "stderr",
     "output_type": "stream",
     "text": [
      "d:\\program files\\python37\\lib\\site-packages\\skimage\\io\\_io.py:140: UserWarning: C:\\Users\\jjp\\Desktop\\out\\422.png is a low contrast image\n",
      "  warn('%s is a low contrast image' % fname)\n"
     ]
    },
    {
     "name": "stdout",
     "output_type": "stream",
     "text": [
      "C:\\Users\\jjp\\Desktop\\插画\\links\\422.psd is ok\n",
      "C:\\Users\\jjp\\Desktop\\插画\\links\\423.psd\n"
     ]
    },
    {
     "name": "stderr",
     "output_type": "stream",
     "text": [
      "d:\\program files\\python37\\lib\\site-packages\\skimage\\io\\_io.py:140: UserWarning: C:\\Users\\jjp\\Desktop\\out\\423.png is a low contrast image\n",
      "  warn('%s is a low contrast image' % fname)\n"
     ]
    },
    {
     "name": "stdout",
     "output_type": "stream",
     "text": [
      "C:\\Users\\jjp\\Desktop\\插画\\links\\423.psd is ok\n",
      "C:\\Users\\jjp\\Desktop\\插画\\links\\424.psd\n"
     ]
    },
    {
     "name": "stderr",
     "output_type": "stream",
     "text": [
      "d:\\program files\\python37\\lib\\site-packages\\skimage\\io\\_io.py:140: UserWarning: C:\\Users\\jjp\\Desktop\\out\\424.png is a low contrast image\n",
      "  warn('%s is a low contrast image' % fname)\n"
     ]
    },
    {
     "name": "stdout",
     "output_type": "stream",
     "text": [
      "C:\\Users\\jjp\\Desktop\\插画\\links\\424.psd is ok\n",
      "C:\\Users\\jjp\\Desktop\\插画\\links\\425.psd\n"
     ]
    },
    {
     "name": "stderr",
     "output_type": "stream",
     "text": [
      "d:\\program files\\python37\\lib\\site-packages\\skimage\\io\\_io.py:140: UserWarning: C:\\Users\\jjp\\Desktop\\out\\425.png is a low contrast image\n",
      "  warn('%s is a low contrast image' % fname)\n"
     ]
    },
    {
     "name": "stdout",
     "output_type": "stream",
     "text": [
      "C:\\Users\\jjp\\Desktop\\插画\\links\\425.psd is ok\n",
      "C:\\Users\\jjp\\Desktop\\插画\\links\\426.psd\n"
     ]
    },
    {
     "name": "stderr",
     "output_type": "stream",
     "text": [
      "d:\\program files\\python37\\lib\\site-packages\\skimage\\io\\_io.py:140: UserWarning: C:\\Users\\jjp\\Desktop\\out\\426.png is a low contrast image\n",
      "  warn('%s is a low contrast image' % fname)\n"
     ]
    },
    {
     "name": "stdout",
     "output_type": "stream",
     "text": [
      "C:\\Users\\jjp\\Desktop\\插画\\links\\426.psd is ok\n",
      "C:\\Users\\jjp\\Desktop\\插画\\links\\427.psd\n"
     ]
    },
    {
     "name": "stderr",
     "output_type": "stream",
     "text": [
      "d:\\program files\\python37\\lib\\site-packages\\skimage\\io\\_io.py:140: UserWarning: C:\\Users\\jjp\\Desktop\\out\\427.png is a low contrast image\n",
      "  warn('%s is a low contrast image' % fname)\n"
     ]
    },
    {
     "name": "stdout",
     "output_type": "stream",
     "text": [
      "C:\\Users\\jjp\\Desktop\\插画\\links\\427.psd is ok\n",
      "C:\\Users\\jjp\\Desktop\\插画\\links\\428.psd\n"
     ]
    },
    {
     "name": "stderr",
     "output_type": "stream",
     "text": [
      "d:\\program files\\python37\\lib\\site-packages\\skimage\\io\\_io.py:140: UserWarning: C:\\Users\\jjp\\Desktop\\out\\428.png is a low contrast image\n",
      "  warn('%s is a low contrast image' % fname)\n"
     ]
    },
    {
     "name": "stdout",
     "output_type": "stream",
     "text": [
      "C:\\Users\\jjp\\Desktop\\插画\\links\\428.psd is ok\n",
      "C:\\Users\\jjp\\Desktop\\插画\\links\\429.psd\n"
     ]
    },
    {
     "name": "stderr",
     "output_type": "stream",
     "text": [
      "d:\\program files\\python37\\lib\\site-packages\\skimage\\io\\_io.py:140: UserWarning: C:\\Users\\jjp\\Desktop\\out\\429.png is a low contrast image\n",
      "  warn('%s is a low contrast image' % fname)\n"
     ]
    },
    {
     "name": "stdout",
     "output_type": "stream",
     "text": [
      "C:\\Users\\jjp\\Desktop\\插画\\links\\429.psd is ok\n",
      "C:\\Users\\jjp\\Desktop\\插画\\links\\43.psd\n"
     ]
    },
    {
     "name": "stderr",
     "output_type": "stream",
     "text": [
      "d:\\program files\\python37\\lib\\site-packages\\skimage\\io\\_io.py:140: UserWarning: C:\\Users\\jjp\\Desktop\\out\\43.png is a low contrast image\n",
      "  warn('%s is a low contrast image' % fname)\n"
     ]
    },
    {
     "name": "stdout",
     "output_type": "stream",
     "text": [
      "C:\\Users\\jjp\\Desktop\\插画\\links\\43.psd is ok\n",
      "C:\\Users\\jjp\\Desktop\\插画\\links\\430.psd\n"
     ]
    },
    {
     "name": "stderr",
     "output_type": "stream",
     "text": [
      "d:\\program files\\python37\\lib\\site-packages\\skimage\\io\\_io.py:140: UserWarning: C:\\Users\\jjp\\Desktop\\out\\430.png is a low contrast image\n",
      "  warn('%s is a low contrast image' % fname)\n"
     ]
    },
    {
     "name": "stdout",
     "output_type": "stream",
     "text": [
      "C:\\Users\\jjp\\Desktop\\插画\\links\\430.psd is ok\n"
     ]
    },
    {
     "name": "stderr",
     "output_type": "stream",
     "text": [
      "d:\\program files\\python37\\lib\\site-packages\\skimage\\io\\_io.py:140: UserWarning: C:\\Users\\jjp\\Desktop\\out\\431.png is a low contrast image\n",
      "  warn('%s is a low contrast image' % fname)\n"
     ]
    },
    {
     "name": "stdout",
     "output_type": "stream",
     "text": [
      "C:\\Users\\jjp\\Desktop\\插画\\links\\431.psd\n",
      "C:\\Users\\jjp\\Desktop\\插画\\links\\431.psd is ok\n",
      "C:\\Users\\jjp\\Desktop\\插画\\links\\432.psd\n"
     ]
    },
    {
     "name": "stderr",
     "output_type": "stream",
     "text": [
      "d:\\program files\\python37\\lib\\site-packages\\skimage\\io\\_io.py:140: UserWarning: C:\\Users\\jjp\\Desktop\\out\\432.png is a low contrast image\n",
      "  warn('%s is a low contrast image' % fname)\n"
     ]
    },
    {
     "name": "stdout",
     "output_type": "stream",
     "text": [
      "C:\\Users\\jjp\\Desktop\\插画\\links\\432.psd is ok\n",
      "C:\\Users\\jjp\\Desktop\\插画\\links\\433.psd\n"
     ]
    },
    {
     "name": "stderr",
     "output_type": "stream",
     "text": [
      "d:\\program files\\python37\\lib\\site-packages\\skimage\\io\\_io.py:140: UserWarning: C:\\Users\\jjp\\Desktop\\out\\433.png is a low contrast image\n",
      "  warn('%s is a low contrast image' % fname)\n"
     ]
    },
    {
     "name": "stdout",
     "output_type": "stream",
     "text": [
      "C:\\Users\\jjp\\Desktop\\插画\\links\\433.psd is ok\n"
     ]
    },
    {
     "name": "stderr",
     "output_type": "stream",
     "text": [
      "d:\\program files\\python37\\lib\\site-packages\\skimage\\io\\_io.py:140: UserWarning: C:\\Users\\jjp\\Desktop\\out\\434.png is a low contrast image\n",
      "  warn('%s is a low contrast image' % fname)\n"
     ]
    },
    {
     "name": "stdout",
     "output_type": "stream",
     "text": [
      "C:\\Users\\jjp\\Desktop\\插画\\links\\434.psd\n",
      "C:\\Users\\jjp\\Desktop\\插画\\links\\434.psd is ok\n",
      "C:\\Users\\jjp\\Desktop\\插画\\links\\435.psd\n"
     ]
    },
    {
     "name": "stderr",
     "output_type": "stream",
     "text": [
      "d:\\program files\\python37\\lib\\site-packages\\skimage\\io\\_io.py:140: UserWarning: C:\\Users\\jjp\\Desktop\\out\\435.png is a low contrast image\n",
      "  warn('%s is a low contrast image' % fname)\n"
     ]
    },
    {
     "name": "stdout",
     "output_type": "stream",
     "text": [
      "C:\\Users\\jjp\\Desktop\\插画\\links\\435.psd is ok\n",
      "C:\\Users\\jjp\\Desktop\\插画\\links\\436.psd\n"
     ]
    },
    {
     "name": "stderr",
     "output_type": "stream",
     "text": [
      "d:\\program files\\python37\\lib\\site-packages\\skimage\\io\\_io.py:140: UserWarning: C:\\Users\\jjp\\Desktop\\out\\436.png is a low contrast image\n",
      "  warn('%s is a low contrast image' % fname)\n"
     ]
    },
    {
     "name": "stdout",
     "output_type": "stream",
     "text": [
      "C:\\Users\\jjp\\Desktop\\插画\\links\\436.psd is ok\n",
      "C:\\Users\\jjp\\Desktop\\插画\\links\\437.psd\n"
     ]
    },
    {
     "name": "stderr",
     "output_type": "stream",
     "text": [
      "d:\\program files\\python37\\lib\\site-packages\\skimage\\io\\_io.py:140: UserWarning: C:\\Users\\jjp\\Desktop\\out\\437.png is a low contrast image\n",
      "  warn('%s is a low contrast image' % fname)\n"
     ]
    },
    {
     "name": "stdout",
     "output_type": "stream",
     "text": [
      "C:\\Users\\jjp\\Desktop\\插画\\links\\437.psd is ok\n",
      "C:\\Users\\jjp\\Desktop\\插画\\links\\438.psd\n"
     ]
    },
    {
     "name": "stderr",
     "output_type": "stream",
     "text": [
      "d:\\program files\\python37\\lib\\site-packages\\skimage\\io\\_io.py:140: UserWarning: C:\\Users\\jjp\\Desktop\\out\\438.png is a low contrast image\n",
      "  warn('%s is a low contrast image' % fname)\n"
     ]
    },
    {
     "name": "stdout",
     "output_type": "stream",
     "text": [
      "C:\\Users\\jjp\\Desktop\\插画\\links\\438.psd is ok\n",
      "C:\\Users\\jjp\\Desktop\\插画\\links\\439.psd\n"
     ]
    },
    {
     "name": "stderr",
     "output_type": "stream",
     "text": [
      "d:\\program files\\python37\\lib\\site-packages\\skimage\\io\\_io.py:140: UserWarning: C:\\Users\\jjp\\Desktop\\out\\439.png is a low contrast image\n",
      "  warn('%s is a low contrast image' % fname)\n"
     ]
    },
    {
     "name": "stdout",
     "output_type": "stream",
     "text": [
      "C:\\Users\\jjp\\Desktop\\插画\\links\\439.psd is ok\n"
     ]
    },
    {
     "name": "stderr",
     "output_type": "stream",
     "text": [
      "d:\\program files\\python37\\lib\\site-packages\\skimage\\io\\_io.py:140: UserWarning: C:\\Users\\jjp\\Desktop\\out\\44.png is a low contrast image\n",
      "  warn('%s is a low contrast image' % fname)\n"
     ]
    },
    {
     "name": "stdout",
     "output_type": "stream",
     "text": [
      "C:\\Users\\jjp\\Desktop\\插画\\links\\44.psd\n",
      "C:\\Users\\jjp\\Desktop\\插画\\links\\44.psd is ok\n",
      "C:\\Users\\jjp\\Desktop\\插画\\links\\440.psd\n"
     ]
    },
    {
     "name": "stderr",
     "output_type": "stream",
     "text": [
      "d:\\program files\\python37\\lib\\site-packages\\skimage\\io\\_io.py:140: UserWarning: C:\\Users\\jjp\\Desktop\\out\\440.png is a low contrast image\n",
      "  warn('%s is a low contrast image' % fname)\n"
     ]
    },
    {
     "name": "stdout",
     "output_type": "stream",
     "text": [
      "C:\\Users\\jjp\\Desktop\\插画\\links\\440.psd is ok\n",
      "C:\\Users\\jjp\\Desktop\\插画\\links\\441.psd\n"
     ]
    },
    {
     "name": "stderr",
     "output_type": "stream",
     "text": [
      "d:\\program files\\python37\\lib\\site-packages\\skimage\\io\\_io.py:140: UserWarning: C:\\Users\\jjp\\Desktop\\out\\441.png is a low contrast image\n",
      "  warn('%s is a low contrast image' % fname)\n"
     ]
    },
    {
     "name": "stdout",
     "output_type": "stream",
     "text": [
      "C:\\Users\\jjp\\Desktop\\插画\\links\\441.psd is ok\n",
      "C:\\Users\\jjp\\Desktop\\插画\\links\\442.psd\n"
     ]
    },
    {
     "name": "stderr",
     "output_type": "stream",
     "text": [
      "d:\\program files\\python37\\lib\\site-packages\\skimage\\io\\_io.py:140: UserWarning: C:\\Users\\jjp\\Desktop\\out\\442.png is a low contrast image\n",
      "  warn('%s is a low contrast image' % fname)\n"
     ]
    },
    {
     "name": "stdout",
     "output_type": "stream",
     "text": [
      "C:\\Users\\jjp\\Desktop\\插画\\links\\442.psd is ok\n",
      "C:\\Users\\jjp\\Desktop\\插画\\links\\443.psd\n"
     ]
    },
    {
     "name": "stderr",
     "output_type": "stream",
     "text": [
      "d:\\program files\\python37\\lib\\site-packages\\skimage\\io\\_io.py:140: UserWarning: C:\\Users\\jjp\\Desktop\\out\\443.png is a low contrast image\n",
      "  warn('%s is a low contrast image' % fname)\n"
     ]
    },
    {
     "name": "stdout",
     "output_type": "stream",
     "text": [
      "C:\\Users\\jjp\\Desktop\\插画\\links\\443.psd is ok\n",
      "C:\\Users\\jjp\\Desktop\\插画\\links\\444.psd\n"
     ]
    },
    {
     "name": "stderr",
     "output_type": "stream",
     "text": [
      "d:\\program files\\python37\\lib\\site-packages\\skimage\\io\\_io.py:140: UserWarning: C:\\Users\\jjp\\Desktop\\out\\444.png is a low contrast image\n",
      "  warn('%s is a low contrast image' % fname)\n"
     ]
    },
    {
     "name": "stdout",
     "output_type": "stream",
     "text": [
      "C:\\Users\\jjp\\Desktop\\插画\\links\\444.psd is ok\n",
      "C:\\Users\\jjp\\Desktop\\插画\\links\\445.psd\n"
     ]
    },
    {
     "name": "stderr",
     "output_type": "stream",
     "text": [
      "d:\\program files\\python37\\lib\\site-packages\\skimage\\io\\_io.py:140: UserWarning: C:\\Users\\jjp\\Desktop\\out\\445.png is a low contrast image\n",
      "  warn('%s is a low contrast image' % fname)\n"
     ]
    },
    {
     "name": "stdout",
     "output_type": "stream",
     "text": [
      "C:\\Users\\jjp\\Desktop\\插画\\links\\445.psd is ok\n",
      "C:\\Users\\jjp\\Desktop\\插画\\links\\446.psd\n"
     ]
    },
    {
     "name": "stderr",
     "output_type": "stream",
     "text": [
      "d:\\program files\\python37\\lib\\site-packages\\skimage\\io\\_io.py:140: UserWarning: C:\\Users\\jjp\\Desktop\\out\\446.png is a low contrast image\n",
      "  warn('%s is a low contrast image' % fname)\n"
     ]
    },
    {
     "name": "stdout",
     "output_type": "stream",
     "text": [
      "C:\\Users\\jjp\\Desktop\\插画\\links\\446.psd is ok\n",
      "C:\\Users\\jjp\\Desktop\\插画\\links\\447.psd\n"
     ]
    },
    {
     "name": "stderr",
     "output_type": "stream",
     "text": [
      "d:\\program files\\python37\\lib\\site-packages\\skimage\\io\\_io.py:140: UserWarning: C:\\Users\\jjp\\Desktop\\out\\447.png is a low contrast image\n",
      "  warn('%s is a low contrast image' % fname)\n"
     ]
    },
    {
     "name": "stdout",
     "output_type": "stream",
     "text": [
      "C:\\Users\\jjp\\Desktop\\插画\\links\\447.psd is ok\n"
     ]
    },
    {
     "name": "stderr",
     "output_type": "stream",
     "text": [
      "d:\\program files\\python37\\lib\\site-packages\\skimage\\io\\_io.py:140: UserWarning: C:\\Users\\jjp\\Desktop\\out\\448.png is a low contrast image\n",
      "  warn('%s is a low contrast image' % fname)\n"
     ]
    },
    {
     "name": "stdout",
     "output_type": "stream",
     "text": [
      "C:\\Users\\jjp\\Desktop\\插画\\links\\448.psd\n",
      "C:\\Users\\jjp\\Desktop\\插画\\links\\448.psd is ok\n"
     ]
    },
    {
     "name": "stderr",
     "output_type": "stream",
     "text": [
      "d:\\program files\\python37\\lib\\site-packages\\skimage\\io\\_io.py:140: UserWarning: C:\\Users\\jjp\\Desktop\\out\\449.png is a low contrast image\n",
      "  warn('%s is a low contrast image' % fname)\n"
     ]
    },
    {
     "name": "stdout",
     "output_type": "stream",
     "text": [
      "C:\\Users\\jjp\\Desktop\\插画\\links\\449.psd\n",
      "C:\\Users\\jjp\\Desktop\\插画\\links\\449.psd is ok\n",
      "C:\\Users\\jjp\\Desktop\\插画\\links\\45.psd\n"
     ]
    },
    {
     "name": "stderr",
     "output_type": "stream",
     "text": [
      "d:\\program files\\python37\\lib\\site-packages\\skimage\\io\\_io.py:140: UserWarning: C:\\Users\\jjp\\Desktop\\out\\45.png is a low contrast image\n",
      "  warn('%s is a low contrast image' % fname)\n"
     ]
    },
    {
     "name": "stdout",
     "output_type": "stream",
     "text": [
      "C:\\Users\\jjp\\Desktop\\插画\\links\\45.psd is ok\n",
      "C:\\Users\\jjp\\Desktop\\插画\\links\\450.psd\n"
     ]
    },
    {
     "name": "stderr",
     "output_type": "stream",
     "text": [
      "d:\\program files\\python37\\lib\\site-packages\\skimage\\io\\_io.py:140: UserWarning: C:\\Users\\jjp\\Desktop\\out\\450.png is a low contrast image\n",
      "  warn('%s is a low contrast image' % fname)\n"
     ]
    },
    {
     "name": "stdout",
     "output_type": "stream",
     "text": [
      "C:\\Users\\jjp\\Desktop\\插画\\links\\450.psd is ok\n",
      "C:\\Users\\jjp\\Desktop\\插画\\links\\451.psd\n"
     ]
    },
    {
     "name": "stderr",
     "output_type": "stream",
     "text": [
      "d:\\program files\\python37\\lib\\site-packages\\skimage\\io\\_io.py:140: UserWarning: C:\\Users\\jjp\\Desktop\\out\\451.png is a low contrast image\n",
      "  warn('%s is a low contrast image' % fname)\n"
     ]
    },
    {
     "name": "stdout",
     "output_type": "stream",
     "text": [
      "C:\\Users\\jjp\\Desktop\\插画\\links\\451.psd is ok\n",
      "C:\\Users\\jjp\\Desktop\\插画\\links\\452.psd\n"
     ]
    },
    {
     "name": "stderr",
     "output_type": "stream",
     "text": [
      "d:\\program files\\python37\\lib\\site-packages\\skimage\\io\\_io.py:140: UserWarning: C:\\Users\\jjp\\Desktop\\out\\452.png is a low contrast image\n",
      "  warn('%s is a low contrast image' % fname)\n"
     ]
    },
    {
     "name": "stdout",
     "output_type": "stream",
     "text": [
      "C:\\Users\\jjp\\Desktop\\插画\\links\\452.psd is ok\n",
      "C:\\Users\\jjp\\Desktop\\插画\\links\\453.psd\n"
     ]
    },
    {
     "name": "stderr",
     "output_type": "stream",
     "text": [
      "d:\\program files\\python37\\lib\\site-packages\\skimage\\io\\_io.py:140: UserWarning: C:\\Users\\jjp\\Desktop\\out\\453.png is a low contrast image\n",
      "  warn('%s is a low contrast image' % fname)\n"
     ]
    },
    {
     "name": "stdout",
     "output_type": "stream",
     "text": [
      "C:\\Users\\jjp\\Desktop\\插画\\links\\453.psd is ok\n",
      "C:\\Users\\jjp\\Desktop\\插画\\links\\454.psd\n"
     ]
    },
    {
     "name": "stderr",
     "output_type": "stream",
     "text": [
      "d:\\program files\\python37\\lib\\site-packages\\skimage\\io\\_io.py:140: UserWarning: C:\\Users\\jjp\\Desktop\\out\\454.png is a low contrast image\n",
      "  warn('%s is a low contrast image' % fname)\n"
     ]
    },
    {
     "name": "stdout",
     "output_type": "stream",
     "text": [
      "C:\\Users\\jjp\\Desktop\\插画\\links\\454.psd is ok\n",
      "C:\\Users\\jjp\\Desktop\\插画\\links\\455.psd\n"
     ]
    },
    {
     "name": "stderr",
     "output_type": "stream",
     "text": [
      "d:\\program files\\python37\\lib\\site-packages\\skimage\\io\\_io.py:140: UserWarning: C:\\Users\\jjp\\Desktop\\out\\455.png is a low contrast image\n",
      "  warn('%s is a low contrast image' % fname)\n"
     ]
    },
    {
     "name": "stdout",
     "output_type": "stream",
     "text": [
      "C:\\Users\\jjp\\Desktop\\插画\\links\\455.psd is ok\n",
      "C:\\Users\\jjp\\Desktop\\插画\\links\\456.psd\n"
     ]
    },
    {
     "name": "stderr",
     "output_type": "stream",
     "text": [
      "d:\\program files\\python37\\lib\\site-packages\\skimage\\io\\_io.py:140: UserWarning: C:\\Users\\jjp\\Desktop\\out\\456.png is a low contrast image\n",
      "  warn('%s is a low contrast image' % fname)\n"
     ]
    },
    {
     "name": "stdout",
     "output_type": "stream",
     "text": [
      "C:\\Users\\jjp\\Desktop\\插画\\links\\456.psd is ok\n",
      "C:\\Users\\jjp\\Desktop\\插画\\links\\457.psd\n"
     ]
    },
    {
     "name": "stderr",
     "output_type": "stream",
     "text": [
      "d:\\program files\\python37\\lib\\site-packages\\skimage\\io\\_io.py:140: UserWarning: C:\\Users\\jjp\\Desktop\\out\\457.png is a low contrast image\n",
      "  warn('%s is a low contrast image' % fname)\n"
     ]
    },
    {
     "name": "stdout",
     "output_type": "stream",
     "text": [
      "C:\\Users\\jjp\\Desktop\\插画\\links\\457.psd is ok\n",
      "C:\\Users\\jjp\\Desktop\\插画\\links\\458.psd\n"
     ]
    },
    {
     "name": "stderr",
     "output_type": "stream",
     "text": [
      "d:\\program files\\python37\\lib\\site-packages\\skimage\\io\\_io.py:140: UserWarning: C:\\Users\\jjp\\Desktop\\out\\458.png is a low contrast image\n",
      "  warn('%s is a low contrast image' % fname)\n"
     ]
    },
    {
     "name": "stdout",
     "output_type": "stream",
     "text": [
      "C:\\Users\\jjp\\Desktop\\插画\\links\\458.psd is ok\n",
      "C:\\Users\\jjp\\Desktop\\插画\\links\\459.psd\n"
     ]
    },
    {
     "name": "stderr",
     "output_type": "stream",
     "text": [
      "d:\\program files\\python37\\lib\\site-packages\\skimage\\io\\_io.py:140: UserWarning: C:\\Users\\jjp\\Desktop\\out\\459.png is a low contrast image\n",
      "  warn('%s is a low contrast image' % fname)\n"
     ]
    },
    {
     "name": "stdout",
     "output_type": "stream",
     "text": [
      "C:\\Users\\jjp\\Desktop\\插画\\links\\459.psd is ok\n",
      "C:\\Users\\jjp\\Desktop\\插画\\links\\46.psd\n"
     ]
    },
    {
     "name": "stderr",
     "output_type": "stream",
     "text": [
      "d:\\program files\\python37\\lib\\site-packages\\skimage\\io\\_io.py:140: UserWarning: C:\\Users\\jjp\\Desktop\\out\\46.png is a low contrast image\n",
      "  warn('%s is a low contrast image' % fname)\n"
     ]
    },
    {
     "name": "stdout",
     "output_type": "stream",
     "text": [
      "C:\\Users\\jjp\\Desktop\\插画\\links\\46.psd is ok\n",
      "C:\\Users\\jjp\\Desktop\\插画\\links\\460.psd\n"
     ]
    },
    {
     "name": "stderr",
     "output_type": "stream",
     "text": [
      "d:\\program files\\python37\\lib\\site-packages\\skimage\\io\\_io.py:140: UserWarning: C:\\Users\\jjp\\Desktop\\out\\460.png is a low contrast image\n",
      "  warn('%s is a low contrast image' % fname)\n"
     ]
    },
    {
     "name": "stdout",
     "output_type": "stream",
     "text": [
      "C:\\Users\\jjp\\Desktop\\插画\\links\\460.psd is ok\n",
      "C:\\Users\\jjp\\Desktop\\插画\\links\\461.psd\n"
     ]
    },
    {
     "name": "stderr",
     "output_type": "stream",
     "text": [
      "d:\\program files\\python37\\lib\\site-packages\\skimage\\io\\_io.py:140: UserWarning: C:\\Users\\jjp\\Desktop\\out\\461.png is a low contrast image\n",
      "  warn('%s is a low contrast image' % fname)\n"
     ]
    },
    {
     "name": "stdout",
     "output_type": "stream",
     "text": [
      "C:\\Users\\jjp\\Desktop\\插画\\links\\461.psd is ok\n",
      "C:\\Users\\jjp\\Desktop\\插画\\links\\462.psd\n"
     ]
    },
    {
     "name": "stderr",
     "output_type": "stream",
     "text": [
      "d:\\program files\\python37\\lib\\site-packages\\skimage\\io\\_io.py:140: UserWarning: C:\\Users\\jjp\\Desktop\\out\\462.png is a low contrast image\n",
      "  warn('%s is a low contrast image' % fname)\n"
     ]
    },
    {
     "name": "stdout",
     "output_type": "stream",
     "text": [
      "C:\\Users\\jjp\\Desktop\\插画\\links\\462.psd is ok\n",
      "C:\\Users\\jjp\\Desktop\\插画\\links\\463.psd\n"
     ]
    },
    {
     "name": "stderr",
     "output_type": "stream",
     "text": [
      "d:\\program files\\python37\\lib\\site-packages\\skimage\\io\\_io.py:140: UserWarning: C:\\Users\\jjp\\Desktop\\out\\463.png is a low contrast image\n",
      "  warn('%s is a low contrast image' % fname)\n"
     ]
    },
    {
     "name": "stdout",
     "output_type": "stream",
     "text": [
      "C:\\Users\\jjp\\Desktop\\插画\\links\\463.psd is ok\n",
      "C:\\Users\\jjp\\Desktop\\插画\\links\\464.psd\n"
     ]
    },
    {
     "name": "stderr",
     "output_type": "stream",
     "text": [
      "d:\\program files\\python37\\lib\\site-packages\\skimage\\io\\_io.py:140: UserWarning: C:\\Users\\jjp\\Desktop\\out\\464.png is a low contrast image\n",
      "  warn('%s is a low contrast image' % fname)\n"
     ]
    },
    {
     "name": "stdout",
     "output_type": "stream",
     "text": [
      "C:\\Users\\jjp\\Desktop\\插画\\links\\464.psd is ok\n",
      "C:\\Users\\jjp\\Desktop\\插画\\links\\465.psd\n"
     ]
    },
    {
     "name": "stderr",
     "output_type": "stream",
     "text": [
      "d:\\program files\\python37\\lib\\site-packages\\skimage\\io\\_io.py:140: UserWarning: C:\\Users\\jjp\\Desktop\\out\\465.png is a low contrast image\n",
      "  warn('%s is a low contrast image' % fname)\n"
     ]
    },
    {
     "name": "stdout",
     "output_type": "stream",
     "text": [
      "C:\\Users\\jjp\\Desktop\\插画\\links\\465.psd is ok\n"
     ]
    },
    {
     "name": "stderr",
     "output_type": "stream",
     "text": [
      "d:\\program files\\python37\\lib\\site-packages\\skimage\\io\\_io.py:140: UserWarning: C:\\Users\\jjp\\Desktop\\out\\466.png is a low contrast image\n",
      "  warn('%s is a low contrast image' % fname)\n"
     ]
    },
    {
     "name": "stdout",
     "output_type": "stream",
     "text": [
      "C:\\Users\\jjp\\Desktop\\插画\\links\\466.psd\n",
      "C:\\Users\\jjp\\Desktop\\插画\\links\\466.psd is ok\n"
     ]
    },
    {
     "name": "stderr",
     "output_type": "stream",
     "text": [
      "d:\\program files\\python37\\lib\\site-packages\\skimage\\io\\_io.py:140: UserWarning: C:\\Users\\jjp\\Desktop\\out\\467.png is a low contrast image\n",
      "  warn('%s is a low contrast image' % fname)\n"
     ]
    },
    {
     "name": "stdout",
     "output_type": "stream",
     "text": [
      "C:\\Users\\jjp\\Desktop\\插画\\links\\467.psd\n",
      "C:\\Users\\jjp\\Desktop\\插画\\links\\467.psd is ok\n",
      "C:\\Users\\jjp\\Desktop\\插画\\links\\468.psd\n"
     ]
    },
    {
     "name": "stderr",
     "output_type": "stream",
     "text": [
      "d:\\program files\\python37\\lib\\site-packages\\skimage\\io\\_io.py:140: UserWarning: C:\\Users\\jjp\\Desktop\\out\\468.png is a low contrast image\n",
      "  warn('%s is a low contrast image' % fname)\n"
     ]
    },
    {
     "name": "stdout",
     "output_type": "stream",
     "text": [
      "C:\\Users\\jjp\\Desktop\\插画\\links\\468.psd is ok\n",
      "C:\\Users\\jjp\\Desktop\\插画\\links\\469.psd\n"
     ]
    },
    {
     "name": "stderr",
     "output_type": "stream",
     "text": [
      "d:\\program files\\python37\\lib\\site-packages\\skimage\\io\\_io.py:140: UserWarning: C:\\Users\\jjp\\Desktop\\out\\469.png is a low contrast image\n",
      "  warn('%s is a low contrast image' % fname)\n"
     ]
    },
    {
     "name": "stdout",
     "output_type": "stream",
     "text": [
      "C:\\Users\\jjp\\Desktop\\插画\\links\\469.psd is ok\n",
      "C:\\Users\\jjp\\Desktop\\插画\\links\\47.psd\n"
     ]
    },
    {
     "name": "stderr",
     "output_type": "stream",
     "text": [
      "d:\\program files\\python37\\lib\\site-packages\\skimage\\io\\_io.py:140: UserWarning: C:\\Users\\jjp\\Desktop\\out\\47.png is a low contrast image\n",
      "  warn('%s is a low contrast image' % fname)\n"
     ]
    },
    {
     "name": "stdout",
     "output_type": "stream",
     "text": [
      "C:\\Users\\jjp\\Desktop\\插画\\links\\47.psd is ok\n",
      "C:\\Users\\jjp\\Desktop\\插画\\links\\470.psd\n"
     ]
    },
    {
     "name": "stderr",
     "output_type": "stream",
     "text": [
      "d:\\program files\\python37\\lib\\site-packages\\skimage\\io\\_io.py:140: UserWarning: C:\\Users\\jjp\\Desktop\\out\\470.png is a low contrast image\n",
      "  warn('%s is a low contrast image' % fname)\n"
     ]
    },
    {
     "name": "stdout",
     "output_type": "stream",
     "text": [
      "C:\\Users\\jjp\\Desktop\\插画\\links\\470.psd is ok\n",
      "C:\\Users\\jjp\\Desktop\\插画\\links\\471.psd\n"
     ]
    },
    {
     "name": "stderr",
     "output_type": "stream",
     "text": [
      "d:\\program files\\python37\\lib\\site-packages\\skimage\\io\\_io.py:140: UserWarning: C:\\Users\\jjp\\Desktop\\out\\471.png is a low contrast image\n",
      "  warn('%s is a low contrast image' % fname)\n"
     ]
    },
    {
     "name": "stdout",
     "output_type": "stream",
     "text": [
      "C:\\Users\\jjp\\Desktop\\插画\\links\\471.psd is ok\n",
      "C:\\Users\\jjp\\Desktop\\插画\\links\\472.psd\n"
     ]
    },
    {
     "name": "stderr",
     "output_type": "stream",
     "text": [
      "d:\\program files\\python37\\lib\\site-packages\\skimage\\io\\_io.py:140: UserWarning: C:\\Users\\jjp\\Desktop\\out\\472.png is a low contrast image\n",
      "  warn('%s is a low contrast image' % fname)\n"
     ]
    },
    {
     "name": "stdout",
     "output_type": "stream",
     "text": [
      "C:\\Users\\jjp\\Desktop\\插画\\links\\472.psd is ok\n",
      "C:\\Users\\jjp\\Desktop\\插画\\links\\473.psd\n"
     ]
    },
    {
     "name": "stderr",
     "output_type": "stream",
     "text": [
      "d:\\program files\\python37\\lib\\site-packages\\skimage\\io\\_io.py:140: UserWarning: C:\\Users\\jjp\\Desktop\\out\\473.png is a low contrast image\n",
      "  warn('%s is a low contrast image' % fname)\n"
     ]
    },
    {
     "name": "stdout",
     "output_type": "stream",
     "text": [
      "C:\\Users\\jjp\\Desktop\\插画\\links\\473.psd is ok\n",
      "C:\\Users\\jjp\\Desktop\\插画\\links\\474.psd\n"
     ]
    },
    {
     "name": "stderr",
     "output_type": "stream",
     "text": [
      "d:\\program files\\python37\\lib\\site-packages\\skimage\\io\\_io.py:140: UserWarning: C:\\Users\\jjp\\Desktop\\out\\474.png is a low contrast image\n",
      "  warn('%s is a low contrast image' % fname)\n"
     ]
    },
    {
     "name": "stdout",
     "output_type": "stream",
     "text": [
      "C:\\Users\\jjp\\Desktop\\插画\\links\\474.psd is ok\n",
      "C:\\Users\\jjp\\Desktop\\插画\\links\\475.psd\n"
     ]
    },
    {
     "name": "stderr",
     "output_type": "stream",
     "text": [
      "d:\\program files\\python37\\lib\\site-packages\\skimage\\io\\_io.py:140: UserWarning: C:\\Users\\jjp\\Desktop\\out\\475.png is a low contrast image\n",
      "  warn('%s is a low contrast image' % fname)\n"
     ]
    },
    {
     "name": "stdout",
     "output_type": "stream",
     "text": [
      "C:\\Users\\jjp\\Desktop\\插画\\links\\475.psd is ok\n",
      "C:\\Users\\jjp\\Desktop\\插画\\links\\476.psd\n"
     ]
    },
    {
     "name": "stderr",
     "output_type": "stream",
     "text": [
      "d:\\program files\\python37\\lib\\site-packages\\skimage\\io\\_io.py:140: UserWarning: C:\\Users\\jjp\\Desktop\\out\\476.png is a low contrast image\n",
      "  warn('%s is a low contrast image' % fname)\n"
     ]
    },
    {
     "name": "stdout",
     "output_type": "stream",
     "text": [
      "C:\\Users\\jjp\\Desktop\\插画\\links\\476.psd is ok\n"
     ]
    },
    {
     "name": "stderr",
     "output_type": "stream",
     "text": [
      "d:\\program files\\python37\\lib\\site-packages\\skimage\\io\\_io.py:140: UserWarning: C:\\Users\\jjp\\Desktop\\out\\477.png is a low contrast image\n",
      "  warn('%s is a low contrast image' % fname)\n"
     ]
    },
    {
     "name": "stdout",
     "output_type": "stream",
     "text": [
      "C:\\Users\\jjp\\Desktop\\插画\\links\\477.psd\n",
      "C:\\Users\\jjp\\Desktop\\插画\\links\\477.psd is ok\n",
      "C:\\Users\\jjp\\Desktop\\插画\\links\\478.psd\n"
     ]
    },
    {
     "name": "stderr",
     "output_type": "stream",
     "text": [
      "d:\\program files\\python37\\lib\\site-packages\\skimage\\io\\_io.py:140: UserWarning: C:\\Users\\jjp\\Desktop\\out\\478.png is a low contrast image\n",
      "  warn('%s is a low contrast image' % fname)\n"
     ]
    },
    {
     "name": "stdout",
     "output_type": "stream",
     "text": [
      "C:\\Users\\jjp\\Desktop\\插画\\links\\478.psd is ok\n",
      "C:\\Users\\jjp\\Desktop\\插画\\links\\479.psd\n"
     ]
    },
    {
     "name": "stderr",
     "output_type": "stream",
     "text": [
      "d:\\program files\\python37\\lib\\site-packages\\skimage\\io\\_io.py:140: UserWarning: C:\\Users\\jjp\\Desktop\\out\\479.png is a low contrast image\n",
      "  warn('%s is a low contrast image' % fname)\n"
     ]
    },
    {
     "name": "stdout",
     "output_type": "stream",
     "text": [
      "C:\\Users\\jjp\\Desktop\\插画\\links\\479.psd is ok\n",
      "C:\\Users\\jjp\\Desktop\\插画\\links\\48.psd\n"
     ]
    },
    {
     "name": "stderr",
     "output_type": "stream",
     "text": [
      "d:\\program files\\python37\\lib\\site-packages\\skimage\\io\\_io.py:140: UserWarning: C:\\Users\\jjp\\Desktop\\out\\48.png is a low contrast image\n",
      "  warn('%s is a low contrast image' % fname)\n"
     ]
    },
    {
     "name": "stdout",
     "output_type": "stream",
     "text": [
      "C:\\Users\\jjp\\Desktop\\插画\\links\\48.psd is ok\n",
      "C:\\Users\\jjp\\Desktop\\插画\\links\\480.psd\n"
     ]
    },
    {
     "name": "stderr",
     "output_type": "stream",
     "text": [
      "d:\\program files\\python37\\lib\\site-packages\\skimage\\io\\_io.py:140: UserWarning: C:\\Users\\jjp\\Desktop\\out\\480.png is a low contrast image\n",
      "  warn('%s is a low contrast image' % fname)\n"
     ]
    },
    {
     "name": "stdout",
     "output_type": "stream",
     "text": [
      "C:\\Users\\jjp\\Desktop\\插画\\links\\480.psd is ok\n",
      "C:\\Users\\jjp\\Desktop\\插画\\links\\481.psd\n"
     ]
    },
    {
     "name": "stderr",
     "output_type": "stream",
     "text": [
      "d:\\program files\\python37\\lib\\site-packages\\skimage\\io\\_io.py:140: UserWarning: C:\\Users\\jjp\\Desktop\\out\\481.png is a low contrast image\n",
      "  warn('%s is a low contrast image' % fname)\n"
     ]
    },
    {
     "name": "stdout",
     "output_type": "stream",
     "text": [
      "C:\\Users\\jjp\\Desktop\\插画\\links\\481.psd is ok\n",
      "C:\\Users\\jjp\\Desktop\\插画\\links\\482.psd\n"
     ]
    },
    {
     "name": "stderr",
     "output_type": "stream",
     "text": [
      "d:\\program files\\python37\\lib\\site-packages\\skimage\\io\\_io.py:140: UserWarning: C:\\Users\\jjp\\Desktop\\out\\482.png is a low contrast image\n",
      "  warn('%s is a low contrast image' % fname)\n"
     ]
    },
    {
     "name": "stdout",
     "output_type": "stream",
     "text": [
      "C:\\Users\\jjp\\Desktop\\插画\\links\\482.psd is ok\n",
      "C:\\Users\\jjp\\Desktop\\插画\\links\\483.psd\n"
     ]
    },
    {
     "name": "stderr",
     "output_type": "stream",
     "text": [
      "d:\\program files\\python37\\lib\\site-packages\\skimage\\io\\_io.py:140: UserWarning: C:\\Users\\jjp\\Desktop\\out\\483.png is a low contrast image\n",
      "  warn('%s is a low contrast image' % fname)\n"
     ]
    },
    {
     "name": "stdout",
     "output_type": "stream",
     "text": [
      "C:\\Users\\jjp\\Desktop\\插画\\links\\483.psd is ok\n",
      "C:\\Users\\jjp\\Desktop\\插画\\links\\484.psd\n"
     ]
    },
    {
     "name": "stderr",
     "output_type": "stream",
     "text": [
      "d:\\program files\\python37\\lib\\site-packages\\skimage\\io\\_io.py:140: UserWarning: C:\\Users\\jjp\\Desktop\\out\\484.png is a low contrast image\n",
      "  warn('%s is a low contrast image' % fname)\n"
     ]
    },
    {
     "name": "stdout",
     "output_type": "stream",
     "text": [
      "C:\\Users\\jjp\\Desktop\\插画\\links\\484.psd is ok\n",
      "C:\\Users\\jjp\\Desktop\\插画\\links\\485.psd\n"
     ]
    },
    {
     "name": "stderr",
     "output_type": "stream",
     "text": [
      "d:\\program files\\python37\\lib\\site-packages\\skimage\\io\\_io.py:140: UserWarning: C:\\Users\\jjp\\Desktop\\out\\485.png is a low contrast image\n",
      "  warn('%s is a low contrast image' % fname)\n"
     ]
    },
    {
     "name": "stdout",
     "output_type": "stream",
     "text": [
      "C:\\Users\\jjp\\Desktop\\插画\\links\\485.psd is ok\n",
      "C:\\Users\\jjp\\Desktop\\插画\\links\\486.psd\n"
     ]
    },
    {
     "name": "stderr",
     "output_type": "stream",
     "text": [
      "d:\\program files\\python37\\lib\\site-packages\\skimage\\io\\_io.py:140: UserWarning: C:\\Users\\jjp\\Desktop\\out\\486.png is a low contrast image\n",
      "  warn('%s is a low contrast image' % fname)\n"
     ]
    },
    {
     "name": "stdout",
     "output_type": "stream",
     "text": [
      "C:\\Users\\jjp\\Desktop\\插画\\links\\486.psd is ok\n",
      "C:\\Users\\jjp\\Desktop\\插画\\links\\487.psd\n"
     ]
    },
    {
     "name": "stderr",
     "output_type": "stream",
     "text": [
      "d:\\program files\\python37\\lib\\site-packages\\skimage\\io\\_io.py:140: UserWarning: C:\\Users\\jjp\\Desktop\\out\\487.png is a low contrast image\n",
      "  warn('%s is a low contrast image' % fname)\n"
     ]
    },
    {
     "name": "stdout",
     "output_type": "stream",
     "text": [
      "C:\\Users\\jjp\\Desktop\\插画\\links\\487.psd is ok\n"
     ]
    },
    {
     "name": "stderr",
     "output_type": "stream",
     "text": [
      "d:\\program files\\python37\\lib\\site-packages\\skimage\\io\\_io.py:140: UserWarning: C:\\Users\\jjp\\Desktop\\out\\488.png is a low contrast image\n",
      "  warn('%s is a low contrast image' % fname)\n"
     ]
    },
    {
     "name": "stdout",
     "output_type": "stream",
     "text": [
      "C:\\Users\\jjp\\Desktop\\插画\\links\\488.psd\n",
      "C:\\Users\\jjp\\Desktop\\插画\\links\\488.psd is ok\n",
      "C:\\Users\\jjp\\Desktop\\插画\\links\\489.psd\n"
     ]
    },
    {
     "name": "stderr",
     "output_type": "stream",
     "text": [
      "d:\\program files\\python37\\lib\\site-packages\\skimage\\io\\_io.py:140: UserWarning: C:\\Users\\jjp\\Desktop\\out\\489.png is a low contrast image\n",
      "  warn('%s is a low contrast image' % fname)\n"
     ]
    },
    {
     "name": "stdout",
     "output_type": "stream",
     "text": [
      "C:\\Users\\jjp\\Desktop\\插画\\links\\489.psd is ok\n",
      "C:\\Users\\jjp\\Desktop\\插画\\links\\49.psd\n"
     ]
    },
    {
     "name": "stderr",
     "output_type": "stream",
     "text": [
      "d:\\program files\\python37\\lib\\site-packages\\skimage\\io\\_io.py:140: UserWarning: C:\\Users\\jjp\\Desktop\\out\\49.png is a low contrast image\n",
      "  warn('%s is a low contrast image' % fname)\n"
     ]
    },
    {
     "name": "stdout",
     "output_type": "stream",
     "text": [
      "C:\\Users\\jjp\\Desktop\\插画\\links\\49.psd is ok\n",
      "C:\\Users\\jjp\\Desktop\\插画\\links\\490.psd\n"
     ]
    },
    {
     "name": "stderr",
     "output_type": "stream",
     "text": [
      "d:\\program files\\python37\\lib\\site-packages\\skimage\\io\\_io.py:140: UserWarning: C:\\Users\\jjp\\Desktop\\out\\490.png is a low contrast image\n",
      "  warn('%s is a low contrast image' % fname)\n"
     ]
    },
    {
     "name": "stdout",
     "output_type": "stream",
     "text": [
      "C:\\Users\\jjp\\Desktop\\插画\\links\\490.psd is ok\n",
      "C:\\Users\\jjp\\Desktop\\插画\\links\\491.psd\n"
     ]
    },
    {
     "name": "stderr",
     "output_type": "stream",
     "text": [
      "d:\\program files\\python37\\lib\\site-packages\\skimage\\io\\_io.py:140: UserWarning: C:\\Users\\jjp\\Desktop\\out\\491.png is a low contrast image\n",
      "  warn('%s is a low contrast image' % fname)\n"
     ]
    },
    {
     "name": "stdout",
     "output_type": "stream",
     "text": [
      "C:\\Users\\jjp\\Desktop\\插画\\links\\491.psd is ok\n",
      "C:\\Users\\jjp\\Desktop\\插画\\links\\492.psd\n"
     ]
    },
    {
     "name": "stderr",
     "output_type": "stream",
     "text": [
      "d:\\program files\\python37\\lib\\site-packages\\skimage\\io\\_io.py:140: UserWarning: C:\\Users\\jjp\\Desktop\\out\\492.png is a low contrast image\n",
      "  warn('%s is a low contrast image' % fname)\n"
     ]
    },
    {
     "name": "stdout",
     "output_type": "stream",
     "text": [
      "C:\\Users\\jjp\\Desktop\\插画\\links\\492.psd is ok\n",
      "C:\\Users\\jjp\\Desktop\\插画\\links\\493.psd"
     ]
    },
    {
     "name": "stderr",
     "output_type": "stream",
     "text": [
      "d:\\program files\\python37\\lib\\site-packages\\skimage\\io\\_io.py:140: UserWarning: C:\\Users\\jjp\\Desktop\\out\\493.png is a low contrast image\n",
      "  warn('%s is a low contrast image' % fname)\n"
     ]
    },
    {
     "name": "stdout",
     "output_type": "stream",
     "text": [
      "\n",
      "C:\\Users\\jjp\\Desktop\\插画\\links\\493.psd is ok\n",
      "C:\\Users\\jjp\\Desktop\\插画\\links\\494.psd\n"
     ]
    },
    {
     "name": "stderr",
     "output_type": "stream",
     "text": [
      "d:\\program files\\python37\\lib\\site-packages\\skimage\\io\\_io.py:140: UserWarning: C:\\Users\\jjp\\Desktop\\out\\494.png is a low contrast image\n",
      "  warn('%s is a low contrast image' % fname)\n"
     ]
    },
    {
     "name": "stdout",
     "output_type": "stream",
     "text": [
      "C:\\Users\\jjp\\Desktop\\插画\\links\\494.psd is ok\n",
      "C:\\Users\\jjp\\Desktop\\插画\\links\\495.psd\n"
     ]
    },
    {
     "name": "stderr",
     "output_type": "stream",
     "text": [
      "d:\\program files\\python37\\lib\\site-packages\\skimage\\io\\_io.py:140: UserWarning: C:\\Users\\jjp\\Desktop\\out\\495.png is a low contrast image\n",
      "  warn('%s is a low contrast image' % fname)\n"
     ]
    },
    {
     "name": "stdout",
     "output_type": "stream",
     "text": [
      "C:\\Users\\jjp\\Desktop\\插画\\links\\495.psd is ok\n"
     ]
    },
    {
     "name": "stderr",
     "output_type": "stream",
     "text": [
      "d:\\program files\\python37\\lib\\site-packages\\skimage\\io\\_io.py:140: UserWarning: C:\\Users\\jjp\\Desktop\\out\\496.png is a low contrast image\n",
      "  warn('%s is a low contrast image' % fname)\n"
     ]
    },
    {
     "name": "stdout",
     "output_type": "stream",
     "text": [
      "C:\\Users\\jjp\\Desktop\\插画\\links\\496.psd\n",
      "C:\\Users\\jjp\\Desktop\\插画\\links\\496.psd is ok\n",
      "C:\\Users\\jjp\\Desktop\\插画\\links\\497.psd\n"
     ]
    },
    {
     "name": "stderr",
     "output_type": "stream",
     "text": [
      "d:\\program files\\python37\\lib\\site-packages\\skimage\\io\\_io.py:140: UserWarning: C:\\Users\\jjp\\Desktop\\out\\497.png is a low contrast image\n",
      "  warn('%s is a low contrast image' % fname)\n"
     ]
    },
    {
     "name": "stdout",
     "output_type": "stream",
     "text": [
      "C:\\Users\\jjp\\Desktop\\插画\\links\\497.psd is ok\n",
      "C:\\Users\\jjp\\Desktop\\插画\\links\\498.psd\n"
     ]
    },
    {
     "name": "stderr",
     "output_type": "stream",
     "text": [
      "d:\\program files\\python37\\lib\\site-packages\\skimage\\io\\_io.py:140: UserWarning: C:\\Users\\jjp\\Desktop\\out\\498.png is a low contrast image\n",
      "  warn('%s is a low contrast image' % fname)\n"
     ]
    },
    {
     "name": "stdout",
     "output_type": "stream",
     "text": [
      "C:\\Users\\jjp\\Desktop\\插画\\links\\498.psd is ok\n",
      "C:\\Users\\jjp\\Desktop\\插画\\links\\499.psd\n"
     ]
    },
    {
     "name": "stderr",
     "output_type": "stream",
     "text": [
      "d:\\program files\\python37\\lib\\site-packages\\skimage\\io\\_io.py:140: UserWarning: C:\\Users\\jjp\\Desktop\\out\\499.png is a low contrast image\n",
      "  warn('%s is a low contrast image' % fname)\n"
     ]
    },
    {
     "name": "stdout",
     "output_type": "stream",
     "text": [
      "C:\\Users\\jjp\\Desktop\\插画\\links\\499.psd is ok\n",
      "C:\\Users\\jjp\\Desktop\\插画\\links\\5.psd\n"
     ]
    },
    {
     "name": "stderr",
     "output_type": "stream",
     "text": [
      "d:\\program files\\python37\\lib\\site-packages\\skimage\\io\\_io.py:140: UserWarning: C:\\Users\\jjp\\Desktop\\out\\5.png is a low contrast image\n",
      "  warn('%s is a low contrast image' % fname)\n"
     ]
    },
    {
     "name": "stdout",
     "output_type": "stream",
     "text": [
      "C:\\Users\\jjp\\Desktop\\插画\\links\\5.psd is ok\n",
      "C:\\Users\\jjp\\Desktop\\插画\\links\\50.psd\n"
     ]
    },
    {
     "name": "stderr",
     "output_type": "stream",
     "text": [
      "d:\\program files\\python37\\lib\\site-packages\\skimage\\io\\_io.py:140: UserWarning: C:\\Users\\jjp\\Desktop\\out\\50.png is a low contrast image\n",
      "  warn('%s is a low contrast image' % fname)\n"
     ]
    },
    {
     "name": "stdout",
     "output_type": "stream",
     "text": [
      "C:\\Users\\jjp\\Desktop\\插画\\links\\50.psd is ok\n",
      "C:\\Users\\jjp\\Desktop\\插画\\links\\500.psd\n"
     ]
    },
    {
     "name": "stderr",
     "output_type": "stream",
     "text": [
      "d:\\program files\\python37\\lib\\site-packages\\skimage\\io\\_io.py:140: UserWarning: C:\\Users\\jjp\\Desktop\\out\\500.png is a low contrast image\n",
      "  warn('%s is a low contrast image' % fname)\n"
     ]
    },
    {
     "name": "stdout",
     "output_type": "stream",
     "text": [
      "C:\\Users\\jjp\\Desktop\\插画\\links\\500.psd is ok\n"
     ]
    },
    {
     "name": "stderr",
     "output_type": "stream",
     "text": [
      "d:\\program files\\python37\\lib\\site-packages\\skimage\\io\\_io.py:140: UserWarning: C:\\Users\\jjp\\Desktop\\out\\501.png is a low contrast image\n",
      "  warn('%s is a low contrast image' % fname)\n"
     ]
    },
    {
     "name": "stdout",
     "output_type": "stream",
     "text": [
      "C:\\Users\\jjp\\Desktop\\插画\\links\\501.psd\n",
      "C:\\Users\\jjp\\Desktop\\插画\\links\\501.psd is ok\n"
     ]
    },
    {
     "name": "stderr",
     "output_type": "stream",
     "text": [
      "d:\\program files\\python37\\lib\\site-packages\\skimage\\io\\_io.py:140: UserWarning: C:\\Users\\jjp\\Desktop\\out\\502.png is a low contrast image\n",
      "  warn('%s is a low contrast image' % fname)\n"
     ]
    },
    {
     "name": "stdout",
     "output_type": "stream",
     "text": [
      "C:\\Users\\jjp\\Desktop\\插画\\links\\502.psd\n",
      "C:\\Users\\jjp\\Desktop\\插画\\links\\502.psd is ok\n",
      "C:\\Users\\jjp\\Desktop\\插画\\links\\503.psd\n"
     ]
    },
    {
     "name": "stderr",
     "output_type": "stream",
     "text": [
      "d:\\program files\\python37\\lib\\site-packages\\skimage\\io\\_io.py:140: UserWarning: C:\\Users\\jjp\\Desktop\\out\\503.png is a low contrast image\n",
      "  warn('%s is a low contrast image' % fname)\n"
     ]
    },
    {
     "name": "stdout",
     "output_type": "stream",
     "text": [
      "C:\\Users\\jjp\\Desktop\\插画\\links\\503.psd is ok\n",
      "C:\\Users\\jjp\\Desktop\\插画\\links\\504.psd\n"
     ]
    },
    {
     "name": "stderr",
     "output_type": "stream",
     "text": [
      "d:\\program files\\python37\\lib\\site-packages\\skimage\\io\\_io.py:140: UserWarning: C:\\Users\\jjp\\Desktop\\out\\504.png is a low contrast image\n",
      "  warn('%s is a low contrast image' % fname)\n"
     ]
    },
    {
     "name": "stdout",
     "output_type": "stream",
     "text": [
      "C:\\Users\\jjp\\Desktop\\插画\\links\\504.psd is ok\n",
      "C:\\Users\\jjp\\Desktop\\插画\\links\\505.psd\n"
     ]
    },
    {
     "name": "stderr",
     "output_type": "stream",
     "text": [
      "d:\\program files\\python37\\lib\\site-packages\\skimage\\io\\_io.py:140: UserWarning: C:\\Users\\jjp\\Desktop\\out\\505.png is a low contrast image\n",
      "  warn('%s is a low contrast image' % fname)\n"
     ]
    },
    {
     "name": "stdout",
     "output_type": "stream",
     "text": [
      "C:\\Users\\jjp\\Desktop\\插画\\links\\505.psd is ok\n",
      "C:\\Users\\jjp\\Desktop\\插画\\links\\506.psd\n"
     ]
    },
    {
     "name": "stderr",
     "output_type": "stream",
     "text": [
      "d:\\program files\\python37\\lib\\site-packages\\skimage\\io\\_io.py:140: UserWarning: C:\\Users\\jjp\\Desktop\\out\\506.png is a low contrast image\n",
      "  warn('%s is a low contrast image' % fname)\n"
     ]
    },
    {
     "name": "stdout",
     "output_type": "stream",
     "text": [
      "C:\\Users\\jjp\\Desktop\\插画\\links\\506.psd is ok\n",
      "C:\\Users\\jjp\\Desktop\\插画\\links\\507.psd\n"
     ]
    },
    {
     "name": "stderr",
     "output_type": "stream",
     "text": [
      "d:\\program files\\python37\\lib\\site-packages\\skimage\\io\\_io.py:140: UserWarning: C:\\Users\\jjp\\Desktop\\out\\507.png is a low contrast image\n",
      "  warn('%s is a low contrast image' % fname)\n"
     ]
    },
    {
     "name": "stdout",
     "output_type": "stream",
     "text": [
      "C:\\Users\\jjp\\Desktop\\插画\\links\\507.psd is ok\n",
      "C:\\Users\\jjp\\Desktop\\插画\\links\\508.psd\n"
     ]
    },
    {
     "name": "stderr",
     "output_type": "stream",
     "text": [
      "d:\\program files\\python37\\lib\\site-packages\\skimage\\io\\_io.py:140: UserWarning: C:\\Users\\jjp\\Desktop\\out\\508.png is a low contrast image\n",
      "  warn('%s is a low contrast image' % fname)\n"
     ]
    },
    {
     "name": "stdout",
     "output_type": "stream",
     "text": [
      "C:\\Users\\jjp\\Desktop\\插画\\links\\508.psd is ok\n",
      "C:\\Users\\jjp\\Desktop\\插画\\links\\509.psd\n"
     ]
    },
    {
     "name": "stderr",
     "output_type": "stream",
     "text": [
      "d:\\program files\\python37\\lib\\site-packages\\skimage\\io\\_io.py:140: UserWarning: C:\\Users\\jjp\\Desktop\\out\\509.png is a low contrast image\n",
      "  warn('%s is a low contrast image' % fname)\n"
     ]
    },
    {
     "name": "stdout",
     "output_type": "stream",
     "text": [
      "C:\\Users\\jjp\\Desktop\\插画\\links\\509.psd is ok\n",
      "C:\\Users\\jjp\\Desktop\\插画\\links\\51.psd\n"
     ]
    },
    {
     "name": "stderr",
     "output_type": "stream",
     "text": [
      "d:\\program files\\python37\\lib\\site-packages\\skimage\\io\\_io.py:140: UserWarning: C:\\Users\\jjp\\Desktop\\out\\51.png is a low contrast image\n",
      "  warn('%s is a low contrast image' % fname)\n"
     ]
    },
    {
     "name": "stdout",
     "output_type": "stream",
     "text": [
      "C:\\Users\\jjp\\Desktop\\插画\\links\\51.psd is ok\n",
      "C:\\Users\\jjp\\Desktop\\插画\\links\\510.psd\n"
     ]
    },
    {
     "name": "stderr",
     "output_type": "stream",
     "text": [
      "d:\\program files\\python37\\lib\\site-packages\\skimage\\io\\_io.py:140: UserWarning: C:\\Users\\jjp\\Desktop\\out\\510.png is a low contrast image\n",
      "  warn('%s is a low contrast image' % fname)\n"
     ]
    },
    {
     "name": "stdout",
     "output_type": "stream",
     "text": [
      "C:\\Users\\jjp\\Desktop\\插画\\links\\510.psd is ok\n",
      "C:\\Users\\jjp\\Desktop\\插画\\links\\511.psd\n"
     ]
    },
    {
     "name": "stderr",
     "output_type": "stream",
     "text": [
      "d:\\program files\\python37\\lib\\site-packages\\skimage\\io\\_io.py:140: UserWarning: C:\\Users\\jjp\\Desktop\\out\\511.png is a low contrast image\n",
      "  warn('%s is a low contrast image' % fname)\n"
     ]
    },
    {
     "name": "stdout",
     "output_type": "stream",
     "text": [
      "C:\\Users\\jjp\\Desktop\\插画\\links\\511.psd is ok\n",
      "C:\\Users\\jjp\\Desktop\\插画\\links\\512.psd\n"
     ]
    },
    {
     "name": "stderr",
     "output_type": "stream",
     "text": [
      "d:\\program files\\python37\\lib\\site-packages\\skimage\\io\\_io.py:140: UserWarning: C:\\Users\\jjp\\Desktop\\out\\512.png is a low contrast image\n",
      "  warn('%s is a low contrast image' % fname)\n"
     ]
    },
    {
     "name": "stdout",
     "output_type": "stream",
     "text": [
      "C:\\Users\\jjp\\Desktop\\插画\\links\\512.psd is ok\n",
      "C:\\Users\\jjp\\Desktop\\插画\\links\\513.psd\n"
     ]
    },
    {
     "name": "stderr",
     "output_type": "stream",
     "text": [
      "d:\\program files\\python37\\lib\\site-packages\\skimage\\io\\_io.py:140: UserWarning: C:\\Users\\jjp\\Desktop\\out\\513.png is a low contrast image\n",
      "  warn('%s is a low contrast image' % fname)\n"
     ]
    },
    {
     "name": "stdout",
     "output_type": "stream",
     "text": [
      "C:\\Users\\jjp\\Desktop\\插画\\links\\513.psd is ok\n",
      "C:\\Users\\jjp\\Desktop\\插画\\links\\514.psd\n"
     ]
    },
    {
     "name": "stderr",
     "output_type": "stream",
     "text": [
      "d:\\program files\\python37\\lib\\site-packages\\skimage\\io\\_io.py:140: UserWarning: C:\\Users\\jjp\\Desktop\\out\\514.png is a low contrast image\n",
      "  warn('%s is a low contrast image' % fname)\n"
     ]
    },
    {
     "name": "stdout",
     "output_type": "stream",
     "text": [
      "C:\\Users\\jjp\\Desktop\\插画\\links\\514.psd is ok\n",
      "C:\\Users\\jjp\\Desktop\\插画\\links\\515.psd\n"
     ]
    },
    {
     "name": "stderr",
     "output_type": "stream",
     "text": [
      "d:\\program files\\python37\\lib\\site-packages\\skimage\\io\\_io.py:140: UserWarning: C:\\Users\\jjp\\Desktop\\out\\515.png is a low contrast image\n",
      "  warn('%s is a low contrast image' % fname)\n"
     ]
    },
    {
     "name": "stdout",
     "output_type": "stream",
     "text": [
      "C:\\Users\\jjp\\Desktop\\插画\\links\\515.psd is ok\n",
      "C:\\Users\\jjp\\Desktop\\插画\\links\\516.psd\n"
     ]
    },
    {
     "name": "stderr",
     "output_type": "stream",
     "text": [
      "d:\\program files\\python37\\lib\\site-packages\\skimage\\io\\_io.py:140: UserWarning: C:\\Users\\jjp\\Desktop\\out\\516.png is a low contrast image\n",
      "  warn('%s is a low contrast image' % fname)\n"
     ]
    },
    {
     "name": "stdout",
     "output_type": "stream",
     "text": [
      "C:\\Users\\jjp\\Desktop\\插画\\links\\516.psd is ok\n",
      "C:\\Users\\jjp\\Desktop\\插画\\links\\517.psd\n"
     ]
    },
    {
     "name": "stderr",
     "output_type": "stream",
     "text": [
      "d:\\program files\\python37\\lib\\site-packages\\skimage\\io\\_io.py:140: UserWarning: C:\\Users\\jjp\\Desktop\\out\\517.png is a low contrast image\n",
      "  warn('%s is a low contrast image' % fname)\n"
     ]
    },
    {
     "name": "stdout",
     "output_type": "stream",
     "text": [
      "C:\\Users\\jjp\\Desktop\\插画\\links\\517.psd is ok\n",
      "C:\\Users\\jjp\\Desktop\\插画\\links\\518.psd\n"
     ]
    },
    {
     "name": "stderr",
     "output_type": "stream",
     "text": [
      "d:\\program files\\python37\\lib\\site-packages\\skimage\\io\\_io.py:140: UserWarning: C:\\Users\\jjp\\Desktop\\out\\518.png is a low contrast image\n",
      "  warn('%s is a low contrast image' % fname)\n"
     ]
    },
    {
     "name": "stdout",
     "output_type": "stream",
     "text": [
      "C:\\Users\\jjp\\Desktop\\插画\\links\\518.psd is ok\n",
      "C:\\Users\\jjp\\Desktop\\插画\\links\\519.psd\n"
     ]
    },
    {
     "name": "stderr",
     "output_type": "stream",
     "text": [
      "d:\\program files\\python37\\lib\\site-packages\\skimage\\io\\_io.py:140: UserWarning: C:\\Users\\jjp\\Desktop\\out\\519.png is a low contrast image\n",
      "  warn('%s is a low contrast image' % fname)\n"
     ]
    },
    {
     "name": "stdout",
     "output_type": "stream",
     "text": [
      "C:\\Users\\jjp\\Desktop\\插画\\links\\519.psd is ok\n",
      "C:\\Users\\jjp\\Desktop\\插画\\links\\52.psd\n"
     ]
    },
    {
     "name": "stderr",
     "output_type": "stream",
     "text": [
      "d:\\program files\\python37\\lib\\site-packages\\skimage\\io\\_io.py:140: UserWarning: C:\\Users\\jjp\\Desktop\\out\\52.png is a low contrast image\n",
      "  warn('%s is a low contrast image' % fname)\n"
     ]
    },
    {
     "name": "stdout",
     "output_type": "stream",
     "text": [
      "C:\\Users\\jjp\\Desktop\\插画\\links\\52.psd is ok\n",
      "C:\\Users\\jjp\\Desktop\\插画\\links\\520.psd\n"
     ]
    },
    {
     "name": "stderr",
     "output_type": "stream",
     "text": [
      "d:\\program files\\python37\\lib\\site-packages\\skimage\\io\\_io.py:140: UserWarning: C:\\Users\\jjp\\Desktop\\out\\520.png is a low contrast image\n",
      "  warn('%s is a low contrast image' % fname)\n"
     ]
    },
    {
     "name": "stdout",
     "output_type": "stream",
     "text": [
      "C:\\Users\\jjp\\Desktop\\插画\\links\\520.psd is ok\n",
      "C:\\Users\\jjp\\Desktop\\插画\\links\\521.psd\n"
     ]
    },
    {
     "name": "stderr",
     "output_type": "stream",
     "text": [
      "d:\\program files\\python37\\lib\\site-packages\\skimage\\io\\_io.py:140: UserWarning: C:\\Users\\jjp\\Desktop\\out\\521.png is a low contrast image\n",
      "  warn('%s is a low contrast image' % fname)\n"
     ]
    },
    {
     "name": "stdout",
     "output_type": "stream",
     "text": [
      "C:\\Users\\jjp\\Desktop\\插画\\links\\521.psd is ok\n",
      "C:\\Users\\jjp\\Desktop\\插画\\links\\522.psd\n"
     ]
    },
    {
     "name": "stderr",
     "output_type": "stream",
     "text": [
      "d:\\program files\\python37\\lib\\site-packages\\skimage\\io\\_io.py:140: UserWarning: C:\\Users\\jjp\\Desktop\\out\\522.png is a low contrast image\n",
      "  warn('%s is a low contrast image' % fname)\n"
     ]
    },
    {
     "name": "stdout",
     "output_type": "stream",
     "text": [
      "C:\\Users\\jjp\\Desktop\\插画\\links\\522.psd is ok\n"
     ]
    },
    {
     "name": "stderr",
     "output_type": "stream",
     "text": [
      "d:\\program files\\python37\\lib\\site-packages\\skimage\\io\\_io.py:140: UserWarning: C:\\Users\\jjp\\Desktop\\out\\523.png is a low contrast image\n",
      "  warn('%s is a low contrast image' % fname)\n"
     ]
    },
    {
     "name": "stdout",
     "output_type": "stream",
     "text": [
      "C:\\Users\\jjp\\Desktop\\插画\\links\\523.psd\n",
      "C:\\Users\\jjp\\Desktop\\插画\\links\\523.psd is ok\n"
     ]
    },
    {
     "name": "stderr",
     "output_type": "stream",
     "text": [
      "d:\\program files\\python37\\lib\\site-packages\\skimage\\io\\_io.py:140: UserWarning: C:\\Users\\jjp\\Desktop\\out\\524.png is a low contrast image\n",
      "  warn('%s is a low contrast image' % fname)\n"
     ]
    },
    {
     "name": "stdout",
     "output_type": "stream",
     "text": [
      "C:\\Users\\jjp\\Desktop\\插画\\links\\524.psd\n",
      "C:\\Users\\jjp\\Desktop\\插画\\links\\524.psd is ok\n",
      "C:\\Users\\jjp\\Desktop\\插画\\links\\525.psd\n"
     ]
    },
    {
     "name": "stderr",
     "output_type": "stream",
     "text": [
      "d:\\program files\\python37\\lib\\site-packages\\skimage\\io\\_io.py:140: UserWarning: C:\\Users\\jjp\\Desktop\\out\\525.png is a low contrast image\n",
      "  warn('%s is a low contrast image' % fname)\n"
     ]
    },
    {
     "name": "stdout",
     "output_type": "stream",
     "text": [
      "C:\\Users\\jjp\\Desktop\\插画\\links\\525.psd is ok\n",
      "C:\\Users\\jjp\\Desktop\\插画\\links\\526.psd\n"
     ]
    },
    {
     "name": "stderr",
     "output_type": "stream",
     "text": [
      "d:\\program files\\python37\\lib\\site-packages\\skimage\\io\\_io.py:140: UserWarning: C:\\Users\\jjp\\Desktop\\out\\526.png is a low contrast image\n",
      "  warn('%s is a low contrast image' % fname)\n"
     ]
    },
    {
     "name": "stdout",
     "output_type": "stream",
     "text": [
      "C:\\Users\\jjp\\Desktop\\插画\\links\\526.psd is ok\n",
      "C:\\Users\\jjp\\Desktop\\插画\\links\\527.psd\n"
     ]
    },
    {
     "name": "stderr",
     "output_type": "stream",
     "text": [
      "d:\\program files\\python37\\lib\\site-packages\\skimage\\io\\_io.py:140: UserWarning: C:\\Users\\jjp\\Desktop\\out\\527.png is a low contrast image\n",
      "  warn('%s is a low contrast image' % fname)\n"
     ]
    },
    {
     "name": "stdout",
     "output_type": "stream",
     "text": [
      "C:\\Users\\jjp\\Desktop\\插画\\links\\527.psd is ok\n",
      "C:\\Users\\jjp\\Desktop\\插画\\links\\528.psd\n"
     ]
    },
    {
     "name": "stderr",
     "output_type": "stream",
     "text": [
      "d:\\program files\\python37\\lib\\site-packages\\skimage\\io\\_io.py:140: UserWarning: C:\\Users\\jjp\\Desktop\\out\\528.png is a low contrast image\n",
      "  warn('%s is a low contrast image' % fname)\n"
     ]
    },
    {
     "name": "stdout",
     "output_type": "stream",
     "text": [
      "C:\\Users\\jjp\\Desktop\\插画\\links\\528.psd is ok\n",
      "C:\\Users\\jjp\\Desktop\\插画\\links\\529.psd"
     ]
    },
    {
     "name": "stderr",
     "output_type": "stream",
     "text": [
      "d:\\program files\\python37\\lib\\site-packages\\skimage\\io\\_io.py:140: UserWarning: C:\\Users\\jjp\\Desktop\\out\\529.png is a low contrast image\n",
      "  warn('%s is a low contrast image' % fname)\n"
     ]
    },
    {
     "name": "stdout",
     "output_type": "stream",
     "text": [
      "\n",
      "C:\\Users\\jjp\\Desktop\\插画\\links\\529.psd is ok\n",
      "C:\\Users\\jjp\\Desktop\\插画\\links\\53.psd\n"
     ]
    },
    {
     "name": "stderr",
     "output_type": "stream",
     "text": [
      "d:\\program files\\python37\\lib\\site-packages\\skimage\\io\\_io.py:140: UserWarning: C:\\Users\\jjp\\Desktop\\out\\53.png is a low contrast image\n",
      "  warn('%s is a low contrast image' % fname)\n"
     ]
    },
    {
     "name": "stdout",
     "output_type": "stream",
     "text": [
      "C:\\Users\\jjp\\Desktop\\插画\\links\\53.psd is ok\n"
     ]
    },
    {
     "name": "stderr",
     "output_type": "stream",
     "text": [
      "d:\\program files\\python37\\lib\\site-packages\\skimage\\io\\_io.py:140: UserWarning: C:\\Users\\jjp\\Desktop\\out\\530.png is a low contrast image\n",
      "  warn('%s is a low contrast image' % fname)\n"
     ]
    },
    {
     "name": "stdout",
     "output_type": "stream",
     "text": [
      "C:\\Users\\jjp\\Desktop\\插画\\links\\530.psd\n",
      "C:\\Users\\jjp\\Desktop\\插画\\links\\530.psd is ok\n",
      "C:\\Users\\jjp\\Desktop\\插画\\links\\531.psd\n"
     ]
    },
    {
     "name": "stderr",
     "output_type": "stream",
     "text": [
      "d:\\program files\\python37\\lib\\site-packages\\skimage\\io\\_io.py:140: UserWarning: C:\\Users\\jjp\\Desktop\\out\\531.png is a low contrast image\n",
      "  warn('%s is a low contrast image' % fname)\n"
     ]
    },
    {
     "name": "stdout",
     "output_type": "stream",
     "text": [
      "C:\\Users\\jjp\\Desktop\\插画\\links\\531.psd is ok\n"
     ]
    },
    {
     "name": "stderr",
     "output_type": "stream",
     "text": [
      "d:\\program files\\python37\\lib\\site-packages\\skimage\\io\\_io.py:140: UserWarning: C:\\Users\\jjp\\Desktop\\out\\532.png is a low contrast image\n",
      "  warn('%s is a low contrast image' % fname)\n"
     ]
    },
    {
     "name": "stdout",
     "output_type": "stream",
     "text": [
      "C:\\Users\\jjp\\Desktop\\插画\\links\\532.psd\n",
      "C:\\Users\\jjp\\Desktop\\插画\\links\\532.psd is ok\n"
     ]
    },
    {
     "name": "stderr",
     "output_type": "stream",
     "text": [
      "d:\\program files\\python37\\lib\\site-packages\\skimage\\io\\_io.py:140: UserWarning: C:\\Users\\jjp\\Desktop\\out\\533.png is a low contrast image\n",
      "  warn('%s is a low contrast image' % fname)\n"
     ]
    },
    {
     "name": "stdout",
     "output_type": "stream",
     "text": [
      "C:\\Users\\jjp\\Desktop\\插画\\links\\533.psd\n",
      "C:\\Users\\jjp\\Desktop\\插画\\links\\533.psd is ok\n"
     ]
    },
    {
     "name": "stderr",
     "output_type": "stream",
     "text": [
      "d:\\program files\\python37\\lib\\site-packages\\skimage\\io\\_io.py:140: UserWarning: C:\\Users\\jjp\\Desktop\\out\\534.png is a low contrast image\n",
      "  warn('%s is a low contrast image' % fname)\n"
     ]
    },
    {
     "name": "stdout",
     "output_type": "stream",
     "text": [
      "C:\\Users\\jjp\\Desktop\\插画\\links\\534.psd\n",
      "C:\\Users\\jjp\\Desktop\\插画\\links\\534.psd is ok\n",
      "C:\\Users\\jjp\\Desktop\\插画\\links\\535.psd\n"
     ]
    },
    {
     "name": "stderr",
     "output_type": "stream",
     "text": [
      "d:\\program files\\python37\\lib\\site-packages\\skimage\\io\\_io.py:140: UserWarning: C:\\Users\\jjp\\Desktop\\out\\535.png is a low contrast image\n",
      "  warn('%s is a low contrast image' % fname)\n"
     ]
    },
    {
     "name": "stdout",
     "output_type": "stream",
     "text": [
      "C:\\Users\\jjp\\Desktop\\插画\\links\\535.psd is ok\n",
      "C:\\Users\\jjp\\Desktop\\插画\\links\\536.psd\n"
     ]
    },
    {
     "name": "stderr",
     "output_type": "stream",
     "text": [
      "d:\\program files\\python37\\lib\\site-packages\\skimage\\io\\_io.py:140: UserWarning: C:\\Users\\jjp\\Desktop\\out\\536.png is a low contrast image\n",
      "  warn('%s is a low contrast image' % fname)\n"
     ]
    },
    {
     "name": "stdout",
     "output_type": "stream",
     "text": [
      "C:\\Users\\jjp\\Desktop\\插画\\links\\536.psd is ok\n",
      "C:\\Users\\jjp\\Desktop\\插画\\links\\537.psd\n"
     ]
    },
    {
     "name": "stderr",
     "output_type": "stream",
     "text": [
      "d:\\program files\\python37\\lib\\site-packages\\skimage\\io\\_io.py:140: UserWarning: C:\\Users\\jjp\\Desktop\\out\\537.png is a low contrast image\n",
      "  warn('%s is a low contrast image' % fname)\n"
     ]
    },
    {
     "name": "stdout",
     "output_type": "stream",
     "text": [
      "C:\\Users\\jjp\\Desktop\\插画\\links\\537.psd is ok\n",
      "C:\\Users\\jjp\\Desktop\\插画\\links\\538.psd\n"
     ]
    },
    {
     "name": "stderr",
     "output_type": "stream",
     "text": [
      "d:\\program files\\python37\\lib\\site-packages\\skimage\\io\\_io.py:140: UserWarning: C:\\Users\\jjp\\Desktop\\out\\538.png is a low contrast image\n",
      "  warn('%s is a low contrast image' % fname)\n"
     ]
    },
    {
     "name": "stdout",
     "output_type": "stream",
     "text": [
      "C:\\Users\\jjp\\Desktop\\插画\\links\\538.psd is ok\n",
      "C:\\Users\\jjp\\Desktop\\插画\\links\\539.psd\n"
     ]
    },
    {
     "name": "stderr",
     "output_type": "stream",
     "text": [
      "d:\\program files\\python37\\lib\\site-packages\\skimage\\io\\_io.py:140: UserWarning: C:\\Users\\jjp\\Desktop\\out\\539.png is a low contrast image\n",
      "  warn('%s is a low contrast image' % fname)\n"
     ]
    },
    {
     "name": "stdout",
     "output_type": "stream",
     "text": [
      "C:\\Users\\jjp\\Desktop\\插画\\links\\539.psd is ok\n",
      "C:\\Users\\jjp\\Desktop\\插画\\links\\54.psd\n"
     ]
    },
    {
     "name": "stderr",
     "output_type": "stream",
     "text": [
      "d:\\program files\\python37\\lib\\site-packages\\skimage\\io\\_io.py:140: UserWarning: C:\\Users\\jjp\\Desktop\\out\\54.png is a low contrast image\n",
      "  warn('%s is a low contrast image' % fname)\n"
     ]
    },
    {
     "name": "stdout",
     "output_type": "stream",
     "text": [
      "C:\\Users\\jjp\\Desktop\\插画\\links\\54.psd is ok\n",
      "C:\\Users\\jjp\\Desktop\\插画\\links\\540.psd\n"
     ]
    },
    {
     "name": "stderr",
     "output_type": "stream",
     "text": [
      "d:\\program files\\python37\\lib\\site-packages\\skimage\\io\\_io.py:140: UserWarning: C:\\Users\\jjp\\Desktop\\out\\540.png is a low contrast image\n",
      "  warn('%s is a low contrast image' % fname)\n"
     ]
    },
    {
     "name": "stdout",
     "output_type": "stream",
     "text": [
      "C:\\Users\\jjp\\Desktop\\插画\\links\\540.psd is ok\n"
     ]
    },
    {
     "name": "stderr",
     "output_type": "stream",
     "text": [
      "d:\\program files\\python37\\lib\\site-packages\\skimage\\io\\_io.py:140: UserWarning: C:\\Users\\jjp\\Desktop\\out\\541.png is a low contrast image\n",
      "  warn('%s is a low contrast image' % fname)\n"
     ]
    },
    {
     "name": "stdout",
     "output_type": "stream",
     "text": [
      "C:\\Users\\jjp\\Desktop\\插画\\links\\541.psd\n",
      "C:\\Users\\jjp\\Desktop\\插画\\links\\541.psd is ok\n"
     ]
    },
    {
     "name": "stderr",
     "output_type": "stream",
     "text": [
      "d:\\program files\\python37\\lib\\site-packages\\skimage\\io\\_io.py:140: UserWarning: C:\\Users\\jjp\\Desktop\\out\\542.png is a low contrast image\n",
      "  warn('%s is a low contrast image' % fname)\n"
     ]
    },
    {
     "name": "stdout",
     "output_type": "stream",
     "text": [
      "C:\\Users\\jjp\\Desktop\\插画\\links\\542.psd\n",
      "C:\\Users\\jjp\\Desktop\\插画\\links\\542.psd is ok\n",
      "C:\\Users\\jjp\\Desktop\\插画\\links\\543.psd\n"
     ]
    },
    {
     "name": "stderr",
     "output_type": "stream",
     "text": [
      "d:\\program files\\python37\\lib\\site-packages\\skimage\\io\\_io.py:140: UserWarning: C:\\Users\\jjp\\Desktop\\out\\543.png is a low contrast image\n",
      "  warn('%s is a low contrast image' % fname)\n"
     ]
    },
    {
     "name": "stdout",
     "output_type": "stream",
     "text": [
      "C:\\Users\\jjp\\Desktop\\插画\\links\\543.psd is ok\n",
      "C:\\Users\\jjp\\Desktop\\插画\\links\\544.psd\n"
     ]
    },
    {
     "name": "stderr",
     "output_type": "stream",
     "text": [
      "d:\\program files\\python37\\lib\\site-packages\\skimage\\io\\_io.py:140: UserWarning: C:\\Users\\jjp\\Desktop\\out\\544.png is a low contrast image\n",
      "  warn('%s is a low contrast image' % fname)\n"
     ]
    },
    {
     "name": "stdout",
     "output_type": "stream",
     "text": [
      "C:\\Users\\jjp\\Desktop\\插画\\links\\544.psd is ok\n",
      "C:\\Users\\jjp\\Desktop\\插画\\links\\545.psd\n"
     ]
    },
    {
     "name": "stderr",
     "output_type": "stream",
     "text": [
      "d:\\program files\\python37\\lib\\site-packages\\skimage\\io\\_io.py:140: UserWarning: C:\\Users\\jjp\\Desktop\\out\\545.png is a low contrast image\n",
      "  warn('%s is a low contrast image' % fname)\n"
     ]
    },
    {
     "name": "stdout",
     "output_type": "stream",
     "text": [
      "C:\\Users\\jjp\\Desktop\\插画\\links\\545.psd is ok\n",
      "C:\\Users\\jjp\\Desktop\\插画\\links\\546.psd\n"
     ]
    },
    {
     "name": "stderr",
     "output_type": "stream",
     "text": [
      "d:\\program files\\python37\\lib\\site-packages\\skimage\\io\\_io.py:140: UserWarning: C:\\Users\\jjp\\Desktop\\out\\546.png is a low contrast image\n",
      "  warn('%s is a low contrast image' % fname)\n"
     ]
    },
    {
     "name": "stdout",
     "output_type": "stream",
     "text": [
      "C:\\Users\\jjp\\Desktop\\插画\\links\\546.psd is ok\n",
      "C:\\Users\\jjp\\Desktop\\插画\\links\\547.psd\n"
     ]
    },
    {
     "name": "stderr",
     "output_type": "stream",
     "text": [
      "d:\\program files\\python37\\lib\\site-packages\\skimage\\io\\_io.py:140: UserWarning: C:\\Users\\jjp\\Desktop\\out\\547.png is a low contrast image\n",
      "  warn('%s is a low contrast image' % fname)\n"
     ]
    },
    {
     "name": "stdout",
     "output_type": "stream",
     "text": [
      "C:\\Users\\jjp\\Desktop\\插画\\links\\547.psd is ok\n",
      "C:\\Users\\jjp\\Desktop\\插画\\links\\548.psd\n"
     ]
    },
    {
     "name": "stderr",
     "output_type": "stream",
     "text": [
      "d:\\program files\\python37\\lib\\site-packages\\skimage\\io\\_io.py:140: UserWarning: C:\\Users\\jjp\\Desktop\\out\\548.png is a low contrast image\n",
      "  warn('%s is a low contrast image' % fname)\n"
     ]
    },
    {
     "name": "stdout",
     "output_type": "stream",
     "text": [
      "C:\\Users\\jjp\\Desktop\\插画\\links\\548.psd is ok\n"
     ]
    },
    {
     "name": "stderr",
     "output_type": "stream",
     "text": [
      "d:\\program files\\python37\\lib\\site-packages\\skimage\\io\\_io.py:140: UserWarning: C:\\Users\\jjp\\Desktop\\out\\549.png is a low contrast image\n",
      "  warn('%s is a low contrast image' % fname)\n"
     ]
    },
    {
     "name": "stdout",
     "output_type": "stream",
     "text": [
      "C:\\Users\\jjp\\Desktop\\插画\\links\\549.psd\n",
      "C:\\Users\\jjp\\Desktop\\插画\\links\\549.psd is ok\n",
      "C:\\Users\\jjp\\Desktop\\插画\\links\\55.psd\n"
     ]
    },
    {
     "name": "stderr",
     "output_type": "stream",
     "text": [
      "d:\\program files\\python37\\lib\\site-packages\\skimage\\io\\_io.py:140: UserWarning: C:\\Users\\jjp\\Desktop\\out\\55.png is a low contrast image\n",
      "  warn('%s is a low contrast image' % fname)\n"
     ]
    },
    {
     "name": "stdout",
     "output_type": "stream",
     "text": [
      "C:\\Users\\jjp\\Desktop\\插画\\links\\55.psd is ok\n",
      "C:\\Users\\jjp\\Desktop\\插画\\links\\550.psd\n"
     ]
    },
    {
     "name": "stderr",
     "output_type": "stream",
     "text": [
      "d:\\program files\\python37\\lib\\site-packages\\skimage\\io\\_io.py:140: UserWarning: C:\\Users\\jjp\\Desktop\\out\\550.png is a low contrast image\n",
      "  warn('%s is a low contrast image' % fname)\n"
     ]
    },
    {
     "name": "stdout",
     "output_type": "stream",
     "text": [
      "C:\\Users\\jjp\\Desktop\\插画\\links\\550.psd is ok\n",
      "C:\\Users\\jjp\\Desktop\\插画\\links\\551.psd\n"
     ]
    },
    {
     "name": "stderr",
     "output_type": "stream",
     "text": [
      "d:\\program files\\python37\\lib\\site-packages\\skimage\\io\\_io.py:140: UserWarning: C:\\Users\\jjp\\Desktop\\out\\551.png is a low contrast image\n",
      "  warn('%s is a low contrast image' % fname)\n"
     ]
    },
    {
     "name": "stdout",
     "output_type": "stream",
     "text": [
      "C:\\Users\\jjp\\Desktop\\插画\\links\\551.psd is ok\n",
      "C:\\Users\\jjp\\Desktop\\插画\\links\\552.psd\n"
     ]
    },
    {
     "name": "stderr",
     "output_type": "stream",
     "text": [
      "d:\\program files\\python37\\lib\\site-packages\\skimage\\io\\_io.py:140: UserWarning: C:\\Users\\jjp\\Desktop\\out\\552.png is a low contrast image\n",
      "  warn('%s is a low contrast image' % fname)\n"
     ]
    },
    {
     "name": "stdout",
     "output_type": "stream",
     "text": [
      "C:\\Users\\jjp\\Desktop\\插画\\links\\552.psd is ok\n",
      "C:\\Users\\jjp\\Desktop\\插画\\links\\553.psd\n"
     ]
    },
    {
     "name": "stderr",
     "output_type": "stream",
     "text": [
      "d:\\program files\\python37\\lib\\site-packages\\skimage\\io\\_io.py:140: UserWarning: C:\\Users\\jjp\\Desktop\\out\\553.png is a low contrast image\n",
      "  warn('%s is a low contrast image' % fname)\n"
     ]
    },
    {
     "name": "stdout",
     "output_type": "stream",
     "text": [
      "C:\\Users\\jjp\\Desktop\\插画\\links\\553.psd is ok\n",
      "C:\\Users\\jjp\\Desktop\\插画\\links\\554.psd\n"
     ]
    },
    {
     "name": "stderr",
     "output_type": "stream",
     "text": [
      "d:\\program files\\python37\\lib\\site-packages\\skimage\\io\\_io.py:140: UserWarning: C:\\Users\\jjp\\Desktop\\out\\554.png is a low contrast image\n",
      "  warn('%s is a low contrast image' % fname)\n"
     ]
    },
    {
     "name": "stdout",
     "output_type": "stream",
     "text": [
      "C:\\Users\\jjp\\Desktop\\插画\\links\\554.psd is ok\n",
      "C:\\Users\\jjp\\Desktop\\插画\\links\\555.psd\n"
     ]
    },
    {
     "name": "stderr",
     "output_type": "stream",
     "text": [
      "d:\\program files\\python37\\lib\\site-packages\\skimage\\io\\_io.py:140: UserWarning: C:\\Users\\jjp\\Desktop\\out\\555.png is a low contrast image\n",
      "  warn('%s is a low contrast image' % fname)\n"
     ]
    },
    {
     "name": "stdout",
     "output_type": "stream",
     "text": [
      "C:\\Users\\jjp\\Desktop\\插画\\links\\555.psd is ok\n",
      "C:\\Users\\jjp\\Desktop\\插画\\links\\556.psd\n"
     ]
    },
    {
     "name": "stderr",
     "output_type": "stream",
     "text": [
      "d:\\program files\\python37\\lib\\site-packages\\skimage\\io\\_io.py:140: UserWarning: C:\\Users\\jjp\\Desktop\\out\\556.png is a low contrast image\n",
      "  warn('%s is a low contrast image' % fname)\n"
     ]
    },
    {
     "name": "stdout",
     "output_type": "stream",
     "text": [
      "C:\\Users\\jjp\\Desktop\\插画\\links\\556.psd is ok\n"
     ]
    },
    {
     "name": "stderr",
     "output_type": "stream",
     "text": [
      "d:\\program files\\python37\\lib\\site-packages\\skimage\\io\\_io.py:140: UserWarning: C:\\Users\\jjp\\Desktop\\out\\557.png is a low contrast image\n",
      "  warn('%s is a low contrast image' % fname)\n"
     ]
    },
    {
     "name": "stdout",
     "output_type": "stream",
     "text": [
      "C:\\Users\\jjp\\Desktop\\插画\\links\\557.psd\n",
      "C:\\Users\\jjp\\Desktop\\插画\\links\\557.psd is ok\n",
      "C:\\Users\\jjp\\Desktop\\插画\\links\\558.psd\n"
     ]
    },
    {
     "name": "stderr",
     "output_type": "stream",
     "text": [
      "d:\\program files\\python37\\lib\\site-packages\\skimage\\io\\_io.py:140: UserWarning: C:\\Users\\jjp\\Desktop\\out\\558.png is a low contrast image\n",
      "  warn('%s is a low contrast image' % fname)\n"
     ]
    },
    {
     "name": "stdout",
     "output_type": "stream",
     "text": [
      "C:\\Users\\jjp\\Desktop\\插画\\links\\558.psd is ok\n",
      "C:\\Users\\jjp\\Desktop\\插画\\links\\559.psd\n"
     ]
    },
    {
     "name": "stderr",
     "output_type": "stream",
     "text": [
      "d:\\program files\\python37\\lib\\site-packages\\skimage\\io\\_io.py:140: UserWarning: C:\\Users\\jjp\\Desktop\\out\\559.png is a low contrast image\n",
      "  warn('%s is a low contrast image' % fname)\n"
     ]
    },
    {
     "name": "stdout",
     "output_type": "stream",
     "text": [
      "C:\\Users\\jjp\\Desktop\\插画\\links\\559.psd is ok\n",
      "C:\\Users\\jjp\\Desktop\\插画\\links\\56.psd\n"
     ]
    },
    {
     "name": "stderr",
     "output_type": "stream",
     "text": [
      "d:\\program files\\python37\\lib\\site-packages\\skimage\\io\\_io.py:140: UserWarning: C:\\Users\\jjp\\Desktop\\out\\56.png is a low contrast image\n",
      "  warn('%s is a low contrast image' % fname)\n"
     ]
    },
    {
     "name": "stdout",
     "output_type": "stream",
     "text": [
      "C:\\Users\\jjp\\Desktop\\插画\\links\\56.psd is ok\n",
      "C:\\Users\\jjp\\Desktop\\插画\\links\\560.psd\n"
     ]
    },
    {
     "name": "stderr",
     "output_type": "stream",
     "text": [
      "d:\\program files\\python37\\lib\\site-packages\\skimage\\io\\_io.py:140: UserWarning: C:\\Users\\jjp\\Desktop\\out\\560.png is a low contrast image\n",
      "  warn('%s is a low contrast image' % fname)\n"
     ]
    },
    {
     "name": "stdout",
     "output_type": "stream",
     "text": [
      "C:\\Users\\jjp\\Desktop\\插画\\links\\560.psd is ok\n"
     ]
    },
    {
     "name": "stderr",
     "output_type": "stream",
     "text": [
      "d:\\program files\\python37\\lib\\site-packages\\skimage\\io\\_io.py:140: UserWarning: C:\\Users\\jjp\\Desktop\\out\\561.png is a low contrast image\n",
      "  warn('%s is a low contrast image' % fname)\n"
     ]
    },
    {
     "name": "stdout",
     "output_type": "stream",
     "text": [
      "C:\\Users\\jjp\\Desktop\\插画\\links\\561.psd\n",
      "C:\\Users\\jjp\\Desktop\\插画\\links\\561.psd is ok\n"
     ]
    },
    {
     "name": "stderr",
     "output_type": "stream",
     "text": [
      "d:\\program files\\python37\\lib\\site-packages\\skimage\\io\\_io.py:140: UserWarning: C:\\Users\\jjp\\Desktop\\out\\562.png is a low contrast image\n",
      "  warn('%s is a low contrast image' % fname)\n"
     ]
    },
    {
     "name": "stdout",
     "output_type": "stream",
     "text": [
      "C:\\Users\\jjp\\Desktop\\插画\\links\\562.psd\n",
      "C:\\Users\\jjp\\Desktop\\插画\\links\\562.psd is ok\n"
     ]
    },
    {
     "name": "stderr",
     "output_type": "stream",
     "text": [
      "d:\\program files\\python37\\lib\\site-packages\\skimage\\io\\_io.py:140: UserWarning: C:\\Users\\jjp\\Desktop\\out\\563.png is a low contrast image\n",
      "  warn('%s is a low contrast image' % fname)\n"
     ]
    },
    {
     "name": "stdout",
     "output_type": "stream",
     "text": [
      "C:\\Users\\jjp\\Desktop\\插画\\links\\563.psd\n",
      "C:\\Users\\jjp\\Desktop\\插画\\links\\563.psd is ok\n",
      "C:\\Users\\jjp\\Desktop\\插画\\links\\564.psd\n"
     ]
    },
    {
     "name": "stderr",
     "output_type": "stream",
     "text": [
      "d:\\program files\\python37\\lib\\site-packages\\skimage\\io\\_io.py:140: UserWarning: C:\\Users\\jjp\\Desktop\\out\\564.png is a low contrast image\n",
      "  warn('%s is a low contrast image' % fname)\n"
     ]
    },
    {
     "name": "stdout",
     "output_type": "stream",
     "text": [
      "C:\\Users\\jjp\\Desktop\\插画\\links\\564.psd is ok\n",
      "C:\\Users\\jjp\\Desktop\\插画\\links\\565.psd\n"
     ]
    },
    {
     "name": "stderr",
     "output_type": "stream",
     "text": [
      "d:\\program files\\python37\\lib\\site-packages\\skimage\\io\\_io.py:140: UserWarning: C:\\Users\\jjp\\Desktop\\out\\565.png is a low contrast image\n",
      "  warn('%s is a low contrast image' % fname)\n"
     ]
    },
    {
     "name": "stdout",
     "output_type": "stream",
     "text": [
      "C:\\Users\\jjp\\Desktop\\插画\\links\\565.psd is ok\n",
      "C:\\Users\\jjp\\Desktop\\插画\\links\\566.psd\n"
     ]
    },
    {
     "name": "stderr",
     "output_type": "stream",
     "text": [
      "d:\\program files\\python37\\lib\\site-packages\\skimage\\io\\_io.py:140: UserWarning: C:\\Users\\jjp\\Desktop\\out\\566.png is a low contrast image\n",
      "  warn('%s is a low contrast image' % fname)\n"
     ]
    },
    {
     "name": "stdout",
     "output_type": "stream",
     "text": [
      "C:\\Users\\jjp\\Desktop\\插画\\links\\566.psd is ok\n",
      "C:\\Users\\jjp\\Desktop\\插画\\links\\567.psd\n"
     ]
    },
    {
     "name": "stderr",
     "output_type": "stream",
     "text": [
      "d:\\program files\\python37\\lib\\site-packages\\skimage\\io\\_io.py:140: UserWarning: C:\\Users\\jjp\\Desktop\\out\\567.png is a low contrast image\n",
      "  warn('%s is a low contrast image' % fname)\n"
     ]
    },
    {
     "name": "stdout",
     "output_type": "stream",
     "text": [
      "C:\\Users\\jjp\\Desktop\\插画\\links\\567.psd is ok\n"
     ]
    },
    {
     "name": "stderr",
     "output_type": "stream",
     "text": [
      "d:\\program files\\python37\\lib\\site-packages\\skimage\\io\\_io.py:140: UserWarning: C:\\Users\\jjp\\Desktop\\out\\568.png is a low contrast image\n",
      "  warn('%s is a low contrast image' % fname)\n"
     ]
    },
    {
     "name": "stdout",
     "output_type": "stream",
     "text": [
      "C:\\Users\\jjp\\Desktop\\插画\\links\\568.psd\n",
      "C:\\Users\\jjp\\Desktop\\插画\\links\\568.psd is ok\n",
      "C:\\Users\\jjp\\Desktop\\插画\\links\\569.psd\n"
     ]
    },
    {
     "name": "stderr",
     "output_type": "stream",
     "text": [
      "d:\\program files\\python37\\lib\\site-packages\\skimage\\io\\_io.py:140: UserWarning: C:\\Users\\jjp\\Desktop\\out\\569.png is a low contrast image\n",
      "  warn('%s is a low contrast image' % fname)\n"
     ]
    },
    {
     "name": "stdout",
     "output_type": "stream",
     "text": [
      "C:\\Users\\jjp\\Desktop\\插画\\links\\569.psd is ok\n",
      "C:\\Users\\jjp\\Desktop\\插画\\links\\57.psd\n"
     ]
    },
    {
     "name": "stderr",
     "output_type": "stream",
     "text": [
      "d:\\program files\\python37\\lib\\site-packages\\skimage\\io\\_io.py:140: UserWarning: C:\\Users\\jjp\\Desktop\\out\\57.png is a low contrast image\n",
      "  warn('%s is a low contrast image' % fname)\n"
     ]
    },
    {
     "name": "stdout",
     "output_type": "stream",
     "text": [
      "C:\\Users\\jjp\\Desktop\\插画\\links\\57.psd is ok\n"
     ]
    },
    {
     "name": "stderr",
     "output_type": "stream",
     "text": [
      "d:\\program files\\python37\\lib\\site-packages\\skimage\\io\\_io.py:140: UserWarning: C:\\Users\\jjp\\Desktop\\out\\570.png is a low contrast image\n",
      "  warn('%s is a low contrast image' % fname)\n"
     ]
    },
    {
     "name": "stdout",
     "output_type": "stream",
     "text": [
      "C:\\Users\\jjp\\Desktop\\插画\\links\\570.psd\n",
      "C:\\Users\\jjp\\Desktop\\插画\\links\\570.psd is ok\n",
      "C:\\Users\\jjp\\Desktop\\插画\\links\\571.psd\n"
     ]
    },
    {
     "name": "stderr",
     "output_type": "stream",
     "text": [
      "d:\\program files\\python37\\lib\\site-packages\\skimage\\io\\_io.py:140: UserWarning: C:\\Users\\jjp\\Desktop\\out\\571.png is a low contrast image\n",
      "  warn('%s is a low contrast image' % fname)\n"
     ]
    },
    {
     "name": "stdout",
     "output_type": "stream",
     "text": [
      "C:\\Users\\jjp\\Desktop\\插画\\links\\571.psd is ok\n"
     ]
    },
    {
     "name": "stderr",
     "output_type": "stream",
     "text": [
      "d:\\program files\\python37\\lib\\site-packages\\skimage\\io\\_io.py:140: UserWarning: C:\\Users\\jjp\\Desktop\\out\\572.png is a low contrast image\n",
      "  warn('%s is a low contrast image' % fname)\n"
     ]
    },
    {
     "name": "stdout",
     "output_type": "stream",
     "text": [
      "C:\\Users\\jjp\\Desktop\\插画\\links\\572.psd\n",
      "C:\\Users\\jjp\\Desktop\\插画\\links\\572.psd is ok\n"
     ]
    },
    {
     "name": "stderr",
     "output_type": "stream",
     "text": [
      "d:\\program files\\python37\\lib\\site-packages\\skimage\\io\\_io.py:140: UserWarning: C:\\Users\\jjp\\Desktop\\out\\573.png is a low contrast image\n",
      "  warn('%s is a low contrast image' % fname)\n"
     ]
    },
    {
     "name": "stdout",
     "output_type": "stream",
     "text": [
      "C:\\Users\\jjp\\Desktop\\插画\\links\\573.psd\n",
      "C:\\Users\\jjp\\Desktop\\插画\\links\\573.psd is ok\n",
      "C:\\Users\\jjp\\Desktop\\插画\\links\\574.psd\n"
     ]
    },
    {
     "name": "stderr",
     "output_type": "stream",
     "text": [
      "d:\\program files\\python37\\lib\\site-packages\\skimage\\io\\_io.py:140: UserWarning: C:\\Users\\jjp\\Desktop\\out\\574.png is a low contrast image\n",
      "  warn('%s is a low contrast image' % fname)\n"
     ]
    },
    {
     "name": "stdout",
     "output_type": "stream",
     "text": [
      "C:\\Users\\jjp\\Desktop\\插画\\links\\574.psd is ok\n",
      "C:\\Users\\jjp\\Desktop\\插画\\links\\575.psd\n"
     ]
    },
    {
     "name": "stderr",
     "output_type": "stream",
     "text": [
      "d:\\program files\\python37\\lib\\site-packages\\skimage\\io\\_io.py:140: UserWarning: C:\\Users\\jjp\\Desktop\\out\\575.png is a low contrast image\n",
      "  warn('%s is a low contrast image' % fname)\n"
     ]
    },
    {
     "name": "stdout",
     "output_type": "stream",
     "text": [
      "C:\\Users\\jjp\\Desktop\\插画\\links\\575.psd is ok\n",
      "C:\\Users\\jjp\\Desktop\\插画\\links\\576.psd\n"
     ]
    },
    {
     "name": "stderr",
     "output_type": "stream",
     "text": [
      "d:\\program files\\python37\\lib\\site-packages\\skimage\\io\\_io.py:140: UserWarning: C:\\Users\\jjp\\Desktop\\out\\576.png is a low contrast image\n",
      "  warn('%s is a low contrast image' % fname)\n"
     ]
    },
    {
     "name": "stdout",
     "output_type": "stream",
     "text": [
      "C:\\Users\\jjp\\Desktop\\插画\\links\\576.psd is ok\n",
      "C:\\Users\\jjp\\Desktop\\插画\\links\\577.psd\n"
     ]
    },
    {
     "name": "stderr",
     "output_type": "stream",
     "text": [
      "d:\\program files\\python37\\lib\\site-packages\\skimage\\io\\_io.py:140: UserWarning: C:\\Users\\jjp\\Desktop\\out\\577.png is a low contrast image\n",
      "  warn('%s is a low contrast image' % fname)\n"
     ]
    },
    {
     "name": "stdout",
     "output_type": "stream",
     "text": [
      "C:\\Users\\jjp\\Desktop\\插画\\links\\577.psd is ok\n",
      "C:\\Users\\jjp\\Desktop\\插画\\links\\578.psd\n"
     ]
    },
    {
     "name": "stderr",
     "output_type": "stream",
     "text": [
      "d:\\program files\\python37\\lib\\site-packages\\skimage\\io\\_io.py:140: UserWarning: C:\\Users\\jjp\\Desktop\\out\\578.png is a low contrast image\n",
      "  warn('%s is a low contrast image' % fname)\n"
     ]
    },
    {
     "name": "stdout",
     "output_type": "stream",
     "text": [
      "C:\\Users\\jjp\\Desktop\\插画\\links\\578.psd is ok\n",
      "C:\\Users\\jjp\\Desktop\\插画\\links\\579.psd\n"
     ]
    },
    {
     "name": "stderr",
     "output_type": "stream",
     "text": [
      "d:\\program files\\python37\\lib\\site-packages\\skimage\\io\\_io.py:140: UserWarning: C:\\Users\\jjp\\Desktop\\out\\579.png is a low contrast image\n",
      "  warn('%s is a low contrast image' % fname)\n"
     ]
    },
    {
     "name": "stdout",
     "output_type": "stream",
     "text": [
      "C:\\Users\\jjp\\Desktop\\插画\\links\\579.psd is ok\n",
      "C:\\Users\\jjp\\Desktop\\插画\\links\\58.psd\n"
     ]
    },
    {
     "name": "stderr",
     "output_type": "stream",
     "text": [
      "d:\\program files\\python37\\lib\\site-packages\\skimage\\io\\_io.py:140: UserWarning: C:\\Users\\jjp\\Desktop\\out\\58.png is a low contrast image\n",
      "  warn('%s is a low contrast image' % fname)\n"
     ]
    },
    {
     "name": "stdout",
     "output_type": "stream",
     "text": [
      "C:\\Users\\jjp\\Desktop\\插画\\links\\58.psd is ok\n",
      "C:\\Users\\jjp\\Desktop\\插画\\links\\580.psd\n"
     ]
    },
    {
     "name": "stderr",
     "output_type": "stream",
     "text": [
      "d:\\program files\\python37\\lib\\site-packages\\skimage\\io\\_io.py:140: UserWarning: C:\\Users\\jjp\\Desktop\\out\\580.png is a low contrast image\n",
      "  warn('%s is a low contrast image' % fname)\n"
     ]
    },
    {
     "name": "stdout",
     "output_type": "stream",
     "text": [
      "C:\\Users\\jjp\\Desktop\\插画\\links\\580.psd is ok\n"
     ]
    },
    {
     "name": "stderr",
     "output_type": "stream",
     "text": [
      "d:\\program files\\python37\\lib\\site-packages\\skimage\\io\\_io.py:140: UserWarning: C:\\Users\\jjp\\Desktop\\out\\581.png is a low contrast image\n",
      "  warn('%s is a low contrast image' % fname)\n"
     ]
    },
    {
     "name": "stdout",
     "output_type": "stream",
     "text": [
      "C:\\Users\\jjp\\Desktop\\插画\\links\\581.psd\n",
      "C:\\Users\\jjp\\Desktop\\插画\\links\\581.psd is ok\n"
     ]
    },
    {
     "name": "stderr",
     "output_type": "stream",
     "text": [
      "d:\\program files\\python37\\lib\\site-packages\\skimage\\io\\_io.py:140: UserWarning: C:\\Users\\jjp\\Desktop\\out\\582.png is a low contrast image\n",
      "  warn('%s is a low contrast image' % fname)\n"
     ]
    },
    {
     "name": "stdout",
     "output_type": "stream",
     "text": [
      "C:\\Users\\jjp\\Desktop\\插画\\links\\582.psd\n",
      "C:\\Users\\jjp\\Desktop\\插画\\links\\582.psd is ok\n",
      "C:\\Users\\jjp\\Desktop\\插画\\links\\583.psd\n"
     ]
    },
    {
     "name": "stderr",
     "output_type": "stream",
     "text": [
      "d:\\program files\\python37\\lib\\site-packages\\skimage\\io\\_io.py:140: UserWarning: C:\\Users\\jjp\\Desktop\\out\\583.png is a low contrast image\n",
      "  warn('%s is a low contrast image' % fname)\n"
     ]
    },
    {
     "name": "stdout",
     "output_type": "stream",
     "text": [
      "C:\\Users\\jjp\\Desktop\\插画\\links\\583.psd is ok\n",
      "C:\\Users\\jjp\\Desktop\\插画\\links\\584.psd\n"
     ]
    },
    {
     "name": "stderr",
     "output_type": "stream",
     "text": [
      "d:\\program files\\python37\\lib\\site-packages\\skimage\\io\\_io.py:140: UserWarning: C:\\Users\\jjp\\Desktop\\out\\584.png is a low contrast image\n",
      "  warn('%s is a low contrast image' % fname)\n"
     ]
    },
    {
     "name": "stdout",
     "output_type": "stream",
     "text": [
      "C:\\Users\\jjp\\Desktop\\插画\\links\\584.psd is ok\n",
      "C:\\Users\\jjp\\Desktop\\插画\\links\\585.psd\n",
      "C:\\Users\\jjp\\Desktop\\插画\\links\\585.psd is ok\n",
      "C:\\Users\\jjp\\Desktop\\插画\\links\\586.psd\n",
      "C:\\Users\\jjp\\Desktop\\插画\\links\\586.psd is ok\n",
      "C:\\Users\\jjp\\Desktop\\插画\\links\\587.psd\n",
      "C:\\Users\\jjp\\Desktop\\插画\\links\\587.psd is ok\n",
      "C:\\Users\\jjp\\Desktop\\插画\\links\\588.psd\n",
      "C:\\Users\\jjp\\Desktop\\插画\\links\\588.psd is ok\n",
      "C:\\Users\\jjp\\Desktop\\插画\\links\\589.psd\n",
      "C:\\Users\\jjp\\Desktop\\插画\\links\\589.psd is ok\n",
      "C:\\Users\\jjp\\Desktop\\插画\\links\\59.psd\n"
     ]
    },
    {
     "name": "stderr",
     "output_type": "stream",
     "text": [
      "d:\\program files\\python37\\lib\\site-packages\\skimage\\io\\_io.py:140: UserWarning: C:\\Users\\jjp\\Desktop\\out\\59.png is a low contrast image\n",
      "  warn('%s is a low contrast image' % fname)\n"
     ]
    },
    {
     "name": "stdout",
     "output_type": "stream",
     "text": [
      "C:\\Users\\jjp\\Desktop\\插画\\links\\59.psd is ok\n",
      "C:\\Users\\jjp\\Desktop\\插画\\links\\590.psd\n",
      "C:\\Users\\jjp\\Desktop\\插画\\links\\590.psd is ok\n",
      "C:\\Users\\jjp\\Desktop\\插画\\links\\591.psd\n",
      "C:\\Users\\jjp\\Desktop\\插画\\links\\591.psd is ok\n",
      "C:\\Users\\jjp\\Desktop\\插画\\links\\592.psd\n",
      "C:\\Users\\jjp\\Desktop\\插画\\links\\592.psd is ok\n",
      "C:\\Users\\jjp\\Desktop\\插画\\links\\593.psd\n",
      "C:\\Users\\jjp\\Desktop\\插画\\links\\593.psd is ok\n",
      "C:\\Users\\jjp\\Desktop\\插画\\links\\594.psd\n",
      "C:\\Users\\jjp\\Desktop\\插画\\links\\594.psd is ok\n",
      "C:\\Users\\jjp\\Desktop\\插画\\links\\595.psd\n",
      "C:\\Users\\jjp\\Desktop\\插画\\links\\595.psd is ok\n",
      "C:\\Users\\jjp\\Desktop\\插画\\links\\596.psd\n",
      "C:\\Users\\jjp\\Desktop\\插画\\links\\596.psd is ok\n",
      "C:\\Users\\jjp\\Desktop\\插画\\links\\597.psd\n",
      "C:\\Users\\jjp\\Desktop\\插画\\links\\597.psd is ok\n",
      "C:\\Users\\jjp\\Desktop\\插画\\links\\598.psd\n",
      "C:\\Users\\jjp\\Desktop\\插画\\links\\598.psd is ok\n",
      "C:\\Users\\jjp\\Desktop\\插画\\links\\599.psd\n",
      "C:\\Users\\jjp\\Desktop\\插画\\links\\599.psd is ok\n",
      "C:\\Users\\jjp\\Desktop\\插画\\links\\6.psd\n"
     ]
    },
    {
     "name": "stderr",
     "output_type": "stream",
     "text": [
      "d:\\program files\\python37\\lib\\site-packages\\skimage\\io\\_io.py:140: UserWarning: C:\\Users\\jjp\\Desktop\\out\\6.png is a low contrast image\n",
      "  warn('%s is a low contrast image' % fname)\n"
     ]
    },
    {
     "name": "stdout",
     "output_type": "stream",
     "text": [
      "C:\\Users\\jjp\\Desktop\\插画\\links\\6.psd is ok\n",
      "C:\\Users\\jjp\\Desktop\\插画\\links\\60.psd\n"
     ]
    },
    {
     "name": "stderr",
     "output_type": "stream",
     "text": [
      "d:\\program files\\python37\\lib\\site-packages\\skimage\\io\\_io.py:140: UserWarning: C:\\Users\\jjp\\Desktop\\out\\60.png is a low contrast image\n",
      "  warn('%s is a low contrast image' % fname)\n"
     ]
    },
    {
     "name": "stdout",
     "output_type": "stream",
     "text": [
      "C:\\Users\\jjp\\Desktop\\插画\\links\\60.psd is ok\n",
      "C:\\Users\\jjp\\Desktop\\插画\\links\\600.psd\n",
      "C:\\Users\\jjp\\Desktop\\插画\\links\\600.psd is ok\n",
      "C:\\Users\\jjp\\Desktop\\插画\\links\\601.psd\n",
      "C:\\Users\\jjp\\Desktop\\插画\\links\\601.psd is ok\n",
      "C:\\Users\\jjp\\Desktop\\插画\\links\\602.psd\n",
      "C:\\Users\\jjp\\Desktop\\插画\\links\\602.psd is ok\n",
      "C:\\Users\\jjp\\Desktop\\插画\\links\\603.psd\n",
      "C:\\Users\\jjp\\Desktop\\插画\\links\\603.psd is ok\n",
      "C:\\Users\\jjp\\Desktop\\插画\\links\\604.psd\n",
      "C:\\Users\\jjp\\Desktop\\插画\\links\\604.psd is ok\n",
      "C:\\Users\\jjp\\Desktop\\插画\\links\\605.psd\n",
      "C:\\Users\\jjp\\Desktop\\插画\\links\\605.psd is ok\n",
      "C:\\Users\\jjp\\Desktop\\插画\\links\\606.psd\n",
      "C:\\Users\\jjp\\Desktop\\插画\\links\\606.psd is ok\n",
      "C:\\Users\\jjp\\Desktop\\插画\\links\\607.psd\n",
      "C:\\Users\\jjp\\Desktop\\插画\\links\\607.psd is ok\n",
      "C:\\Users\\jjp\\Desktop\\插画\\links\\608.psd\n",
      "C:\\Users\\jjp\\Desktop\\插画\\links\\608.psd is ok\n",
      "C:\\Users\\jjp\\Desktop\\插画\\links\\609.psd\n",
      "C:\\Users\\jjp\\Desktop\\插画\\links\\609.psd is ok\n",
      "C:\\Users\\jjp\\Desktop\\插画\\links\\61.psd\n"
     ]
    },
    {
     "name": "stderr",
     "output_type": "stream",
     "text": [
      "d:\\program files\\python37\\lib\\site-packages\\skimage\\io\\_io.py:140: UserWarning: C:\\Users\\jjp\\Desktop\\out\\61.png is a low contrast image\n",
      "  warn('%s is a low contrast image' % fname)\n"
     ]
    },
    {
     "name": "stdout",
     "output_type": "stream",
     "text": [
      "C:\\Users\\jjp\\Desktop\\插画\\links\\61.psd is ok\n",
      "C:\\Users\\jjp\\Desktop\\插画\\links\\610.psd\n",
      "C:\\Users\\jjp\\Desktop\\插画\\links\\610.psd is ok\n",
      "C:\\Users\\jjp\\Desktop\\插画\\links\\611.psd\n",
      "C:\\Users\\jjp\\Desktop\\插画\\links\\611.psd is ok\n",
      "C:\\Users\\jjp\\Desktop\\插画\\links\\612.psd\n",
      "C:\\Users\\jjp\\Desktop\\插画\\links\\612.psd is ok\n",
      "C:\\Users\\jjp\\Desktop\\插画\\links\\613.psd\n",
      "C:\\Users\\jjp\\Desktop\\插画\\links\\613.psd is ok\n",
      "C:\\Users\\jjp\\Desktop\\插画\\links\\614.psd\n",
      "C:\\Users\\jjp\\Desktop\\插画\\links\\614.psd is ok\n",
      "C:\\Users\\jjp\\Desktop\\插画\\links\\615.psd\n",
      "C:\\Users\\jjp\\Desktop\\插画\\links\\615.psd is ok\n",
      "C:\\Users\\jjp\\Desktop\\插画\\links\\616.psd\n",
      "C:\\Users\\jjp\\Desktop\\插画\\links\\616.psd is ok\n",
      "C:\\Users\\jjp\\Desktop\\插画\\links\\617.psd\n",
      "C:\\Users\\jjp\\Desktop\\插画\\links\\617.psd is ok\n",
      "C:\\Users\\jjp\\Desktop\\插画\\links\\618.psd\n",
      "C:\\Users\\jjp\\Desktop\\插画\\links\\618.psd is ok\n",
      "C:\\Users\\jjp\\Desktop\\插画\\links\\619.psd\n",
      "C:\\Users\\jjp\\Desktop\\插画\\links\\619.psd is ok\n",
      "C:\\Users\\jjp\\Desktop\\插画\\links\\62.psd\n"
     ]
    },
    {
     "name": "stderr",
     "output_type": "stream",
     "text": [
      "d:\\program files\\python37\\lib\\site-packages\\skimage\\io\\_io.py:140: UserWarning: C:\\Users\\jjp\\Desktop\\out\\62.png is a low contrast image\n",
      "  warn('%s is a low contrast image' % fname)\n"
     ]
    },
    {
     "name": "stdout",
     "output_type": "stream",
     "text": [
      "C:\\Users\\jjp\\Desktop\\插画\\links\\62.psd is ok\n",
      "C:\\Users\\jjp\\Desktop\\插画\\links\\620.psd\n",
      "C:\\Users\\jjp\\Desktop\\插画\\links\\620.psd is ok\n",
      "C:\\Users\\jjp\\Desktop\\插画\\links\\621.psd\n",
      "C:\\Users\\jjp\\Desktop\\插画\\links\\621.psd is ok\n",
      "C:\\Users\\jjp\\Desktop\\插画\\links\\622.psd\n",
      "C:\\Users\\jjp\\Desktop\\插画\\links\\622.psd is ok\n",
      "C:\\Users\\jjp\\Desktop\\插画\\links\\623.psd\n",
      "C:\\Users\\jjp\\Desktop\\插画\\links\\623.psd is ok\n",
      "C:\\Users\\jjp\\Desktop\\插画\\links\\624.psd\n",
      "C:\\Users\\jjp\\Desktop\\插画\\links\\624.psd is ok\n",
      "C:\\Users\\jjp\\Desktop\\插画\\links\\625.psd\n",
      "C:\\Users\\jjp\\Desktop\\插画\\links\\625.psd is ok\n",
      "C:\\Users\\jjp\\Desktop\\插画\\links\\626.psd\n",
      "C:\\Users\\jjp\\Desktop\\插画\\links\\626.psd is ok\n",
      "C:\\Users\\jjp\\Desktop\\插画\\links\\627.psd\n",
      "C:\\Users\\jjp\\Desktop\\插画\\links\\627.psd is ok\n",
      "C:\\Users\\jjp\\Desktop\\插画\\links\\628.psd\n",
      "C:\\Users\\jjp\\Desktop\\插画\\links\\628.psd is ok\n",
      "C:\\Users\\jjp\\Desktop\\插画\\links\\629.psd\n",
      "C:\\Users\\jjp\\Desktop\\插画\\links\\629.psd is ok\n",
      "C:\\Users\\jjp\\Desktop\\插画\\links\\63.psd\n"
     ]
    },
    {
     "name": "stderr",
     "output_type": "stream",
     "text": [
      "d:\\program files\\python37\\lib\\site-packages\\skimage\\io\\_io.py:140: UserWarning: C:\\Users\\jjp\\Desktop\\out\\63.png is a low contrast image\n",
      "  warn('%s is a low contrast image' % fname)\n"
     ]
    },
    {
     "name": "stdout",
     "output_type": "stream",
     "text": [
      "C:\\Users\\jjp\\Desktop\\插画\\links\\63.psd is ok\n",
      "C:\\Users\\jjp\\Desktop\\插画\\links\\630.psd\n",
      "C:\\Users\\jjp\\Desktop\\插画\\links\\630.psd is ok\n",
      "C:\\Users\\jjp\\Desktop\\插画\\links\\631.psd\n",
      "C:\\Users\\jjp\\Desktop\\插画\\links\\631.psd is ok\n",
      "C:\\Users\\jjp\\Desktop\\插画\\links\\632.psd\n",
      "C:\\Users\\jjp\\Desktop\\插画\\links\\632.psd is ok\n",
      "C:\\Users\\jjp\\Desktop\\插画\\links\\633.psd\n",
      "C:\\Users\\jjp\\Desktop\\插画\\links\\633.psd is ok\n",
      "C:\\Users\\jjp\\Desktop\\插画\\links\\634.psd\n",
      "C:\\Users\\jjp\\Desktop\\插画\\links\\634.psd is ok\n",
      "C:\\Users\\jjp\\Desktop\\插画\\links\\635.psd\n",
      "C:\\Users\\jjp\\Desktop\\插画\\links\\635.psd is ok\n",
      "C:\\Users\\jjp\\Desktop\\插画\\links\\636.psd\n",
      "C:\\Users\\jjp\\Desktop\\插画\\links\\636.psd is ok\n",
      "C:\\Users\\jjp\\Desktop\\插画\\links\\637.psd\n",
      "C:\\Users\\jjp\\Desktop\\插画\\links\\637.psd is ok\n",
      "C:\\Users\\jjp\\Desktop\\插画\\links\\638.psd\n",
      "C:\\Users\\jjp\\Desktop\\插画\\links\\638.psd is ok\n",
      "C:\\Users\\jjp\\Desktop\\插画\\links\\639.psd\n",
      "C:\\Users\\jjp\\Desktop\\插画\\links\\639.psd is ok\n",
      "C:\\Users\\jjp\\Desktop\\插画\\links\\64.psd\n"
     ]
    },
    {
     "name": "stderr",
     "output_type": "stream",
     "text": [
      "d:\\program files\\python37\\lib\\site-packages\\skimage\\io\\_io.py:140: UserWarning: C:\\Users\\jjp\\Desktop\\out\\64.png is a low contrast image\n",
      "  warn('%s is a low contrast image' % fname)\n"
     ]
    },
    {
     "name": "stdout",
     "output_type": "stream",
     "text": [
      "C:\\Users\\jjp\\Desktop\\插画\\links\\64.psd is ok\n",
      "C:\\Users\\jjp\\Desktop\\插画\\links\\640.psd\n",
      "C:\\Users\\jjp\\Desktop\\插画\\links\\640.psd is ok\n",
      "C:\\Users\\jjp\\Desktop\\插画\\links\\641.psd\n",
      "C:\\Users\\jjp\\Desktop\\插画\\links\\641.psd is ok\n",
      "C:\\Users\\jjp\\Desktop\\插画\\links\\642.psd\n",
      "C:\\Users\\jjp\\Desktop\\插画\\links\\642.psd is ok\n",
      "C:\\Users\\jjp\\Desktop\\插画\\links\\643.psd\n",
      "C:\\Users\\jjp\\Desktop\\插画\\links\\643.psd is ok\n",
      "C:\\Users\\jjp\\Desktop\\插画\\links\\644.psd\n",
      "C:\\Users\\jjp\\Desktop\\插画\\links\\644.psd is ok\n",
      "C:\\Users\\jjp\\Desktop\\插画\\links\\645.psd\n",
      "C:\\Users\\jjp\\Desktop\\插画\\links\\645.psd is ok\n",
      "C:\\Users\\jjp\\Desktop\\插画\\links\\646.psd\n",
      "C:\\Users\\jjp\\Desktop\\插画\\links\\646.psd is ok\n",
      "C:\\Users\\jjp\\Desktop\\插画\\links\\647.psd\n",
      "C:\\Users\\jjp\\Desktop\\插画\\links\\647.psd is ok\n",
      "C:\\Users\\jjp\\Desktop\\插画\\links\\648.psd\n",
      "C:\\Users\\jjp\\Desktop\\插画\\links\\648.psd is ok\n",
      "C:\\Users\\jjp\\Desktop\\插画\\links\\649.psd\n",
      "C:\\Users\\jjp\\Desktop\\插画\\links\\649.psd is ok\n",
      "C:\\Users\\jjp\\Desktop\\插画\\links\\65.psd\n"
     ]
    },
    {
     "name": "stderr",
     "output_type": "stream",
     "text": [
      "d:\\program files\\python37\\lib\\site-packages\\skimage\\io\\_io.py:140: UserWarning: C:\\Users\\jjp\\Desktop\\out\\65.png is a low contrast image\n",
      "  warn('%s is a low contrast image' % fname)\n"
     ]
    },
    {
     "name": "stdout",
     "output_type": "stream",
     "text": [
      "C:\\Users\\jjp\\Desktop\\插画\\links\\65.psd is ok\n",
      "C:\\Users\\jjp\\Desktop\\插画\\links\\650.psd\n",
      "C:\\Users\\jjp\\Desktop\\插画\\links\\650.psd is ok\n",
      "C:\\Users\\jjp\\Desktop\\插画\\links\\651.psd\n",
      "C:\\Users\\jjp\\Desktop\\插画\\links\\651.psd is ok\n",
      "C:\\Users\\jjp\\Desktop\\插画\\links\\652.psd\n",
      "C:\\Users\\jjp\\Desktop\\插画\\links\\652.psd is ok\n",
      "C:\\Users\\jjp\\Desktop\\插画\\links\\653.psd\n",
      "C:\\Users\\jjp\\Desktop\\插画\\links\\653.psd is ok\n",
      "C:\\Users\\jjp\\Desktop\\插画\\links\\654.psd\n",
      "C:\\Users\\jjp\\Desktop\\插画\\links\\654.psd is ok\n",
      "C:\\Users\\jjp\\Desktop\\插画\\links\\655.psd\n",
      "C:\\Users\\jjp\\Desktop\\插画\\links\\655.psd is ok\n",
      "C:\\Users\\jjp\\Desktop\\插画\\links\\656.psd\n",
      "C:\\Users\\jjp\\Desktop\\插画\\links\\656.psd is ok\n",
      "C:\\Users\\jjp\\Desktop\\插画\\links\\657.psd\n",
      "C:\\Users\\jjp\\Desktop\\插画\\links\\657.psd is ok\n",
      "C:\\Users\\jjp\\Desktop\\插画\\links\\658.psd\n",
      "C:\\Users\\jjp\\Desktop\\插画\\links\\658.psd is ok\n",
      "C:\\Users\\jjp\\Desktop\\插画\\links\\659.psd\n",
      "C:\\Users\\jjp\\Desktop\\插画\\links\\659.psd is ok\n",
      "C:\\Users\\jjp\\Desktop\\插画\\links\\66.psd\n"
     ]
    },
    {
     "name": "stderr",
     "output_type": "stream",
     "text": [
      "d:\\program files\\python37\\lib\\site-packages\\skimage\\io\\_io.py:140: UserWarning: C:\\Users\\jjp\\Desktop\\out\\66.png is a low contrast image\n",
      "  warn('%s is a low contrast image' % fname)\n"
     ]
    },
    {
     "name": "stdout",
     "output_type": "stream",
     "text": [
      "C:\\Users\\jjp\\Desktop\\插画\\links\\66.psd is ok\n",
      "C:\\Users\\jjp\\Desktop\\插画\\links\\660.psd\n",
      "C:\\Users\\jjp\\Desktop\\插画\\links\\660.psd is ok\n",
      "C:\\Users\\jjp\\Desktop\\插画\\links\\661.psd\n",
      "C:\\Users\\jjp\\Desktop\\插画\\links\\661.psd is ok\n",
      "C:\\Users\\jjp\\Desktop\\插画\\links\\662.psd\n",
      "C:\\Users\\jjp\\Desktop\\插画\\links\\662.psd is ok\n",
      "C:\\Users\\jjp\\Desktop\\插画\\links\\663.psd\n",
      "C:\\Users\\jjp\\Desktop\\插画\\links\\663.psd is ok\n",
      "C:\\Users\\jjp\\Desktop\\插画\\links\\664.psd\n",
      "C:\\Users\\jjp\\Desktop\\插画\\links\\664.psd is ok\n",
      "C:\\Users\\jjp\\Desktop\\插画\\links\\665.psd\n",
      "C:\\Users\\jjp\\Desktop\\插画\\links\\665.psd is ok\n",
      "C:\\Users\\jjp\\Desktop\\插画\\links\\666.psd\n",
      "C:\\Users\\jjp\\Desktop\\插画\\links\\666.psd is ok\n",
      "C:\\Users\\jjp\\Desktop\\插画\\links\\667.psd\n",
      "C:\\Users\\jjp\\Desktop\\插画\\links\\667.psd is ok\n",
      "C:\\Users\\jjp\\Desktop\\插画\\links\\668.psd\n",
      "C:\\Users\\jjp\\Desktop\\插画\\links\\668.psd is ok\n",
      "C:\\Users\\jjp\\Desktop\\插画\\links\\669.psd\n",
      "C:\\Users\\jjp\\Desktop\\插画\\links\\669.psd is ok\n",
      "C:\\Users\\jjp\\Desktop\\插画\\links\\67.psd\n"
     ]
    },
    {
     "name": "stderr",
     "output_type": "stream",
     "text": [
      "d:\\program files\\python37\\lib\\site-packages\\skimage\\io\\_io.py:140: UserWarning: C:\\Users\\jjp\\Desktop\\out\\67.png is a low contrast image\n",
      "  warn('%s is a low contrast image' % fname)\n"
     ]
    },
    {
     "name": "stdout",
     "output_type": "stream",
     "text": [
      "C:\\Users\\jjp\\Desktop\\插画\\links\\67.psd is ok\n",
      "C:\\Users\\jjp\\Desktop\\插画\\links\\670.psd\n",
      "C:\\Users\\jjp\\Desktop\\插画\\links\\670.psd is ok\n",
      "C:\\Users\\jjp\\Desktop\\插画\\links\\671.psd\n",
      "C:\\Users\\jjp\\Desktop\\插画\\links\\671.psd is ok\n",
      "C:\\Users\\jjp\\Desktop\\插画\\links\\672.psd\n",
      "C:\\Users\\jjp\\Desktop\\插画\\links\\672.psd is ok\n",
      "C:\\Users\\jjp\\Desktop\\插画\\links\\673.psd\n",
      "C:\\Users\\jjp\\Desktop\\插画\\links\\673.psd is ok\n",
      "C:\\Users\\jjp\\Desktop\\插画\\links\\674.psd\n",
      "C:\\Users\\jjp\\Desktop\\插画\\links\\674.psd is ok\n",
      "C:\\Users\\jjp\\Desktop\\插画\\links\\675.psd\n",
      "C:\\Users\\jjp\\Desktop\\插画\\links\\675.psd is ok\n",
      "C:\\Users\\jjp\\Desktop\\插画\\links\\676.psd\n",
      "C:\\Users\\jjp\\Desktop\\插画\\links\\676.psd is ok\n",
      "C:\\Users\\jjp\\Desktop\\插画\\links\\677.psd\n",
      "C:\\Users\\jjp\\Desktop\\插画\\links\\677.psd is ok\n",
      "C:\\Users\\jjp\\Desktop\\插画\\links\\678.psd\n",
      "C:\\Users\\jjp\\Desktop\\插画\\links\\678.psd is ok\n",
      "C:\\Users\\jjp\\Desktop\\插画\\links\\679.psd\n",
      "C:\\Users\\jjp\\Desktop\\插画\\links\\679.psd is ok\n",
      "C:\\Users\\jjp\\Desktop\\插画\\links\\68.psd\n"
     ]
    },
    {
     "name": "stderr",
     "output_type": "stream",
     "text": [
      "d:\\program files\\python37\\lib\\site-packages\\skimage\\io\\_io.py:140: UserWarning: C:\\Users\\jjp\\Desktop\\out\\68.png is a low contrast image\n",
      "  warn('%s is a low contrast image' % fname)\n"
     ]
    },
    {
     "name": "stdout",
     "output_type": "stream",
     "text": [
      "C:\\Users\\jjp\\Desktop\\插画\\links\\68.psd is ok\n",
      "C:\\Users\\jjp\\Desktop\\插画\\links\\680.psd\n",
      "C:\\Users\\jjp\\Desktop\\插画\\links\\680.psd is ok\n",
      "C:\\Users\\jjp\\Desktop\\插画\\links\\681.psd\n",
      "C:\\Users\\jjp\\Desktop\\插画\\links\\681.psd is ok\n",
      "C:\\Users\\jjp\\Desktop\\插画\\links\\682.psd\n",
      "C:\\Users\\jjp\\Desktop\\插画\\links\\682.psd is ok\n",
      "C:\\Users\\jjp\\Desktop\\插画\\links\\683.psd\n",
      "C:\\Users\\jjp\\Desktop\\插画\\links\\683.psd is ok\n",
      "C:\\Users\\jjp\\Desktop\\插画\\links\\684.psd\n",
      "C:\\Users\\jjp\\Desktop\\插画\\links\\684.psd is ok\n",
      "C:\\Users\\jjp\\Desktop\\插画\\links\\685.psd\n",
      "C:\\Users\\jjp\\Desktop\\插画\\links\\685.psd is ok\n",
      "C:\\Users\\jjp\\Desktop\\插画\\links\\686.psd\n",
      "C:\\Users\\jjp\\Desktop\\插画\\links\\686.psd is ok\n",
      "C:\\Users\\jjp\\Desktop\\插画\\links\\687.psd\n",
      "C:\\Users\\jjp\\Desktop\\插画\\links\\687.psd is ok\n",
      "C:\\Users\\jjp\\Desktop\\插画\\links\\688.psd\n",
      "C:\\Users\\jjp\\Desktop\\插画\\links\\688.psd is ok\n",
      "C:\\Users\\jjp\\Desktop\\插画\\links\\689.psd\n",
      "C:\\Users\\jjp\\Desktop\\插画\\links\\689.psd is ok\n",
      "C:\\Users\\jjp\\Desktop\\插画\\links\\69.psd\n"
     ]
    },
    {
     "name": "stderr",
     "output_type": "stream",
     "text": [
      "d:\\program files\\python37\\lib\\site-packages\\skimage\\io\\_io.py:140: UserWarning: C:\\Users\\jjp\\Desktop\\out\\69.png is a low contrast image\n",
      "  warn('%s is a low contrast image' % fname)\n"
     ]
    },
    {
     "name": "stdout",
     "output_type": "stream",
     "text": [
      "C:\\Users\\jjp\\Desktop\\插画\\links\\69.psd is ok\n",
      "C:\\Users\\jjp\\Desktop\\插画\\links\\690.psd\n",
      "C:\\Users\\jjp\\Desktop\\插画\\links\\690.psd is ok\n",
      "C:\\Users\\jjp\\Desktop\\插画\\links\\691.psd\n",
      "C:\\Users\\jjp\\Desktop\\插画\\links\\691.psd is ok\n",
      "C:\\Users\\jjp\\Desktop\\插画\\links\\692.psd\n",
      "C:\\Users\\jjp\\Desktop\\插画\\links\\692.psd is ok\n",
      "C:\\Users\\jjp\\Desktop\\插画\\links\\693.psd\n",
      "C:\\Users\\jjp\\Desktop\\插画\\links\\693.psd is ok\n",
      "C:\\Users\\jjp\\Desktop\\插画\\links\\694.psd\n",
      "C:\\Users\\jjp\\Desktop\\插画\\links\\694.psd is ok\n",
      "C:\\Users\\jjp\\Desktop\\插画\\links\\695.psd\n",
      "C:\\Users\\jjp\\Desktop\\插画\\links\\695.psd is ok\n",
      "C:\\Users\\jjp\\Desktop\\插画\\links\\696.psd\n",
      "C:\\Users\\jjp\\Desktop\\插画\\links\\696.psd is ok\n",
      "C:\\Users\\jjp\\Desktop\\插画\\links\\697.psd\n",
      "C:\\Users\\jjp\\Desktop\\插画\\links\\697.psd is ok\n",
      "C:\\Users\\jjp\\Desktop\\插画\\links\\698.psd\n",
      "C:\\Users\\jjp\\Desktop\\插画\\links\\698.psd is ok\n",
      "C:\\Users\\jjp\\Desktop\\插画\\links\\699.psd\n",
      "C:\\Users\\jjp\\Desktop\\插画\\links\\699.psd is ok\n",
      "C:\\Users\\jjp\\Desktop\\插画\\links\\7.psd\n"
     ]
    },
    {
     "name": "stderr",
     "output_type": "stream",
     "text": [
      "d:\\program files\\python37\\lib\\site-packages\\skimage\\io\\_io.py:140: UserWarning: C:\\Users\\jjp\\Desktop\\out\\7.png is a low contrast image\n",
      "  warn('%s is a low contrast image' % fname)\n"
     ]
    },
    {
     "name": "stdout",
     "output_type": "stream",
     "text": [
      "C:\\Users\\jjp\\Desktop\\插画\\links\\7.psd is ok\n",
      "C:\\Users\\jjp\\Desktop\\插画\\links\\70.psd\n"
     ]
    },
    {
     "name": "stderr",
     "output_type": "stream",
     "text": [
      "d:\\program files\\python37\\lib\\site-packages\\skimage\\io\\_io.py:140: UserWarning: C:\\Users\\jjp\\Desktop\\out\\70.png is a low contrast image\n",
      "  warn('%s is a low contrast image' % fname)\n"
     ]
    },
    {
     "name": "stdout",
     "output_type": "stream",
     "text": [
      "C:\\Users\\jjp\\Desktop\\插画\\links\\70.psd is ok\n",
      "C:\\Users\\jjp\\Desktop\\插画\\links\\700.psd\n",
      "C:\\Users\\jjp\\Desktop\\插画\\links\\700.psd is ok\n",
      "C:\\Users\\jjp\\Desktop\\插画\\links\\701.psd\n",
      "C:\\Users\\jjp\\Desktop\\插画\\links\\701.psd is ok\n",
      "C:\\Users\\jjp\\Desktop\\插画\\links\\702.psd\n",
      "C:\\Users\\jjp\\Desktop\\插画\\links\\702.psd is ok\n",
      "C:\\Users\\jjp\\Desktop\\插画\\links\\703.psd\n",
      "C:\\Users\\jjp\\Desktop\\插画\\links\\703.psd is ok\n",
      "C:\\Users\\jjp\\Desktop\\插画\\links\\704.psd\n",
      "C:\\Users\\jjp\\Desktop\\插画\\links\\704.psd is ok\n",
      "C:\\Users\\jjp\\Desktop\\插画\\links\\705.psd\n",
      "C:\\Users\\jjp\\Desktop\\插画\\links\\705.psd is ok\n",
      "C:\\Users\\jjp\\Desktop\\插画\\links\\706.psd\n",
      "C:\\Users\\jjp\\Desktop\\插画\\links\\706.psd is ok\n",
      "C:\\Users\\jjp\\Desktop\\插画\\links\\707.psd\n",
      "C:\\Users\\jjp\\Desktop\\插画\\links\\707.psd is ok\n",
      "C:\\Users\\jjp\\Desktop\\插画\\links\\708.psd\n",
      "C:\\Users\\jjp\\Desktop\\插画\\links\\708.psd is ok\n",
      "C:\\Users\\jjp\\Desktop\\插画\\links\\709.psd\n",
      "C:\\Users\\jjp\\Desktop\\插画\\links\\709.psd is ok\n",
      "C:\\Users\\jjp\\Desktop\\插画\\links\\71.psd\n"
     ]
    },
    {
     "name": "stderr",
     "output_type": "stream",
     "text": [
      "d:\\program files\\python37\\lib\\site-packages\\skimage\\io\\_io.py:140: UserWarning: C:\\Users\\jjp\\Desktop\\out\\71.png is a low contrast image\n",
      "  warn('%s is a low contrast image' % fname)\n"
     ]
    },
    {
     "name": "stdout",
     "output_type": "stream",
     "text": [
      "C:\\Users\\jjp\\Desktop\\插画\\links\\71.psd is ok\n",
      "C:\\Users\\jjp\\Desktop\\插画\\links\\710.psd\n",
      "C:\\Users\\jjp\\Desktop\\插画\\links\\710.psd is ok\n",
      "C:\\Users\\jjp\\Desktop\\插画\\links\\711.psd\n",
      "C:\\Users\\jjp\\Desktop\\插画\\links\\711.psd is ok\n",
      "C:\\Users\\jjp\\Desktop\\插画\\links\\712.psd\n",
      "C:\\Users\\jjp\\Desktop\\插画\\links\\712.psd is ok\n",
      "C:\\Users\\jjp\\Desktop\\插画\\links\\713.psd\n",
      "C:\\Users\\jjp\\Desktop\\插画\\links\\713.psd is ok\n",
      "C:\\Users\\jjp\\Desktop\\插画\\links\\714.psd\n",
      "C:\\Users\\jjp\\Desktop\\插画\\links\\714.psd is ok\n",
      "C:\\Users\\jjp\\Desktop\\插画\\links\\715.psd\n",
      "C:\\Users\\jjp\\Desktop\\插画\\links\\715.psd is ok\n",
      "C:\\Users\\jjp\\Desktop\\插画\\links\\716.psd\n",
      "C:\\Users\\jjp\\Desktop\\插画\\links\\716.psd is ok\n",
      "C:\\Users\\jjp\\Desktop\\插画\\links\\717.psd\n",
      "C:\\Users\\jjp\\Desktop\\插画\\links\\717.psd is ok\n",
      "C:\\Users\\jjp\\Desktop\\插画\\links\\718.psd\n",
      "C:\\Users\\jjp\\Desktop\\插画\\links\\718.psd is ok\n",
      "C:\\Users\\jjp\\Desktop\\插画\\links\\719.psd\n",
      "C:\\Users\\jjp\\Desktop\\插画\\links\\719.psd is ok\n",
      "C:\\Users\\jjp\\Desktop\\插画\\links\\72.psd\n"
     ]
    },
    {
     "name": "stderr",
     "output_type": "stream",
     "text": [
      "d:\\program files\\python37\\lib\\site-packages\\skimage\\io\\_io.py:140: UserWarning: C:\\Users\\jjp\\Desktop\\out\\72.png is a low contrast image\n",
      "  warn('%s is a low contrast image' % fname)\n"
     ]
    },
    {
     "name": "stdout",
     "output_type": "stream",
     "text": [
      "C:\\Users\\jjp\\Desktop\\插画\\links\\72.psd is ok\n",
      "C:\\Users\\jjp\\Desktop\\插画\\links\\720.psd\n",
      "C:\\Users\\jjp\\Desktop\\插画\\links\\720.psd is ok\n",
      "C:\\Users\\jjp\\Desktop\\插画\\links\\721.psd\n",
      "C:\\Users\\jjp\\Desktop\\插画\\links\\721.psd is ok\n",
      "C:\\Users\\jjp\\Desktop\\插画\\links\\722.psd\n",
      "C:\\Users\\jjp\\Desktop\\插画\\links\\722.psd is ok\n",
      "C:\\Users\\jjp\\Desktop\\插画\\links\\723.psd\n",
      "C:\\Users\\jjp\\Desktop\\插画\\links\\723.psd is ok\n",
      "C:\\Users\\jjp\\Desktop\\插画\\links\\724.psd\n",
      "C:\\Users\\jjp\\Desktop\\插画\\links\\724.psd is ok\n",
      "C:\\Users\\jjp\\Desktop\\插画\\links\\725.psd\n",
      "C:\\Users\\jjp\\Desktop\\插画\\links\\725.psd is ok\n",
      "C:\\Users\\jjp\\Desktop\\插画\\links\\726.psd\n",
      "C:\\Users\\jjp\\Desktop\\插画\\links\\726.psd is ok\n",
      "C:\\Users\\jjp\\Desktop\\插画\\links\\727.psd\n",
      "C:\\Users\\jjp\\Desktop\\插画\\links\\727.psd is ok\n",
      "C:\\Users\\jjp\\Desktop\\插画\\links\\728.psd\n",
      "C:\\Users\\jjp\\Desktop\\插画\\links\\728.psd is ok\n",
      "C:\\Users\\jjp\\Desktop\\插画\\links\\729.psd\n",
      "C:\\Users\\jjp\\Desktop\\插画\\links\\729.psd is ok\n",
      "C:\\Users\\jjp\\Desktop\\插画\\links\\73.psd\n"
     ]
    },
    {
     "name": "stderr",
     "output_type": "stream",
     "text": [
      "d:\\program files\\python37\\lib\\site-packages\\skimage\\io\\_io.py:140: UserWarning: C:\\Users\\jjp\\Desktop\\out\\73.png is a low contrast image\n",
      "  warn('%s is a low contrast image' % fname)\n"
     ]
    },
    {
     "name": "stdout",
     "output_type": "stream",
     "text": [
      "C:\\Users\\jjp\\Desktop\\插画\\links\\73.psd is ok\n",
      "C:\\Users\\jjp\\Desktop\\插画\\links\\730.psd\n",
      "C:\\Users\\jjp\\Desktop\\插画\\links\\730.psd is ok\n",
      "C:\\Users\\jjp\\Desktop\\插画\\links\\731.psd\n",
      "C:\\Users\\jjp\\Desktop\\插画\\links\\731.psd is ok\n",
      "C:\\Users\\jjp\\Desktop\\插画\\links\\732.psd\n",
      "C:\\Users\\jjp\\Desktop\\插画\\links\\732.psd is ok\n",
      "C:\\Users\\jjp\\Desktop\\插画\\links\\733.psd\n",
      "C:\\Users\\jjp\\Desktop\\插画\\links\\733.psd is ok\n",
      "C:\\Users\\jjp\\Desktop\\插画\\links\\734.psd\n",
      "C:\\Users\\jjp\\Desktop\\插画\\links\\734.psd is ok\n",
      "C:\\Users\\jjp\\Desktop\\插画\\links\\735.psd\n",
      "C:\\Users\\jjp\\Desktop\\插画\\links\\735.psd is ok\n",
      "C:\\Users\\jjp\\Desktop\\插画\\links\\736.psd\n",
      "C:\\Users\\jjp\\Desktop\\插画\\links\\736.psd is ok\n",
      "C:\\Users\\jjp\\Desktop\\插画\\links\\737.psd\n",
      "C:\\Users\\jjp\\Desktop\\插画\\links\\737.psd is ok\n",
      "C:\\Users\\jjp\\Desktop\\插画\\links\\738.psd\n",
      "C:\\Users\\jjp\\Desktop\\插画\\links\\738.psd is ok\n",
      "C:\\Users\\jjp\\Desktop\\插画\\links\\739.psd\n",
      "C:\\Users\\jjp\\Desktop\\插画\\links\\739.psd is ok\n",
      "C:\\Users\\jjp\\Desktop\\插画\\links\\74.psd\n"
     ]
    },
    {
     "name": "stderr",
     "output_type": "stream",
     "text": [
      "d:\\program files\\python37\\lib\\site-packages\\skimage\\io\\_io.py:140: UserWarning: C:\\Users\\jjp\\Desktop\\out\\74.png is a low contrast image\n",
      "  warn('%s is a low contrast image' % fname)\n"
     ]
    },
    {
     "name": "stdout",
     "output_type": "stream",
     "text": [
      "C:\\Users\\jjp\\Desktop\\插画\\links\\74.psd is ok\n",
      "C:\\Users\\jjp\\Desktop\\插画\\links\\740.psd\n",
      "C:\\Users\\jjp\\Desktop\\插画\\links\\740.psd is ok\n",
      "C:\\Users\\jjp\\Desktop\\插画\\links\\741.psd\n",
      "C:\\Users\\jjp\\Desktop\\插画\\links\\741.psd is ok\n",
      "C:\\Users\\jjp\\Desktop\\插画\\links\\742.psd\n",
      "C:\\Users\\jjp\\Desktop\\插画\\links\\742.psd is ok\n",
      "C:\\Users\\jjp\\Desktop\\插画\\links\\743.psd\n",
      "C:\\Users\\jjp\\Desktop\\插画\\links\\743.psd is ok\n",
      "C:\\Users\\jjp\\Desktop\\插画\\links\\744.psd\n",
      "C:\\Users\\jjp\\Desktop\\插画\\links\\744.psd is ok\n",
      "C:\\Users\\jjp\\Desktop\\插画\\links\\745.psd\n",
      "C:\\Users\\jjp\\Desktop\\插画\\links\\745.psd is ok\n",
      "C:\\Users\\jjp\\Desktop\\插画\\links\\746.psd\n",
      "C:\\Users\\jjp\\Desktop\\插画\\links\\746.psd is ok\n",
      "C:\\Users\\jjp\\Desktop\\插画\\links\\747.psd\n",
      "C:\\Users\\jjp\\Desktop\\插画\\links\\747.psd is ok\n",
      "C:\\Users\\jjp\\Desktop\\插画\\links\\748.psd\n",
      "C:\\Users\\jjp\\Desktop\\插画\\links\\748.psd is ok\n",
      "C:\\Users\\jjp\\Desktop\\插画\\links\\749.psd\n",
      "C:\\Users\\jjp\\Desktop\\插画\\links\\749.psd is ok\n",
      "C:\\Users\\jjp\\Desktop\\插画\\links\\75.psd\n"
     ]
    },
    {
     "name": "stderr",
     "output_type": "stream",
     "text": [
      "d:\\program files\\python37\\lib\\site-packages\\skimage\\io\\_io.py:140: UserWarning: C:\\Users\\jjp\\Desktop\\out\\75.png is a low contrast image\n",
      "  warn('%s is a low contrast image' % fname)\n"
     ]
    },
    {
     "name": "stdout",
     "output_type": "stream",
     "text": [
      "C:\\Users\\jjp\\Desktop\\插画\\links\\75.psd is ok\n",
      "C:\\Users\\jjp\\Desktop\\插画\\links\\750.psd\n",
      "C:\\Users\\jjp\\Desktop\\插画\\links\\750.psd is ok\n",
      "C:\\Users\\jjp\\Desktop\\插画\\links\\751.psd\n",
      "C:\\Users\\jjp\\Desktop\\插画\\links\\751.psd is ok\n",
      "C:\\Users\\jjp\\Desktop\\插画\\links\\752.psd\n",
      "C:\\Users\\jjp\\Desktop\\插画\\links\\752.psd is ok\n",
      "C:\\Users\\jjp\\Desktop\\插画\\links\\753.psd\n",
      "C:\\Users\\jjp\\Desktop\\插画\\links\\753.psd is ok\n",
      "C:\\Users\\jjp\\Desktop\\插画\\links\\754.psd\n",
      "C:\\Users\\jjp\\Desktop\\插画\\links\\754.psd is ok\n",
      "C:\\Users\\jjp\\Desktop\\插画\\links\\755.psd\n",
      "C:\\Users\\jjp\\Desktop\\插画\\links\\755.psd is ok\n",
      "C:\\Users\\jjp\\Desktop\\插画\\links\\756.psd\n",
      "C:\\Users\\jjp\\Desktop\\插画\\links\\756.psd is ok\n",
      "C:\\Users\\jjp\\Desktop\\插画\\links\\757.psd\n",
      "C:\\Users\\jjp\\Desktop\\插画\\links\\757.psd is ok\n",
      "C:\\Users\\jjp\\Desktop\\插画\\links\\758.psd\n",
      "C:\\Users\\jjp\\Desktop\\插画\\links\\758.psd is ok\n",
      "C:\\Users\\jjp\\Desktop\\插画\\links\\759.psd\n",
      "C:\\Users\\jjp\\Desktop\\插画\\links\\759.psd is ok\n",
      "C:\\Users\\jjp\\Desktop\\插画\\links\\76.psd\n"
     ]
    },
    {
     "name": "stderr",
     "output_type": "stream",
     "text": [
      "d:\\program files\\python37\\lib\\site-packages\\skimage\\io\\_io.py:140: UserWarning: C:\\Users\\jjp\\Desktop\\out\\76.png is a low contrast image\n",
      "  warn('%s is a low contrast image' % fname)\n"
     ]
    },
    {
     "name": "stdout",
     "output_type": "stream",
     "text": [
      "C:\\Users\\jjp\\Desktop\\插画\\links\\76.psd is ok\n",
      "C:\\Users\\jjp\\Desktop\\插画\\links\\760.psd\n",
      "C:\\Users\\jjp\\Desktop\\插画\\links\\760.psd is ok\n",
      "C:\\Users\\jjp\\Desktop\\插画\\links\\761.psd\n",
      "C:\\Users\\jjp\\Desktop\\插画\\links\\761.psd is ok\n",
      "C:\\Users\\jjp\\Desktop\\插画\\links\\762.psd\n",
      "C:\\Users\\jjp\\Desktop\\插画\\links\\762.psd is ok\n",
      "C:\\Users\\jjp\\Desktop\\插画\\links\\763.psd\n",
      "C:\\Users\\jjp\\Desktop\\插画\\links\\763.psd is ok\n",
      "C:\\Users\\jjp\\Desktop\\插画\\links\\77.psd\n"
     ]
    },
    {
     "name": "stderr",
     "output_type": "stream",
     "text": [
      "d:\\program files\\python37\\lib\\site-packages\\skimage\\io\\_io.py:140: UserWarning: C:\\Users\\jjp\\Desktop\\out\\77.png is a low contrast image\n",
      "  warn('%s is a low contrast image' % fname)\n"
     ]
    },
    {
     "name": "stdout",
     "output_type": "stream",
     "text": [
      "C:\\Users\\jjp\\Desktop\\插画\\links\\77.psd is ok\n",
      "C:\\Users\\jjp\\Desktop\\插画\\links\\78.psd"
     ]
    },
    {
     "name": "stderr",
     "output_type": "stream",
     "text": [
      "d:\\program files\\python37\\lib\\site-packages\\skimage\\io\\_io.py:140: UserWarning: C:\\Users\\jjp\\Desktop\\out\\78.png is a low contrast image\n",
      "  warn('%s is a low contrast image' % fname)\n"
     ]
    },
    {
     "name": "stdout",
     "output_type": "stream",
     "text": [
      "\n",
      "C:\\Users\\jjp\\Desktop\\插画\\links\\78.psd is ok\n",
      "C:\\Users\\jjp\\Desktop\\插画\\links\\79.psd\n"
     ]
    },
    {
     "name": "stderr",
     "output_type": "stream",
     "text": [
      "d:\\program files\\python37\\lib\\site-packages\\skimage\\io\\_io.py:140: UserWarning: C:\\Users\\jjp\\Desktop\\out\\79.png is a low contrast image\n",
      "  warn('%s is a low contrast image' % fname)\n"
     ]
    },
    {
     "name": "stdout",
     "output_type": "stream",
     "text": [
      "C:\\Users\\jjp\\Desktop\\插画\\links\\79.psd is ok\n",
      "C:\\Users\\jjp\\Desktop\\插画\\links\\8.psd\n"
     ]
    },
    {
     "name": "stderr",
     "output_type": "stream",
     "text": [
      "d:\\program files\\python37\\lib\\site-packages\\skimage\\io\\_io.py:140: UserWarning: C:\\Users\\jjp\\Desktop\\out\\8.png is a low contrast image\n",
      "  warn('%s is a low contrast image' % fname)\n"
     ]
    },
    {
     "name": "stdout",
     "output_type": "stream",
     "text": [
      "C:\\Users\\jjp\\Desktop\\插画\\links\\8.psd is ok\n",
      "C:\\Users\\jjp\\Desktop\\插画\\links\\80.psd\n"
     ]
    },
    {
     "name": "stderr",
     "output_type": "stream",
     "text": [
      "d:\\program files\\python37\\lib\\site-packages\\skimage\\io\\_io.py:140: UserWarning: C:\\Users\\jjp\\Desktop\\out\\80.png is a low contrast image\n",
      "  warn('%s is a low contrast image' % fname)\n"
     ]
    },
    {
     "name": "stdout",
     "output_type": "stream",
     "text": [
      "C:\\Users\\jjp\\Desktop\\插画\\links\\80.psd is ok\n",
      "C:\\Users\\jjp\\Desktop\\插画\\links\\81.psd\n"
     ]
    },
    {
     "name": "stderr",
     "output_type": "stream",
     "text": [
      "d:\\program files\\python37\\lib\\site-packages\\skimage\\io\\_io.py:140: UserWarning: C:\\Users\\jjp\\Desktop\\out\\81.png is a low contrast image\n",
      "  warn('%s is a low contrast image' % fname)\n"
     ]
    },
    {
     "name": "stdout",
     "output_type": "stream",
     "text": [
      "C:\\Users\\jjp\\Desktop\\插画\\links\\81.psd is ok\n",
      "C:\\Users\\jjp\\Desktop\\插画\\links\\82.psd\n"
     ]
    },
    {
     "name": "stderr",
     "output_type": "stream",
     "text": [
      "d:\\program files\\python37\\lib\\site-packages\\skimage\\io\\_io.py:140: UserWarning: C:\\Users\\jjp\\Desktop\\out\\82.png is a low contrast image\n",
      "  warn('%s is a low contrast image' % fname)\n"
     ]
    },
    {
     "name": "stdout",
     "output_type": "stream",
     "text": [
      "C:\\Users\\jjp\\Desktop\\插画\\links\\82.psd is ok\n",
      "C:\\Users\\jjp\\Desktop\\插画\\links\\83.psd\n"
     ]
    },
    {
     "name": "stderr",
     "output_type": "stream",
     "text": [
      "d:\\program files\\python37\\lib\\site-packages\\skimage\\io\\_io.py:140: UserWarning: C:\\Users\\jjp\\Desktop\\out\\83.png is a low contrast image\n",
      "  warn('%s is a low contrast image' % fname)\n"
     ]
    },
    {
     "name": "stdout",
     "output_type": "stream",
     "text": [
      "C:\\Users\\jjp\\Desktop\\插画\\links\\83.psd is ok\n",
      "C:\\Users\\jjp\\Desktop\\插画\\links\\84.psd\n"
     ]
    },
    {
     "name": "stderr",
     "output_type": "stream",
     "text": [
      "d:\\program files\\python37\\lib\\site-packages\\skimage\\io\\_io.py:140: UserWarning: C:\\Users\\jjp\\Desktop\\out\\84.png is a low contrast image\n",
      "  warn('%s is a low contrast image' % fname)\n"
     ]
    },
    {
     "name": "stdout",
     "output_type": "stream",
     "text": [
      "C:\\Users\\jjp\\Desktop\\插画\\links\\84.psd is ok\n",
      "C:\\Users\\jjp\\Desktop\\插画\\links\\85.psd\n"
     ]
    },
    {
     "name": "stderr",
     "output_type": "stream",
     "text": [
      "d:\\program files\\python37\\lib\\site-packages\\skimage\\io\\_io.py:140: UserWarning: C:\\Users\\jjp\\Desktop\\out\\85.png is a low contrast image\n",
      "  warn('%s is a low contrast image' % fname)\n"
     ]
    },
    {
     "name": "stdout",
     "output_type": "stream",
     "text": [
      "C:\\Users\\jjp\\Desktop\\插画\\links\\85.psd is ok\n",
      "C:\\Users\\jjp\\Desktop\\插画\\links\\86.psd\n"
     ]
    },
    {
     "name": "stderr",
     "output_type": "stream",
     "text": [
      "d:\\program files\\python37\\lib\\site-packages\\skimage\\io\\_io.py:140: UserWarning: C:\\Users\\jjp\\Desktop\\out\\86.png is a low contrast image\n",
      "  warn('%s is a low contrast image' % fname)\n"
     ]
    },
    {
     "name": "stdout",
     "output_type": "stream",
     "text": [
      "C:\\Users\\jjp\\Desktop\\插画\\links\\86.psd is ok\n",
      "C:\\Users\\jjp\\Desktop\\插画\\links\\87.psd\n"
     ]
    },
    {
     "name": "stderr",
     "output_type": "stream",
     "text": [
      "d:\\program files\\python37\\lib\\site-packages\\skimage\\io\\_io.py:140: UserWarning: C:\\Users\\jjp\\Desktop\\out\\87.png is a low contrast image\n",
      "  warn('%s is a low contrast image' % fname)\n"
     ]
    },
    {
     "name": "stdout",
     "output_type": "stream",
     "text": [
      "C:\\Users\\jjp\\Desktop\\插画\\links\\87.psd is ok\n",
      "C:\\Users\\jjp\\Desktop\\插画\\links\\88.psd\n"
     ]
    },
    {
     "name": "stderr",
     "output_type": "stream",
     "text": [
      "d:\\program files\\python37\\lib\\site-packages\\skimage\\io\\_io.py:140: UserWarning: C:\\Users\\jjp\\Desktop\\out\\88.png is a low contrast image\n",
      "  warn('%s is a low contrast image' % fname)\n"
     ]
    },
    {
     "name": "stdout",
     "output_type": "stream",
     "text": [
      "C:\\Users\\jjp\\Desktop\\插画\\links\\88.psd is ok\n",
      "C:\\Users\\jjp\\Desktop\\插画\\links\\89.psd\n"
     ]
    },
    {
     "name": "stderr",
     "output_type": "stream",
     "text": [
      "d:\\program files\\python37\\lib\\site-packages\\skimage\\io\\_io.py:140: UserWarning: C:\\Users\\jjp\\Desktop\\out\\89.png is a low contrast image\n",
      "  warn('%s is a low contrast image' % fname)\n"
     ]
    },
    {
     "name": "stdout",
     "output_type": "stream",
     "text": [
      "C:\\Users\\jjp\\Desktop\\插画\\links\\89.psd is ok\n",
      "C:\\Users\\jjp\\Desktop\\插画\\links\\9.psd\n"
     ]
    },
    {
     "name": "stderr",
     "output_type": "stream",
     "text": [
      "d:\\program files\\python37\\lib\\site-packages\\skimage\\io\\_io.py:140: UserWarning: C:\\Users\\jjp\\Desktop\\out\\9.png is a low contrast image\n",
      "  warn('%s is a low contrast image' % fname)\n"
     ]
    },
    {
     "name": "stdout",
     "output_type": "stream",
     "text": [
      "C:\\Users\\jjp\\Desktop\\插画\\links\\9.psd is ok\n",
      "C:\\Users\\jjp\\Desktop\\插画\\links\\90.psd\n"
     ]
    },
    {
     "name": "stderr",
     "output_type": "stream",
     "text": [
      "d:\\program files\\python37\\lib\\site-packages\\skimage\\io\\_io.py:140: UserWarning: C:\\Users\\jjp\\Desktop\\out\\90.png is a low contrast image\n",
      "  warn('%s is a low contrast image' % fname)\n"
     ]
    },
    {
     "name": "stdout",
     "output_type": "stream",
     "text": [
      "C:\\Users\\jjp\\Desktop\\插画\\links\\90.psd is ok\n",
      "C:\\Users\\jjp\\Desktop\\插画\\links\\91.psd\n"
     ]
    },
    {
     "name": "stderr",
     "output_type": "stream",
     "text": [
      "d:\\program files\\python37\\lib\\site-packages\\skimage\\io\\_io.py:140: UserWarning: C:\\Users\\jjp\\Desktop\\out\\91.png is a low contrast image\n",
      "  warn('%s is a low contrast image' % fname)\n"
     ]
    },
    {
     "name": "stdout",
     "output_type": "stream",
     "text": [
      "C:\\Users\\jjp\\Desktop\\插画\\links\\91.psd is ok\n",
      "C:\\Users\\jjp\\Desktop\\插画\\links\\92.psd\n"
     ]
    },
    {
     "name": "stderr",
     "output_type": "stream",
     "text": [
      "d:\\program files\\python37\\lib\\site-packages\\skimage\\io\\_io.py:140: UserWarning: C:\\Users\\jjp\\Desktop\\out\\92.png is a low contrast image\n",
      "  warn('%s is a low contrast image' % fname)\n"
     ]
    },
    {
     "name": "stdout",
     "output_type": "stream",
     "text": [
      "C:\\Users\\jjp\\Desktop\\插画\\links\\92.psd is ok\n",
      "C:\\Users\\jjp\\Desktop\\插画\\links\\93.psd\n"
     ]
    },
    {
     "name": "stderr",
     "output_type": "stream",
     "text": [
      "d:\\program files\\python37\\lib\\site-packages\\skimage\\io\\_io.py:140: UserWarning: C:\\Users\\jjp\\Desktop\\out\\93.png is a low contrast image\n",
      "  warn('%s is a low contrast image' % fname)\n"
     ]
    },
    {
     "name": "stdout",
     "output_type": "stream",
     "text": [
      "C:\\Users\\jjp\\Desktop\\插画\\links\\93.psd is ok\n"
     ]
    },
    {
     "name": "stderr",
     "output_type": "stream",
     "text": [
      "d:\\program files\\python37\\lib\\site-packages\\skimage\\io\\_io.py:140: UserWarning: C:\\Users\\jjp\\Desktop\\out\\94.png is a low contrast image\n",
      "  warn('%s is a low contrast image' % fname)\n"
     ]
    },
    {
     "name": "stdout",
     "output_type": "stream",
     "text": [
      "C:\\Users\\jjp\\Desktop\\插画\\links\\94.psd\n",
      "C:\\Users\\jjp\\Desktop\\插画\\links\\94.psd is ok\n",
      "C:\\Users\\jjp\\Desktop\\插画\\links\\95.psd\n"
     ]
    },
    {
     "name": "stderr",
     "output_type": "stream",
     "text": [
      "d:\\program files\\python37\\lib\\site-packages\\skimage\\io\\_io.py:140: UserWarning: C:\\Users\\jjp\\Desktop\\out\\95.png is a low contrast image\n",
      "  warn('%s is a low contrast image' % fname)\n"
     ]
    },
    {
     "name": "stdout",
     "output_type": "stream",
     "text": [
      "C:\\Users\\jjp\\Desktop\\插画\\links\\95.psd is ok\n",
      "C:\\Users\\jjp\\Desktop\\插画\\links\\96.psd\n"
     ]
    },
    {
     "name": "stderr",
     "output_type": "stream",
     "text": [
      "d:\\program files\\python37\\lib\\site-packages\\skimage\\io\\_io.py:140: UserWarning: C:\\Users\\jjp\\Desktop\\out\\96.png is a low contrast image\n",
      "  warn('%s is a low contrast image' % fname)\n"
     ]
    },
    {
     "name": "stdout",
     "output_type": "stream",
     "text": [
      "C:\\Users\\jjp\\Desktop\\插画\\links\\96.psd is ok\n",
      "C:\\Users\\jjp\\Desktop\\插画\\links\\97.psd\n"
     ]
    },
    {
     "name": "stderr",
     "output_type": "stream",
     "text": [
      "d:\\program files\\python37\\lib\\site-packages\\skimage\\io\\_io.py:140: UserWarning: C:\\Users\\jjp\\Desktop\\out\\97.png is a low contrast image\n",
      "  warn('%s is a low contrast image' % fname)\n"
     ]
    },
    {
     "name": "stdout",
     "output_type": "stream",
     "text": [
      "C:\\Users\\jjp\\Desktop\\插画\\links\\97.psd is ok\n",
      "C:\\Users\\jjp\\Desktop\\插画\\links\\98.psd\n"
     ]
    },
    {
     "name": "stderr",
     "output_type": "stream",
     "text": [
      "d:\\program files\\python37\\lib\\site-packages\\skimage\\io\\_io.py:140: UserWarning: C:\\Users\\jjp\\Desktop\\out\\98.png is a low contrast image\n",
      "  warn('%s is a low contrast image' % fname)\n"
     ]
    },
    {
     "name": "stdout",
     "output_type": "stream",
     "text": [
      "C:\\Users\\jjp\\Desktop\\插画\\links\\98.psd is ok\n",
      "C:\\Users\\jjp\\Desktop\\插画\\links\\99.psd\n"
     ]
    },
    {
     "name": "stderr",
     "output_type": "stream",
     "text": [
      "d:\\program files\\python37\\lib\\site-packages\\skimage\\io\\_io.py:140: UserWarning: C:\\Users\\jjp\\Desktop\\out\\99.png is a low contrast image\n",
      "  warn('%s is a low contrast image' % fname)\n"
     ]
    },
    {
     "name": "stdout",
     "output_type": "stream",
     "text": [
      "C:\\Users\\jjp\\Desktop\\插画\\links\\99.psd is ok\n"
     ]
    }
   ],
   "source": [
    "import glob as gb\n",
    "\n",
    "str='C:\\\\Users\\\\jjp\\\\Desktop\\\\test\\\\*.png'\n",
    "out='C:\\\\Users\\\\jjp\\\\Desktop\\\\out\\\\'\n",
    "psd='C:\\\\Users\\\\jjp\\\\Desktop\\\\插画\\\\links\\\\'\n",
    "img_path = gb.glob(str)\n",
    "for path in img_path:\n",
    "    theimg  =delsmall(io.imread(path))\n",
    "    io.imsave(out+path.split(\"\\\\\")[-1],(1-theimg)*255)\n",
    "    print(psd+path.split(\"\\\\\")[-1].split(\".\")[-2]+'.psd')\n",
    "    try:\n",
    "        create_layer_from_file(\"new_layer\",out+path.split(\"\\\\\")[-1],psd+path.split(\"\\\\\")[-1].split(\".\")[-2]+'.psd')\n",
    "        os.remove(path)\n",
    "    except:\n",
    "        print(path+\" not writed\")\n",
    "    \n",
    "    \n",
    "    "
   ]
  },
  {
   "cell_type": "code",
   "execution_count": null,
   "metadata": {},
   "outputs": [],
   "source": [
    "img0 = io.imread('452.png') #读取图片\n",
    "img =color.rgb2gray(img0)\n",
    "thresh = filters.threshold_otsu(img)  #用otsu算法确定最佳分割阈值\n",
    "#thresh=128\n",
    "print(thresh)\n",
    "print(img)\n",
    "bwimg =(img>=(thresh))  #用阈值进行分割，生成二值图像\n",
    "labels = measure.label(bwimg)  #标记连通域\n",
    "bw =morphology.closing(img < thresh, morphology.square(2))\n",
    "print(labels)\n",
    "\n",
    "\n",
    "\n",
    "img1 = morphology.remove_small_objects(labels, min_size=5, connectivity=1)\n",
    "img2= morphology.remove_small_objects(bw, min_size=200, connectivity=1)\n",
    "#io.imshow(img1)\n",
    "\n",
    "io.imsave('out.jpg',img1)\n",
    "io.imsave('out2.jpg',(1-img2)*255)"
   ]
  },
  {
   "cell_type": "code",
   "execution_count": null,
   "metadata": {},
   "outputs": [],
   "source": [
    "\n",
    "#for i in range(len(coll)):\n",
    "    #io.imsave('d:/data/'+np.str(i)+'.jpg',coll[i])\n",
    "print(len(coll))\n",
    "print(coll[0])"
   ]
  },
  {
   "cell_type": "code",
   "execution_count": null,
   "metadata": {},
   "outputs": [],
   "source": []
  },
  {
   "cell_type": "code",
   "execution_count": null,
   "metadata": {},
   "outputs": [],
   "source": [
    "from psd_tools2 import PSDImage\n",
    "\n",
    "psd = PSDImage.open('example.psd')\n",
    "psd.compose().save('example.png')\n",
    "\n",
    "mask = psd[0].mask.topil()\n",
    "print (mask)\n",
    "ma=psd[0].mask\n",
    "print(mask)"
   ]
  }
 ],
 "metadata": {
  "kernelspec": {
   "display_name": "Python 3",
   "language": "python",
   "name": "python3"
  },
  "language_info": {
   "codemirror_mode": {
    "name": "ipython",
    "version": 3
   },
   "file_extension": ".py",
   "mimetype": "text/x-python",
   "name": "python",
   "nbconvert_exporter": "python",
   "pygments_lexer": "ipython3",
   "version": "3.7.2"
  }
 },
 "nbformat": 4,
 "nbformat_minor": 2
}
